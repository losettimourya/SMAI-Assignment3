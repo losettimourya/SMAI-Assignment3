{
 "cells": [
  {
   "cell_type": "code",
   "execution_count": 1,
   "id": "5ea8c41a-1cda-42d8-8433-cebb22df2c4a",
   "metadata": {},
   "outputs": [],
   "source": [
    "import numpy as np\n",
    "import pandas as pd\n",
    "from sklearn.model_selection import train_test_split\n",
    "from sklearn.preprocessing import StandardScaler, MinMaxScaler\n",
    "from sklearn.impute import SimpleImputer \n",
    "from sklearn.metrics import accuracy_score\n",
    "import matplotlib.pyplot as plt\n",
    "from sklearn.metrics import classification_report\n",
    "import wandb\n",
    "# Load the dataset\n",
    "data = pd.read_csv('WineQT.csv', header=0)\n"
   ]
  },
  {
   "cell_type": "code",
   "execution_count": 2,
   "id": "4978c3e5-232b-4e02-943f-115f5eff4b83",
   "metadata": {},
   "outputs": [
    {
     "name": "stdout",
     "output_type": "stream",
     "text": [
      "       fixed acidity  volatile acidity  citric acid  residual sugar  \\\n",
      "count    1143.000000       1143.000000  1143.000000     1143.000000   \n",
      "mean        8.311111          0.531339     0.268364        2.532152   \n",
      "std         1.747595          0.179633     0.196686        1.355917   \n",
      "min         4.600000          0.120000     0.000000        0.900000   \n",
      "25%         7.100000          0.392500     0.090000        1.900000   \n",
      "50%         7.900000          0.520000     0.250000        2.200000   \n",
      "75%         9.100000          0.640000     0.420000        2.600000   \n",
      "max        15.900000          1.580000     1.000000       15.500000   \n",
      "\n",
      "         chlorides  free sulfur dioxide  total sulfur dioxide      density  \\\n",
      "count  1143.000000          1143.000000           1143.000000  1143.000000   \n",
      "mean      0.086933            15.615486             45.914698     0.996730   \n",
      "std       0.047267            10.250486             32.782130     0.001925   \n",
      "min       0.012000             1.000000              6.000000     0.990070   \n",
      "25%       0.070000             7.000000             21.000000     0.995570   \n",
      "50%       0.079000            13.000000             37.000000     0.996680   \n",
      "75%       0.090000            21.000000             61.000000     0.997845   \n",
      "max       0.611000            68.000000            289.000000     1.003690   \n",
      "\n",
      "                pH    sulphates      alcohol      quality           Id  \n",
      "count  1143.000000  1143.000000  1143.000000  1143.000000  1143.000000  \n",
      "mean      3.311015     0.657708    10.442111     5.657043   804.969379  \n",
      "std       0.156664     0.170399     1.082196     0.805824   463.997116  \n",
      "min       2.740000     0.330000     8.400000     3.000000     0.000000  \n",
      "25%       3.205000     0.550000     9.500000     5.000000   411.000000  \n",
      "50%       3.310000     0.620000    10.200000     6.000000   794.000000  \n",
      "75%       3.400000     0.730000    11.100000     6.000000  1209.500000  \n",
      "max       4.010000     2.000000    14.900000     8.000000  1597.000000  \n"
     ]
    }
   ],
   "source": [
    "# Calculate statistics\n",
    "statistics = data.describe()\n",
    "print(statistics)"
   ]
  },
  {
   "cell_type": "code",
   "execution_count": 3,
   "id": "ce0370b3-c207-4ef0-8509-fb80006b129e",
   "metadata": {},
   "outputs": [
    {
     "data": {
      "image/png": "[encoded data removed]",
      "text/plain": [
       "<Figure size 640x480 with 1 Axes>"
      ]
     },
     "metadata": {},
     "output_type": "display_data"
    }
   ],
   "source": [
    "plt.hist(data['quality'], bins=6, edgecolor='k')\n",
    "plt.xlabel('Quality')\n",
    "plt.ylabel('Count')\n",
    "plt.title('Distribution of Wine Quality Labels')\n",
    "plt.show()"
   ]
  },
  {
   "cell_type": "code",
   "execution_count": 4,
   "id": "62e88066-9a4a-422a-a744-5a6e3a58ee17",
   "metadata": {},
   "outputs": [],
   "source": [
    "# Split the dataset into train, validation, and test sets\n",
    "train_data, temp_data = train_test_split(data, test_size=0.4,random_state = 42)\n",
    "validation_data, test_data = train_test_split(temp_data, test_size=0.5, random_state = 42)\n",
    "# test_data, validation_data = train_test_split(temp_data, test_size=0.5, random_state = 42)\n",
    "# print(train_data)\n"
   ]
  },
  {
   "cell_type": "code",
   "execution_count": 5,
   "id": "cdbcbf54-37e9-4994-9b70-2f858df36fbd",
   "metadata": {},
   "outputs": [
    {
     "name": "stdout",
     "output_type": "stream",
     "text": [
      "(685, 12)\n",
      "(229, 12)\n",
      "(229, 12)\n"
     ]
    }
   ],
   "source": [
    "scaler = StandardScaler()\n",
    "minmax_scaler = MinMaxScaler()\n",
    "\n",
    "# Fit and transform on the training data\n",
    "imputer = SimpleImputer(strategy='mean')  # You can choose 'mean', 'median', or other strategies\n",
    "\n",
    "# Fit and transform on the training data\n",
    "train_data_scaled = scaler.fit_transform(imputer.fit_transform(train_data.drop(columns=['quality'])))\n",
    "train_labels = train_data['quality']\n",
    "\n",
    "# Transform the validation and test data using the same scalers and imputer\n",
    "validation_data_scaled = scaler.transform(imputer.transform(validation_data.drop(columns=['quality'])))\n",
    "test_data_scaled = scaler.transform(imputer.transform(test_data.drop(columns=['quality'])))\n",
    "\n",
    "# If you also want to normalize the data, you can do it using the MinMaxScaler\n",
    "train_data_scaled_normalized = minmax_scaler.fit_transform(train_data_scaled)\n",
    "validation_data_scaled_normalized = minmax_scaler.transform(validation_data_scaled)\n",
    "test_data_scaled_normalized = minmax_scaler.transform(test_data_scaled)\n",
    "\n",
    "# print(train_labels)\n",
    "print(train_data_scaled_normalized.shape)\n",
    "print(test_data_scaled_normalized.shape)\n",
    "print(validation_data_scaled_normalized.shape)"
   ]
  },
  {
   "cell_type": "code",
   "execution_count": 6,
   "id": "4cb2a6b9-2b53-47a1-add8-65202d7fc88e",
   "metadata": {},
   "outputs": [],
   "source": [
    "class MultinomialLogisticRegression:\n",
    "    def __init__(self, num_classes, learning_rate=0.005, num_epochs=5000):\n",
    "        self.num_classes = num_classes\n",
    "        self.learning_rate = learning_rate\n",
    "        self.num_epochs = num_epochs\n",
    "        self.weights = None\n",
    "        self.bias = None\n",
    "\n",
    "    def softmax(self, z):\n",
    "        exp_z = np.exp(z - np.max(z, axis=1, keepdims=True))\n",
    "        return exp_z / np.sum(exp_z, axis=1, keepdims=True)\n",
    "\n",
    "    def cross_entropy_loss(self, y_pred, y_true):\n",
    "        m = y_pred.shape[0]\n",
    "        # print(y_pred)\n",
    "        # print(np.log(y_pred))\n",
    "        return -np.sum(np.log(y_pred) * y_true) / m\n",
    "\n",
    "    def fit(self, X_train, y_train):\n",
    "        m, n = X_train.shape\n",
    "        self.weights = np.zeros((n, self.num_classes+1))\n",
    "        self.bias = np.zeros((1, self.num_classes+1))\n",
    "        # print(self.bias)\n",
    "        for epoch in range(self.num_epochs):\n",
    "            # print(X_train)\n",
    "            # print(self.weights)\n",
    "            z = np.dot(X_train, self.weights) + self.bias\n",
    "            y_pred = self.softmax(z)\n",
    "\n",
    "            y_train_encoded = np.eye(self.num_classes+1)[y_train]  # One-hot encoding\n",
    "            # y_train_encoded = pd.get_dummies(y_train).values.astype(int)\n",
    "            # print(y_train_encoded)\n",
    "            loss = self.cross_entropy_loss(y_pred, y_train_encoded)\n",
    "\n",
    "            # Compute gradients\n",
    "            dz = y_pred - y_train_encoded\n",
    "            dw = np.dot(X_train.T, dz) / m\n",
    "            db = np.sum(dz, axis=0, keepdims=True) / m\n",
    "\n",
    "            # Update weights and bias\n",
    "            self.weights -= self.learning_rate * dw\n",
    "            self.bias -= self.learning_rate * db\n",
    "\n",
    "            # if epoch % 100 == 0:\n",
    "            #     print(f\"Epoch {epoch}, Loss: {loss}\")\n",
    "\n",
    "    def predict(self, X):\n",
    "        z = np.dot(X, self.weights) + self.bias\n",
    "        y_pred = self.softmax(z)\n",
    "        return np.argmax(y_pred, axis=1)\n",
    "\n",
    "    def evaluate(self, X_val, y_val):\n",
    "        y_pred = self.predict(X_val)\n",
    "        accuracy = np.mean(y_pred == y_val)\n",
    "        return accuracy"
   ]
  },
  {
   "cell_type": "code",
   "execution_count": 7,
   "id": "7526e917-8da4-4f7b-b87d-6313b785c20c",
   "metadata": {},
   "outputs": [
    {
     "name": "stdout",
     "output_type": "stream",
     "text": [
      "(685,)\n",
      "Validation Accuracy: 63.76%\n",
      "[5 7 5 5 6 6 6 5 5 5 6 5 6 6 5 6 5 6 5 6 5 5 5 6 6 6 6 5 6 5 6 6 6 5 6 5 6\n",
      " 5 5 6 6 6 6 5 5 5 6 5 6 5 5 5 5 5 5 5 6 6 7 6 6 6 5 6 7 5 6 5 5 6 6 6 6 5\n",
      " 5 5 6 5 5 5 6 5 5 6 5 5 6 5 5 5 5 5 6 6 6 7 6 5 5 6 6 6 7 5 6 6 7 6 5 6 7\n",
      " 6 6 7 6 5 6 5 6 6 5 5 6 6 6 5 6 5 6 5 6 6 5 7 5 6 5 5 5 5 6 7 5 5 5 5 5 6\n",
      " 6 5 5 5 6 5 5 5 6 5 5 5 6 5 5 5 6 6 5 5 5 6 5 5 6 6 5 6 6 6 6 6 5 7 5 6 5\n",
      " 5 6 6 7 5 6 5 5 5 6 5 5 7 6 6 5 6 5 6 6 6 6 5 5 6 5 5 5 6 6 5 6 6 5 5 5 6\n",
      " 6 5 6 5 5 6 5]\n",
      "[6 7 5 5 7 7 7 5 6 5 6 5 7 6 5 5 5 6 5 6 5 5 5 5 6 6 8 6 6 6 7 6 6 5 6 5 7\n",
      " 5 6 6 6 5 6 6 5 5 7 5 7 5 5 5 5 5 4 5 5 6 7 4 7 6 5 6 7 4 7 6 4 6 6 6 5 6\n",
      " 5 5 6 6 6 6 5 5 5 8 6 3 6 5 6 5 5 5 5 6 7 6 7 5 5 6 5 6 7 6 6 6 6 6 5 6 7\n",
      " 6 5 6 6 7 6 5 5 5 5 6 5 6 7 5 6 5 5 5 7 6 6 7 5 6 6 5 5 6 6 6 6 3 5 5 5 6\n",
      " 6 5 5 5 6 6 5 5 7 6 5 6 6 5 7 6 5 7 5 6 5 6 3 5 6 6 5 6 6 6 6 6 5 5 7 6 6\n",
      " 5 5 6 7 5 4 5 5 5 6 5 5 7 6 6 5 5 6 6 7 6 7 5 6 6 5 5 6 6 6 5 5 6 5 5 6 6\n",
      " 6 5 6 6 5 6 5]\n",
      "              precision    recall  f1-score   support\n",
      "\n",
      "           3       0.00      0.00      0.00         3\n",
      "           4       0.00      0.00      0.00         5\n",
      "           5       0.66      0.81      0.72        93\n",
      "           6       0.62      0.65      0.63        97\n",
      "           7       0.62      0.28      0.38        29\n",
      "           8       0.00      0.00      0.00         2\n",
      "\n",
      "    accuracy                           0.64       229\n",
      "   macro avg       0.32      0.29      0.29       229\n",
      "weighted avg       0.61      0.64      0.61       229\n",
      "\n",
      "Validation Accuracy: 63.76%\n",
      "              precision    recall  f1-score   support\n",
      "\n",
      "           3       0.00      0.00      0.00         3\n",
      "           4       0.00      0.00      0.00        19\n",
      "           5       0.69      0.80      0.74       293\n",
      "           6       0.58      0.64      0.61       272\n",
      "           7       0.57      0.30      0.39        88\n",
      "           8       0.00      0.00      0.00        10\n",
      "\n",
      "    accuracy                           0.63       685\n",
      "   macro avg       0.31      0.29      0.29       685\n",
      "weighted avg       0.60      0.63      0.61       685\n",
      "\n"
     ]
    },
    {
     "name": "stderr",
     "output_type": "stream",
     "text": [
      "/home/ubuntulsa/.local/lib/python3.10/site-packages/sklearn/metrics/_classification.py:1469: UndefinedMetricWarning: Precision and F-score are ill-defined and being set to 0.0 in labels with no predicted samples. Use `zero_division` parameter to control this behavior.\n",
      "  _warn_prf(average, modifier, msg_start, len(result))\n",
      "/home/ubuntulsa/.local/lib/python3.10/site-packages/sklearn/metrics/_classification.py:1469: UndefinedMetricWarning: Precision and F-score are ill-defined and being set to 0.0 in labels with no predicted samples. Use `zero_division` parameter to control this behavior.\n",
      "  _warn_prf(average, modifier, msg_start, len(result))\n",
      "/home/ubuntulsa/.local/lib/python3.10/site-packages/sklearn/metrics/_classification.py:1469: UndefinedMetricWarning: Precision and F-score are ill-defined and being set to 0.0 in labels with no predicted samples. Use `zero_division` parameter to control this behavior.\n",
      "  _warn_prf(average, modifier, msg_start, len(result))\n",
      "/home/ubuntulsa/.local/lib/python3.10/site-packages/sklearn/metrics/_classification.py:1469: UndefinedMetricWarning: Precision and F-score are ill-defined and being set to 0.0 in labels with no predicted samples. Use `zero_division` parameter to control this behavior.\n",
      "  _warn_prf(average, modifier, msg_start, len(result))\n",
      "/home/ubuntulsa/.local/lib/python3.10/site-packages/sklearn/metrics/_classification.py:1469: UndefinedMetricWarning: Precision and F-score are ill-defined and being set to 0.0 in labels with no predicted samples. Use `zero_division` parameter to control this behavior.\n",
      "  _warn_prf(average, modifier, msg_start, len(result))\n",
      "/home/ubuntulsa/.local/lib/python3.10/site-packages/sklearn/metrics/_classification.py:1469: UndefinedMetricWarning: Precision and F-score are ill-defined and being set to 0.0 in labels with no predicted samples. Use `zero_division` parameter to control this behavior.\n",
      "  _warn_prf(average, modifier, msg_start, len(result))\n"
     ]
    }
   ],
   "source": [
    "# Assuming you have your training and validation data\n",
    "X_train = train_data_scaled\n",
    "y_train = train_labels\n",
    "X_val = validation_data_scaled\n",
    "y_val = validation_data['quality']\n",
    "y_train = np.array(y_train)\n",
    "y_val = np.array(y_val)\n",
    "print(np.array(y_train).shape)\n",
    "# print(y_train)\n",
    "# print(y_train[0])\n",
    "# Create an instance of the model\n",
    "num_classes = 8\n",
    "model = MultinomialLogisticRegression(num_classes=num_classes)\n",
    "model.fit(X_train, y_train)\n",
    "\n",
    "# Evaluate the model on validation data\n",
    "y_pred = model.predict(X_val)\n",
    "accuracy = model.evaluate(X_val, y_val)\n",
    "print(f\"Validation Accuracy: {accuracy * 100:.2f}%\")\n",
    "print(y_pred)\n",
    "print(y_val)\n",
    "report = classification_report(y_val, y_pred)\n",
    "print(report)\n",
    "accuracy = accuracy_score(y_val, y_pred)\n",
    "print(f\"Validation Accuracy: {accuracy * 100:.2f}%\")\n",
    "y_train_pred = model.predict(X_train)\n",
    "report = classification_report(y_train, y_train_pred)\n",
    "print(report)"
   ]
  },
  {
   "cell_type": "code",
   "execution_count": 8,
   "id": "8aa60059-5705-44d3-8251-276017ab20cb",
   "metadata": {},
   "outputs": [
    {
     "name": "stderr",
     "output_type": "stream",
     "text": [
      "\u001b[34m\u001b[1mwandb\u001b[0m: Network error (ConnectionError), entering retry loop.\n",
      "\u001b[34m\u001b[1mwandb\u001b[0m: W&B API key is configured. Use \u001b[1m`wandb login --relogin`\u001b[0m to force relogin\n"
     ]
    },
    {
     "data": {
      "text/plain": [
       "True"
      ]
     },
     "execution_count": 8,
     "metadata": {},
     "output_type": "execute_result"
    }
   ],
   "source": [
    "wandb.login()"
   ]
  },
  {
   "cell_type": "code",
   "execution_count": 9,
   "id": "faa6fe88-84c8-473f-b1ca-1de22bc81a13",
   "metadata": {},
   "outputs": [
    {
     "data": {
      "application/vnd.jupyter.widget-view+json": {
       "model_id": "b6541c62e3634821a9f85d84ed84e752",
       "version_major": 2,
       "version_minor": 0
      },
      "text/plain": [
       "VBox(children=(Label(value='Waiting for wandb.init()...\\r'), FloatProgress(value=0.011114026299997528, max=1.0…"
      ]
     },
     "metadata": {},
     "output_type": "display_data"
    },
    {
     "name": "stderr",
     "output_type": "stream",
     "text": [
      "wandb: Network error (ConnectionError), entering retry loop.\n"
     ]
    },
    {
     "name": "stdout",
     "output_type": "stream",
     "text": [
      "Problem at: /tmp/ipykernel_132473/3093122342.py 1 <module>\n"
     ]
    },
    {
     "ename": "CommError",
     "evalue": "Run initialization has timed out after 90.0 sec. \nPlease refer to the documentation for additional information: https://docs.wandb.ai/guides/track/tracking-faq#initstarterror-error-communicating-with-wandb-process-",
     "output_type": "error",
     "traceback": [
      "\u001b[0;31m---------------------------------------------------------------------------\u001b[0m",
      "\u001b[0;31mCommError\u001b[0m                                 Traceback (most recent call last)",
      "Cell \u001b[0;32mIn[9], line 1\u001b[0m\n\u001b[0;32m----> 1\u001b[0m \u001b[43mwandb\u001b[49m\u001b[38;5;241;43m.\u001b[39;49m\u001b[43minit\u001b[49m\u001b[43m(\u001b[49m\u001b[43mproject\u001b[49m\u001b[38;5;241;43m=\u001b[39;49m\u001b[38;5;124;43m\"\u001b[39;49m\u001b[38;5;124;43mmultinomial-logistic-regression-tuning\u001b[39;49m\u001b[38;5;124;43m\"\u001b[39;49m\u001b[43m)\u001b[49m\n\u001b[1;32m      2\u001b[0m \u001b[38;5;66;03m# wandb.watch(model, log=\"all\")\u001b[39;00m\n\u001b[1;32m      3\u001b[0m learning_rates \u001b[38;5;241m=\u001b[39m [\u001b[38;5;241m0.001\u001b[39m,\u001b[38;5;241m0.005\u001b[39m, \u001b[38;5;241m0.01\u001b[39m,\u001b[38;5;241m0.03\u001b[39m,\u001b[38;5;241m0.05\u001b[39m,\u001b[38;5;241m0.0075\u001b[39m,\u001b[38;5;241m0.1\u001b[39m,\u001b[38;5;241m0.2\u001b[39m,\u001b[38;5;241m0.3\u001b[39m,\u001b[38;5;241m0.5\u001b[39m]\n",
      "File \u001b[0;32m~/.local/lib/python3.10/site-packages/wandb/sdk/wandb_init.py:1189\u001b[0m, in \u001b[0;36minit\u001b[0;34m(job_type, dir, config, project, entity, reinit, tags, group, name, notes, magic, config_exclude_keys, config_include_keys, anonymous, mode, allow_val_change, resume, force, tensorboard, sync_tensorboard, monitor_gym, save_code, id, settings)\u001b[0m\n\u001b[1;32m   1187\u001b[0m     \u001b[38;5;28;01mif\u001b[39;00m logger \u001b[38;5;129;01mis\u001b[39;00m \u001b[38;5;129;01mnot\u001b[39;00m \u001b[38;5;28;01mNone\u001b[39;00m:\n\u001b[1;32m   1188\u001b[0m         logger\u001b[38;5;241m.\u001b[39mexception(\u001b[38;5;28mstr\u001b[39m(e))\n\u001b[0;32m-> 1189\u001b[0m     \u001b[38;5;28;01mraise\u001b[39;00m e\n\u001b[1;32m   1190\u001b[0m \u001b[38;5;28;01mexcept\u001b[39;00m \u001b[38;5;167;01mKeyboardInterrupt\u001b[39;00m \u001b[38;5;28;01mas\u001b[39;00m e:\n\u001b[1;32m   1191\u001b[0m     \u001b[38;5;28;01massert\u001b[39;00m logger\n",
      "File \u001b[0;32m~/.local/lib/python3.10/site-packages/wandb/sdk/wandb_init.py:1170\u001b[0m, in \u001b[0;36minit\u001b[0;34m(job_type, dir, config, project, entity, reinit, tags, group, name, notes, magic, config_exclude_keys, config_include_keys, anonymous, mode, allow_val_change, resume, force, tensorboard, sync_tensorboard, monitor_gym, save_code, id, settings)\u001b[0m\n\u001b[1;32m   1168\u001b[0m except_exit \u001b[38;5;241m=\u001b[39m wi\u001b[38;5;241m.\u001b[39msettings\u001b[38;5;241m.\u001b[39m_except_exit\n\u001b[1;32m   1169\u001b[0m \u001b[38;5;28;01mtry\u001b[39;00m:\n\u001b[0;32m-> 1170\u001b[0m     run \u001b[38;5;241m=\u001b[39m \u001b[43mwi\u001b[49m\u001b[38;5;241;43m.\u001b[39;49m\u001b[43minit\u001b[49m\u001b[43m(\u001b[49m\u001b[43m)\u001b[49m\n\u001b[1;32m   1171\u001b[0m     except_exit \u001b[38;5;241m=\u001b[39m wi\u001b[38;5;241m.\u001b[39msettings\u001b[38;5;241m.\u001b[39m_except_exit\n\u001b[1;32m   1172\u001b[0m \u001b[38;5;28;01mexcept\u001b[39;00m (\u001b[38;5;167;01mKeyboardInterrupt\u001b[39;00m, \u001b[38;5;167;01mException\u001b[39;00m) \u001b[38;5;28;01mas\u001b[39;00m e:\n",
      "File \u001b[0;32m~/.local/lib/python3.10/site-packages/wandb/sdk/wandb_init.py:785\u001b[0m, in \u001b[0;36m_WandbInit.init\u001b[0;34m(self)\u001b[0m\n\u001b[1;32m    783\u001b[0m         backend\u001b[38;5;241m.\u001b[39mcleanup()\n\u001b[1;32m    784\u001b[0m         \u001b[38;5;28mself\u001b[39m\u001b[38;5;241m.\u001b[39mteardown()\n\u001b[0;32m--> 785\u001b[0m     \u001b[38;5;28;01mraise\u001b[39;00m error\n\u001b[1;32m    787\u001b[0m \u001b[38;5;28;01massert\u001b[39;00m run_result \u001b[38;5;129;01mis\u001b[39;00m \u001b[38;5;129;01mnot\u001b[39;00m \u001b[38;5;28;01mNone\u001b[39;00m  \u001b[38;5;66;03m# for mypy\u001b[39;00m\n\u001b[1;32m    789\u001b[0m \u001b[38;5;28;01mif\u001b[39;00m \u001b[38;5;129;01mnot\u001b[39;00m run_result\u001b[38;5;241m.\u001b[39mHasField(\u001b[38;5;124m\"\u001b[39m\u001b[38;5;124mrun\u001b[39m\u001b[38;5;124m\"\u001b[39m):\n",
      "\u001b[0;31mCommError\u001b[0m: Run initialization has timed out after 90.0 sec. \nPlease refer to the documentation for additional information: https://docs.wandb.ai/guides/track/tracking-faq#initstarterror-error-communicating-with-wandb-process-"
     ]
    }
   ],
   "source": [
    "wandb.init(project=\"multinomial-logistic-regression-tuning\")\n",
    "# wandb.watch(model, log=\"all\")\n",
    "learning_rates = [0.001,0.005, 0.01,0.03,0.05,0.0075,0.1,0.2,0.3,0.5]\n",
    "num_epochs_list = [100, 500, 1000, 5000, 10000]\n",
    "best_accuracy = 0.0\n",
    "for learning_rate in learning_rates:\n",
    "    for num_epochs in num_epochs_list:\n",
    "        model.learning_rate = learning_rate\n",
    "        model.num_epochs = num_epochs\n",
    "\n",
    "        # Train the model\n",
    "        model.fit(X_train, y_train)\n",
    "\n",
    "        # Calculate validation accuracy\n",
    "        val_accuracy = model.evaluate(X_val, y_val)\n",
    "\n",
    "        # Log results to W&B\n",
    "        wandb.log({\"Learning Rate\": learning_rate, \"Num Epochs\": num_epochs, \"Validation Accuracy\": val_accuracy})\n",
    "\n",
    "        if val_accuracy > best_accuracy:\n",
    "            best_accuracy = val_accuracy\n",
    "            best_hyperparameters = {\"Learning Rate\": learning_rate, \"Num Epochs\": num_epochs}\n",
    "\n",
    "print(\"Best Hyperparameters:\", best_hyperparameters)\n",
    "print(\"Best Validation Accuracy:\", best_accuracy)"
   ]
  },
  {
   "cell_type": "code",
   "execution_count": null,
   "id": "ceca2253-caf7-4fa6-8208-53f0928f19f5",
   "metadata": {},
   "outputs": [],
   "source": [
    "# Assuming you have your training and validation data\n",
    "X_train = train_data_scaled\n",
    "y_train = train_labels\n",
    "X_test = test_data_scaled\n",
    "y_test = test_data['quality']\n",
    "y_train = np.array(y_train)\n",
    "y_test = np.array(y_test)\n",
    "print(np.array(y_train).shape)\n",
    "# print(y_train)\n",
    "# print(y_train[0])\n",
    "# Create an instance of the model\n",
    "num_classes = 8\n",
    "model = MultinomialLogisticRegression(num_classes=num_classes)\n",
    "model.fit(X_train, y_train)\n",
    "\n",
    "# Evaluate the model on validation data\n",
    "y_pred = model.predict(X_test)\n",
    "accuracy = model.evaluate(X_test, y_test)\n",
    "print(f\"Test Accuracy: {accuracy * 100:.2f}%\")\n",
    "print(y_pred)\n",
    "print(y_test)\n",
    "report = classification_report(y_test, y_pred)\n",
    "print(report)\n",
    "accuracy = accuracy_score(y_test, y_pred)\n",
    "print(f\"Test Accuracy: {accuracy * 100:.2f}%\")\n",
    "y_train_pred = model.predict(X_train)\n",
    "report = classification_report(y_train, y_train_pred)\n",
    "print(report)"
   ]
  },
  {
   "cell_type": "code",
   "execution_count": null,
   "id": "f6ac31ee-f85d-4623-9bc0-6ae1a8fadcb3",
   "metadata": {},
   "outputs": [],
   "source": []
  }
 ],
 "metadata": {
  "kernelspec": {
   "display_name": "Python 3 (ipykernel)",
   "language": "python",
   "name": "python3"
  },
  "language_info": {
   "codemirror_mode": {
    "name": "ipython",
    "version": 3
   },
   "file_extension": ".py",
   "mimetype": "text/x-python",
   "name": "python",
   "nbconvert_exporter": "python",
   "pygments_lexer": "ipython3",
   "version": "3.10.3"
  }
 },
 "nbformat": 4,
 "nbformat_minor": 5
}
