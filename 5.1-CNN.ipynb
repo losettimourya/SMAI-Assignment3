{
 "cells": [
  {
   "cell_type": "code",
   "execution_count": 1,
   "id": "94047bdb",
   "metadata": {},
   "outputs": [],
   "source": [
    "import torch\n",
    "import torch.nn as nn\n",
    "import torchvision\n",
    "import torchvision.transforms as transforms\n",
    "from torchvision import transforms\n",
    "from torchvision.datasets import ImageFolder\n",
    "from torch.utils.data import random_split\n",
    "from torch.utils.data import DataLoader, TensorDataset\n",
    "from PIL import Image\n",
    "import numpy as np\n",
    "import os\n",
    "import matplotlib.pyplot as plt\n",
    "import wandb"
   ]
  },
  {
   "cell_type": "code",
   "execution_count": 2,
   "id": "79cdeb2d",
   "metadata": {},
   "outputs": [
    {
     "name": "stdout",
     "output_type": "stream",
     "text": [
      "['00', '01', '04', '05', '06', '08', '09', '11', '12', '13', '14', '15', '16', '18', '19', '20', '21', '23', '24', '26', '28', '29', '30', '31', '33', '35', '37', '38', '41', '42', '43', '44', '45', '50', '51', '53', '54', '56', '59', '60', '62', '63', '65', '69', '70', '72', '74', '75', '76', '77', '79', '81', '82', '84', '85', '87', '88', '89', '90', '91', '94', '95', '97', '98']\n",
      "Dataset CustomImageFolder\n",
      "    Number of datapoints: 64000\n",
      "    Root location: double_mnist/train\n",
      "    StandardTransform\n",
      "Transform: Compose(\n",
      "               Grayscale(num_output_channels=1)\n",
      "               Resize(size=(28, 28), interpolation=bilinear, max_size=None, antialias=warn)\n",
      "               ToTensor()\n",
      "               Normalize(mean=(0.5,), std=(0.5,))\n",
      "           )\n",
      "['03', '07', '10', '22', '27', '34', '39', '40', '48', '52', '58', '61', '64', '71', '93', '99']\n",
      "tensor([72, 81, 14, 50, 37, 94, 18, 69, 24, 89, 91, 19, 42, 62, 75, 23, 85, 62,\n",
      "        37, 12, 42, 30, 63, 63, 77, 70, 90, 15, 76, 30,  1, 65, 26, 69, 28,  9,\n",
      "        53, 69, 51,  8, 51, 41, 63, 97, 62, 26, 75, 85, 12, 97, 33,  1, 15, 43,\n",
      "        94, 37, 84, 77, 51, 37, 76, 60, 88, 28])\n",
      "tensor(3)\n",
      "tensor([3, 3, 3, 3, 3, 3, 3, 3, 3, 3, 3, 3, 3, 3, 3, 3, 3, 3, 3, 3, 3, 3, 3, 3,\n",
      "        3, 3, 3, 3, 3, 3, 3, 3, 3, 3, 3, 3, 3, 3, 3, 3, 3, 3, 3, 3, 3, 3, 3, 3,\n",
      "        3, 3, 3, 3, 3, 3, 3, 3, 3, 3, 3, 3, 3, 3, 3, 3])\n"
     ]
    },
    {
     "data": {
      "image/png": "[encoded data removed]",
      "text/plain": [
       "<Figure size 640x480 with 1 Axes>"
      ]
     },
     "metadata": {},
     "output_type": "display_data"
    }
   ],
   "source": [
    "transform = transforms.Compose([\n",
    "    transforms.Grayscale(num_output_channels=1), \n",
    "    transforms.Resize((28, 28)),\n",
    "    transforms.ToTensor(),\n",
    "    transforms.Normalize((0.5,), (0.5,))\n",
    "])\n",
    "\n",
    "train_data_path = 'double_mnist/train'\n",
    "val_data_path = 'double_mnist/val'\n",
    "test_data_path = 'double_mnist/test'\n",
    "class CustomImageFolder(ImageFolder):\n",
    "    def __init__(self, root, transform=None):\n",
    "        super(CustomImageFolder, self).__init__(root, transform=transform)\n",
    "    \n",
    "    def __getitem__(self, index):\n",
    "        path, target = self.samples[index]\n",
    "        sample = self.loader(path)\n",
    "        if self.transform is not None:\n",
    "            sample = self.transform(sample)\n",
    "\n",
    "        folder_name = os.path.basename(os.path.dirname(path))\n",
    "        return sample, int(folder_name)  \n",
    "train_dataset = CustomImageFolder(train_data_path, transform=transform)\n",
    "val_dataset = CustomImageFolder(val_data_path, transform=transform)\n",
    "test_dataset = CustomImageFolder(test_data_path, transform=transform)\n",
    "print(train_dataset.classes)\n",
    "class_to_label = {str(i).zfill(2): i for i in range(100)}\n",
    "batch_size = 64\n",
    "print(train_dataset)\n",
    "train_loader = DataLoader(train_dataset, batch_size=batch_size, shuffle=True)\n",
    "val_loader = DataLoader(val_dataset, batch_size=batch_size, shuffle=False)\n",
    "test_loader = DataLoader(test_dataset, batch_size=batch_size, shuffle=False)\n",
    "\n",
    "num_classes = 10\n",
    "\n",
    "class_names = train_dataset.classes\n",
    "class_names = val_dataset.classes\n",
    "\n",
    "print(class_names)\n",
    "\n",
    "for images, labels in train_loader:\n",
    "    print(labels)\n",
    "    break\n",
    "for images, labels in val_loader:\n",
    "    plt.imshow(images[0].permute(1, 2, 0))\n",
    "    print(labels[0])\n",
    "    print(labels)\n",
    "    break\n",
    "\n",
    "\n"
   ]
  },
  {
   "cell_type": "code",
   "execution_count": 3,
   "id": "e2471806",
   "metadata": {},
   "outputs": [],
   "source": [
    "class SimpleCNN(nn.Module):\n",
    "    def __init__(self, input_channels, num_classes, kernel_size=3, pool_size=2, stride=2, dropout_rate=0.5):\n",
    "        super(SimpleCNN, self).__init__()\n",
    "        self.conv1 = nn.Conv2d(input_channels, 32, kernel_size=kernel_size, padding=int((kernel_size - 1) / 2))\n",
    "        self.relu1 = nn.ReLU()\n",
    "        self.pool1 = nn.MaxPool2d(kernel_size=pool_size, stride=stride)\n",
    "        self.conv2 = nn.Conv2d(32, 64, kernel_size=kernel_size, padding=int((kernel_size - 1) / 2))\n",
    "        self.relu2 = nn.ReLU()\n",
    "        self.pool2 = nn.MaxPool2d(kernel_size=pool_size, stride=stride)\n",
    "        var1 = int((28 - pool_size) / stride) + 1\n",
    "        self.dim = int((var1 - pool_size) / stride) + 1\n",
    "        self.fc1 = nn.Linear(64 * self.dim * self.dim, 128)\n",
    "        self.relu3 = nn.ReLU()\n",
    "        self.dropout = nn.Dropout(dropout_rate)\n",
    "        self.fc2 = nn.Linear(128, num_classes)\n",
    "\n",
    "    def forward(self, x):\n",
    "        x = self.pool1(self.relu1(self.conv1(x)))\n",
    "        x = self.pool2(self.relu2(self.conv2(x)))\n",
    "        x = x.view(-1, 64 * self.dim * self.dim)\n",
    "        x = self.relu3(self.fc1(x))\n",
    "        x = self.dropout(x)\n",
    "        x = self.fc2(x)\n",
    "        return x\n",
    "\n",
    "model = SimpleCNN(input_channels=1, num_classes=num_classes)\n",
    "model1 = SimpleCNN(input_channels=1, num_classes=num_classes)\n",
    "\n",
    "criterion = nn.CrossEntropyLoss()\n",
    "optimizer = torch.optim.Adam(model.parameters(), lr=0.001)\n",
    "criterion1 = nn.CrossEntropyLoss()\n",
    "optimizer1 = torch.optim.Adam(model1.parameters(), lr=0.001)"
   ]
  },
  {
   "cell_type": "code",
   "execution_count": 19,
   "id": "7c3909ee",
   "metadata": {},
   "outputs": [
    {
     "name": "stdout",
     "output_type": "stream",
     "text": [
      "Epoch 1/5 - Train Loss: 0.1039 - Train Accuracy: 96.81%\n",
      "Epoch 1/5 - Validation Loss: 0.0837 - Validation Accuracy: 97.25%\n",
      "Epoch 1/5 - Testing Loss: 0.0879 - Testing Accuracy: 97.08%\n",
      "Epoch 2/5 - Train Loss: 0.0867 - Train Accuracy: 98.02%\n",
      "Epoch 2/5 - Validation Loss: 0.0832 - Validation Accuracy: 97.44%\n",
      "Epoch 2/5 - Testing Loss: 0.0866 - Testing Accuracy: 97.42%\n",
      "Epoch 3/5 - Train Loss: 0.0796 - Train Accuracy: 98.25%\n",
      "Epoch 3/5 - Validation Loss: 0.0773 - Validation Accuracy: 97.48%\n",
      "Epoch 3/5 - Testing Loss: 0.0819 - Testing Accuracy: 97.59%\n",
      "Epoch 4/5 - Train Loss: 0.0728 - Train Accuracy: 98.42%\n",
      "Epoch 4/5 - Validation Loss: 0.0863 - Validation Accuracy: 97.60%\n",
      "Epoch 4/5 - Testing Loss: 0.0932 - Testing Accuracy: 97.58%\n",
      "Epoch 5/5 - Train Loss: 0.0635 - Train Accuracy: 98.62%\n",
      "Epoch 5/5 - Validation Loss: 0.0839 - Validation Accuracy: 97.74%\n",
      "Epoch 5/5 - Testing Loss: 0.0784 - Testing Accuracy: 97.82%\n"
     ]
    }
   ],
   "source": [
    "num_epochs = 5\n",
    "for epoch in range(num_epochs):\n",
    "    model.train()\n",
    "    total_train_loss = 0\n",
    "    correct_train = 0\n",
    "    total_train = 0\n",
    "    cnt = 0\n",
    "    for images, labels in train_loader:\n",
    "        labels1 = labels//10\n",
    "        labels2 = labels%10\n",
    "        # class_names = train_dataset.classes\n",
    "        optimizer1.zero_grad()\n",
    "        optimizer.zero_grad()\n",
    "        image = images.clone()\n",
    "        image1 = images.clone()\n",
    "        left_half = images[:, :, :, :images.shape[3] // 2]\n",
    "        # print(left_half.shape)\n",
    "        image[:, :, :, (image.shape[3] // 2):] = left_half\n",
    "        right_half = images[:, :, :, images.shape[3] // 2 :]\n",
    "        image1[:, :, :, :(image1.shape[3] // 2)] = right_half\n",
    "        # print(images.shape)\n",
    "        outputs = model(image)\n",
    "        outputs1 = model1(image1)\n",
    "        loss = criterion(outputs, labels1)\n",
    "        loss1 = criterion1(outputs1,labels2)\n",
    "        loss.backward()\n",
    "        loss1.backward()\n",
    "        optimizer.step()\n",
    "        optimizer1.step()\n",
    "        total_train_loss += loss.item()\n",
    "        _, predicted = torch.max(outputs.data, 1)\n",
    "        _, predicted1 = torch.max(outputs1.data, 1)\n",
    "        total_train += 2*labels.size(0)\n",
    "        for i in range(labels.size(0)):\n",
    "            # cnt += 1\n",
    "            # if(cnt == 10):\n",
    "            #     print(predicted[i])\n",
    "            #     print(predicted1[i])\n",
    "            #     print(labels[i])\n",
    "            #     cnt=0\n",
    "            #     break\n",
    "            if(predicted[i] == labels[i]//10):\n",
    "                correct_train += 1\n",
    "            if(predicted1[i] == labels[i]%10):\n",
    "                correct_train += 1\n",
    "        # cnt += 1\n",
    "        # if(cnt == 10):\n",
    "        #     break\n",
    "    train_accuracy = 100 * correct_train / total_train\n",
    "    average_train_loss = total_train_loss / len(train_loader)\n",
    "    print(f'Epoch {epoch+1}/{num_epochs} - Train Loss: {average_train_loss:.4f} - Train Accuracy: {train_accuracy:.2f}%')\n",
    "    model.eval()\n",
    "    model1.eval()\n",
    "    total_val_loss = 0\n",
    "    correct_val = 0\n",
    "    total_val = 0\n",
    "    cnt = 0\n",
    "    with torch.no_grad():\n",
    "        for images, labels in val_loader:\n",
    "            labels1 = labels // 10\n",
    "            labels2 = labels % 10\n",
    "            image = images.clone()\n",
    "            image1 = images.clone()\n",
    "            left_half = images[:, :, :, :images.shape[3] // 2]\n",
    "            image[:, :, :, (image.shape[3] // 2):] = left_half\n",
    "            right_half = images[:, :, :, images.shape[3] // 2 :]\n",
    "            image1[:, :, :, :(image1.shape[3] // 2)] = right_half\n",
    "            outputs = model(image)\n",
    "            outputs1 = model1(image1)\n",
    "            loss = criterion(outputs, labels1)\n",
    "            loss1 = criterion1(outputs1,labels2)\n",
    "            total_val_loss += loss.item()\n",
    "            _, predicted = torch.max(outputs.data, 1)\n",
    "            _, predicted1 = torch.max(outputs1.data, 1)\n",
    "            total_val += 2*labels.size(0)\n",
    "            for i in range(labels.size(0)):\n",
    "                if(predicted[i] == labels[i]//10):\n",
    "                    correct_val += 1\n",
    "                if(predicted1[i] == labels[i]%10):\n",
    "                    correct_val += 1\n",
    "    val_accuracy = 100 * correct_val / total_val\n",
    "    average_val_loss = total_val_loss / len(val_loader)\n",
    "    print(f'Epoch {epoch + 1}/{num_epochs} - Validation Loss: {average_val_loss:.4f} - Validation Accuracy: {val_accuracy:.2f}%')\n",
    "    model.eval()\n",
    "    model1.eval()\n",
    "    total_val_loss = 0\n",
    "    correct_val = 0\n",
    "    total_val = 0\n",
    "    cnt = 0\n",
    "    with torch.no_grad():\n",
    "        for images, labels in test_loader:\n",
    "            labels1 = labels // 10\n",
    "            labels2 = labels % 10\n",
    "            image = images.clone()\n",
    "            image1 = images.clone()\n",
    "            left_half = images[:, :, :, :images.shape[3] // 2]\n",
    "            image[:, :, :, (image.shape[3] // 2):] = left_half\n",
    "            right_half = images[:, :, :, images.shape[3] // 2 :]\n",
    "            image1[:, :, :, :(image1.shape[3] // 2)] = right_half\n",
    "            outputs = model(image)\n",
    "            outputs1 = model1(image1)\n",
    "            loss = criterion(outputs, labels1)\n",
    "            loss1 = criterion1(outputs1,labels2)\n",
    "            total_val_loss += loss.item()\n",
    "            _, predicted = torch.max(outputs.data, 1)\n",
    "            _, predicted1 = torch.max(outputs1.data, 1)\n",
    "            total_val += 2*labels.size(0)\n",
    "            for i in range(labels.size(0)):\n",
    "                if(predicted[i] == labels[i]//10):\n",
    "                    correct_val += 1\n",
    "                if(predicted1[i] == labels[i]%10):\n",
    "                    correct_val += 1\n",
    "    val_accuracy = 100 * correct_val / total_val\n",
    "    average_val_loss = total_val_loss / len(test_loader)\n",
    "    print(f'Epoch {epoch + 1}/{num_epochs} - Testing Loss: {average_val_loss:.4f} - Testing Accuracy: {val_accuracy:.2f}%')\n"
   ]
  },
  {
   "cell_type": "code",
   "execution_count": 4,
   "id": "e8897c37",
   "metadata": {},
   "outputs": [
    {
     "name": "stderr",
     "output_type": "stream",
     "text": [
      "Failed to detect the name of this notebook, you can set it manually with the WANDB_NOTEBOOK_NAME environment variable to enable code saving.\n",
      "\u001b[34m\u001b[1mwandb\u001b[0m: Currently logged in as: \u001b[33mlsamourya07\u001b[0m (\u001b[33mmourya\u001b[0m). Use \u001b[1m`wandb login --relogin`\u001b[0m to force relogin\n"
     ]
    },
    {
     "data": {
      "text/plain": [
       "True"
      ]
     },
     "execution_count": 4,
     "metadata": {},
     "output_type": "execute_result"
    }
   ],
   "source": [
    "wandb.login()"
   ]
  },
  {
   "cell_type": "code",
   "execution_count": 5,
   "id": "ef986417",
   "metadata": {},
   "outputs": [
    {
     "name": "stdout",
     "output_type": "stream",
     "text": [
      "Create sweep with ID: k47gnuar\n",
      "Sweep URL: https://wandb.ai/mourya/5.1-CNN%20Hyperparameter%20Tuning/sweeps/k47gnuar\n"
     ]
    },
    {
     "name": "stderr",
     "output_type": "stream",
     "text": [
      "\u001b[34m\u001b[1mwandb\u001b[0m: Agent Starting Run: z58oxos9 with config:\n",
      "\u001b[34m\u001b[1mwandb\u001b[0m: \tdropout_rate: 0.5\n",
      "\u001b[34m\u001b[1mwandb\u001b[0m: \tkernel_size: 3\n",
      "\u001b[34m\u001b[1mwandb\u001b[0m: \tlearning_rate: 0.001\n",
      "Failed to detect the name of this notebook, you can set it manually with the WANDB_NOTEBOOK_NAME environment variable to enable code saving.\n",
      "\u001b[34m\u001b[1mwandb\u001b[0m: \u001b[33mWARNING\u001b[0m Ignored wandb.init() arg project when running a sweep.\n"
     ]
    },
    {
     "data": {
      "text/html": [
       "Tracking run with wandb version 0.15.12"
      ],
      "text/plain": [
       "<IPython.core.display.HTML object>"
      ]
     },
     "metadata": {},
     "output_type": "display_data"
    },
    {
     "data": {
      "text/html": [
       "Run data is saved locally in <code>/home/ubuntulsa/Sem5/SMAI/Assignment 3/wandb/run-20231022_154207-z58oxos9</code>"
      ],
      "text/plain": [
       "<IPython.core.display.HTML object>"
      ]
     },
     "metadata": {},
     "output_type": "display_data"
    },
    {
     "data": {
      "text/html": [
       "Syncing run <strong><a href='https://wandb.ai/mourya/5.1-CNN%20Hyperparameter%20Tuning/runs/z58oxos9' target=\"_blank\">devoted-sweep-1</a></strong> to <a href='https://wandb.ai/mourya/5.1-CNN%20Hyperparameter%20Tuning' target=\"_blank\">Weights & Biases</a> (<a href='https://wandb.me/run' target=\"_blank\">docs</a>)<br/>Sweep page: <a href='https://wandb.ai/mourya/5.1-CNN%20Hyperparameter%20Tuning/sweeps/k47gnuar' target=\"_blank\">https://wandb.ai/mourya/5.1-CNN%20Hyperparameter%20Tuning/sweeps/k47gnuar</a>"
      ],
      "text/plain": [
       "<IPython.core.display.HTML object>"
      ]
     },
     "metadata": {},
     "output_type": "display_data"
    },
    {
     "data": {
      "text/html": [
       " View project at <a href='https://wandb.ai/mourya/5.1-CNN%20Hyperparameter%20Tuning' target=\"_blank\">https://wandb.ai/mourya/5.1-CNN%20Hyperparameter%20Tuning</a>"
      ],
      "text/plain": [
       "<IPython.core.display.HTML object>"
      ]
     },
     "metadata": {},
     "output_type": "display_data"
    },
    {
     "data": {
      "text/html": [
       " View sweep at <a href='https://wandb.ai/mourya/5.1-CNN%20Hyperparameter%20Tuning/sweeps/k47gnuar' target=\"_blank\">https://wandb.ai/mourya/5.1-CNN%20Hyperparameter%20Tuning/sweeps/k47gnuar</a>"
      ],
      "text/plain": [
       "<IPython.core.display.HTML object>"
      ]
     },
     "metadata": {},
     "output_type": "display_data"
    },
    {
     "data": {
      "text/html": [
       " View run at <a href='https://wandb.ai/mourya/5.1-CNN%20Hyperparameter%20Tuning/runs/z58oxos9' target=\"_blank\">https://wandb.ai/mourya/5.1-CNN%20Hyperparameter%20Tuning/runs/z58oxos9</a>"
      ],
      "text/plain": [
       "<IPython.core.display.HTML object>"
      ]
     },
     "metadata": {},
     "output_type": "display_data"
    },
    {
     "name": "stdout",
     "output_type": "stream",
     "text": [
      "0.001\n",
      "Epoch 1/3 - Kernel Size: 3 - Dropout Rate: 0.5 - Learning Rate - 0.001 - Train Accuracy: 74.67%\n",
      "Epoch 1/3 - Testing Loss: 0.2017 - Testing Accuracy: 93.19%\n",
      "Epoch 2/3 - Kernel Size: 3 - Dropout Rate: 0.5 - Learning Rate - 0.001 - Train Accuracy: 93.83%\n",
      "Epoch 2/3 - Testing Loss: 0.1475 - Testing Accuracy: 95.59%\n",
      "Epoch 3/3 - Kernel Size: 3 - Dropout Rate: 0.5 - Learning Rate - 0.001 - Train Accuracy: 95.76%\n",
      "Epoch 3/3 - Testing Loss: 0.1160 - Testing Accuracy: 96.46%\n"
     ]
    },
    {
     "data": {
      "text/html": [
       "Waiting for W&B process to finish... <strong style=\"color:green\">(success).</strong>"
      ],
      "text/plain": [
       "<IPython.core.display.HTML object>"
      ]
     },
     "metadata": {},
     "output_type": "display_data"
    },
    {
     "data": {
      "text/html": [
       "<style>\n",
       "    table.wandb td:nth-child(1) { padding: 0 10px; text-align: left ; width: auto;} td:nth-child(2) {text-align: left ; width: 100%}\n",
       "    .wandb-row { display: flex; flex-direction: row; flex-wrap: wrap; justify-content: flex-start; width: 100% }\n",
       "    .wandb-col { display: flex; flex-direction: column; flex-basis: 100%; flex: 1; padding: 10px; }\n",
       "    </style>\n",
       "<div class=\"wandb-row\"><div class=\"wandb-col\"><h3>Run history:</h3><br/><table class=\"wandb\"><tr><td>test_accuracy</td><td>▁</td></tr><tr><td>train_accuracy</td><td>▁</td></tr></table><br/></div><div class=\"wandb-col\"><h3>Run summary:</h3><br/><table class=\"wandb\"><tr><td>test_accuracy</td><td>96.4575</td></tr><tr><td>train_accuracy</td><td>95.76094</td></tr></table><br/></div></div>"
      ],
      "text/plain": [
       "<IPython.core.display.HTML object>"
      ]
     },
     "metadata": {},
     "output_type": "display_data"
    },
    {
     "data": {
      "text/html": [
       " View run <strong style=\"color:#cdcd00\">devoted-sweep-1</strong> at: <a href='https://wandb.ai/mourya/5.1-CNN%20Hyperparameter%20Tuning/runs/z58oxos9' target=\"_blank\">https://wandb.ai/mourya/5.1-CNN%20Hyperparameter%20Tuning/runs/z58oxos9</a><br/>Synced 5 W&B file(s), 0 media file(s), 0 artifact file(s) and 0 other file(s)"
      ],
      "text/plain": [
       "<IPython.core.display.HTML object>"
      ]
     },
     "metadata": {},
     "output_type": "display_data"
    },
    {
     "data": {
      "text/html": [
       "Find logs at: <code>./wandb/run-20231022_154207-z58oxos9/logs</code>"
      ],
      "text/plain": [
       "<IPython.core.display.HTML object>"
      ]
     },
     "metadata": {},
     "output_type": "display_data"
    },
    {
     "name": "stderr",
     "output_type": "stream",
     "text": [
      "\u001b[34m\u001b[1mwandb\u001b[0m: Agent Starting Run: l5d7fgjd with config:\n",
      "\u001b[34m\u001b[1mwandb\u001b[0m: \tdropout_rate: 0.5\n",
      "\u001b[34m\u001b[1mwandb\u001b[0m: \tkernel_size: 3\n",
      "\u001b[34m\u001b[1mwandb\u001b[0m: \tlearning_rate: 0.01\n",
      "Failed to detect the name of this notebook, you can set it manually with the WANDB_NOTEBOOK_NAME environment variable to enable code saving.\n",
      "\u001b[34m\u001b[1mwandb\u001b[0m: \u001b[33mWARNING\u001b[0m Ignored wandb.init() arg project when running a sweep.\n"
     ]
    },
    {
     "data": {
      "text/html": [
       "Tracking run with wandb version 0.15.12"
      ],
      "text/plain": [
       "<IPython.core.display.HTML object>"
      ]
     },
     "metadata": {},
     "output_type": "display_data"
    },
    {
     "data": {
      "text/html": [
       "Run data is saved locally in <code>/home/ubuntulsa/Sem5/SMAI/Assignment 3/wandb/run-20231022_154552-l5d7fgjd</code>"
      ],
      "text/plain": [
       "<IPython.core.display.HTML object>"
      ]
     },
     "metadata": {},
     "output_type": "display_data"
    },
    {
     "data": {
      "text/html": [
       "Syncing run <strong><a href='https://wandb.ai/mourya/5.1-CNN%20Hyperparameter%20Tuning/runs/l5d7fgjd' target=\"_blank\">misunderstood-sweep-2</a></strong> to <a href='https://wandb.ai/mourya/5.1-CNN%20Hyperparameter%20Tuning' target=\"_blank\">Weights & Biases</a> (<a href='https://wandb.me/run' target=\"_blank\">docs</a>)<br/>Sweep page: <a href='https://wandb.ai/mourya/5.1-CNN%20Hyperparameter%20Tuning/sweeps/k47gnuar' target=\"_blank\">https://wandb.ai/mourya/5.1-CNN%20Hyperparameter%20Tuning/sweeps/k47gnuar</a>"
      ],
      "text/plain": [
       "<IPython.core.display.HTML object>"
      ]
     },
     "metadata": {},
     "output_type": "display_data"
    },
    {
     "data": {
      "text/html": [
       " View project at <a href='https://wandb.ai/mourya/5.1-CNN%20Hyperparameter%20Tuning' target=\"_blank\">https://wandb.ai/mourya/5.1-CNN%20Hyperparameter%20Tuning</a>"
      ],
      "text/plain": [
       "<IPython.core.display.HTML object>"
      ]
     },
     "metadata": {},
     "output_type": "display_data"
    },
    {
     "data": {
      "text/html": [
       " View sweep at <a href='https://wandb.ai/mourya/5.1-CNN%20Hyperparameter%20Tuning/sweeps/k47gnuar' target=\"_blank\">https://wandb.ai/mourya/5.1-CNN%20Hyperparameter%20Tuning/sweeps/k47gnuar</a>"
      ],
      "text/plain": [
       "<IPython.core.display.HTML object>"
      ]
     },
     "metadata": {},
     "output_type": "display_data"
    },
    {
     "data": {
      "text/html": [
       " View run at <a href='https://wandb.ai/mourya/5.1-CNN%20Hyperparameter%20Tuning/runs/l5d7fgjd' target=\"_blank\">https://wandb.ai/mourya/5.1-CNN%20Hyperparameter%20Tuning/runs/l5d7fgjd</a>"
      ],
      "text/plain": [
       "<IPython.core.display.HTML object>"
      ]
     },
     "metadata": {},
     "output_type": "display_data"
    },
    {
     "name": "stdout",
     "output_type": "stream",
     "text": [
      "0.01\n",
      "Epoch 1/3 - Kernel Size: 3 - Dropout Rate: 0.5 - Learning Rate - 0.010 - Train Accuracy: 69.86%\n",
      "Epoch 1/3 - Testing Loss: 0.4168 - Testing Accuracy: 87.18%\n",
      "Epoch 2/3 - Kernel Size: 3 - Dropout Rate: 0.5 - Learning Rate - 0.010 - Train Accuracy: 87.94%\n",
      "Epoch 2/3 - Testing Loss: 0.3138 - Testing Accuracy: 90.71%\n",
      "Epoch 3/3 - Kernel Size: 3 - Dropout Rate: 0.5 - Learning Rate - 0.010 - Train Accuracy: 89.46%\n",
      "Epoch 3/3 - Testing Loss: 0.3399 - Testing Accuracy: 91.44%\n"
     ]
    },
    {
     "data": {
      "text/html": [
       "Waiting for W&B process to finish... <strong style=\"color:green\">(success).</strong>"
      ],
      "text/plain": [
       "<IPython.core.display.HTML object>"
      ]
     },
     "metadata": {},
     "output_type": "display_data"
    },
    {
     "data": {
      "text/html": [
       "<style>\n",
       "    table.wandb td:nth-child(1) { padding: 0 10px; text-align: left ; width: auto;} td:nth-child(2) {text-align: left ; width: 100%}\n",
       "    .wandb-row { display: flex; flex-direction: row; flex-wrap: wrap; justify-content: flex-start; width: 100% }\n",
       "    .wandb-col { display: flex; flex-direction: column; flex-basis: 100%; flex: 1; padding: 10px; }\n",
       "    </style>\n",
       "<div class=\"wandb-row\"><div class=\"wandb-col\"><h3>Run history:</h3><br/><table class=\"wandb\"><tr><td>test_accuracy</td><td>▁</td></tr><tr><td>train_accuracy</td><td>▁</td></tr></table><br/></div><div class=\"wandb-col\"><h3>Run summary:</h3><br/><table class=\"wandb\"><tr><td>test_accuracy</td><td>91.445</td></tr><tr><td>train_accuracy</td><td>89.45547</td></tr></table><br/></div></div>"
      ],
      "text/plain": [
       "<IPython.core.display.HTML object>"
      ]
     },
     "metadata": {},
     "output_type": "display_data"
    },
    {
     "data": {
      "text/html": [
       " View run <strong style=\"color:#cdcd00\">misunderstood-sweep-2</strong> at: <a href='https://wandb.ai/mourya/5.1-CNN%20Hyperparameter%20Tuning/runs/l5d7fgjd' target=\"_blank\">https://wandb.ai/mourya/5.1-CNN%20Hyperparameter%20Tuning/runs/l5d7fgjd</a><br/>Synced 5 W&B file(s), 0 media file(s), 0 artifact file(s) and 0 other file(s)"
      ],
      "text/plain": [
       "<IPython.core.display.HTML object>"
      ]
     },
     "metadata": {},
     "output_type": "display_data"
    },
    {
     "data": {
      "text/html": [
       "Find logs at: <code>./wandb/run-20231022_154552-l5d7fgjd/logs</code>"
      ],
      "text/plain": [
       "<IPython.core.display.HTML object>"
      ]
     },
     "metadata": {},
     "output_type": "display_data"
    },
    {
     "name": "stderr",
     "output_type": "stream",
     "text": [
      "\u001b[34m\u001b[1mwandb\u001b[0m: Agent Starting Run: 437pb32v with config:\n",
      "\u001b[34m\u001b[1mwandb\u001b[0m: \tdropout_rate: 0.5\n",
      "\u001b[34m\u001b[1mwandb\u001b[0m: \tkernel_size: 5\n",
      "\u001b[34m\u001b[1mwandb\u001b[0m: \tlearning_rate: 0.001\n",
      "Failed to detect the name of this notebook, you can set it manually with the WANDB_NOTEBOOK_NAME environment variable to enable code saving.\n",
      "\u001b[34m\u001b[1mwandb\u001b[0m: \u001b[33mWARNING\u001b[0m Ignored wandb.init() arg project when running a sweep.\n"
     ]
    },
    {
     "data": {
      "text/html": [
       "Tracking run with wandb version 0.15.12"
      ],
      "text/plain": [
       "<IPython.core.display.HTML object>"
      ]
     },
     "metadata": {},
     "output_type": "display_data"
    },
    {
     "data": {
      "text/html": [
       "Run data is saved locally in <code>/home/ubuntulsa/Sem5/SMAI/Assignment 3/wandb/run-20231022_154941-437pb32v</code>"
      ],
      "text/plain": [
       "<IPython.core.display.HTML object>"
      ]
     },
     "metadata": {},
     "output_type": "display_data"
    },
    {
     "data": {
      "text/html": [
       "Syncing run <strong><a href='https://wandb.ai/mourya/5.1-CNN%20Hyperparameter%20Tuning/runs/437pb32v' target=\"_blank\">quiet-sweep-3</a></strong> to <a href='https://wandb.ai/mourya/5.1-CNN%20Hyperparameter%20Tuning' target=\"_blank\">Weights & Biases</a> (<a href='https://wandb.me/run' target=\"_blank\">docs</a>)<br/>Sweep page: <a href='https://wandb.ai/mourya/5.1-CNN%20Hyperparameter%20Tuning/sweeps/k47gnuar' target=\"_blank\">https://wandb.ai/mourya/5.1-CNN%20Hyperparameter%20Tuning/sweeps/k47gnuar</a>"
      ],
      "text/plain": [
       "<IPython.core.display.HTML object>"
      ]
     },
     "metadata": {},
     "output_type": "display_data"
    },
    {
     "data": {
      "text/html": [
       " View project at <a href='https://wandb.ai/mourya/5.1-CNN%20Hyperparameter%20Tuning' target=\"_blank\">https://wandb.ai/mourya/5.1-CNN%20Hyperparameter%20Tuning</a>"
      ],
      "text/plain": [
       "<IPython.core.display.HTML object>"
      ]
     },
     "metadata": {},
     "output_type": "display_data"
    },
    {
     "data": {
      "text/html": [
       " View sweep at <a href='https://wandb.ai/mourya/5.1-CNN%20Hyperparameter%20Tuning/sweeps/k47gnuar' target=\"_blank\">https://wandb.ai/mourya/5.1-CNN%20Hyperparameter%20Tuning/sweeps/k47gnuar</a>"
      ],
      "text/plain": [
       "<IPython.core.display.HTML object>"
      ]
     },
     "metadata": {},
     "output_type": "display_data"
    },
    {
     "data": {
      "text/html": [
       " View run at <a href='https://wandb.ai/mourya/5.1-CNN%20Hyperparameter%20Tuning/runs/437pb32v' target=\"_blank\">https://wandb.ai/mourya/5.1-CNN%20Hyperparameter%20Tuning/runs/437pb32v</a>"
      ],
      "text/plain": [
       "<IPython.core.display.HTML object>"
      ]
     },
     "metadata": {},
     "output_type": "display_data"
    },
    {
     "name": "stdout",
     "output_type": "stream",
     "text": [
      "0.001\n",
      "Epoch 1/3 - Kernel Size: 5 - Dropout Rate: 0.5 - Learning Rate - 0.001 - Train Accuracy: 77.51%\n",
      "Epoch 1/3 - Testing Loss: 0.1777 - Testing Accuracy: 94.76%\n",
      "Epoch 2/3 - Kernel Size: 5 - Dropout Rate: 0.5 - Learning Rate - 0.001 - Train Accuracy: 94.71%\n",
      "Epoch 2/3 - Testing Loss: 0.1249 - Testing Accuracy: 96.34%\n",
      "Epoch 3/3 - Kernel Size: 5 - Dropout Rate: 0.5 - Learning Rate - 0.001 - Train Accuracy: 96.36%\n",
      "Epoch 3/3 - Testing Loss: 0.1156 - Testing Accuracy: 96.60%\n"
     ]
    },
    {
     "data": {
      "text/html": [
       "Waiting for W&B process to finish... <strong style=\"color:green\">(success).</strong>"
      ],
      "text/plain": [
       "<IPython.core.display.HTML object>"
      ]
     },
     "metadata": {},
     "output_type": "display_data"
    },
    {
     "data": {
      "application/vnd.jupyter.widget-view+json": {
       "model_id": "3143377e08a44e98b3f409ec84abdb61",
       "version_major": 2,
       "version_minor": 0
      },
      "text/plain": [
       "VBox(children=(Label(value='0.002 MB of 0.007 MB uploaded (0.000 MB deduped)\\r'), FloatProgress(value=0.266629…"
      ]
     },
     "metadata": {},
     "output_type": "display_data"
    },
    {
     "data": {
      "text/html": [
       "<style>\n",
       "    table.wandb td:nth-child(1) { padding: 0 10px; text-align: left ; width: auto;} td:nth-child(2) {text-align: left ; width: 100%}\n",
       "    .wandb-row { display: flex; flex-direction: row; flex-wrap: wrap; justify-content: flex-start; width: 100% }\n",
       "    .wandb-col { display: flex; flex-direction: column; flex-basis: 100%; flex: 1; padding: 10px; }\n",
       "    </style>\n",
       "<div class=\"wandb-row\"><div class=\"wandb-col\"><h3>Run history:</h3><br/><table class=\"wandb\"><tr><td>test_accuracy</td><td>▁</td></tr><tr><td>train_accuracy</td><td>▁</td></tr></table><br/></div><div class=\"wandb-col\"><h3>Run summary:</h3><br/><table class=\"wandb\"><tr><td>test_accuracy</td><td>96.6025</td></tr><tr><td>train_accuracy</td><td>96.35547</td></tr></table><br/></div></div>"
      ],
      "text/plain": [
       "<IPython.core.display.HTML object>"
      ]
     },
     "metadata": {},
     "output_type": "display_data"
    },
    {
     "data": {
      "text/html": [
       " View run <strong style=\"color:#cdcd00\">quiet-sweep-3</strong> at: <a href='https://wandb.ai/mourya/5.1-CNN%20Hyperparameter%20Tuning/runs/437pb32v' target=\"_blank\">https://wandb.ai/mourya/5.1-CNN%20Hyperparameter%20Tuning/runs/437pb32v</a><br/>Synced 5 W&B file(s), 0 media file(s), 0 artifact file(s) and 0 other file(s)"
      ],
      "text/plain": [
       "<IPython.core.display.HTML object>"
      ]
     },
     "metadata": {},
     "output_type": "display_data"
    },
    {
     "data": {
      "text/html": [
       "Find logs at: <code>./wandb/run-20231022_154941-437pb32v/logs</code>"
      ],
      "text/plain": [
       "<IPython.core.display.HTML object>"
      ]
     },
     "metadata": {},
     "output_type": "display_data"
    },
    {
     "name": "stderr",
     "output_type": "stream",
     "text": [
      "\u001b[34m\u001b[1mwandb\u001b[0m: Agent Starting Run: 61d26nx4 with config:\n",
      "\u001b[34m\u001b[1mwandb\u001b[0m: \tdropout_rate: 0.5\n",
      "\u001b[34m\u001b[1mwandb\u001b[0m: \tkernel_size: 5\n",
      "\u001b[34m\u001b[1mwandb\u001b[0m: \tlearning_rate: 0.01\n",
      "Failed to detect the name of this notebook, you can set it manually with the WANDB_NOTEBOOK_NAME environment variable to enable code saving.\n",
      "\u001b[34m\u001b[1mwandb\u001b[0m: \u001b[33mWARNING\u001b[0m Ignored wandb.init() arg project when running a sweep.\n"
     ]
    },
    {
     "data": {
      "text/html": [
       "Tracking run with wandb version 0.15.12"
      ],
      "text/plain": [
       "<IPython.core.display.HTML object>"
      ]
     },
     "metadata": {},
     "output_type": "display_data"
    },
    {
     "data": {
      "text/html": [
       "Run data is saved locally in <code>/home/ubuntulsa/Sem5/SMAI/Assignment 3/wandb/run-20231022_155428-61d26nx4</code>"
      ],
      "text/plain": [
       "<IPython.core.display.HTML object>"
      ]
     },
     "metadata": {},
     "output_type": "display_data"
    },
    {
     "data": {
      "text/html": [
       "Syncing run <strong><a href='https://wandb.ai/mourya/5.1-CNN%20Hyperparameter%20Tuning/runs/61d26nx4' target=\"_blank\">polished-sweep-4</a></strong> to <a href='https://wandb.ai/mourya/5.1-CNN%20Hyperparameter%20Tuning' target=\"_blank\">Weights & Biases</a> (<a href='https://wandb.me/run' target=\"_blank\">docs</a>)<br/>Sweep page: <a href='https://wandb.ai/mourya/5.1-CNN%20Hyperparameter%20Tuning/sweeps/k47gnuar' target=\"_blank\">https://wandb.ai/mourya/5.1-CNN%20Hyperparameter%20Tuning/sweeps/k47gnuar</a>"
      ],
      "text/plain": [
       "<IPython.core.display.HTML object>"
      ]
     },
     "metadata": {},
     "output_type": "display_data"
    },
    {
     "data": {
      "text/html": [
       " View project at <a href='https://wandb.ai/mourya/5.1-CNN%20Hyperparameter%20Tuning' target=\"_blank\">https://wandb.ai/mourya/5.1-CNN%20Hyperparameter%20Tuning</a>"
      ],
      "text/plain": [
       "<IPython.core.display.HTML object>"
      ]
     },
     "metadata": {},
     "output_type": "display_data"
    },
    {
     "data": {
      "text/html": [
       " View sweep at <a href='https://wandb.ai/mourya/5.1-CNN%20Hyperparameter%20Tuning/sweeps/k47gnuar' target=\"_blank\">https://wandb.ai/mourya/5.1-CNN%20Hyperparameter%20Tuning/sweeps/k47gnuar</a>"
      ],
      "text/plain": [
       "<IPython.core.display.HTML object>"
      ]
     },
     "metadata": {},
     "output_type": "display_data"
    },
    {
     "data": {
      "text/html": [
       " View run at <a href='https://wandb.ai/mourya/5.1-CNN%20Hyperparameter%20Tuning/runs/61d26nx4' target=\"_blank\">https://wandb.ai/mourya/5.1-CNN%20Hyperparameter%20Tuning/runs/61d26nx4</a>"
      ],
      "text/plain": [
       "<IPython.core.display.HTML object>"
      ]
     },
     "metadata": {},
     "output_type": "display_data"
    },
    {
     "name": "stdout",
     "output_type": "stream",
     "text": [
      "0.01\n",
      "Epoch 1/3 - Kernel Size: 5 - Dropout Rate: 0.5 - Learning Rate - 0.010 - Train Accuracy: 84.00%\n",
      "Epoch 1/3 - Testing Loss: 0.2241 - Testing Accuracy: 93.27%\n",
      "Epoch 2/3 - Kernel Size: 5 - Dropout Rate: 0.5 - Learning Rate - 0.010 - Train Accuracy: 93.40%\n",
      "Epoch 2/3 - Testing Loss: 0.3127 - Testing Accuracy: 93.11%\n",
      "Epoch 3/3 - Kernel Size: 5 - Dropout Rate: 0.5 - Learning Rate - 0.010 - Train Accuracy: 93.50%\n",
      "Epoch 3/3 - Testing Loss: 0.2239 - Testing Accuracy: 94.25%\n"
     ]
    },
    {
     "data": {
      "text/html": [
       "Waiting for W&B process to finish... <strong style=\"color:green\">(success).</strong>"
      ],
      "text/plain": [
       "<IPython.core.display.HTML object>"
      ]
     },
     "metadata": {},
     "output_type": "display_data"
    },
    {
     "data": {
      "text/html": [
       "<style>\n",
       "    table.wandb td:nth-child(1) { padding: 0 10px; text-align: left ; width: auto;} td:nth-child(2) {text-align: left ; width: 100%}\n",
       "    .wandb-row { display: flex; flex-direction: row; flex-wrap: wrap; justify-content: flex-start; width: 100% }\n",
       "    .wandb-col { display: flex; flex-direction: column; flex-basis: 100%; flex: 1; padding: 10px; }\n",
       "    </style>\n",
       "<div class=\"wandb-row\"><div class=\"wandb-col\"><h3>Run history:</h3><br/><table class=\"wandb\"><tr><td>test_accuracy</td><td>▁</td></tr><tr><td>train_accuracy</td><td>▁</td></tr></table><br/></div><div class=\"wandb-col\"><h3>Run summary:</h3><br/><table class=\"wandb\"><tr><td>test_accuracy</td><td>94.255</td></tr><tr><td>train_accuracy</td><td>93.50312</td></tr></table><br/></div></div>"
      ],
      "text/plain": [
       "<IPython.core.display.HTML object>"
      ]
     },
     "metadata": {},
     "output_type": "display_data"
    },
    {
     "data": {
      "text/html": [
       " View run <strong style=\"color:#cdcd00\">polished-sweep-4</strong> at: <a href='https://wandb.ai/mourya/5.1-CNN%20Hyperparameter%20Tuning/runs/61d26nx4' target=\"_blank\">https://wandb.ai/mourya/5.1-CNN%20Hyperparameter%20Tuning/runs/61d26nx4</a><br/>Synced 5 W&B file(s), 0 media file(s), 0 artifact file(s) and 0 other file(s)"
      ],
      "text/plain": [
       "<IPython.core.display.HTML object>"
      ]
     },
     "metadata": {},
     "output_type": "display_data"
    },
    {
     "data": {
      "text/html": [
       "Find logs at: <code>./wandb/run-20231022_155428-61d26nx4/logs</code>"
      ],
      "text/plain": [
       "<IPython.core.display.HTML object>"
      ]
     },
     "metadata": {},
     "output_type": "display_data"
    },
    {
     "name": "stderr",
     "output_type": "stream",
     "text": [
      "\u001b[34m\u001b[1mwandb\u001b[0m: Agent Starting Run: wi3ci0hp with config:\n",
      "\u001b[34m\u001b[1mwandb\u001b[0m: \tdropout_rate: 0.3\n",
      "\u001b[34m\u001b[1mwandb\u001b[0m: \tkernel_size: 3\n",
      "\u001b[34m\u001b[1mwandb\u001b[0m: \tlearning_rate: 0.001\n",
      "Failed to detect the name of this notebook, you can set it manually with the WANDB_NOTEBOOK_NAME environment variable to enable code saving.\n",
      "\u001b[34m\u001b[1mwandb\u001b[0m: \u001b[33mWARNING\u001b[0m Ignored wandb.init() arg project when running a sweep.\n"
     ]
    },
    {
     "data": {
      "text/html": [
       "Tracking run with wandb version 0.15.12"
      ],
      "text/plain": [
       "<IPython.core.display.HTML object>"
      ]
     },
     "metadata": {},
     "output_type": "display_data"
    },
    {
     "data": {
      "text/html": [
       "Run data is saved locally in <code>/home/ubuntulsa/Sem5/SMAI/Assignment 3/wandb/run-20231022_155921-wi3ci0hp</code>"
      ],
      "text/plain": [
       "<IPython.core.display.HTML object>"
      ]
     },
     "metadata": {},
     "output_type": "display_data"
    },
    {
     "data": {
      "text/html": [
       "Syncing run <strong><a href='https://wandb.ai/mourya/5.1-CNN%20Hyperparameter%20Tuning/runs/wi3ci0hp' target=\"_blank\">helpful-sweep-5</a></strong> to <a href='https://wandb.ai/mourya/5.1-CNN%20Hyperparameter%20Tuning' target=\"_blank\">Weights & Biases</a> (<a href='https://wandb.me/run' target=\"_blank\">docs</a>)<br/>Sweep page: <a href='https://wandb.ai/mourya/5.1-CNN%20Hyperparameter%20Tuning/sweeps/k47gnuar' target=\"_blank\">https://wandb.ai/mourya/5.1-CNN%20Hyperparameter%20Tuning/sweeps/k47gnuar</a>"
      ],
      "text/plain": [
       "<IPython.core.display.HTML object>"
      ]
     },
     "metadata": {},
     "output_type": "display_data"
    },
    {
     "data": {
      "text/html": [
       " View project at <a href='https://wandb.ai/mourya/5.1-CNN%20Hyperparameter%20Tuning' target=\"_blank\">https://wandb.ai/mourya/5.1-CNN%20Hyperparameter%20Tuning</a>"
      ],
      "text/plain": [
       "<IPython.core.display.HTML object>"
      ]
     },
     "metadata": {},
     "output_type": "display_data"
    },
    {
     "data": {
      "text/html": [
       " View sweep at <a href='https://wandb.ai/mourya/5.1-CNN%20Hyperparameter%20Tuning/sweeps/k47gnuar' target=\"_blank\">https://wandb.ai/mourya/5.1-CNN%20Hyperparameter%20Tuning/sweeps/k47gnuar</a>"
      ],
      "text/plain": [
       "<IPython.core.display.HTML object>"
      ]
     },
     "metadata": {},
     "output_type": "display_data"
    },
    {
     "data": {
      "text/html": [
       " View run at <a href='https://wandb.ai/mourya/5.1-CNN%20Hyperparameter%20Tuning/runs/wi3ci0hp' target=\"_blank\">https://wandb.ai/mourya/5.1-CNN%20Hyperparameter%20Tuning/runs/wi3ci0hp</a>"
      ],
      "text/plain": [
       "<IPython.core.display.HTML object>"
      ]
     },
     "metadata": {},
     "output_type": "display_data"
    },
    {
     "name": "stdout",
     "output_type": "stream",
     "text": [
      "0.001\n",
      "Epoch 1/3 - Kernel Size: 3 - Dropout Rate: 0.3 - Learning Rate - 0.001 - Train Accuracy: 76.60%\n",
      "Epoch 1/3 - Testing Loss: 0.2744 - Testing Accuracy: 92.39%\n",
      "Epoch 2/3 - Kernel Size: 3 - Dropout Rate: 0.3 - Learning Rate - 0.001 - Train Accuracy: 93.79%\n",
      "Epoch 2/3 - Testing Loss: 0.1654 - Testing Accuracy: 95.42%\n",
      "Epoch 3/3 - Kernel Size: 3 - Dropout Rate: 0.3 - Learning Rate - 0.001 - Train Accuracy: 95.66%\n",
      "Epoch 3/3 - Testing Loss: 0.1321 - Testing Accuracy: 96.02%\n"
     ]
    },
    {
     "data": {
      "text/html": [
       "Waiting for W&B process to finish... <strong style=\"color:green\">(success).</strong>"
      ],
      "text/plain": [
       "<IPython.core.display.HTML object>"
      ]
     },
     "metadata": {},
     "output_type": "display_data"
    },
    {
     "data": {
      "application/vnd.jupyter.widget-view+json": {
       "model_id": "d536dc9a7c87405ba5e934db10f172a6",
       "version_major": 2,
       "version_minor": 0
      },
      "text/plain": [
       "VBox(children=(Label(value='0.002 MB of 0.007 MB uploaded (0.000 MB deduped)\\r'), FloatProgress(value=0.265755…"
      ]
     },
     "metadata": {},
     "output_type": "display_data"
    },
    {
     "data": {
      "text/html": [
       "<style>\n",
       "    table.wandb td:nth-child(1) { padding: 0 10px; text-align: left ; width: auto;} td:nth-child(2) {text-align: left ; width: 100%}\n",
       "    .wandb-row { display: flex; flex-direction: row; flex-wrap: wrap; justify-content: flex-start; width: 100% }\n",
       "    .wandb-col { display: flex; flex-direction: column; flex-basis: 100%; flex: 1; padding: 10px; }\n",
       "    </style>\n",
       "<div class=\"wandb-row\"><div class=\"wandb-col\"><h3>Run history:</h3><br/><table class=\"wandb\"><tr><td>test_accuracy</td><td>▁</td></tr><tr><td>train_accuracy</td><td>▁</td></tr></table><br/></div><div class=\"wandb-col\"><h3>Run summary:</h3><br/><table class=\"wandb\"><tr><td>test_accuracy</td><td>96.0225</td></tr><tr><td>train_accuracy</td><td>95.6625</td></tr></table><br/></div></div>"
      ],
      "text/plain": [
       "<IPython.core.display.HTML object>"
      ]
     },
     "metadata": {},
     "output_type": "display_data"
    },
    {
     "data": {
      "text/html": [
       " View run <strong style=\"color:#cdcd00\">helpful-sweep-5</strong> at: <a href='https://wandb.ai/mourya/5.1-CNN%20Hyperparameter%20Tuning/runs/wi3ci0hp' target=\"_blank\">https://wandb.ai/mourya/5.1-CNN%20Hyperparameter%20Tuning/runs/wi3ci0hp</a><br/>Synced 5 W&B file(s), 0 media file(s), 0 artifact file(s) and 0 other file(s)"
      ],
      "text/plain": [
       "<IPython.core.display.HTML object>"
      ]
     },
     "metadata": {},
     "output_type": "display_data"
    },
    {
     "data": {
      "text/html": [
       "Find logs at: <code>./wandb/run-20231022_155921-wi3ci0hp/logs</code>"
      ],
      "text/plain": [
       "<IPython.core.display.HTML object>"
      ]
     },
     "metadata": {},
     "output_type": "display_data"
    },
    {
     "name": "stderr",
     "output_type": "stream",
     "text": [
      "\u001b[34m\u001b[1mwandb\u001b[0m: Agent Starting Run: hdaa2cqw with config:\n",
      "\u001b[34m\u001b[1mwandb\u001b[0m: \tdropout_rate: 0.3\n",
      "\u001b[34m\u001b[1mwandb\u001b[0m: \tkernel_size: 3\n",
      "\u001b[34m\u001b[1mwandb\u001b[0m: \tlearning_rate: 0.01\n",
      "Failed to detect the name of this notebook, you can set it manually with the WANDB_NOTEBOOK_NAME environment variable to enable code saving.\n",
      "\u001b[34m\u001b[1mwandb\u001b[0m: \u001b[33mWARNING\u001b[0m Ignored wandb.init() arg project when running a sweep.\n"
     ]
    },
    {
     "data": {
      "text/html": [
       "Tracking run with wandb version 0.15.12"
      ],
      "text/plain": [
       "<IPython.core.display.HTML object>"
      ]
     },
     "metadata": {},
     "output_type": "display_data"
    },
    {
     "data": {
      "text/html": [
       "Run data is saved locally in <code>/home/ubuntulsa/Sem5/SMAI/Assignment 3/wandb/run-20231022_160404-hdaa2cqw</code>"
      ],
      "text/plain": [
       "<IPython.core.display.HTML object>"
      ]
     },
     "metadata": {},
     "output_type": "display_data"
    },
    {
     "data": {
      "text/html": [
       "Syncing run <strong><a href='https://wandb.ai/mourya/5.1-CNN%20Hyperparameter%20Tuning/runs/hdaa2cqw' target=\"_blank\">kind-sweep-6</a></strong> to <a href='https://wandb.ai/mourya/5.1-CNN%20Hyperparameter%20Tuning' target=\"_blank\">Weights & Biases</a> (<a href='https://wandb.me/run' target=\"_blank\">docs</a>)<br/>Sweep page: <a href='https://wandb.ai/mourya/5.1-CNN%20Hyperparameter%20Tuning/sweeps/k47gnuar' target=\"_blank\">https://wandb.ai/mourya/5.1-CNN%20Hyperparameter%20Tuning/sweeps/k47gnuar</a>"
      ],
      "text/plain": [
       "<IPython.core.display.HTML object>"
      ]
     },
     "metadata": {},
     "output_type": "display_data"
    },
    {
     "data": {
      "text/html": [
       " View project at <a href='https://wandb.ai/mourya/5.1-CNN%20Hyperparameter%20Tuning' target=\"_blank\">https://wandb.ai/mourya/5.1-CNN%20Hyperparameter%20Tuning</a>"
      ],
      "text/plain": [
       "<IPython.core.display.HTML object>"
      ]
     },
     "metadata": {},
     "output_type": "display_data"
    },
    {
     "data": {
      "text/html": [
       " View sweep at <a href='https://wandb.ai/mourya/5.1-CNN%20Hyperparameter%20Tuning/sweeps/k47gnuar' target=\"_blank\">https://wandb.ai/mourya/5.1-CNN%20Hyperparameter%20Tuning/sweeps/k47gnuar</a>"
      ],
      "text/plain": [
       "<IPython.core.display.HTML object>"
      ]
     },
     "metadata": {},
     "output_type": "display_data"
    },
    {
     "data": {
      "text/html": [
       " View run at <a href='https://wandb.ai/mourya/5.1-CNN%20Hyperparameter%20Tuning/runs/hdaa2cqw' target=\"_blank\">https://wandb.ai/mourya/5.1-CNN%20Hyperparameter%20Tuning/runs/hdaa2cqw</a>"
      ],
      "text/plain": [
       "<IPython.core.display.HTML object>"
      ]
     },
     "metadata": {},
     "output_type": "display_data"
    },
    {
     "name": "stdout",
     "output_type": "stream",
     "text": [
      "0.01\n",
      "Epoch 1/3 - Kernel Size: 3 - Dropout Rate: 0.3 - Learning Rate - 0.010 - Train Accuracy: 40.72%\n",
      "Epoch 1/3 - Testing Loss: 2.3522 - Testing Accuracy: 42.32%\n",
      "Epoch 2/3 - Kernel Size: 3 - Dropout Rate: 0.3 - Learning Rate - 0.010 - Train Accuracy: 50.80%\n",
      "Epoch 2/3 - Testing Loss: 2.3572 - Testing Accuracy: 47.92%\n",
      "Epoch 3/3 - Kernel Size: 3 - Dropout Rate: 0.3 - Learning Rate - 0.010 - Train Accuracy: 51.73%\n",
      "Epoch 3/3 - Testing Loss: 2.3588 - Testing Accuracy: 47.05%\n"
     ]
    },
    {
     "data": {
      "text/html": [
       "Waiting for W&B process to finish... <strong style=\"color:green\">(success).</strong>"
      ],
      "text/plain": [
       "<IPython.core.display.HTML object>"
      ]
     },
     "metadata": {},
     "output_type": "display_data"
    },
    {
     "data": {
      "text/html": [
       "<style>\n",
       "    table.wandb td:nth-child(1) { padding: 0 10px; text-align: left ; width: auto;} td:nth-child(2) {text-align: left ; width: 100%}\n",
       "    .wandb-row { display: flex; flex-direction: row; flex-wrap: wrap; justify-content: flex-start; width: 100% }\n",
       "    .wandb-col { display: flex; flex-direction: column; flex-basis: 100%; flex: 1; padding: 10px; }\n",
       "    </style>\n",
       "<div class=\"wandb-row\"><div class=\"wandb-col\"><h3>Run history:</h3><br/><table class=\"wandb\"><tr><td>test_accuracy</td><td>▁</td></tr><tr><td>train_accuracy</td><td>▁</td></tr></table><br/></div><div class=\"wandb-col\"><h3>Run summary:</h3><br/><table class=\"wandb\"><tr><td>test_accuracy</td><td>47.05</td></tr><tr><td>train_accuracy</td><td>51.73203</td></tr></table><br/></div></div>"
      ],
      "text/plain": [
       "<IPython.core.display.HTML object>"
      ]
     },
     "metadata": {},
     "output_type": "display_data"
    },
    {
     "data": {
      "text/html": [
       " View run <strong style=\"color:#cdcd00\">kind-sweep-6</strong> at: <a href='https://wandb.ai/mourya/5.1-CNN%20Hyperparameter%20Tuning/runs/hdaa2cqw' target=\"_blank\">https://wandb.ai/mourya/5.1-CNN%20Hyperparameter%20Tuning/runs/hdaa2cqw</a><br/>Synced 5 W&B file(s), 0 media file(s), 0 artifact file(s) and 0 other file(s)"
      ],
      "text/plain": [
       "<IPython.core.display.HTML object>"
      ]
     },
     "metadata": {},
     "output_type": "display_data"
    },
    {
     "data": {
      "text/html": [
       "Find logs at: <code>./wandb/run-20231022_160404-hdaa2cqw/logs</code>"
      ],
      "text/plain": [
       "<IPython.core.display.HTML object>"
      ]
     },
     "metadata": {},
     "output_type": "display_data"
    },
    {
     "name": "stderr",
     "output_type": "stream",
     "text": [
      "\u001b[34m\u001b[1mwandb\u001b[0m: Agent Starting Run: 41pj7j8a with config:\n",
      "\u001b[34m\u001b[1mwandb\u001b[0m: \tdropout_rate: 0.3\n",
      "\u001b[34m\u001b[1mwandb\u001b[0m: \tkernel_size: 5\n",
      "\u001b[34m\u001b[1mwandb\u001b[0m: \tlearning_rate: 0.001\n",
      "Failed to detect the name of this notebook, you can set it manually with the WANDB_NOTEBOOK_NAME environment variable to enable code saving.\n",
      "\u001b[34m\u001b[1mwandb\u001b[0m: \u001b[33mWARNING\u001b[0m Ignored wandb.init() arg project when running a sweep.\n"
     ]
    },
    {
     "data": {
      "text/html": [
       "Tracking run with wandb version 0.15.12"
      ],
      "text/plain": [
       "<IPython.core.display.HTML object>"
      ]
     },
     "metadata": {},
     "output_type": "display_data"
    },
    {
     "data": {
      "text/html": [
       "Run data is saved locally in <code>/home/ubuntulsa/Sem5/SMAI/Assignment 3/wandb/run-20231022_161251-41pj7j8a</code>"
      ],
      "text/plain": [
       "<IPython.core.display.HTML object>"
      ]
     },
     "metadata": {},
     "output_type": "display_data"
    },
    {
     "data": {
      "text/html": [
       "Syncing run <strong><a href='https://wandb.ai/mourya/5.1-CNN%20Hyperparameter%20Tuning/runs/41pj7j8a' target=\"_blank\">sage-sweep-7</a></strong> to <a href='https://wandb.ai/mourya/5.1-CNN%20Hyperparameter%20Tuning' target=\"_blank\">Weights & Biases</a> (<a href='https://wandb.me/run' target=\"_blank\">docs</a>)<br/>Sweep page: <a href='https://wandb.ai/mourya/5.1-CNN%20Hyperparameter%20Tuning/sweeps/k47gnuar' target=\"_blank\">https://wandb.ai/mourya/5.1-CNN%20Hyperparameter%20Tuning/sweeps/k47gnuar</a>"
      ],
      "text/plain": [
       "<IPython.core.display.HTML object>"
      ]
     },
     "metadata": {},
     "output_type": "display_data"
    },
    {
     "data": {
      "text/html": [
       " View project at <a href='https://wandb.ai/mourya/5.1-CNN%20Hyperparameter%20Tuning' target=\"_blank\">https://wandb.ai/mourya/5.1-CNN%20Hyperparameter%20Tuning</a>"
      ],
      "text/plain": [
       "<IPython.core.display.HTML object>"
      ]
     },
     "metadata": {},
     "output_type": "display_data"
    },
    {
     "data": {
      "text/html": [
       " View sweep at <a href='https://wandb.ai/mourya/5.1-CNN%20Hyperparameter%20Tuning/sweeps/k47gnuar' target=\"_blank\">https://wandb.ai/mourya/5.1-CNN%20Hyperparameter%20Tuning/sweeps/k47gnuar</a>"
      ],
      "text/plain": [
       "<IPython.core.display.HTML object>"
      ]
     },
     "metadata": {},
     "output_type": "display_data"
    },
    {
     "data": {
      "text/html": [
       " View run at <a href='https://wandb.ai/mourya/5.1-CNN%20Hyperparameter%20Tuning/runs/41pj7j8a' target=\"_blank\">https://wandb.ai/mourya/5.1-CNN%20Hyperparameter%20Tuning/runs/41pj7j8a</a>"
      ],
      "text/plain": [
       "<IPython.core.display.HTML object>"
      ]
     },
     "metadata": {},
     "output_type": "display_data"
    },
    {
     "name": "stdout",
     "output_type": "stream",
     "text": [
      "0.001\n",
      "Epoch 1/3 - Kernel Size: 5 - Dropout Rate: 0.3 - Learning Rate - 0.001 - Train Accuracy: 80.31%\n",
      "Epoch 1/3 - Testing Loss: 0.1691 - Testing Accuracy: 94.03%\n",
      "Epoch 2/3 - Kernel Size: 5 - Dropout Rate: 0.3 - Learning Rate - 0.001 - Train Accuracy: 95.24%\n",
      "Epoch 2/3 - Testing Loss: 0.1146 - Testing Accuracy: 96.17%\n",
      "Epoch 3/3 - Kernel Size: 5 - Dropout Rate: 0.3 - Learning Rate - 0.001 - Train Accuracy: 96.68%\n",
      "Epoch 3/3 - Testing Loss: 0.0978 - Testing Accuracy: 96.86%\n"
     ]
    },
    {
     "data": {
      "text/html": [
       "Waiting for W&B process to finish... <strong style=\"color:green\">(success).</strong>"
      ],
      "text/plain": [
       "<IPython.core.display.HTML object>"
      ]
     },
     "metadata": {},
     "output_type": "display_data"
    },
    {
     "data": {
      "application/vnd.jupyter.widget-view+json": {
       "model_id": "a2adac18e1f544b6bc2277b996f5ae8c",
       "version_major": 2,
       "version_minor": 0
      },
      "text/plain": [
       "VBox(children=(Label(value='0.002 MB of 0.007 MB uploaded (0.000 MB deduped)\\r'), FloatProgress(value=0.265644…"
      ]
     },
     "metadata": {},
     "output_type": "display_data"
    },
    {
     "data": {
      "text/html": [
       "<style>\n",
       "    table.wandb td:nth-child(1) { padding: 0 10px; text-align: left ; width: auto;} td:nth-child(2) {text-align: left ; width: 100%}\n",
       "    .wandb-row { display: flex; flex-direction: row; flex-wrap: wrap; justify-content: flex-start; width: 100% }\n",
       "    .wandb-col { display: flex; flex-direction: column; flex-basis: 100%; flex: 1; padding: 10px; }\n",
       "    </style>\n",
       "<div class=\"wandb-row\"><div class=\"wandb-col\"><h3>Run history:</h3><br/><table class=\"wandb\"><tr><td>test_accuracy</td><td>▁</td></tr><tr><td>train_accuracy</td><td>▁</td></tr></table><br/></div><div class=\"wandb-col\"><h3>Run summary:</h3><br/><table class=\"wandb\"><tr><td>test_accuracy</td><td>96.8575</td></tr><tr><td>train_accuracy</td><td>96.68203</td></tr></table><br/></div></div>"
      ],
      "text/plain": [
       "<IPython.core.display.HTML object>"
      ]
     },
     "metadata": {},
     "output_type": "display_data"
    },
    {
     "data": {
      "text/html": [
       " View run <strong style=\"color:#cdcd00\">sage-sweep-7</strong> at: <a href='https://wandb.ai/mourya/5.1-CNN%20Hyperparameter%20Tuning/runs/41pj7j8a' target=\"_blank\">https://wandb.ai/mourya/5.1-CNN%20Hyperparameter%20Tuning/runs/41pj7j8a</a><br/>Synced 5 W&B file(s), 0 media file(s), 0 artifact file(s) and 0 other file(s)"
      ],
      "text/plain": [
       "<IPython.core.display.HTML object>"
      ]
     },
     "metadata": {},
     "output_type": "display_data"
    },
    {
     "data": {
      "text/html": [
       "Find logs at: <code>./wandb/run-20231022_161251-41pj7j8a/logs</code>"
      ],
      "text/plain": [
       "<IPython.core.display.HTML object>"
      ]
     },
     "metadata": {},
     "output_type": "display_data"
    },
    {
     "name": "stderr",
     "output_type": "stream",
     "text": [
      "\u001b[34m\u001b[1mwandb\u001b[0m: Sweep Agent: Waiting for job.\n",
      "\u001b[34m\u001b[1mwandb\u001b[0m: Job received.\n",
      "\u001b[34m\u001b[1mwandb\u001b[0m: Agent Starting Run: mqrttt5y with config:\n",
      "\u001b[34m\u001b[1mwandb\u001b[0m: \tdropout_rate: 0.3\n",
      "\u001b[34m\u001b[1mwandb\u001b[0m: \tkernel_size: 5\n",
      "\u001b[34m\u001b[1mwandb\u001b[0m: \tlearning_rate: 0.01\n",
      "Failed to detect the name of this notebook, you can set it manually with the WANDB_NOTEBOOK_NAME environment variable to enable code saving.\n",
      "\u001b[34m\u001b[1mwandb\u001b[0m: \u001b[33mWARNING\u001b[0m Ignored wandb.init() arg project when running a sweep.\n"
     ]
    },
    {
     "data": {
      "text/html": [
       "Tracking run with wandb version 0.15.12"
      ],
      "text/plain": [
       "<IPython.core.display.HTML object>"
      ]
     },
     "metadata": {},
     "output_type": "display_data"
    },
    {
     "data": {
      "text/html": [
       "Run data is saved locally in <code>/home/ubuntulsa/Sem5/SMAI/Assignment 3/wandb/run-20231022_161732-mqrttt5y</code>"
      ],
      "text/plain": [
       "<IPython.core.display.HTML object>"
      ]
     },
     "metadata": {},
     "output_type": "display_data"
    },
    {
     "data": {
      "text/html": [
       "Syncing run <strong><a href='https://wandb.ai/mourya/5.1-CNN%20Hyperparameter%20Tuning/runs/mqrttt5y' target=\"_blank\">spring-sweep-8</a></strong> to <a href='https://wandb.ai/mourya/5.1-CNN%20Hyperparameter%20Tuning' target=\"_blank\">Weights & Biases</a> (<a href='https://wandb.me/run' target=\"_blank\">docs</a>)<br/>Sweep page: <a href='https://wandb.ai/mourya/5.1-CNN%20Hyperparameter%20Tuning/sweeps/k47gnuar' target=\"_blank\">https://wandb.ai/mourya/5.1-CNN%20Hyperparameter%20Tuning/sweeps/k47gnuar</a>"
      ],
      "text/plain": [
       "<IPython.core.display.HTML object>"
      ]
     },
     "metadata": {},
     "output_type": "display_data"
    },
    {
     "data": {
      "text/html": [
       " View project at <a href='https://wandb.ai/mourya/5.1-CNN%20Hyperparameter%20Tuning' target=\"_blank\">https://wandb.ai/mourya/5.1-CNN%20Hyperparameter%20Tuning</a>"
      ],
      "text/plain": [
       "<IPython.core.display.HTML object>"
      ]
     },
     "metadata": {},
     "output_type": "display_data"
    },
    {
     "data": {
      "text/html": [
       " View sweep at <a href='https://wandb.ai/mourya/5.1-CNN%20Hyperparameter%20Tuning/sweeps/k47gnuar' target=\"_blank\">https://wandb.ai/mourya/5.1-CNN%20Hyperparameter%20Tuning/sweeps/k47gnuar</a>"
      ],
      "text/plain": [
       "<IPython.core.display.HTML object>"
      ]
     },
     "metadata": {},
     "output_type": "display_data"
    },
    {
     "data": {
      "text/html": [
       " View run at <a href='https://wandb.ai/mourya/5.1-CNN%20Hyperparameter%20Tuning/runs/mqrttt5y' target=\"_blank\">https://wandb.ai/mourya/5.1-CNN%20Hyperparameter%20Tuning/runs/mqrttt5y</a>"
      ],
      "text/plain": [
       "<IPython.core.display.HTML object>"
      ]
     },
     "metadata": {},
     "output_type": "display_data"
    },
    {
     "name": "stdout",
     "output_type": "stream",
     "text": [
      "0.01\n",
      "Epoch 1/3 - Kernel Size: 5 - Dropout Rate: 0.3 - Learning Rate - 0.010 - Train Accuracy: 85.50%\n",
      "Epoch 1/3 - Testing Loss: 0.2038 - Testing Accuracy: 94.63%\n",
      "Epoch 2/3 - Kernel Size: 5 - Dropout Rate: 0.3 - Learning Rate - 0.010 - Train Accuracy: 94.09%\n",
      "Epoch 2/3 - Testing Loss: 0.2288 - Testing Accuracy: 94.00%\n",
      "Epoch 3/3 - Kernel Size: 5 - Dropout Rate: 0.3 - Learning Rate - 0.010 - Train Accuracy: 94.46%\n",
      "Epoch 3/3 - Testing Loss: 0.2641 - Testing Accuracy: 93.05%\n"
     ]
    },
    {
     "data": {
      "text/html": [
       "Waiting for W&B process to finish... <strong style=\"color:green\">(success).</strong>"
      ],
      "text/plain": [
       "<IPython.core.display.HTML object>"
      ]
     },
     "metadata": {},
     "output_type": "display_data"
    },
    {
     "data": {
      "text/html": [
       "<style>\n",
       "    table.wandb td:nth-child(1) { padding: 0 10px; text-align: left ; width: auto;} td:nth-child(2) {text-align: left ; width: 100%}\n",
       "    .wandb-row { display: flex; flex-direction: row; flex-wrap: wrap; justify-content: flex-start; width: 100% }\n",
       "    .wandb-col { display: flex; flex-direction: column; flex-basis: 100%; flex: 1; padding: 10px; }\n",
       "    </style>\n",
       "<div class=\"wandb-row\"><div class=\"wandb-col\"><h3>Run history:</h3><br/><table class=\"wandb\"><tr><td>test_accuracy</td><td>▁</td></tr><tr><td>train_accuracy</td><td>▁</td></tr></table><br/></div><div class=\"wandb-col\"><h3>Run summary:</h3><br/><table class=\"wandb\"><tr><td>test_accuracy</td><td>93.045</td></tr><tr><td>train_accuracy</td><td>94.46484</td></tr></table><br/></div></div>"
      ],
      "text/plain": [
       "<IPython.core.display.HTML object>"
      ]
     },
     "metadata": {},
     "output_type": "display_data"
    },
    {
     "data": {
      "text/html": [
       " View run <strong style=\"color:#cdcd00\">spring-sweep-8</strong> at: <a href='https://wandb.ai/mourya/5.1-CNN%20Hyperparameter%20Tuning/runs/mqrttt5y' target=\"_blank\">https://wandb.ai/mourya/5.1-CNN%20Hyperparameter%20Tuning/runs/mqrttt5y</a><br/>Synced 5 W&B file(s), 0 media file(s), 0 artifact file(s) and 0 other file(s)"
      ],
      "text/plain": [
       "<IPython.core.display.HTML object>"
      ]
     },
     "metadata": {},
     "output_type": "display_data"
    },
    {
     "data": {
      "text/html": [
       "Find logs at: <code>./wandb/run-20231022_161732-mqrttt5y/logs</code>"
      ],
      "text/plain": [
       "<IPython.core.display.HTML object>"
      ]
     },
     "metadata": {},
     "output_type": "display_data"
    },
    {
     "name": "stderr",
     "output_type": "stream",
     "text": [
      "\u001b[34m\u001b[1mwandb\u001b[0m: Sweep Agent: Waiting for job.\n",
      "\u001b[34m\u001b[1mwandb\u001b[0m: Sweep Agent: Exiting.\n"
     ]
    }
   ],
   "source": [
    "# learning_rates = [0.001,0.01]\n",
    "# dropout_rates = [0.5,0.3]\n",
    "# kernel_sizes = [3,5]\n",
    "sweep_config = {\n",
    "    \"name\": \"5.1-CNN Hyperparameter Tuning\",\n",
    "    \"method\": \"grid\",\n",
    "    \"parameters\": {\n",
    "        \"learning_rate\": {\"values\": [0.001, 0.01]},\n",
    "        \"dropout_rate\": {\"values\": [0.5, 0.3]},\n",
    "        \"kernel_size\": {\"values\": [3, 5]}\n",
    "    },\n",
    "    \"metric\": {\"goal\": \"maximize\", \"name\": \"test_accuracy\"},\n",
    "}\n",
    "sweep_id = wandb.sweep(sweep_config, project=\"5.1-CNN Hyperparameter Tuning\")\n",
    "\n",
    "def train():\n",
    "    wandb.init(project=\"5.1-CNN Hyperparameter Tuning\")\n",
    "    lrate = wandb.config.learning_rate\n",
    "    dropout_rate = wandb.config.dropout_rate\n",
    "    kernel_size = wandb.config.kernel_size\n",
    "    num_epochs = 3\n",
    "    num_classes = 10\n",
    "    model = SimpleCNN(input_channels=1, num_classes=num_classes, kernel_size=kernel_size, dropout_rate=dropout_rate)\n",
    "    model1 = SimpleCNN(input_channels=1, num_classes=num_classes, kernel_size=kernel_size, dropout_rate=dropout_rate)\n",
    "    criterion = nn.CrossEntropyLoss()\n",
    "    optimizer = torch.optim.Adam(model.parameters(), lr=lrate)\n",
    "    criterion1 = nn.CrossEntropyLoss()\n",
    "    optimizer1 = torch.optim.Adam(model1.parameters(), lr=lrate)\n",
    "    num_epochs = 3\n",
    "    print(lrate)\n",
    "    train_accuracy = 0.0\n",
    "    val_accuracy = 0.0\n",
    "    for epoch in range(num_epochs):\n",
    "        model.train()\n",
    "        total_train_loss = 0\n",
    "        correct_train = 0\n",
    "        total_train = 0\n",
    "        cnt = 0\n",
    "        for images, labels in train_loader:\n",
    "            labels1 = labels//10\n",
    "            labels2 = labels%10\n",
    "            # class_names = train_dataset.classes\n",
    "            optimizer1.zero_grad()\n",
    "            optimizer.zero_grad()\n",
    "            image = images.clone()\n",
    "            image1 = images.clone()\n",
    "            left_half = images[:, :, :, :images.shape[3] // 2]\n",
    "            # print(left_half.shape)\n",
    "            image[:, :, :, (image.shape[3] // 2):] = left_half\n",
    "            right_half = images[:, :, :, images.shape[3] // 2 :]\n",
    "            image1[:, :, :, :(image1.shape[3] // 2)] = right_half\n",
    "            # print(images.shape)\n",
    "            outputs = model(image)\n",
    "            outputs1 = model1(image1)\n",
    "            loss = criterion(outputs, labels1)\n",
    "            loss1 = criterion1(outputs1,labels2)\n",
    "            loss.backward()\n",
    "            loss1.backward()\n",
    "            optimizer.step()\n",
    "            optimizer1.step()\n",
    "            total_train_loss += loss.item()\n",
    "            _, predicted = torch.max(outputs.data, 1)\n",
    "            _, predicted1 = torch.max(outputs1.data, 1)\n",
    "            total_train += 2*labels.size(0)\n",
    "            for i in range(labels.size(0)):\n",
    "                # cnt += 1\n",
    "                # if(cnt == 10):\n",
    "                #     print(predicted[i])\n",
    "                #     print(predicted1[i])\n",
    "                #     print(labels[i])\n",
    "                #     cnt=0\n",
    "                #     break\n",
    "                if(predicted[i] == labels[i]//10):\n",
    "                    correct_train += 1\n",
    "                if(predicted1[i] == labels[i]%10):\n",
    "                    correct_train += 1\n",
    "            # cnt += 1\n",
    "            # if(cnt == 10):\n",
    "            #     break\n",
    "        train_accuracy = 100 * correct_train / total_train\n",
    "        average_train_loss = total_train_loss / len(train_loader)\n",
    "        print(f'Epoch {epoch+1}/{num_epochs} - Kernel Size: {kernel_size} - Dropout Rate: {dropout_rate} - Learning Rate - {lrate:.3f} - Train Accuracy: {train_accuracy:.2f}%')\n",
    "        model.eval()\n",
    "        model1.eval()\n",
    "        total_val_loss = 0\n",
    "        correct_val = 0\n",
    "        total_val = 0\n",
    "        cnt = 0\n",
    "        with torch.no_grad():\n",
    "            for images, labels in test_loader:\n",
    "                labels1 = labels // 10\n",
    "                labels2 = labels % 10\n",
    "                image = images.clone()\n",
    "                image1 = images.clone()\n",
    "                left_half = images[:, :, :, :images.shape[3] // 2]\n",
    "                image[:, :, :, (image.shape[3] // 2):] = left_half\n",
    "                right_half = images[:, :, :, images.shape[3] // 2 :]\n",
    "                image1[:, :, :, :(image1.shape[3] // 2)] = right_half\n",
    "                outputs = model(image)\n",
    "                outputs1 = model1(image1)\n",
    "                loss = criterion(outputs, labels1)\n",
    "                loss1 = criterion1(outputs1,labels2)\n",
    "                total_val_loss += loss.item()\n",
    "                _, predicted = torch.max(outputs.data, 1)\n",
    "                _, predicted1 = torch.max(outputs1.data, 1)\n",
    "                total_val += 2*labels.size(0)\n",
    "                for i in range(labels.size(0)):\n",
    "                    if(predicted[i] == labels[i]//10):\n",
    "                        correct_val += 1\n",
    "                    if(predicted1[i] == labels[i]%10):\n",
    "                        correct_val += 1\n",
    "        val_accuracy = 100 * correct_val / total_val\n",
    "        average_val_loss = total_val_loss / len(test_loader)\n",
    "        print(f'Epoch {epoch + 1}/{num_epochs} - Testing Loss: {average_val_loss:.4f} - Testing Accuracy: {val_accuracy:.2f}%')\n",
    "    wandb.log({\n",
    "        \"train_accuracy\": train_accuracy,\n",
    "        \"test_accuracy\": val_accuracy,\n",
    "    })\n",
    "\n",
    "wandb.agent(sweep_id, function=train)\n",
    "\n",
    "     \n",
    "  \n"
   ]
  },
  {
   "cell_type": "markdown",
   "id": "c5f82412",
   "metadata": {},
   "source": [
    "# 5.1.3 (Testing on Regular MNIST)"
   ]
  },
  {
   "cell_type": "code",
   "execution_count": 9,
   "id": "d0223588",
   "metadata": {},
   "outputs": [
    {
     "name": "stdout",
     "output_type": "stream",
     "text": [
      "Epoch 1/5 - Train Loss: 0.7236 - Train Accuracy: 74.60%\n",
      "Epoch 1/5 - Testing Loss: 7.3984 - Testing Accuracy: 6.93%\n",
      "Epoch 2/5 - Train Loss: 0.2365 - Train Accuracy: 94.18%\n",
      "Epoch 2/5 - Testing Loss: 8.6644 - Testing Accuracy: 6.26%\n",
      "Epoch 3/5 - Train Loss: 0.1629 - Train Accuracy: 96.03%\n",
      "Epoch 3/5 - Testing Loss: 7.6402 - Testing Accuracy: 11.82%\n",
      "Epoch 4/5 - Train Loss: 0.1320 - Train Accuracy: 96.85%\n",
      "Epoch 4/5 - Testing Loss: 7.0875 - Testing Accuracy: 12.06%\n",
      "Epoch 5/5 - Train Loss: 0.1095 - Train Accuracy: 97.42%\n",
      "Epoch 5/5 - Testing Loss: 8.5333 - Testing Accuracy: 11.97%\n"
     ]
    }
   ],
   "source": [
    "transform = transforms.Compose([transforms.ToTensor(), transforms.Normalize((0.5,), (0.5,))])\n",
    "trainset = torchvision.datasets.MNIST(root='./data', train=True, download=True, transform=transform)\n",
    "total_size = len(trainset)\n",
    "train_size = int(0.8 * total_size)\n",
    "validation_size = int(0.1 * total_size)\n",
    "test_size = total_size - train_size - validation_size\n",
    "\n",
    "# Split the dataset\n",
    "gen = torch.Generator().manual_seed(42)\n",
    "train_set, validation_set, test_set = random_split(trainset, [train_size, validation_size, test_size],generator=gen)\n",
    "\n",
    "# Create data loaders for each set\n",
    "trainloader = torch.utils.data.DataLoader(train_set, batch_size=64, shuffle=True,generator=gen)\n",
    "validationloader = torch.utils.data.DataLoader(validation_set, batch_size=64, shuffle=False)\n",
    "testloader = torch.utils.data.DataLoader(test_set, batch_size=64, shuffle=False)\n",
    "model = SimpleCNN(input_channels=1, num_classes=num_classes)\n",
    "model1 = SimpleCNN(input_channels=1, num_classes=num_classes)\n",
    "\n",
    "criterion = nn.CrossEntropyLoss()\n",
    "optimizer = torch.optim.Adam(model.parameters(), lr=0.001)\n",
    "criterion1 = nn.CrossEntropyLoss()\n",
    "optimizer1 = torch.optim.Adam(model1.parameters(), lr=0.001)\n",
    "num_epochs = 5\n",
    "for epoch in range(num_epochs):\n",
    "    model.train()\n",
    "    total_train_loss = 0\n",
    "    correct_train = 0\n",
    "    total_train = 0\n",
    "    cnt = 0\n",
    "    for images, labels in train_loader:\n",
    "        labels1 = labels//10\n",
    "        labels2 = labels%10\n",
    "        # class_names = train_dataset.classes\n",
    "        optimizer1.zero_grad()\n",
    "        optimizer.zero_grad()\n",
    "        image = images.clone()\n",
    "        image1 = images.clone()\n",
    "        left_half = images[:, :, :, :images.shape[3] // 2]\n",
    "        # print(left_half.shape)\n",
    "        image[:, :, :, (image.shape[3] // 2):] = left_half\n",
    "        right_half = images[:, :, :, images.shape[3] // 2 :]\n",
    "        image1[:, :, :, :(image1.shape[3] // 2)] = right_half\n",
    "        # print(images.shape)\n",
    "        outputs = model(image)\n",
    "        outputs1 = model1(image1)\n",
    "        loss = criterion(outputs, labels1)\n",
    "        loss1 = criterion1(outputs1,labels2)\n",
    "        loss.backward()\n",
    "        loss1.backward()\n",
    "        optimizer.step()\n",
    "        optimizer1.step()\n",
    "        total_train_loss += loss.item()\n",
    "        _, predicted = torch.max(outputs.data, 1)\n",
    "        _, predicted1 = torch.max(outputs1.data, 1)\n",
    "        total_train += 2*labels.size(0)\n",
    "        for i in range(labels.size(0)):\n",
    "            # cnt += 1\n",
    "            # if(cnt == 10):\n",
    "            #     print(predicted[i])\n",
    "            #     print(predicted1[i])\n",
    "            #     print(labels[i])\n",
    "            #     cnt=0\n",
    "            #     break\n",
    "            if(predicted[i] == labels[i]//10):\n",
    "                correct_train += 1\n",
    "            if(predicted1[i] == labels[i]%10):\n",
    "                correct_train += 1\n",
    "        # cnt += 1\n",
    "        # if(cnt == 10):\n",
    "        #     break\n",
    "    train_accuracy = 100 * correct_train / total_train\n",
    "    average_train_loss = total_train_loss / len(train_loader)\n",
    "    print(f'Epoch {epoch+1}/{num_epochs} - Train Loss: {average_train_loss:.4f} - Train Accuracy: {train_accuracy:.2f}%')\n",
    "    model.eval()\n",
    "    model1.eval()\n",
    "    total_val_loss = 0\n",
    "    correct_val = 0\n",
    "    total_val = 0\n",
    "    cnt = 0\n",
    "    with torch.no_grad():\n",
    "        for images, labels in testloader:\n",
    "            labels1 = labels // 10\n",
    "            labels2 = labels % 10\n",
    "            image = images.clone()\n",
    "            image1 = images.clone()\n",
    "            left_half = images[:, :, :, :images.shape[3] // 2]\n",
    "            image[:, :, :, (image.shape[3] // 2):] = left_half\n",
    "            right_half = images[:, :, :, images.shape[3] // 2 :]\n",
    "            image1[:, :, :, :(image1.shape[3] // 2)] = right_half\n",
    "            outputs = model(image)\n",
    "            outputs1 = model1(image1)\n",
    "            loss = criterion(outputs, labels1)\n",
    "            loss1 = criterion1(outputs1,labels2)\n",
    "            total_val_loss += loss.item()\n",
    "            _, predicted = torch.max(outputs.data, 1)\n",
    "            _, predicted1 = torch.max(outputs1.data, 1)\n",
    "            total_val += 2*labels.size(0)\n",
    "            for i in range(labels.size(0)):\n",
    "                if(predicted[i] == labels[i]//10):\n",
    "                    correct_val += 1\n",
    "                if(predicted1[i] == labels[i]%10):\n",
    "                    correct_val += 1\n",
    "    val_accuracy = 100 * correct_val / total_val\n",
    "    average_val_loss = total_val_loss / len(testloader)\n",
    "    print(f'Epoch {epoch + 1}/{num_epochs} - Testing Loss: {average_val_loss:.4f} - Testing Accuracy: {val_accuracy:.2f}%')\n"
   ]
  }
 ],
 "metadata": {
  "kernelspec": {
   "display_name": "Python 3 (ipykernel)",
   "language": "python",
   "name": "python3"
  },
  "language_info": {
   "codemirror_mode": {
    "name": "ipython",
    "version": 3
   },
   "file_extension": ".py",
   "mimetype": "text/x-python",
   "name": "python",
   "nbconvert_exporter": "python",
   "pygments_lexer": "ipython3",
   "version": "3.10.6"
  }
 },
 "nbformat": 4,
 "nbformat_minor": 5
}
