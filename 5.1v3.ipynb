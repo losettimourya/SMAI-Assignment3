{
 "cells": [
  {
   "cell_type": "code",
   "execution_count": 17,
   "id": "94047bdb",
   "metadata": {},
   "outputs": [],
   "source": [
    "import torch\n",
    "import torch.nn as nn\n",
    "from torchvision import transforms\n",
    "from torchvision.datasets import ImageFolder\n",
    "from torch.utils.data import DataLoader"
   ]
  },
  {
   "cell_type": "code",
   "execution_count": 23,
   "id": "79cdeb2d",
   "metadata": {},
   "outputs": [
    {
     "name": "stdout",
     "output_type": "stream",
     "text": [
      "['03', '07', '10', '22', '27', '34', '39', '40', '48', '52', '58', '61', '64', '71', '93', '99']\n"
     ]
    }
   ],
   "source": [
    "transform = transforms.Compose([\n",
    "    transforms.Grayscale(num_output_channels=1),  # Convert to grayscale if not already\n",
    "    transforms.Resize((28, 28)),\n",
    "    transforms.ToTensor(),\n",
    "])\n",
    "\n",
    "train_data_path = 'double_mnist/train'\n",
    "val_data_path = 'double_mnist/val'\n",
    "test_data_path = 'double_mnist/test'\n",
    "\n",
    "# Create ImageFolder datasets for training, validation, and test sets\n",
    "train_dataset = ImageFolder(train_data_path, transform=transform)\n",
    "val_dataset = ImageFolder(val_data_path, transform=transform)\n",
    "test_dataset = ImageFolder(test_data_path, transform=transform)\n",
    "\n",
    "class_to_label = {str(i).zfill(2): i for i in range(100)}\n",
    "# Define batch sizes\n",
    "batch_size = 64\n",
    "\n",
    "# Create DataLoader instances for training, validation, and test sets\n",
    "train_loader = DataLoader(train_dataset, batch_size=batch_size, shuffle=True)\n",
    "val_loader = DataLoader(val_dataset, batch_size=batch_size, shuffle=False)\n",
    "test_loader = DataLoader(test_dataset, batch_size=batch_size, shuffle=False)\n",
    "\n",
    "# Number of classes\n",
    "num_classes = 20\n",
    "\n",
    "class_names = train_dataset.classes\n",
    "class_names = val_dataset.classes\n",
    "\n",
    "print(class_names)\n",
    "\n",
    "\n",
    "\n",
    "\n"
   ]
  },
  {
   "cell_type": "code",
   "execution_count": 28,
   "id": "1d2e7e26",
   "metadata": {},
   "outputs": [
    {
     "ename": "RuntimeError",
     "evalue": "shape '[-1, 43904]' is invalid for input of size 86016",
     "output_type": "error",
     "traceback": [
      "\u001b[0;31m---------------------------------------------------------------------------\u001b[0m",
      "\u001b[0;31mRuntimeError\u001b[0m                              Traceback (most recent call last)",
      "\u001b[1;32m/home/ubuntulsa/Sem5/SMAI/Assignment 3/5.1v3.ipynb Cell 3\u001b[0m line \u001b[0;36m5\n\u001b[1;32m     <a href='vscode-notebook-cell:/home/ubuntulsa/Sem5/SMAI/Assignment%203/5.1v3.ipynb#X15sZmlsZQ%3D%3D?line=51'>52</a>\u001b[0m class_names \u001b[39m=\u001b[39m train_dataset\u001b[39m.\u001b[39mclasses\n\u001b[1;32m     <a href='vscode-notebook-cell:/home/ubuntulsa/Sem5/SMAI/Assignment%203/5.1v3.ipynb#X15sZmlsZQ%3D%3D?line=52'>53</a>\u001b[0m optimizer\u001b[39m.\u001b[39mzero_grad()\n\u001b[0;32m---> <a href='vscode-notebook-cell:/home/ubuntulsa/Sem5/SMAI/Assignment%203/5.1v3.ipynb#X15sZmlsZQ%3D%3D?line=53'>54</a>\u001b[0m outputs \u001b[39m=\u001b[39m model(images)\n\u001b[1;32m     <a href='vscode-notebook-cell:/home/ubuntulsa/Sem5/SMAI/Assignment%203/5.1v3.ipynb#X15sZmlsZQ%3D%3D?line=54'>55</a>\u001b[0m loss \u001b[39m=\u001b[39m criterion(outputs, labels)\n\u001b[1;32m     <a href='vscode-notebook-cell:/home/ubuntulsa/Sem5/SMAI/Assignment%203/5.1v3.ipynb#X15sZmlsZQ%3D%3D?line=55'>56</a>\u001b[0m loss\u001b[39m.\u001b[39mbackward()\n",
      "File \u001b[0;32m~/.local/lib/python3.10/site-packages/torch/nn/modules/module.py:1518\u001b[0m, in \u001b[0;36mModule._wrapped_call_impl\u001b[0;34m(self, *args, **kwargs)\u001b[0m\n\u001b[1;32m   1516\u001b[0m     \u001b[39mreturn\u001b[39;00m \u001b[39mself\u001b[39m\u001b[39m.\u001b[39m_compiled_call_impl(\u001b[39m*\u001b[39margs, \u001b[39m*\u001b[39m\u001b[39m*\u001b[39mkwargs)  \u001b[39m# type: ignore[misc]\u001b[39;00m\n\u001b[1;32m   1517\u001b[0m \u001b[39melse\u001b[39;00m:\n\u001b[0;32m-> 1518\u001b[0m     \u001b[39mreturn\u001b[39;00m \u001b[39mself\u001b[39;49m\u001b[39m.\u001b[39;49m_call_impl(\u001b[39m*\u001b[39;49margs, \u001b[39m*\u001b[39;49m\u001b[39m*\u001b[39;49mkwargs)\n",
      "File \u001b[0;32m~/.local/lib/python3.10/site-packages/torch/nn/modules/module.py:1527\u001b[0m, in \u001b[0;36mModule._call_impl\u001b[0;34m(self, *args, **kwargs)\u001b[0m\n\u001b[1;32m   1522\u001b[0m \u001b[39m# If we don't have any hooks, we want to skip the rest of the logic in\u001b[39;00m\n\u001b[1;32m   1523\u001b[0m \u001b[39m# this function, and just call forward.\u001b[39;00m\n\u001b[1;32m   1524\u001b[0m \u001b[39mif\u001b[39;00m \u001b[39mnot\u001b[39;00m (\u001b[39mself\u001b[39m\u001b[39m.\u001b[39m_backward_hooks \u001b[39mor\u001b[39;00m \u001b[39mself\u001b[39m\u001b[39m.\u001b[39m_backward_pre_hooks \u001b[39mor\u001b[39;00m \u001b[39mself\u001b[39m\u001b[39m.\u001b[39m_forward_hooks \u001b[39mor\u001b[39;00m \u001b[39mself\u001b[39m\u001b[39m.\u001b[39m_forward_pre_hooks\n\u001b[1;32m   1525\u001b[0m         \u001b[39mor\u001b[39;00m _global_backward_pre_hooks \u001b[39mor\u001b[39;00m _global_backward_hooks\n\u001b[1;32m   1526\u001b[0m         \u001b[39mor\u001b[39;00m _global_forward_hooks \u001b[39mor\u001b[39;00m _global_forward_pre_hooks):\n\u001b[0;32m-> 1527\u001b[0m     \u001b[39mreturn\u001b[39;00m forward_call(\u001b[39m*\u001b[39;49margs, \u001b[39m*\u001b[39;49m\u001b[39m*\u001b[39;49mkwargs)\n\u001b[1;32m   1529\u001b[0m \u001b[39mtry\u001b[39;00m:\n\u001b[1;32m   1530\u001b[0m     result \u001b[39m=\u001b[39m \u001b[39mNone\u001b[39;00m\n",
      "\u001b[1;32m/home/ubuntulsa/Sem5/SMAI/Assignment 3/5.1v3.ipynb Cell 3\u001b[0m line \u001b[0;36m2\n\u001b[1;32m     <a href='vscode-notebook-cell:/home/ubuntulsa/Sem5/SMAI/Assignment%203/5.1v3.ipynb#X15sZmlsZQ%3D%3D?line=21'>22</a>\u001b[0m left_output \u001b[39m=\u001b[39m \u001b[39mself\u001b[39m\u001b[39m.\u001b[39mpool1(\u001b[39mself\u001b[39m\u001b[39m.\u001b[39mrelu1(\u001b[39mself\u001b[39m\u001b[39m.\u001b[39mconv1(left_half)))\n\u001b[1;32m     <a href='vscode-notebook-cell:/home/ubuntulsa/Sem5/SMAI/Assignment%203/5.1v3.ipynb#X15sZmlsZQ%3D%3D?line=22'>23</a>\u001b[0m left_output \u001b[39m=\u001b[39m \u001b[39mself\u001b[39m\u001b[39m.\u001b[39mpool2(\u001b[39mself\u001b[39m\u001b[39m.\u001b[39mrelu2(\u001b[39mself\u001b[39m\u001b[39m.\u001b[39mconv2(left_output)))\n\u001b[0;32m---> <a href='vscode-notebook-cell:/home/ubuntulsa/Sem5/SMAI/Assignment%203/5.1v3.ipynb#X15sZmlsZQ%3D%3D?line=23'>24</a>\u001b[0m left_output \u001b[39m=\u001b[39m left_output\u001b[39m.\u001b[39;49mview(\u001b[39m-\u001b[39;49m\u001b[39m1\u001b[39;49m, \u001b[39m64\u001b[39;49m \u001b[39m*\u001b[39;49m \u001b[39m14\u001b[39;49m \u001b[39m*\u001b[39;49m \u001b[39mself\u001b[39;49m\u001b[39m.\u001b[39;49mdim \u001b[39m*\u001b[39;49m \u001b[39mself\u001b[39;49m\u001b[39m.\u001b[39;49mdim)\n\u001b[1;32m     <a href='vscode-notebook-cell:/home/ubuntulsa/Sem5/SMAI/Assignment%203/5.1v3.ipynb#X15sZmlsZQ%3D%3D?line=25'>26</a>\u001b[0m right_output \u001b[39m=\u001b[39m \u001b[39mself\u001b[39m\u001b[39m.\u001b[39mpool1(\u001b[39mself\u001b[39m\u001b[39m.\u001b[39mrelu1(\u001b[39mself\u001b[39m\u001b[39m.\u001b[39mconv1(right_half)))\n\u001b[1;32m     <a href='vscode-notebook-cell:/home/ubuntulsa/Sem5/SMAI/Assignment%203/5.1v3.ipynb#X15sZmlsZQ%3D%3D?line=26'>27</a>\u001b[0m right_output \u001b[39m=\u001b[39m \u001b[39mself\u001b[39m\u001b[39m.\u001b[39mpool2(\u001b[39mself\u001b[39m\u001b[39m.\u001b[39mrelu2(\u001b[39mself\u001b[39m\u001b[39m.\u001b[39mconv2(right_output)))\n",
      "\u001b[0;31mRuntimeError\u001b[0m: shape '[-1, 43904]' is invalid for input of size 86016"
     ]
    }
   ],
   "source": [
    "class SimpleCNN(nn.Module):\n",
    "    def __init__(self, input_channels, num_classes, kernel_size=3, pool_size=2, stride=2, dropout_rate=0.5):\n",
    "        super(SimpleCNN, self).__init__()\n",
    "        self.conv1 = nn.Conv2d(input_channels, 32, kernel_size=kernel_size, padding=int((kernel_size - 1) / 2))\n",
    "        self.relu1 = nn.ReLU()\n",
    "        self.pool1 = nn.MaxPool2d(kernel_size=pool_size, stride=stride)\n",
    "        self.conv2 = nn.Conv2d(32, 64, kernel_size=kernel_size, padding=int((kernel_size - 1) / 2))\n",
    "        self.relu2 = nn.ReLU()\n",
    "        self.pool2 = nn.MaxPool2d(kernel_size=pool_size, stride=stride)\n",
    "        var1 = int((28 - pool_size) / stride) + 1\n",
    "        self.dim = int((var1 - pool_size) / stride) + 1\n",
    "        self.fc1 = nn.Linear(64 * self.dim * self.dim, 128)\n",
    "        self.relu3 = nn.ReLU()\n",
    "        self.dropout = nn.Dropout(dropout_rate)\n",
    "        self.fc2 = nn.Linear(128, num_classes)\n",
    "\n",
    "    def forward(self, x):\n",
    "        # Split the input into two halves\n",
    "        left_half = x[:, :, :, :14]\n",
    "        right_half = x[:, :, :, 14:]\n",
    "        \n",
    "        left_output = self.pool1(self.relu1(self.conv1(left_half)))\n",
    "        left_output = self.pool2(self.relu2(self.conv2(left_output)))\n",
    "        left_output = left_output.view(-1, 64 * 14 * self.dim * self.dim)\n",
    "\n",
    "        right_output = self.pool1(self.relu1(self.conv1(right_half)))\n",
    "        right_output = self.pool2(self.relu2(self.conv2(right_output)))\n",
    "        right_output = right_output.view(-1, 64 * 14 * self.dim * self.dim)\n",
    "\n",
    "        # Concatenate the two halves\n",
    "        concatenated = torch.cat((left_output, right_output), dim=1)\n",
    "\n",
    "        concatenated = self.relu3(self.fc1(concatenated))\n",
    "        concatenated = self.dropout(concatenated)\n",
    "        concatenated = self.fc2(concatenated)\n",
    "        return concatenated\n",
    "\n",
    "model = SimpleCNN(input_channels=1, num_classes=20)  # 10 classes for each half\n",
    "\n",
    "# Define a loss function and optimizer\n",
    "criterion = nn.CrossEntropyLoss()\n",
    "optimizer = torch.optim.Adam(model.parameters(), lr=0.001)\n",
    "\n",
    "num_epochs = 10\n",
    "for epoch in range(num_epochs):\n",
    "    model.train()\n",
    "    total_train_loss = 0\n",
    "    correct_train = 0\n",
    "    total_train = 0\n",
    "    \n",
    "    for images, labels in train_loader:\n",
    "        class_names = train_dataset.classes\n",
    "        optimizer.zero_grad()\n",
    "        outputs = model(images)\n",
    "        loss = criterion(outputs, labels)\n",
    "        loss.backward()\n",
    "        optimizer.step()\n",
    "        \n",
    "        total_train_loss += loss.item()\n",
    "        _, predicted = torch.max(outputs.data, 1)\n",
    "\n",
    "        total_train += labels.size(0)\n",
    "\n",
    "        # Split predicted and true labels for left and right halves\n",
    "        predicted_left = predicted // 10\n",
    "        predicted_right = predicted % 10\n",
    "        true_left = labels // 10\n",
    "        true_right = labels % 10\n",
    "\n",
    "        correct_train += (predicted_left == true_left).sum().item() + (predicted_right == true_right).sum().item()\n",
    "\n",
    "    train_accuracy = 100 * correct_train / (2 * total_train)\n",
    "    average_train_loss = total_train_loss / len(train_loader)\n",
    "    print(f'Epoch {epoch+1}/{num_epochs} - Train Loss: {average_train_loss:.4f} - Train Accuracy: {train_accuracy:.2f}%')\n"
   ]
  }
 ],
 "metadata": {
  "kernelspec": {
   "display_name": "Python 3 (ipykernel)",
   "language": "python",
   "name": "python3"
  },
  "language_info": {
   "codemirror_mode": {
    "name": "ipython",
    "version": 3
   },
   "file_extension": ".py",
   "mimetype": "text/x-python",
   "name": "python",
   "nbconvert_exporter": "python",
   "pygments_lexer": "ipython3",
   "version": "3.10.6"
  }
 },
 "nbformat": 4,
 "nbformat_minor": 5
}
