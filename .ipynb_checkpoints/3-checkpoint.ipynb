{
 "cells": [
  {
   "cell_type": "code",
   "execution_count": 1,
   "id": "d0c33bf5-e744-4920-bd4a-843dafcdf564",
   "metadata": {},
   "outputs": [],
   "source": [
    "import numpy as np\n",
    "import pandas as pd\n",
    "from copy import copy\n",
    "from sklearn.model_selection import train_test_split\n",
    "from sklearn.preprocessing import StandardScaler, MinMaxScaler\n",
    "from sklearn.preprocessing import OneHotEncoder, MultiLabelBinarizer\n",
    "from sklearn.impute import SimpleImputer \n",
    "from sklearn.metrics import accuracy_score, f1_score, precision_score, recall_score, hamming_loss\n",
    "import matplotlib.pyplot as plt\n",
    "from sklearn.metrics import classification_report\n",
    "import wandb"
   ]
  },
  {
   "cell_type": "code",
   "execution_count": 2,
   "id": "69fe59a4-451b-4dec-8ea6-50b661901ad1",
   "metadata": {},
   "outputs": [
    {
     "name": "stdout",
     "output_type": "stream",
     "text": [
      "             CRIM          ZN       INDUS        CHAS         NOX          RM  \\\n",
      "count  506.000000  506.000000  506.000000  506.000000  506.000000  506.000000   \n",
      "mean     3.611874   11.211934   11.083992    0.069959    0.554695    6.284634   \n",
      "std      8.545770   22.921051    6.699165    0.250233    0.115878    0.702617   \n",
      "min      0.006320    0.000000    0.460000    0.000000    0.385000    3.561000   \n",
      "25%      0.083235    0.000000    5.190000    0.000000    0.449000    5.885500   \n",
      "50%      0.290250    0.000000    9.900000    0.000000    0.538000    6.208500   \n",
      "75%      3.611874   11.211934   18.100000    0.000000    0.624000    6.623500   \n",
      "max     88.976200  100.000000   27.740000    1.000000    0.871000    8.780000   \n",
      "\n",
      "              AGE         DIS         RAD         TAX     PTRATIO           B  \\\n",
      "count  506.000000  506.000000  506.000000  506.000000  506.000000  506.000000   \n",
      "mean    68.518519    3.795043    9.549407  408.237154   18.455534  356.674032   \n",
      "std     27.439466    2.105710    8.707259  168.537116    2.164946   91.294864   \n",
      "min      2.900000    1.129600    1.000000  187.000000   12.600000    0.320000   \n",
      "25%     45.925000    2.100175    4.000000  279.000000   17.400000  375.377500   \n",
      "50%     74.450000    3.207450    5.000000  330.000000   19.050000  391.440000   \n",
      "75%     93.575000    5.188425   24.000000  666.000000   20.200000  396.225000   \n",
      "max    100.000000   12.126500   24.000000  711.000000   22.000000  396.900000   \n",
      "\n",
      "            LSTAT        MEDV  \n",
      "count  506.000000  506.000000  \n",
      "mean    12.715432   22.532806  \n",
      "std      7.012739    9.197104  \n",
      "min      1.730000    5.000000  \n",
      "25%      7.230000   17.025000  \n",
      "50%     11.995000   21.200000  \n",
      "75%     16.570000   25.000000  \n",
      "max     37.970000   50.000000  \n"
     ]
    }
   ],
   "source": [
    "data = pd.read_csv(\"HousingData.csv\")\n",
    "imputer = SimpleImputer(strategy='mean')\n",
    "data = pd.DataFrame(imputer.fit_transform(data), columns=data.columns)\n",
    "data = data.fillna(data.mean())\n",
    "# print(data)\n",
    "description = data.describe()\n",
    "print(description)"
   ]
  },
  {
   "cell_type": "code",
   "execution_count": 3,
   "id": "43223602-6bce-4c17-99c4-3eed05655eea",
   "metadata": {},
   "outputs": [
    {
     "data": {
      "image/png": "[encoded data removed]",
      "text/plain": [
       "<Figure size 640x480 with 1 Axes>"
      ]
     },
     "metadata": {},
     "output_type": "display_data"
    }
   ],
   "source": [
    "plt.hist(data['MEDV'], bins=30, edgecolor='k')\n",
    "plt.xlabel('MEDV')\n",
    "plt.ylabel('Count')\n",
    "plt.title('MEDV Distribution')\n",
    "plt.show()"
   ]
  },
  {
   "cell_type": "code",
   "execution_count": 4,
   "id": "26f936d8-690d-465d-af04-d1cc5baef488",
   "metadata": {},
   "outputs": [],
   "source": [
    "X = data.drop(columns=['MEDV'])\n",
    "y = data['MEDV']\n",
    "X_train, X_temp, y_train, y_temp = train_test_split(X, y, test_size=0.4, random_state=42)\n",
    "X_val, X_test, y_val, y_test = train_test_split(X_temp, y_temp, test_size=0.5, random_state=42)"
   ]
  },
  {
   "cell_type": "code",
   "execution_count": 5,
   "id": "8c0dc420-b50c-4d30-93e6-7c0ca43a950c",
   "metadata": {},
   "outputs": [
    {
     "name": "stdout",
     "output_type": "stream",
     "text": [
      "[[5.18056442e-04 3.47368421e-01 3.65623822e-02 ... 6.17021277e-01\n",
      "  9.91833629e-01 1.43487859e-01]\n",
      " [2.97300779e-04 2.63157895e-01 1.37580098e-01 ... 6.80851064e-01\n",
      "  9.84123764e-01 1.59492274e-01]\n",
      " [1.74592552e-03 2.31578947e-01 1.75273276e-01 ... 6.91489362e-01\n",
      "  9.43723054e-01 2.14955850e-01]\n",
      " ...\n",
      " [6.68786251e-05 8.42105263e-01 3.01545420e-02 ... 4.68085106e-01\n",
      "  9.84884606e-01 1.17549669e-01]\n",
      " [1.25342233e-01 0.00000000e+00 6.36637769e-01 ... 8.08510638e-01\n",
      "  2.72001014e-01 5.94370861e-01]\n",
      " [2.46945108e-03 0.00000000e+00 2.77044855e-01 ... 8.82978723e-01\n",
      "  1.72964748e-01 2.45584989e-01]]\n",
      "[36.1 22.9 24.5 25.  50.  34.9 31.7 24.1 22.1 14.1 42.8 19.3 32.2 26.4\n",
      " 21.8 21.7  8.3 46.7 43.1 31.5 10.5 16.7 20.  33.3 17.8 50.  20.5 23.2\n",
      " 13.1 19.6 22.8 28.7 30.7 22.9 21.9 23.9 32.7 24.3 21.5 24.6  8.5 26.4\n",
      " 23.1 15.   8.8 19.3 23.9 24.7 19.8 23.8 13.3 29.  27.1 34.6 13.3 15.6\n",
      " 12.5 14.6 11.  24.8 17.3  8.1 21.4 15.6 23.3 32.  38.7 30.1 20.5 32.5\n",
      " 42.3 24.3 20.6 22.  18.2 15.   6.3 20.1 21.4 28.4 30.1 20.8 23.  14.3\n",
      " 11.7 37.3 17.1 10.4 23.  22.7 20.3 21.7 50.   8.4 18.8 37.2 16.1 16.5\n",
      " 22.2 20.6 13.5 48.3 23.8 22.7 17.4 30.3 36.  41.7 18.3 22.  18.6 44.8\n",
      " 11.9 18.7 16.2 22.   7.2 20.4 13.8 13.  18.4 23.1 21.2 23.1 23.5 50.\n",
      " 26.6 22.2 50.   8.3 23.3 21.7 18.9 18.4 17.4 13.4 12.1 26.6 21.7 28.4\n",
      " 20.5 22.  13.9 11.3 29.9 26.6 10.5 23.2 24.4 46.  21.9  7.5 36.2 44.\n",
      " 17.8 27.5 37.6 14.1 28.1 10.2 19.1 43.8 27.9 25.  16.  16.6 13.2 50.\n",
      " 22.2 32.9 15.2 14.8 13.8 24.3 33.8 22.3 50.   9.5 13.3 22.2 18.1 18.\n",
      " 25.  16.5 23.  20.1 33.  24.8 18.2 13.1 34.9 10.2 19.9 27.9 23.3 35.1\n",
      " 12.8 22.  18.5 25.1 22.5 22.4 28.6 19.5 24.8 24.5 21.4 33.1 22.9 20.7\n",
      " 24.1 50.  24.7 28.7  7.2 37.  20.3 30.1 19.5 23.4 11.5 21.6 14.9 15.2\n",
      " 19.4  8.4 28.  22.6 13.5 14.5 31.  10.9 21.9 22.  19.  21.4 25.  17.5\n",
      " 36.5 20.1 20.4 16.2 23.6  7.4 35.2 50.  19.3 21.2 15.6 33.4 19.1 21.\n",
      " 23.7 18.9 16.8 19.7 17.7 22.6 11.8 34.9 20.6 20.2 32.  22.3 23.3 14.4\n",
      " 31.2 24.  29.6 19.6 21.6 20.  27.  33.2 15.4 30.5  7.2 23.9 16.3 23.9\n",
      " 50.  22.8 15.4 19.2 19.6 22.6 33.2 50.  22.2 14.9 19.8 23.7 19.  20.3\n",
      " 11.9 13.6 29.8 21.7 19.5 21.1 24.5 13.4 18.6]\n"
     ]
    }
   ],
   "source": [
    "std_scaler = StandardScaler()\n",
    "minmax_scaler = MinMaxScaler()\n",
    "\n",
    "X_train_std = std_scaler.fit_transform(X_train)\n",
    "X_val_std = std_scaler.transform(X_val)\n",
    "X_test_std = std_scaler.transform(X_test)\n",
    "\n",
    "X_train_norm = minmax_scaler.fit_transform(X_train_std)\n",
    "X_val_norm = minmax_scaler.transform(X_val_std)\n",
    "X_test_norm = minmax_scaler.transform(X_test_std)\n",
    "X_train = X_train_norm\n",
    "X_val = X_val_norm\n",
    "X_test = X_test_norm\n",
    "y_train = np.array(y_train)\n",
    "y_val = np.array(y_val)\n",
    "y_test = np.array(y_test)\n",
    "print(X_train)\n",
    "print(y_train)"
   ]
  },
  {
   "cell_type": "code",
   "execution_count": 6,
   "id": "b97c9e05-7212-44b3-80fe-8375ebd38228",
   "metadata": {},
   "outputs": [],
   "source": [
    "class Neural_Network(object):\n",
    "    def __init__(self, learning_rate=0.01,epochs = 5000, inputLayerSize: int = 2, hiddenLayerSize = [3,3,3] , outputLayerSize: int = 1):\n",
    "        # Define Hyperparameters\n",
    "        self.inputLayerSize = inputLayerSize\n",
    "        self.outputLayerSize = outputLayerSize\n",
    "        self.hiddenLayerSize = hiddenLayerSize\n",
    "        self.activation = self.relu\n",
    "        self.activationPrime = self.reluPrime\n",
    "        self.learning_rate = learning_rate\n",
    "        # Weights (parameters)\n",
    "        self.num_layers = len(hiddenLayerSize)+1\n",
    "        self.weights = []\n",
    "        self.weights.append(np.random.randn(self.inputLayerSize, self.hiddenLayerSize[0]))\n",
    "        for i in range(1,self.num_layers-1):\n",
    "            self.weights.append(np.random.randn(self.hiddenLayerSize[i-1], self.hiddenLayerSize[i]))\n",
    "        self.weights.append(np.random.randn(self.hiddenLayerSize[-1], self.outputLayerSize))\n",
    "        self.optimizer = 'SGD'\n",
    "        self.max_iterations = epochs\n",
    "\n",
    "    def forward(self, X):\n",
    "        self.z = [None] * (len(self.weights))\n",
    "        self.a = [None] * (len(self.weights) - 1)\n",
    "\n",
    "        self.z[0] = np.dot(X, self.weights[0])\n",
    "        for i in range(0, len(self.a)):\n",
    "            self.a[i] = self.activation(self.z[i])\n",
    "            self.z[i + 1] = np.dot(self.a[i], self.weights[i + 1])\n",
    "        yHat = self.z[-1]  # Linear activation for regression\n",
    "        return yHat\n",
    "\n",
    "    def relu(self, z):\n",
    "        return np.maximum(0, z)  # ReLU activation\n",
    "\n",
    "    def tanh(self, z):\n",
    "        return np.tanh(z)  # Tanh activation\n",
    "\n",
    "    def sigmoid(self, z):\n",
    "        return 1 / (1 + np.exp(-z))\n",
    "\n",
    "    def sigmoidPrime(self, z):\n",
    "        return np.exp(-z) / ((1 + np.exp(-z))**2)\n",
    "\n",
    "    def softmax(self, z):\n",
    "        exp_z = np.exp(z - np.max(z))  # Subtracting max(z) for numerical stability\n",
    "        return exp_z / exp_z.sum(axis=1, keepdims=True)\n",
    "\n",
    "    def costFunction(self, X, y):\n",
    "        self.yHat = self.forward(X)\n",
    "        J = np.sum((y - self.yHat) ** 2) / (2 * len(X))  # Mean Squared Error\n",
    "        return J\n",
    "\n",
    "    def costFunctionPrime(self, X, y):\n",
    "        self.yHat = self.forward(X)\n",
    "        deltas = [None] * (len(self.weights))\n",
    "        deltas[-1] = -(y - self.yHat)\n",
    "        dJdWs = [None] * (len(self.weights))\n",
    "        for i in range(len(deltas) - 2, -1, -1):\n",
    "            dJdWs[i + 1] = np.dot(self.a[i].T, deltas[i + 1])\n",
    "            deltas[i] = np.dot(deltas[i + 1], self.weights[i + 1].T) * self.activationPrime(self.z[i])\n",
    "        dJdWs[0] = np.dot(X.T, deltas[0])\n",
    "        return dJdWs\n",
    "\n",
    "    def reluPrime(self, z):\n",
    "        return np.where(z > 0, 1, 0)  # Derivative of ReLU\n",
    "\n",
    "    def tanhPrime(self, z):\n",
    "        return 1 - np.tanh(z)**2  # Derivative of Tanh\n",
    "\n",
    "    def backward(self, X, y, learning_rate):\n",
    "        dJdWs = self.costFunctionPrime(X, y)\n",
    "        for i in range(len(self.weights)):\n",
    "            self.weights[i] -= learning_rate * dJdWs[i]\n",
    "        # self.W1 -= learning_rate * dJdW1\n",
    "        # self.W2 -= learning_rate * dJdW2\n",
    "    def train(self, X, y, batch_size = 32, learning_rate=0.1, max_iterations=10000,wand = 0):\n",
    "        if(self.optimizer == 'SGD'):\n",
    "            return self.train_sgd(X=X, y=y,wand=wand)\n",
    "        elif(self.optimizer == 'Batch'):\n",
    "            return self.train_batch(X=X, y=y,wand=wand)\n",
    "        elif(self.optimizer == 'MiniBatch'):\n",
    "            return self.train_mini_batch(X=X, y=y,wand=wand)\n",
    "    def train_sgd(self, X, y, learning_rate=0.1, max_iterations=10000, wand = 0):\n",
    "        if(wand == 1):\n",
    "            wandb.init(project=\"Reporting loss on Housingdata MLP\")\n",
    "        for i in range(self.max_iterations):\n",
    "            idx = np.random.randint(len(X))\n",
    "            self.backward(X[idx:idx+1], y[idx:idx+1], self.learning_rate)\n",
    "            if i % 1 == 0:\n",
    "                loss = self.costFunction(X, y)\n",
    "                # print(\"Iteration %d: loss = %f\" % (i, loss))\n",
    "                if(wand == 1):\n",
    "                    wandb.log({\"Loss\": loss, \"Epoch\": i})\n",
    "        loss = self.costFunction(X, y)\n",
    "        return loss\n",
    "        print(\"Training completed.\")\n",
    "    def train_batch(self, X, y, learning_rate=0.0001, max_iterations=10000, wand = 0):\n",
    "        if(wand == 1):\n",
    "            wandb.init(project=\"Reporting loss on Housingdata MLP\")\n",
    "        for i in range(self.max_iterations):\n",
    "            self.backward(X, y, self.learning_rate)\n",
    "            if i % 1 == 0:\n",
    "                loss = self.costFunction(X, y)\n",
    "                # print(\"Iteration %d: loss = %f\" % (i, loss))\n",
    "                if(wand == 1):\n",
    "                    wandb.log({\"Loss\": loss, \"Epoch\": i})\n",
    "        loss = self.costFunction(X, y)\n",
    "        return loss\n",
    "        print(\"Training completed.\")\n",
    "    def train_mini_batch(self, X, y, batch_size=32, learning_rate=0.01, max_iterations=5000, wand = 0):\n",
    "        if(wand == 1):\n",
    "            wandb.init(project=\"Reporting loss on Housingdata MLP\")\n",
    "        for i in range(self.max_iterations):\n",
    "            # Randomly shuffle the data and split into mini-batches\n",
    "            indices = np.arange(len(X))\n",
    "            np.random.shuffle(indices)\n",
    "            for j in range(0, len(X), batch_size):\n",
    "                batch_indices = indices[j:j+batch_size]\n",
    "                self.backward(X[batch_indices], y[batch_indices], self.learning_rate)\n",
    "            if i % 1 == 0:\n",
    "                loss = self.costFunction(X, y)\n",
    "                # print(\"Iteration %d: loss = %f\" % (i, loss))\n",
    "                if(wand == 1):\n",
    "                    wandb.log({\"Loss\": loss, \"Epoch\": i})\n",
    "        loss = self.costFunction(X, y)\n",
    "        return loss\n",
    "        print(\"Training completed.\")\n",
    "\n",
    "    def predict(self, X):\n",
    "        yHat = self.forward(X)\n",
    "        return yHat\n",
    "    def set_learning_rate(self, learning_rate):\n",
    "        self.learning_rate = learning_rate\n",
    "\n",
    "    def set_activation_function(self, activation_function):\n",
    "        if(activation_function == 'sigmoid'):\n",
    "            self.activation = self.sigmoid\n",
    "            self.activationPrime = self.sigmoidPrime\n",
    "        if(activation_function == 'relu'):\n",
    "            self.activation = self.relu\n",
    "            self.activationPrime = self.reluPrime\n",
    "        if(activation_function == 'tanh'):\n",
    "            self.activation = self.tanh\n",
    "            self.activationPrime = self.tanhPrime\n",
    "\n",
    "    def set_optimizer(self, optimizer):\n",
    "        self.optimizer = optimizer\n",
    "\n",
    "    def set_hidden_layers(self, hidden_layer_sizes):\n",
    "        self.hiddenLayerSize = hidden_layer_sizes\n",
    "        self.num_layers = len(self.hiddenLayerSize)+1\n",
    "        self.weights = []\n",
    "        self.weights.append(np.random.randn(self.inputLayerSize, self.hiddenLayerSize[0]))\n",
    "        for i in range(1,self.num_layers-1):\n",
    "            self.weights.append(np.random.randn(self.hiddenLayerSize[i-1], self.hiddenLayerSize[i]))\n",
    "        self.weights.append(np.random.randn(self.hiddenLayerSize[-1], self.outputLayerSize))\n",
    "        # self.W1 = np.random.randn(self.inputLayerSize, self.hiddenLayerSize)\n",
    "        # self.W2 = np.random.randn(self.hiddenLayerSize, self.outputLayerSize)\n",
    "        # self.weights, self.biases = self.initialize_weights()\n",
    "    def set_epochs(self, epcohs):\n",
    "        self.max_iterations = epochs\n",
    "        print(self.max_iterations)\n"
   ]
  },
  {
   "cell_type": "code",
   "execution_count": 7,
   "id": "20ad0814-5b2a-46f7-98a6-d50dfcf0ac1b",
   "metadata": {},
   "outputs": [
    {
     "name": "stdout",
     "output_type": "stream",
     "text": [
      "(303, 13)\n"
     ]
    },
    {
     "name": "stderr",
     "output_type": "stream",
     "text": [
      "\u001b[34m\u001b[1mwandb\u001b[0m: Currently logged in as: \u001b[33mlsamourya07\u001b[0m (\u001b[33mmourya\u001b[0m). Use \u001b[1m`wandb login --relogin`\u001b[0m to force relogin\n"
     ]
    },
    {
     "data": {
      "text/html": [
       "wandb version 0.15.12 is available!  To upgrade, please run:\n",
       " $ pip install wandb --upgrade"
      ],
      "text/plain": [
       "<IPython.core.display.HTML object>"
      ]
     },
     "metadata": {},
     "output_type": "display_data"
    },
    {
     "data": {
      "text/html": [
       "Tracking run with wandb version 0.15.11"
      ],
      "text/plain": [
       "<IPython.core.display.HTML object>"
      ]
     },
     "metadata": {},
     "output_type": "display_data"
    },
    {
     "data": {
      "text/html": [
       "Run data is saved locally in <code>/home/ubuntulsa/Sem5/SMAI/Assignment 3/wandb/run-20231012_223536-dwc23aik</code>"
      ],
      "text/plain": [
       "<IPython.core.display.HTML object>"
      ]
     },
     "metadata": {},
     "output_type": "display_data"
    },
    {
     "data": {
      "text/html": [
       "Syncing run <strong><a href='https://wandb.ai/mourya/Reporting%20loss%20on%20Housingdata%20MLP/runs/dwc23aik' target=\"_blank\">fresh-universe-2</a></strong> to <a href='https://wandb.ai/mourya/Reporting%20loss%20on%20Housingdata%20MLP' target=\"_blank\">Weights & Biases</a> (<a href='https://wandb.me/run' target=\"_blank\">docs</a>)<br/>"
      ],
      "text/plain": [
       "<IPython.core.display.HTML object>"
      ]
     },
     "metadata": {},
     "output_type": "display_data"
    },
    {
     "data": {
      "text/html": [
       " View project at <a href='https://wandb.ai/mourya/Reporting%20loss%20on%20Housingdata%20MLP' target=\"_blank\">https://wandb.ai/mourya/Reporting%20loss%20on%20Housingdata%20MLP</a>"
      ],
      "text/plain": [
       "<IPython.core.display.HTML object>"
      ]
     },
     "metadata": {},
     "output_type": "display_data"
    },
    {
     "data": {
      "text/html": [
       " View run at <a href='https://wandb.ai/mourya/Reporting%20loss%20on%20Housingdata%20MLP/runs/dwc23aik' target=\"_blank\">https://wandb.ai/mourya/Reporting%20loss%20on%20Housingdata%20MLP/runs/dwc23aik</a>"
      ],
      "text/plain": [
       "<IPython.core.display.HTML object>"
      ]
     },
     "metadata": {},
     "output_type": "display_data"
    },
    {
     "name": "stdout",
     "output_type": "stream",
     "text": [
      "15.0 14.215399948891598\n",
      "19.4 22.21759931722929\n",
      "17.1 17.364852049393868\n",
      "28.7 23.3949450755624\n",
      "17.0 18.0061191891593\n",
      "21.5 21.125560877808162\n",
      "31.5 32.356154474908074\n",
      "36.2 23.98325677501756\n",
      "14.5 16.47025646461404\n",
      "16.6 17.771560243509587\n",
      "23.6 24.60551477878415\n",
      "12.3 22.66417002353607\n",
      "23.1 20.581282047909013\n",
      "20.0 21.429501985137165\n",
      "20.4 20.72500473106628\n",
      "24.1 21.376939963947354\n",
      "22.6 23.10436963679989\n",
      "14.5 17.944621575237576\n",
      "21.7 18.272980473662784\n",
      "19.7 16.53905255680284\n",
      "21.1 21.481422860360144\n",
      "13.8 9.472886180487754\n",
      "19.2 20.169569328735378\n",
      "33.4 31.96572503796573\n",
      "13.8 16.392356194842712\n",
      "22.4 21.14822835213093\n",
      "21.2 20.00521162057897\n",
      "26.7 28.690351125552713\n",
      "17.2 9.68101609887166\n",
      "23.4 23.868306720571397\n",
      "20.1 17.764941595279332\n",
      "24.2 24.817707312195097\n",
      "27.5 26.25689789157931\n",
      "19.1 13.778736174698334\n",
      "17.4 18.433444524904868\n",
      "17.5 17.963622438157767\n",
      "22.8 23.503521768441484\n",
      "13.4 9.798078601638924\n",
      "26.5 22.78412757199366\n",
      "18.7 17.52838308889049\n",
      "17.8 13.222998814034614\n",
      "5.0 9.511775388699384\n",
      "26.2 24.242478292323746\n",
      "24.0 23.380519502631522\n",
      "20.9 19.38107351017294\n",
      "19.1 12.498627831176451\n",
      "14.0 13.716481915083937\n",
      "8.7 10.109977666198334\n",
      "10.4 9.614664445693721\n",
      "9.7 9.568771628545512\n",
      "15.3 17.504555883062412\n",
      "33.1 25.582942266152244\n",
      "17.1 17.843186072331857\n",
      "19.6 22.51551193300156\n",
      "21.2 21.129247923161582\n",
      "18.5 17.750288990187855\n",
      "23.2 19.791692067802796\n",
      "22.6 23.32307279724848\n",
      "10.2 9.494747141517303\n",
      "10.8 9.743763683023975\n",
      "36.4 33.78117960926642\n",
      "17.8 14.223692435818897\n",
      "19.8 18.76984585768205\n",
      "13.4 11.397448473643397\n",
      "20.2 18.587286038630115\n",
      "43.5 45.95324574604433\n",
      "24.6 24.117903680908697\n",
      "18.9 18.70322641461801\n",
      "13.8 12.708685814993391\n",
      "27.1 17.817932148035702\n",
      "23.9 23.233070918113153\n",
      "19.9 18.65455228685159\n",
      "25.0 24.93301160809142\n",
      "29.1 24.910604788315325\n",
      "28.5 32.48891427286774\n",
      "29.6 23.538846523132346\n",
      "31.1 23.304860422469158\n",
      "45.4 45.3779546435093\n",
      "19.5 19.447433434526793\n",
      "25.0 23.806488395010163\n",
      "23.8 22.604819590585077\n",
      "32.4 32.21260823106314\n",
      "15.2 17.468944658571136\n",
      "50.0 46.16565143287657\n",
      "15.7 19.874055217670737\n",
      "12.6 15.122807354389368\n",
      "19.9 18.42097656508138\n",
      "17.2 11.973450005207717\n",
      "39.8 38.10396513410033\n",
      "25.0 23.364591785266835\n",
      "20.8 22.71634400858055\n",
      "24.4 23.713754415851568\n",
      "27.5 27.515049645015335\n",
      "25.2 23.707683837317802\n",
      "50.0 45.32500645497723\n",
      "23.7 23.729027357029704\n",
      "18.2 18.189629017472885\n",
      "18.5 18.315405248320154\n",
      "19.6 18.034568675764415\n",
      "24.4 23.999985500618152\n",
      "12.0 9.632729388880655\n",
      "MAE:  2.254313841798247\n",
      "MSE:  10.49605679169479\n",
      "RMSE:  3.239761841817202\n",
      "R squared:  0.8404029054853165\n"
     ]
    }
   ],
   "source": [
    "np.random.seed(42)\n",
    "model = Neural_Network(learning_rate=0.0001,epochs=5000, inputLayerSize=13, hiddenLayerSize=[13,13,13,13,13,13,13,13,13], outputLayerSize=1)\n",
    "model.max_iterations = 10000\n",
    "y_train_array = np.array([[x] for x in y_train])\n",
    "# print(y_train_array)\n",
    "model.set_activation_function('sigmoid')\n",
    "model.set_optimizer('Batch')\n",
    "print(X_train.shape)\n",
    "model.train(X_train, y_train_array,wand=1)\n",
    "y_pred = model.predict(X_val)\n",
    "for i in range(len(y_val)):\n",
    "    print(y_val[i], y_pred[i][0])\n",
    "y_pred_new = np.array(y_pred).flatten()\n",
    "mse = ((y_val - y_pred_new) ** 2).mean()\n",
    "mae = (abs(y_val-y_pred_new)).mean()\n",
    "print(\"MAE: \", mae)\n",
    "print(\"MSE: \", mse)\n",
    "rmse = np.sqrt(mse)\n",
    "print(\"RMSE: \", rmse)\n",
    "mean_y_val = y_val.mean()\n",
    "ssr = ((y_val - y_pred_new) ** 2).sum()\n",
    "sst = ((y_val - mean_y_val) ** 2).sum()\n",
    "r2 = 1 - (ssr / sst)\n",
    "print(\"R squared: \", r2)\n",
    "# print(y_val)\n",
    "# print(y_pred)"
   ]
  },
  {
   "cell_type": "code",
   "execution_count": 8,
   "id": "aa79f0a3-b0e4-4c5c-afd1-bd64b1fec6a4",
   "metadata": {},
   "outputs": [
    {
     "name": "stderr",
     "output_type": "stream",
     "text": [
      "\u001b[34m\u001b[1mwandb\u001b[0m: \u001b[33mWARNING\u001b[0m Calling wandb.login() after wandb.init() has no effect.\n"
     ]
    },
    {
     "data": {
      "text/plain": [
       "True"
      ]
     },
     "execution_count": 8,
     "metadata": {},
     "output_type": "execute_result"
    }
   ],
   "source": [
    "wandb.login()"
   ]
  },
  {
   "cell_type": "code",
   "execution_count": 9,
   "id": "8123033a-7f0e-4170-a936-b866cd955aab",
   "metadata": {},
   "outputs": [
    {
     "name": "stderr",
     "output_type": "stream",
     "text": [
      "\u001b[34m\u001b[1mwandb\u001b[0m: \u001b[33mWARNING\u001b[0m Calling wandb.login() after wandb.init() has no effect.\n"
     ]
    },
    {
     "name": "stdout",
     "output_type": "stream",
     "text": [
      "Create sweep with ID: ftqlsc23\n",
      "Sweep URL: https://wandb.ai/mourya/MLP%20Regression%20for%20all%20combinations/sweeps/ftqlsc23\n"
     ]
    },
    {
     "name": "stderr",
     "output_type": "stream",
     "text": [
      "\u001b[34m\u001b[1mwandb\u001b[0m: Agent Starting Run: 0cnyt81p with config:\n",
      "\u001b[34m\u001b[1mwandb\u001b[0m: \tactivation: sigmoid\n",
      "\u001b[34m\u001b[1mwandb\u001b[0m: \toptimizer: SGD\n"
     ]
    },
    {
     "name": "stdout",
     "output_type": "stream",
     "text": [
      "<IPython.core.display.HTML object>\n",
      "<IPython.core.display.HTML object>\n",
      "<IPython.core.display.HTML object>\n",
      "<IPython.core.display.HTML object>\n"
     ]
    },
    {
     "name": "stderr",
     "output_type": "stream",
     "text": [
      "\u001b[34m\u001b[1mwandb\u001b[0m: \u001b[33mWARNING\u001b[0m Ignored wandb.init() arg project when running a sweep.\n"
     ]
    },
    {
     "data": {
      "text/html": [
       "wandb version 0.15.12 is available!  To upgrade, please run:\n",
       " $ pip install wandb --upgrade"
      ],
      "text/plain": [
       "<IPython.core.display.HTML object>"
      ]
     },
     "metadata": {},
     "output_type": "display_data"
    },
    {
     "data": {
      "text/html": [
       "Tracking run with wandb version 0.15.11"
      ],
      "text/plain": [
       "<IPython.core.display.HTML object>"
      ]
     },
     "metadata": {},
     "output_type": "display_data"
    },
    {
     "data": {
      "text/html": [
       "Run data is saved locally in <code>/home/ubuntulsa/Sem5/SMAI/Assignment 3/wandb/run-20231012_223558-0cnyt81p</code>"
      ],
      "text/plain": [
       "<IPython.core.display.HTML object>"
      ]
     },
     "metadata": {},
     "output_type": "display_data"
    },
    {
     "data": {
      "text/html": [
       "Syncing run <strong><a href='https://wandb.ai/mourya/MLP%20Regression%20for%20all%20combinations/runs/0cnyt81p' target=\"_blank\">dazzling-sweep-1</a></strong> to <a href='https://wandb.ai/mourya/MLP%20Regression%20for%20all%20combinations' target=\"_blank\">Weights & Biases</a> (<a href='https://wandb.me/run' target=\"_blank\">docs</a>)<br/>Sweep page: <a href='https://wandb.ai/mourya/MLP%20Regression%20for%20all%20combinations/sweeps/ftqlsc23' target=\"_blank\">https://wandb.ai/mourya/MLP%20Regression%20for%20all%20combinations/sweeps/ftqlsc23</a>"
      ],
      "text/plain": [
       "<IPython.core.display.HTML object>"
      ]
     },
     "metadata": {},
     "output_type": "display_data"
    },
    {
     "data": {
      "text/html": [
       " View project at <a href='https://wandb.ai/mourya/MLP%20Regression%20for%20all%20combinations' target=\"_blank\">https://wandb.ai/mourya/MLP%20Regression%20for%20all%20combinations</a>"
      ],
      "text/plain": [
       "<IPython.core.display.HTML object>"
      ]
     },
     "metadata": {},
     "output_type": "display_data"
    },
    {
     "data": {
      "text/html": [
       " View sweep at <a href='https://wandb.ai/mourya/MLP%20Regression%20for%20all%20combinations/sweeps/ftqlsc23' target=\"_blank\">https://wandb.ai/mourya/MLP%20Regression%20for%20all%20combinations/sweeps/ftqlsc23</a>"
      ],
      "text/plain": [
       "<IPython.core.display.HTML object>"
      ]
     },
     "metadata": {},
     "output_type": "display_data"
    },
    {
     "data": {
      "text/html": [
       " View run at <a href='https://wandb.ai/mourya/MLP%20Regression%20for%20all%20combinations/runs/0cnyt81p' target=\"_blank\">https://wandb.ai/mourya/MLP%20Regression%20for%20all%20combinations/runs/0cnyt81p</a>"
      ],
      "text/plain": [
       "<IPython.core.display.HTML object>"
      ]
     },
     "metadata": {},
     "output_type": "display_data"
    },
    {
     "name": "stdout",
     "output_type": "stream",
     "text": [
      "MAE:  2.4461577625460724\n",
      "MSE:  10.339501280224171\n",
      "RMSE:  3.2155094899913097\n",
      "R squared:  0.842783399918306\n"
     ]
    },
    {
     "data": {
      "text/html": [
       "Waiting for W&B process to finish... <strong style=\"color:green\">(success).</strong>"
      ],
      "text/plain": [
       "<IPython.core.display.HTML object>"
      ]
     },
     "metadata": {},
     "output_type": "display_data"
    },
    {
     "data": {
      "text/html": [
       "<style>\n",
       "    table.wandb td:nth-child(1) { padding: 0 10px; text-align: left ; width: auto;} td:nth-child(2) {text-align: left ; width: 100%}\n",
       "    .wandb-row { display: flex; flex-direction: row; flex-wrap: wrap; justify-content: flex-start; width: 100% }\n",
       "    .wandb-col { display: flex; flex-direction: column; flex-basis: 100%; flex: 1; padding: 10px; }\n",
       "    </style>\n",
       "<div class=\"wandb-row\"><div class=\"wandb-col\"><h3>Run history:</h3><br/><table class=\"wandb\"><tr><td>MSE</td><td>▁</td></tr><tr><td>R squared</td><td>▁</td></tr><tr><td>RMSE</td><td>▁</td></tr></table><br/></div><div class=\"wandb-col\"><h3>Run summary:</h3><br/><table class=\"wandb\"><tr><td>MSE</td><td>10.3395</td></tr><tr><td>R squared</td><td>0.84278</td></tr><tr><td>RMSE</td><td>3.21551</td></tr><tr><td>activation</td><td>sigmoid</td></tr><tr><td>optimizer</td><td>SGD</td></tr></table><br/></div></div>"
      ],
      "text/plain": [
       "<IPython.core.display.HTML object>"
      ]
     },
     "metadata": {},
     "output_type": "display_data"
    },
    {
     "data": {
      "text/html": [
       " View run <strong style=\"color:#cdcd00\">dazzling-sweep-1</strong> at: <a href='https://wandb.ai/mourya/MLP%20Regression%20for%20all%20combinations/runs/0cnyt81p' target=\"_blank\">https://wandb.ai/mourya/MLP%20Regression%20for%20all%20combinations/runs/0cnyt81p</a><br/>Synced 5 W&B file(s), 0 media file(s), 0 artifact file(s) and 0 other file(s)"
      ],
      "text/plain": [
       "<IPython.core.display.HTML object>"
      ]
     },
     "metadata": {},
     "output_type": "display_data"
    },
    {
     "data": {
      "text/html": [
       "Find logs at: <code>./wandb/run-20231012_223558-0cnyt81p/logs</code>"
      ],
      "text/plain": [
       "<IPython.core.display.HTML object>"
      ]
     },
     "metadata": {},
     "output_type": "display_data"
    },
    {
     "name": "stderr",
     "output_type": "stream",
     "text": [
      "\u001b[34m\u001b[1mwandb\u001b[0m: Agent Starting Run: qx44m0w6 with config:\n",
      "\u001b[34m\u001b[1mwandb\u001b[0m: \tactivation: sigmoid\n",
      "\u001b[34m\u001b[1mwandb\u001b[0m: \toptimizer: Batch\n",
      "\u001b[34m\u001b[1mwandb\u001b[0m: \u001b[33mWARNING\u001b[0m Ignored wandb.init() arg project when running a sweep.\n"
     ]
    },
    {
     "data": {
      "text/html": [
       "wandb version 0.15.12 is available!  To upgrade, please run:\n",
       " $ pip install wandb --upgrade"
      ],
      "text/plain": [
       "<IPython.core.display.HTML object>"
      ]
     },
     "metadata": {},
     "output_type": "display_data"
    },
    {
     "data": {
      "text/html": [
       "Tracking run with wandb version 0.15.11"
      ],
      "text/plain": [
       "<IPython.core.display.HTML object>"
      ]
     },
     "metadata": {},
     "output_type": "display_data"
    },
    {
     "data": {
      "text/html": [
       "Run data is saved locally in <code>/home/ubuntulsa/Sem5/SMAI/Assignment 3/wandb/run-20231012_223611-qx44m0w6</code>"
      ],
      "text/plain": [
       "<IPython.core.display.HTML object>"
      ]
     },
     "metadata": {},
     "output_type": "display_data"
    },
    {
     "data": {
      "text/html": [
       "Syncing run <strong><a href='https://wandb.ai/mourya/MLP%20Regression%20for%20all%20combinations/runs/qx44m0w6' target=\"_blank\">playful-sweep-2</a></strong> to <a href='https://wandb.ai/mourya/MLP%20Regression%20for%20all%20combinations' target=\"_blank\">Weights & Biases</a> (<a href='https://wandb.me/run' target=\"_blank\">docs</a>)<br/>Sweep page: <a href='https://wandb.ai/mourya/MLP%20Regression%20for%20all%20combinations/sweeps/ftqlsc23' target=\"_blank\">https://wandb.ai/mourya/MLP%20Regression%20for%20all%20combinations/sweeps/ftqlsc23</a>"
      ],
      "text/plain": [
       "<IPython.core.display.HTML object>"
      ]
     },
     "metadata": {},
     "output_type": "display_data"
    },
    {
     "data": {
      "text/html": [
       " View project at <a href='https://wandb.ai/mourya/MLP%20Regression%20for%20all%20combinations' target=\"_blank\">https://wandb.ai/mourya/MLP%20Regression%20for%20all%20combinations</a>"
      ],
      "text/plain": [
       "<IPython.core.display.HTML object>"
      ]
     },
     "metadata": {},
     "output_type": "display_data"
    },
    {
     "data": {
      "text/html": [
       " View sweep at <a href='https://wandb.ai/mourya/MLP%20Regression%20for%20all%20combinations/sweeps/ftqlsc23' target=\"_blank\">https://wandb.ai/mourya/MLP%20Regression%20for%20all%20combinations/sweeps/ftqlsc23</a>"
      ],
      "text/plain": [
       "<IPython.core.display.HTML object>"
      ]
     },
     "metadata": {},
     "output_type": "display_data"
    },
    {
     "data": {
      "text/html": [
       " View run at <a href='https://wandb.ai/mourya/MLP%20Regression%20for%20all%20combinations/runs/qx44m0w6' target=\"_blank\">https://wandb.ai/mourya/MLP%20Regression%20for%20all%20combinations/runs/qx44m0w6</a>"
      ],
      "text/plain": [
       "<IPython.core.display.HTML object>"
      ]
     },
     "metadata": {},
     "output_type": "display_data"
    },
    {
     "name": "stderr",
     "output_type": "stream",
     "text": [
      "/tmp/ipykernel_124433/794252121.py:41: RuntimeWarning: overflow encountered in square\n",
      "  return np.exp(-z) / ((1 + np.exp(-z))**2)\n",
      "/tmp/ipykernel_124433/794252121.py:38: RuntimeWarning: overflow encountered in exp\n",
      "  return 1 / (1 + np.exp(-z))\n",
      "/tmp/ipykernel_124433/794252121.py:41: RuntimeWarning: overflow encountered in exp\n",
      "  return np.exp(-z) / ((1 + np.exp(-z))**2)\n",
      "/tmp/ipykernel_124433/794252121.py:41: RuntimeWarning: invalid value encountered in divide\n",
      "  return np.exp(-z) / ((1 + np.exp(-z))**2)\n"
     ]
    },
    {
     "name": "stdout",
     "output_type": "stream",
     "text": [
      "MAE:  nan\n",
      "MSE:  nan\n",
      "RMSE:  nan\n",
      "R squared:  nan\n"
     ]
    },
    {
     "data": {
      "text/html": [
       "Waiting for W&B process to finish... <strong style=\"color:green\">(success).</strong>"
      ],
      "text/plain": [
       "<IPython.core.display.HTML object>"
      ]
     },
     "metadata": {},
     "output_type": "display_data"
    },
    {
     "data": {
      "text/html": [
       "<style>\n",
       "    table.wandb td:nth-child(1) { padding: 0 10px; text-align: left ; width: auto;} td:nth-child(2) {text-align: left ; width: 100%}\n",
       "    .wandb-row { display: flex; flex-direction: row; flex-wrap: wrap; justify-content: flex-start; width: 100% }\n",
       "    .wandb-col { display: flex; flex-direction: column; flex-basis: 100%; flex: 1; padding: 10px; }\n",
       "    </style>\n",
       "<div class=\"wandb-row\"><div class=\"wandb-col\"><h3>Run summary:</h3><br/><table class=\"wandb\"><tr><td>MSE</td><td>nan</td></tr><tr><td>R squared</td><td>nan</td></tr><tr><td>RMSE</td><td>nan</td></tr><tr><td>activation</td><td>sigmoid</td></tr><tr><td>optimizer</td><td>Batch</td></tr></table><br/></div></div>"
      ],
      "text/plain": [
       "<IPython.core.display.HTML object>"
      ]
     },
     "metadata": {},
     "output_type": "display_data"
    },
    {
     "data": {
      "text/html": [
       " View run <strong style=\"color:#cdcd00\">playful-sweep-2</strong> at: <a href='https://wandb.ai/mourya/MLP%20Regression%20for%20all%20combinations/runs/qx44m0w6' target=\"_blank\">https://wandb.ai/mourya/MLP%20Regression%20for%20all%20combinations/runs/qx44m0w6</a><br/>Synced 5 W&B file(s), 0 media file(s), 0 artifact file(s) and 0 other file(s)"
      ],
      "text/plain": [
       "<IPython.core.display.HTML object>"
      ]
     },
     "metadata": {},
     "output_type": "display_data"
    },
    {
     "data": {
      "text/html": [
       "Find logs at: <code>./wandb/run-20231012_223611-qx44m0w6/logs</code>"
      ],
      "text/plain": [
       "<IPython.core.display.HTML object>"
      ]
     },
     "metadata": {},
     "output_type": "display_data"
    },
    {
     "name": "stderr",
     "output_type": "stream",
     "text": [
      "\u001b[34m\u001b[1mwandb\u001b[0m: Agent Starting Run: 63etofwp with config:\n",
      "\u001b[34m\u001b[1mwandb\u001b[0m: \tactivation: sigmoid\n",
      "\u001b[34m\u001b[1mwandb\u001b[0m: \toptimizer: MiniBatch\n",
      "\u001b[34m\u001b[1mwandb\u001b[0m: \u001b[33mWARNING\u001b[0m Ignored wandb.init() arg project when running a sweep.\n"
     ]
    },
    {
     "data": {
      "text/html": [
       "wandb version 0.15.12 is available!  To upgrade, please run:\n",
       " $ pip install wandb --upgrade"
      ],
      "text/plain": [
       "<IPython.core.display.HTML object>"
      ]
     },
     "metadata": {},
     "output_type": "display_data"
    },
    {
     "data": {
      "text/html": [
       "Tracking run with wandb version 0.15.11"
      ],
      "text/plain": [
       "<IPython.core.display.HTML object>"
      ]
     },
     "metadata": {},
     "output_type": "display_data"
    },
    {
     "data": {
      "text/html": [
       "Run data is saved locally in <code>/home/ubuntulsa/Sem5/SMAI/Assignment 3/wandb/run-20231012_223623-63etofwp</code>"
      ],
      "text/plain": [
       "<IPython.core.display.HTML object>"
      ]
     },
     "metadata": {},
     "output_type": "display_data"
    },
    {
     "data": {
      "text/html": [
       "Syncing run <strong><a href='https://wandb.ai/mourya/MLP%20Regression%20for%20all%20combinations/runs/63etofwp' target=\"_blank\">resilient-sweep-3</a></strong> to <a href='https://wandb.ai/mourya/MLP%20Regression%20for%20all%20combinations' target=\"_blank\">Weights & Biases</a> (<a href='https://wandb.me/run' target=\"_blank\">docs</a>)<br/>Sweep page: <a href='https://wandb.ai/mourya/MLP%20Regression%20for%20all%20combinations/sweeps/ftqlsc23' target=\"_blank\">https://wandb.ai/mourya/MLP%20Regression%20for%20all%20combinations/sweeps/ftqlsc23</a>"
      ],
      "text/plain": [
       "<IPython.core.display.HTML object>"
      ]
     },
     "metadata": {},
     "output_type": "display_data"
    },
    {
     "data": {
      "text/html": [
       " View project at <a href='https://wandb.ai/mourya/MLP%20Regression%20for%20all%20combinations' target=\"_blank\">https://wandb.ai/mourya/MLP%20Regression%20for%20all%20combinations</a>"
      ],
      "text/plain": [
       "<IPython.core.display.HTML object>"
      ]
     },
     "metadata": {},
     "output_type": "display_data"
    },
    {
     "data": {
      "text/html": [
       " View sweep at <a href='https://wandb.ai/mourya/MLP%20Regression%20for%20all%20combinations/sweeps/ftqlsc23' target=\"_blank\">https://wandb.ai/mourya/MLP%20Regression%20for%20all%20combinations/sweeps/ftqlsc23</a>"
      ],
      "text/plain": [
       "<IPython.core.display.HTML object>"
      ]
     },
     "metadata": {},
     "output_type": "display_data"
    },
    {
     "data": {
      "text/html": [
       " View run at <a href='https://wandb.ai/mourya/MLP%20Regression%20for%20all%20combinations/runs/63etofwp' target=\"_blank\">https://wandb.ai/mourya/MLP%20Regression%20for%20all%20combinations/runs/63etofwp</a>"
      ],
      "text/plain": [
       "<IPython.core.display.HTML object>"
      ]
     },
     "metadata": {},
     "output_type": "display_data"
    },
    {
     "name": "stdout",
     "output_type": "stream",
     "text": [
      "MAE:  2.936400488644886\n",
      "MSE:  16.56619895961767\n",
      "RMSE:  4.0701595742203605\n",
      "R squared:  0.7481037618623401\n"
     ]
    },
    {
     "data": {
      "text/html": [
       "Waiting for W&B process to finish... <strong style=\"color:green\">(success).</strong>"
      ],
      "text/plain": [
       "<IPython.core.display.HTML object>"
      ]
     },
     "metadata": {},
     "output_type": "display_data"
    },
    {
     "data": {
      "text/html": [
       "<style>\n",
       "    table.wandb td:nth-child(1) { padding: 0 10px; text-align: left ; width: auto;} td:nth-child(2) {text-align: left ; width: 100%}\n",
       "    .wandb-row { display: flex; flex-direction: row; flex-wrap: wrap; justify-content: flex-start; width: 100% }\n",
       "    .wandb-col { display: flex; flex-direction: column; flex-basis: 100%; flex: 1; padding: 10px; }\n",
       "    </style>\n",
       "<div class=\"wandb-row\"><div class=\"wandb-col\"><h3>Run history:</h3><br/><table class=\"wandb\"><tr><td>MSE</td><td>▁</td></tr><tr><td>R squared</td><td>▁</td></tr><tr><td>RMSE</td><td>▁</td></tr></table><br/></div><div class=\"wandb-col\"><h3>Run summary:</h3><br/><table class=\"wandb\"><tr><td>MSE</td><td>16.5662</td></tr><tr><td>R squared</td><td>0.7481</td></tr><tr><td>RMSE</td><td>4.07016</td></tr><tr><td>activation</td><td>sigmoid</td></tr><tr><td>optimizer</td><td>MiniBatch</td></tr></table><br/></div></div>"
      ],
      "text/plain": [
       "<IPython.core.display.HTML object>"
      ]
     },
     "metadata": {},
     "output_type": "display_data"
    },
    {
     "data": {
      "text/html": [
       " View run <strong style=\"color:#cdcd00\">resilient-sweep-3</strong> at: <a href='https://wandb.ai/mourya/MLP%20Regression%20for%20all%20combinations/runs/63etofwp' target=\"_blank\">https://wandb.ai/mourya/MLP%20Regression%20for%20all%20combinations/runs/63etofwp</a><br/>Synced 5 W&B file(s), 0 media file(s), 0 artifact file(s) and 0 other file(s)"
      ],
      "text/plain": [
       "<IPython.core.display.HTML object>"
      ]
     },
     "metadata": {},
     "output_type": "display_data"
    },
    {
     "data": {
      "text/html": [
       "Find logs at: <code>./wandb/run-20231012_223623-63etofwp/logs</code>"
      ],
      "text/plain": [
       "<IPython.core.display.HTML object>"
      ]
     },
     "metadata": {},
     "output_type": "display_data"
    },
    {
     "name": "stderr",
     "output_type": "stream",
     "text": [
      "\u001b[34m\u001b[1mwandb\u001b[0m: Agent Starting Run: cl9ptxzf with config:\n",
      "\u001b[34m\u001b[1mwandb\u001b[0m: \tactivation: tanh\n",
      "\u001b[34m\u001b[1mwandb\u001b[0m: \toptimizer: SGD\n",
      "\u001b[34m\u001b[1mwandb\u001b[0m: \u001b[33mWARNING\u001b[0m Ignored wandb.init() arg project when running a sweep.\n"
     ]
    },
    {
     "data": {
      "text/html": [
       "wandb version 0.15.12 is available!  To upgrade, please run:\n",
       " $ pip install wandb --upgrade"
      ],
      "text/plain": [
       "<IPython.core.display.HTML object>"
      ]
     },
     "metadata": {},
     "output_type": "display_data"
    },
    {
     "data": {
      "text/html": [
       "Tracking run with wandb version 0.15.11"
      ],
      "text/plain": [
       "<IPython.core.display.HTML object>"
      ]
     },
     "metadata": {},
     "output_type": "display_data"
    },
    {
     "data": {
      "text/html": [
       "Run data is saved locally in <code>/home/ubuntulsa/Sem5/SMAI/Assignment 3/wandb/run-20231012_223639-cl9ptxzf</code>"
      ],
      "text/plain": [
       "<IPython.core.display.HTML object>"
      ]
     },
     "metadata": {},
     "output_type": "display_data"
    },
    {
     "data": {
      "text/html": [
       "Syncing run <strong><a href='https://wandb.ai/mourya/MLP%20Regression%20for%20all%20combinations/runs/cl9ptxzf' target=\"_blank\">gentle-sweep-4</a></strong> to <a href='https://wandb.ai/mourya/MLP%20Regression%20for%20all%20combinations' target=\"_blank\">Weights & Biases</a> (<a href='https://wandb.me/run' target=\"_blank\">docs</a>)<br/>Sweep page: <a href='https://wandb.ai/mourya/MLP%20Regression%20for%20all%20combinations/sweeps/ftqlsc23' target=\"_blank\">https://wandb.ai/mourya/MLP%20Regression%20for%20all%20combinations/sweeps/ftqlsc23</a>"
      ],
      "text/plain": [
       "<IPython.core.display.HTML object>"
      ]
     },
     "metadata": {},
     "output_type": "display_data"
    },
    {
     "data": {
      "text/html": [
       " View project at <a href='https://wandb.ai/mourya/MLP%20Regression%20for%20all%20combinations' target=\"_blank\">https://wandb.ai/mourya/MLP%20Regression%20for%20all%20combinations</a>"
      ],
      "text/plain": [
       "<IPython.core.display.HTML object>"
      ]
     },
     "metadata": {},
     "output_type": "display_data"
    },
    {
     "data": {
      "text/html": [
       " View sweep at <a href='https://wandb.ai/mourya/MLP%20Regression%20for%20all%20combinations/sweeps/ftqlsc23' target=\"_blank\">https://wandb.ai/mourya/MLP%20Regression%20for%20all%20combinations/sweeps/ftqlsc23</a>"
      ],
      "text/plain": [
       "<IPython.core.display.HTML object>"
      ]
     },
     "metadata": {},
     "output_type": "display_data"
    },
    {
     "data": {
      "text/html": [
       " View run at <a href='https://wandb.ai/mourya/MLP%20Regression%20for%20all%20combinations/runs/cl9ptxzf' target=\"_blank\">https://wandb.ai/mourya/MLP%20Regression%20for%20all%20combinations/runs/cl9ptxzf</a>"
      ],
      "text/plain": [
       "<IPython.core.display.HTML object>"
      ]
     },
     "metadata": {},
     "output_type": "display_data"
    },
    {
     "name": "stdout",
     "output_type": "stream",
     "text": [
      "MAE:  5.814214403395514\n",
      "MSE:  70.11531422818854\n",
      "RMSE:  8.37348877279886\n",
      "R squared:  -0.06613375421686007\n"
     ]
    },
    {
     "data": {
      "text/html": [
       "Waiting for W&B process to finish... <strong style=\"color:green\">(success).</strong>"
      ],
      "text/plain": [
       "<IPython.core.display.HTML object>"
      ]
     },
     "metadata": {},
     "output_type": "display_data"
    },
    {
     "data": {
      "text/html": [
       "<style>\n",
       "    table.wandb td:nth-child(1) { padding: 0 10px; text-align: left ; width: auto;} td:nth-child(2) {text-align: left ; width: 100%}\n",
       "    .wandb-row { display: flex; flex-direction: row; flex-wrap: wrap; justify-content: flex-start; width: 100% }\n",
       "    .wandb-col { display: flex; flex-direction: column; flex-basis: 100%; flex: 1; padding: 10px; }\n",
       "    </style>\n",
       "<div class=\"wandb-row\"><div class=\"wandb-col\"><h3>Run history:</h3><br/><table class=\"wandb\"><tr><td>MSE</td><td>▁</td></tr><tr><td>R squared</td><td>▁</td></tr><tr><td>RMSE</td><td>▁</td></tr></table><br/></div><div class=\"wandb-col\"><h3>Run summary:</h3><br/><table class=\"wandb\"><tr><td>MSE</td><td>70.11531</td></tr><tr><td>R squared</td><td>-0.06613</td></tr><tr><td>RMSE</td><td>8.37349</td></tr><tr><td>activation</td><td>tanh</td></tr><tr><td>optimizer</td><td>SGD</td></tr></table><br/></div></div>"
      ],
      "text/plain": [
       "<IPython.core.display.HTML object>"
      ]
     },
     "metadata": {},
     "output_type": "display_data"
    },
    {
     "data": {
      "text/html": [
       " View run <strong style=\"color:#cdcd00\">gentle-sweep-4</strong> at: <a href='https://wandb.ai/mourya/MLP%20Regression%20for%20all%20combinations/runs/cl9ptxzf' target=\"_blank\">https://wandb.ai/mourya/MLP%20Regression%20for%20all%20combinations/runs/cl9ptxzf</a><br/>Synced 5 W&B file(s), 0 media file(s), 0 artifact file(s) and 0 other file(s)"
      ],
      "text/plain": [
       "<IPython.core.display.HTML object>"
      ]
     },
     "metadata": {},
     "output_type": "display_data"
    },
    {
     "data": {
      "text/html": [
       "Find logs at: <code>./wandb/run-20231012_223639-cl9ptxzf/logs</code>"
      ],
      "text/plain": [
       "<IPython.core.display.HTML object>"
      ]
     },
     "metadata": {},
     "output_type": "display_data"
    },
    {
     "name": "stderr",
     "output_type": "stream",
     "text": [
      "\u001b[34m\u001b[1mwandb\u001b[0m: Agent Starting Run: yfcig3sn with config:\n",
      "\u001b[34m\u001b[1mwandb\u001b[0m: \tactivation: tanh\n",
      "\u001b[34m\u001b[1mwandb\u001b[0m: \toptimizer: Batch\n",
      "\u001b[34m\u001b[1mwandb\u001b[0m: \u001b[33mWARNING\u001b[0m Ignored wandb.init() arg project when running a sweep.\n"
     ]
    },
    {
     "data": {
      "text/html": [
       "wandb version 0.15.12 is available!  To upgrade, please run:\n",
       " $ pip install wandb --upgrade"
      ],
      "text/plain": [
       "<IPython.core.display.HTML object>"
      ]
     },
     "metadata": {},
     "output_type": "display_data"
    },
    {
     "data": {
      "text/html": [
       "Tracking run with wandb version 0.15.11"
      ],
      "text/plain": [
       "<IPython.core.display.HTML object>"
      ]
     },
     "metadata": {},
     "output_type": "display_data"
    },
    {
     "data": {
      "text/html": [
       "Run data is saved locally in <code>/home/ubuntulsa/Sem5/SMAI/Assignment 3/wandb/run-20231012_223649-yfcig3sn</code>"
      ],
      "text/plain": [
       "<IPython.core.display.HTML object>"
      ]
     },
     "metadata": {},
     "output_type": "display_data"
    },
    {
     "data": {
      "text/html": [
       "Syncing run <strong><a href='https://wandb.ai/mourya/MLP%20Regression%20for%20all%20combinations/runs/yfcig3sn' target=\"_blank\">mild-sweep-5</a></strong> to <a href='https://wandb.ai/mourya/MLP%20Regression%20for%20all%20combinations' target=\"_blank\">Weights & Biases</a> (<a href='https://wandb.me/run' target=\"_blank\">docs</a>)<br/>Sweep page: <a href='https://wandb.ai/mourya/MLP%20Regression%20for%20all%20combinations/sweeps/ftqlsc23' target=\"_blank\">https://wandb.ai/mourya/MLP%20Regression%20for%20all%20combinations/sweeps/ftqlsc23</a>"
      ],
      "text/plain": [
       "<IPython.core.display.HTML object>"
      ]
     },
     "metadata": {},
     "output_type": "display_data"
    },
    {
     "data": {
      "text/html": [
       " View project at <a href='https://wandb.ai/mourya/MLP%20Regression%20for%20all%20combinations' target=\"_blank\">https://wandb.ai/mourya/MLP%20Regression%20for%20all%20combinations</a>"
      ],
      "text/plain": [
       "<IPython.core.display.HTML object>"
      ]
     },
     "metadata": {},
     "output_type": "display_data"
    },
    {
     "data": {
      "text/html": [
       " View sweep at <a href='https://wandb.ai/mourya/MLP%20Regression%20for%20all%20combinations/sweeps/ftqlsc23' target=\"_blank\">https://wandb.ai/mourya/MLP%20Regression%20for%20all%20combinations/sweeps/ftqlsc23</a>"
      ],
      "text/plain": [
       "<IPython.core.display.HTML object>"
      ]
     },
     "metadata": {},
     "output_type": "display_data"
    },
    {
     "data": {
      "text/html": [
       " View run at <a href='https://wandb.ai/mourya/MLP%20Regression%20for%20all%20combinations/runs/yfcig3sn' target=\"_blank\">https://wandb.ai/mourya/MLP%20Regression%20for%20all%20combinations/runs/yfcig3sn</a>"
      ],
      "text/plain": [
       "<IPython.core.display.HTML object>"
      ]
     },
     "metadata": {},
     "output_type": "display_data"
    },
    {
     "name": "stderr",
     "output_type": "stream",
     "text": [
      "/home/ubuntulsa/.local/lib/python3.10/site-packages/numpy/core/fromnumeric.py:88: RuntimeWarning: overflow encountered in reduce\n",
      "  return ufunc.reduce(obj, axis, dtype, out, **passkwargs)\n",
      "/tmp/ipykernel_124433/794252121.py:49: RuntimeWarning: overflow encountered in square\n",
      "  J = np.sum((y - self.yHat) ** 2) / (2 * len(X))  # Mean Squared Error\n",
      "/tmp/ipykernel_124433/794252121.py:59: RuntimeWarning: invalid value encountered in multiply\n",
      "  deltas[i] = np.dot(deltas[i + 1], self.weights[i + 1].T) * self.activationPrime(self.z[i])\n"
     ]
    },
    {
     "name": "stdout",
     "output_type": "stream",
     "text": [
      "MAE:  nan\n",
      "MSE:  nan\n",
      "RMSE:  nan\n",
      "R squared:  nan\n"
     ]
    },
    {
     "data": {
      "text/html": [
       "Waiting for W&B process to finish... <strong style=\"color:green\">(success).</strong>"
      ],
      "text/plain": [
       "<IPython.core.display.HTML object>"
      ]
     },
     "metadata": {},
     "output_type": "display_data"
    },
    {
     "data": {
      "text/html": [
       "<style>\n",
       "    table.wandb td:nth-child(1) { padding: 0 10px; text-align: left ; width: auto;} td:nth-child(2) {text-align: left ; width: 100%}\n",
       "    .wandb-row { display: flex; flex-direction: row; flex-wrap: wrap; justify-content: flex-start; width: 100% }\n",
       "    .wandb-col { display: flex; flex-direction: column; flex-basis: 100%; flex: 1; padding: 10px; }\n",
       "    </style>\n",
       "<div class=\"wandb-row\"><div class=\"wandb-col\"><h3>Run summary:</h3><br/><table class=\"wandb\"><tr><td>MSE</td><td>nan</td></tr><tr><td>R squared</td><td>nan</td></tr><tr><td>RMSE</td><td>nan</td></tr><tr><td>activation</td><td>tanh</td></tr><tr><td>optimizer</td><td>Batch</td></tr></table><br/></div></div>"
      ],
      "text/plain": [
       "<IPython.core.display.HTML object>"
      ]
     },
     "metadata": {},
     "output_type": "display_data"
    },
    {
     "data": {
      "text/html": [
       " View run <strong style=\"color:#cdcd00\">mild-sweep-5</strong> at: <a href='https://wandb.ai/mourya/MLP%20Regression%20for%20all%20combinations/runs/yfcig3sn' target=\"_blank\">https://wandb.ai/mourya/MLP%20Regression%20for%20all%20combinations/runs/yfcig3sn</a><br/>Synced 5 W&B file(s), 0 media file(s), 0 artifact file(s) and 0 other file(s)"
      ],
      "text/plain": [
       "<IPython.core.display.HTML object>"
      ]
     },
     "metadata": {},
     "output_type": "display_data"
    },
    {
     "data": {
      "text/html": [
       "Find logs at: <code>./wandb/run-20231012_223649-yfcig3sn/logs</code>"
      ],
      "text/plain": [
       "<IPython.core.display.HTML object>"
      ]
     },
     "metadata": {},
     "output_type": "display_data"
    },
    {
     "name": "stderr",
     "output_type": "stream",
     "text": [
      "\u001b[34m\u001b[1mwandb\u001b[0m: Agent Starting Run: i7mhpnrw with config:\n",
      "\u001b[34m\u001b[1mwandb\u001b[0m: \tactivation: tanh\n",
      "\u001b[34m\u001b[1mwandb\u001b[0m: \toptimizer: MiniBatch\n",
      "\u001b[34m\u001b[1mwandb\u001b[0m: \u001b[33mWARNING\u001b[0m Ignored wandb.init() arg project when running a sweep.\n"
     ]
    },
    {
     "data": {
      "text/html": [
       "wandb version 0.15.12 is available!  To upgrade, please run:\n",
       " $ pip install wandb --upgrade"
      ],
      "text/plain": [
       "<IPython.core.display.HTML object>"
      ]
     },
     "metadata": {},
     "output_type": "display_data"
    },
    {
     "data": {
      "text/html": [
       "Tracking run with wandb version 0.15.11"
      ],
      "text/plain": [
       "<IPython.core.display.HTML object>"
      ]
     },
     "metadata": {},
     "output_type": "display_data"
    },
    {
     "data": {
      "text/html": [
       "Run data is saved locally in <code>/home/ubuntulsa/Sem5/SMAI/Assignment 3/wandb/run-20231012_223701-i7mhpnrw</code>"
      ],
      "text/plain": [
       "<IPython.core.display.HTML object>"
      ]
     },
     "metadata": {},
     "output_type": "display_data"
    },
    {
     "data": {
      "text/html": [
       "Syncing run <strong><a href='https://wandb.ai/mourya/MLP%20Regression%20for%20all%20combinations/runs/i7mhpnrw' target=\"_blank\">fresh-sweep-6</a></strong> to <a href='https://wandb.ai/mourya/MLP%20Regression%20for%20all%20combinations' target=\"_blank\">Weights & Biases</a> (<a href='https://wandb.me/run' target=\"_blank\">docs</a>)<br/>Sweep page: <a href='https://wandb.ai/mourya/MLP%20Regression%20for%20all%20combinations/sweeps/ftqlsc23' target=\"_blank\">https://wandb.ai/mourya/MLP%20Regression%20for%20all%20combinations/sweeps/ftqlsc23</a>"
      ],
      "text/plain": [
       "<IPython.core.display.HTML object>"
      ]
     },
     "metadata": {},
     "output_type": "display_data"
    },
    {
     "data": {
      "text/html": [
       " View project at <a href='https://wandb.ai/mourya/MLP%20Regression%20for%20all%20combinations' target=\"_blank\">https://wandb.ai/mourya/MLP%20Regression%20for%20all%20combinations</a>"
      ],
      "text/plain": [
       "<IPython.core.display.HTML object>"
      ]
     },
     "metadata": {},
     "output_type": "display_data"
    },
    {
     "data": {
      "text/html": [
       " View sweep at <a href='https://wandb.ai/mourya/MLP%20Regression%20for%20all%20combinations/sweeps/ftqlsc23' target=\"_blank\">https://wandb.ai/mourya/MLP%20Regression%20for%20all%20combinations/sweeps/ftqlsc23</a>"
      ],
      "text/plain": [
       "<IPython.core.display.HTML object>"
      ]
     },
     "metadata": {},
     "output_type": "display_data"
    },
    {
     "data": {
      "text/html": [
       " View run at <a href='https://wandb.ai/mourya/MLP%20Regression%20for%20all%20combinations/runs/i7mhpnrw' target=\"_blank\">https://wandb.ai/mourya/MLP%20Regression%20for%20all%20combinations/runs/i7mhpnrw</a>"
      ],
      "text/plain": [
       "<IPython.core.display.HTML object>"
      ]
     },
     "metadata": {},
     "output_type": "display_data"
    },
    {
     "name": "stderr",
     "output_type": "stream",
     "text": [
      "/tmp/ipykernel_124433/794252121.py:59: RuntimeWarning: invalid value encountered in multiply\n",
      "  deltas[i] = np.dot(deltas[i + 1], self.weights[i + 1].T) * self.activationPrime(self.z[i])\n"
     ]
    },
    {
     "name": "stdout",
     "output_type": "stream",
     "text": [
      "MAE:  nan\n",
      "MSE:  nan\n",
      "RMSE:  nan\n",
      "R squared:  nan\n"
     ]
    },
    {
     "data": {
      "text/html": [
       "Waiting for W&B process to finish... <strong style=\"color:green\">(success).</strong>"
      ],
      "text/plain": [
       "<IPython.core.display.HTML object>"
      ]
     },
     "metadata": {},
     "output_type": "display_data"
    },
    {
     "data": {
      "text/html": [
       "<style>\n",
       "    table.wandb td:nth-child(1) { padding: 0 10px; text-align: left ; width: auto;} td:nth-child(2) {text-align: left ; width: 100%}\n",
       "    .wandb-row { display: flex; flex-direction: row; flex-wrap: wrap; justify-content: flex-start; width: 100% }\n",
       "    .wandb-col { display: flex; flex-direction: column; flex-basis: 100%; flex: 1; padding: 10px; }\n",
       "    </style>\n",
       "<div class=\"wandb-row\"><div class=\"wandb-col\"><h3>Run summary:</h3><br/><table class=\"wandb\"><tr><td>MSE</td><td>nan</td></tr><tr><td>R squared</td><td>nan</td></tr><tr><td>RMSE</td><td>nan</td></tr><tr><td>activation</td><td>tanh</td></tr><tr><td>optimizer</td><td>MiniBatch</td></tr></table><br/></div></div>"
      ],
      "text/plain": [
       "<IPython.core.display.HTML object>"
      ]
     },
     "metadata": {},
     "output_type": "display_data"
    },
    {
     "data": {
      "text/html": [
       " View run <strong style=\"color:#cdcd00\">fresh-sweep-6</strong> at: <a href='https://wandb.ai/mourya/MLP%20Regression%20for%20all%20combinations/runs/i7mhpnrw' target=\"_blank\">https://wandb.ai/mourya/MLP%20Regression%20for%20all%20combinations/runs/i7mhpnrw</a><br/>Synced 5 W&B file(s), 0 media file(s), 0 artifact file(s) and 0 other file(s)"
      ],
      "text/plain": [
       "<IPython.core.display.HTML object>"
      ]
     },
     "metadata": {},
     "output_type": "display_data"
    },
    {
     "data": {
      "text/html": [
       "Find logs at: <code>./wandb/run-20231012_223701-i7mhpnrw/logs</code>"
      ],
      "text/plain": [
       "<IPython.core.display.HTML object>"
      ]
     },
     "metadata": {},
     "output_type": "display_data"
    },
    {
     "name": "stderr",
     "output_type": "stream",
     "text": [
      "\u001b[34m\u001b[1mwandb\u001b[0m: Agent Starting Run: xp1cik8d with config:\n",
      "\u001b[34m\u001b[1mwandb\u001b[0m: \tactivation: relu\n",
      "\u001b[34m\u001b[1mwandb\u001b[0m: \toptimizer: SGD\n",
      "\u001b[34m\u001b[1mwandb\u001b[0m: \u001b[33mWARNING\u001b[0m Ignored wandb.init() arg project when running a sweep.\n"
     ]
    },
    {
     "data": {
      "text/html": [
       "wandb version 0.15.12 is available!  To upgrade, please run:\n",
       " $ pip install wandb --upgrade"
      ],
      "text/plain": [
       "<IPython.core.display.HTML object>"
      ]
     },
     "metadata": {},
     "output_type": "display_data"
    },
    {
     "data": {
      "text/html": [
       "Tracking run with wandb version 0.15.11"
      ],
      "text/plain": [
       "<IPython.core.display.HTML object>"
      ]
     },
     "metadata": {},
     "output_type": "display_data"
    },
    {
     "data": {
      "text/html": [
       "Run data is saved locally in <code>/home/ubuntulsa/Sem5/SMAI/Assignment 3/wandb/run-20231012_223717-xp1cik8d</code>"
      ],
      "text/plain": [
       "<IPython.core.display.HTML object>"
      ]
     },
     "metadata": {},
     "output_type": "display_data"
    },
    {
     "data": {
      "text/html": [
       "Syncing run <strong><a href='https://wandb.ai/mourya/MLP%20Regression%20for%20all%20combinations/runs/xp1cik8d' target=\"_blank\">cerulean-sweep-7</a></strong> to <a href='https://wandb.ai/mourya/MLP%20Regression%20for%20all%20combinations' target=\"_blank\">Weights & Biases</a> (<a href='https://wandb.me/run' target=\"_blank\">docs</a>)<br/>Sweep page: <a href='https://wandb.ai/mourya/MLP%20Regression%20for%20all%20combinations/sweeps/ftqlsc23' target=\"_blank\">https://wandb.ai/mourya/MLP%20Regression%20for%20all%20combinations/sweeps/ftqlsc23</a>"
      ],
      "text/plain": [
       "<IPython.core.display.HTML object>"
      ]
     },
     "metadata": {},
     "output_type": "display_data"
    },
    {
     "data": {
      "text/html": [
       " View project at <a href='https://wandb.ai/mourya/MLP%20Regression%20for%20all%20combinations' target=\"_blank\">https://wandb.ai/mourya/MLP%20Regression%20for%20all%20combinations</a>"
      ],
      "text/plain": [
       "<IPython.core.display.HTML object>"
      ]
     },
     "metadata": {},
     "output_type": "display_data"
    },
    {
     "data": {
      "text/html": [
       " View sweep at <a href='https://wandb.ai/mourya/MLP%20Regression%20for%20all%20combinations/sweeps/ftqlsc23' target=\"_blank\">https://wandb.ai/mourya/MLP%20Regression%20for%20all%20combinations/sweeps/ftqlsc23</a>"
      ],
      "text/plain": [
       "<IPython.core.display.HTML object>"
      ]
     },
     "metadata": {},
     "output_type": "display_data"
    },
    {
     "data": {
      "text/html": [
       " View run at <a href='https://wandb.ai/mourya/MLP%20Regression%20for%20all%20combinations/runs/xp1cik8d' target=\"_blank\">https://wandb.ai/mourya/MLP%20Regression%20for%20all%20combinations/runs/xp1cik8d</a>"
      ],
      "text/plain": [
       "<IPython.core.display.HTML object>"
      ]
     },
     "metadata": {},
     "output_type": "display_data"
    },
    {
     "name": "stdout",
     "output_type": "stream",
     "text": [
      "MAE:  21.927722772277225\n",
      "MSE:  546.5909900990099\n",
      "RMSE:  23.379285491627197\n",
      "R squared:  -7.311153001452126\n"
     ]
    },
    {
     "data": {
      "text/html": [
       "Waiting for W&B process to finish... <strong style=\"color:green\">(success).</strong>"
      ],
      "text/plain": [
       "<IPython.core.display.HTML object>"
      ]
     },
     "metadata": {},
     "output_type": "display_data"
    },
    {
     "data": {
      "text/html": [
       "<style>\n",
       "    table.wandb td:nth-child(1) { padding: 0 10px; text-align: left ; width: auto;} td:nth-child(2) {text-align: left ; width: 100%}\n",
       "    .wandb-row { display: flex; flex-direction: row; flex-wrap: wrap; justify-content: flex-start; width: 100% }\n",
       "    .wandb-col { display: flex; flex-direction: column; flex-basis: 100%; flex: 1; padding: 10px; }\n",
       "    </style>\n",
       "<div class=\"wandb-row\"><div class=\"wandb-col\"><h3>Run history:</h3><br/><table class=\"wandb\"><tr><td>MSE</td><td>▁</td></tr><tr><td>R squared</td><td>▁</td></tr><tr><td>RMSE</td><td>▁</td></tr></table><br/></div><div class=\"wandb-col\"><h3>Run summary:</h3><br/><table class=\"wandb\"><tr><td>MSE</td><td>546.59099</td></tr><tr><td>R squared</td><td>-7.31115</td></tr><tr><td>RMSE</td><td>23.37929</td></tr><tr><td>activation</td><td>relu</td></tr><tr><td>optimizer</td><td>SGD</td></tr></table><br/></div></div>"
      ],
      "text/plain": [
       "<IPython.core.display.HTML object>"
      ]
     },
     "metadata": {},
     "output_type": "display_data"
    },
    {
     "data": {
      "text/html": [
       " View run <strong style=\"color:#cdcd00\">cerulean-sweep-7</strong> at: <a href='https://wandb.ai/mourya/MLP%20Regression%20for%20all%20combinations/runs/xp1cik8d' target=\"_blank\">https://wandb.ai/mourya/MLP%20Regression%20for%20all%20combinations/runs/xp1cik8d</a><br/>Synced 5 W&B file(s), 0 media file(s), 0 artifact file(s) and 0 other file(s)"
      ],
      "text/plain": [
       "<IPython.core.display.HTML object>"
      ]
     },
     "metadata": {},
     "output_type": "display_data"
    },
    {
     "data": {
      "text/html": [
       "Find logs at: <code>./wandb/run-20231012_223717-xp1cik8d/logs</code>"
      ],
      "text/plain": [
       "<IPython.core.display.HTML object>"
      ]
     },
     "metadata": {},
     "output_type": "display_data"
    },
    {
     "name": "stderr",
     "output_type": "stream",
     "text": [
      "\u001b[34m\u001b[1mwandb\u001b[0m: Sweep Agent: Waiting for job.\n",
      "\u001b[34m\u001b[1mwandb\u001b[0m: Job received.\n",
      "\u001b[34m\u001b[1mwandb\u001b[0m: Agent Starting Run: tps0wjvy with config:\n",
      "\u001b[34m\u001b[1mwandb\u001b[0m: \tactivation: relu\n",
      "\u001b[34m\u001b[1mwandb\u001b[0m: \toptimizer: Batch\n",
      "\u001b[34m\u001b[1mwandb\u001b[0m: \u001b[33mWARNING\u001b[0m Ignored wandb.init() arg project when running a sweep.\n"
     ]
    },
    {
     "data": {
      "text/html": [
       "wandb version 0.15.12 is available!  To upgrade, please run:\n",
       " $ pip install wandb --upgrade"
      ],
      "text/plain": [
       "<IPython.core.display.HTML object>"
      ]
     },
     "metadata": {},
     "output_type": "display_data"
    },
    {
     "data": {
      "text/html": [
       "Tracking run with wandb version 0.15.11"
      ],
      "text/plain": [
       "<IPython.core.display.HTML object>"
      ]
     },
     "metadata": {},
     "output_type": "display_data"
    },
    {
     "data": {
      "text/html": [
       "Run data is saved locally in <code>/home/ubuntulsa/Sem5/SMAI/Assignment 3/wandb/run-20231012_223737-tps0wjvy</code>"
      ],
      "text/plain": [
       "<IPython.core.display.HTML object>"
      ]
     },
     "metadata": {},
     "output_type": "display_data"
    },
    {
     "data": {
      "text/html": [
       "Syncing run <strong><a href='https://wandb.ai/mourya/MLP%20Regression%20for%20all%20combinations/runs/tps0wjvy' target=\"_blank\">glamorous-sweep-8</a></strong> to <a href='https://wandb.ai/mourya/MLP%20Regression%20for%20all%20combinations' target=\"_blank\">Weights & Biases</a> (<a href='https://wandb.me/run' target=\"_blank\">docs</a>)<br/>Sweep page: <a href='https://wandb.ai/mourya/MLP%20Regression%20for%20all%20combinations/sweeps/ftqlsc23' target=\"_blank\">https://wandb.ai/mourya/MLP%20Regression%20for%20all%20combinations/sweeps/ftqlsc23</a>"
      ],
      "text/plain": [
       "<IPython.core.display.HTML object>"
      ]
     },
     "metadata": {},
     "output_type": "display_data"
    },
    {
     "data": {
      "text/html": [
       " View project at <a href='https://wandb.ai/mourya/MLP%20Regression%20for%20all%20combinations' target=\"_blank\">https://wandb.ai/mourya/MLP%20Regression%20for%20all%20combinations</a>"
      ],
      "text/plain": [
       "<IPython.core.display.HTML object>"
      ]
     },
     "metadata": {},
     "output_type": "display_data"
    },
    {
     "data": {
      "text/html": [
       " View sweep at <a href='https://wandb.ai/mourya/MLP%20Regression%20for%20all%20combinations/sweeps/ftqlsc23' target=\"_blank\">https://wandb.ai/mourya/MLP%20Regression%20for%20all%20combinations/sweeps/ftqlsc23</a>"
      ],
      "text/plain": [
       "<IPython.core.display.HTML object>"
      ]
     },
     "metadata": {},
     "output_type": "display_data"
    },
    {
     "data": {
      "text/html": [
       " View run at <a href='https://wandb.ai/mourya/MLP%20Regression%20for%20all%20combinations/runs/tps0wjvy' target=\"_blank\">https://wandb.ai/mourya/MLP%20Regression%20for%20all%20combinations/runs/tps0wjvy</a>"
      ],
      "text/plain": [
       "<IPython.core.display.HTML object>"
      ]
     },
     "metadata": {},
     "output_type": "display_data"
    },
    {
     "name": "stdout",
     "output_type": "stream",
     "text": [
      "MAE:  21.927722772277225\n",
      "MSE:  546.5909900990099\n",
      "RMSE:  23.379285491627197\n",
      "R squared:  -7.311153001452126\n"
     ]
    },
    {
     "data": {
      "text/html": [
       "Waiting for W&B process to finish... <strong style=\"color:green\">(success).</strong>"
      ],
      "text/plain": [
       "<IPython.core.display.HTML object>"
      ]
     },
     "metadata": {},
     "output_type": "display_data"
    },
    {
     "data": {
      "text/html": [
       "<style>\n",
       "    table.wandb td:nth-child(1) { padding: 0 10px; text-align: left ; width: auto;} td:nth-child(2) {text-align: left ; width: 100%}\n",
       "    .wandb-row { display: flex; flex-direction: row; flex-wrap: wrap; justify-content: flex-start; width: 100% }\n",
       "    .wandb-col { display: flex; flex-direction: column; flex-basis: 100%; flex: 1; padding: 10px; }\n",
       "    </style>\n",
       "<div class=\"wandb-row\"><div class=\"wandb-col\"><h3>Run history:</h3><br/><table class=\"wandb\"><tr><td>MSE</td><td>▁</td></tr><tr><td>R squared</td><td>▁</td></tr><tr><td>RMSE</td><td>▁</td></tr></table><br/></div><div class=\"wandb-col\"><h3>Run summary:</h3><br/><table class=\"wandb\"><tr><td>MSE</td><td>546.59099</td></tr><tr><td>R squared</td><td>-7.31115</td></tr><tr><td>RMSE</td><td>23.37929</td></tr><tr><td>activation</td><td>relu</td></tr><tr><td>optimizer</td><td>Batch</td></tr></table><br/></div></div>"
      ],
      "text/plain": [
       "<IPython.core.display.HTML object>"
      ]
     },
     "metadata": {},
     "output_type": "display_data"
    },
    {
     "data": {
      "text/html": [
       " View run <strong style=\"color:#cdcd00\">glamorous-sweep-8</strong> at: <a href='https://wandb.ai/mourya/MLP%20Regression%20for%20all%20combinations/runs/tps0wjvy' target=\"_blank\">https://wandb.ai/mourya/MLP%20Regression%20for%20all%20combinations/runs/tps0wjvy</a><br/>Synced 5 W&B file(s), 0 media file(s), 0 artifact file(s) and 0 other file(s)"
      ],
      "text/plain": [
       "<IPython.core.display.HTML object>"
      ]
     },
     "metadata": {},
     "output_type": "display_data"
    },
    {
     "data": {
      "text/html": [
       "Find logs at: <code>./wandb/run-20231012_223737-tps0wjvy/logs</code>"
      ],
      "text/plain": [
       "<IPython.core.display.HTML object>"
      ]
     },
     "metadata": {},
     "output_type": "display_data"
    },
    {
     "name": "stderr",
     "output_type": "stream",
     "text": [
      "\u001b[34m\u001b[1mwandb\u001b[0m: Agent Starting Run: o6t7ctsh with config:\n",
      "\u001b[34m\u001b[1mwandb\u001b[0m: \tactivation: relu\n",
      "\u001b[34m\u001b[1mwandb\u001b[0m: \toptimizer: MiniBatch\n",
      "\u001b[34m\u001b[1mwandb\u001b[0m: \u001b[33mWARNING\u001b[0m Ignored wandb.init() arg project when running a sweep.\n"
     ]
    },
    {
     "data": {
      "text/html": [
       "wandb version 0.15.12 is available!  To upgrade, please run:\n",
       " $ pip install wandb --upgrade"
      ],
      "text/plain": [
       "<IPython.core.display.HTML object>"
      ]
     },
     "metadata": {},
     "output_type": "display_data"
    },
    {
     "data": {
      "text/html": [
       "Tracking run with wandb version 0.15.11"
      ],
      "text/plain": [
       "<IPython.core.display.HTML object>"
      ]
     },
     "metadata": {},
     "output_type": "display_data"
    },
    {
     "data": {
      "text/html": [
       "Run data is saved locally in <code>/home/ubuntulsa/Sem5/SMAI/Assignment 3/wandb/run-20231012_223748-o6t7ctsh</code>"
      ],
      "text/plain": [
       "<IPython.core.display.HTML object>"
      ]
     },
     "metadata": {},
     "output_type": "display_data"
    },
    {
     "data": {
      "text/html": [
       "Syncing run <strong><a href='https://wandb.ai/mourya/MLP%20Regression%20for%20all%20combinations/runs/o6t7ctsh' target=\"_blank\">electric-sweep-9</a></strong> to <a href='https://wandb.ai/mourya/MLP%20Regression%20for%20all%20combinations' target=\"_blank\">Weights & Biases</a> (<a href='https://wandb.me/run' target=\"_blank\">docs</a>)<br/>Sweep page: <a href='https://wandb.ai/mourya/MLP%20Regression%20for%20all%20combinations/sweeps/ftqlsc23' target=\"_blank\">https://wandb.ai/mourya/MLP%20Regression%20for%20all%20combinations/sweeps/ftqlsc23</a>"
      ],
      "text/plain": [
       "<IPython.core.display.HTML object>"
      ]
     },
     "metadata": {},
     "output_type": "display_data"
    },
    {
     "data": {
      "text/html": [
       " View project at <a href='https://wandb.ai/mourya/MLP%20Regression%20for%20all%20combinations' target=\"_blank\">https://wandb.ai/mourya/MLP%20Regression%20for%20all%20combinations</a>"
      ],
      "text/plain": [
       "<IPython.core.display.HTML object>"
      ]
     },
     "metadata": {},
     "output_type": "display_data"
    },
    {
     "data": {
      "text/html": [
       " View sweep at <a href='https://wandb.ai/mourya/MLP%20Regression%20for%20all%20combinations/sweeps/ftqlsc23' target=\"_blank\">https://wandb.ai/mourya/MLP%20Regression%20for%20all%20combinations/sweeps/ftqlsc23</a>"
      ],
      "text/plain": [
       "<IPython.core.display.HTML object>"
      ]
     },
     "metadata": {},
     "output_type": "display_data"
    },
    {
     "data": {
      "text/html": [
       " View run at <a href='https://wandb.ai/mourya/MLP%20Regression%20for%20all%20combinations/runs/o6t7ctsh' target=\"_blank\">https://wandb.ai/mourya/MLP%20Regression%20for%20all%20combinations/runs/o6t7ctsh</a>"
      ],
      "text/plain": [
       "<IPython.core.display.HTML object>"
      ]
     },
     "metadata": {},
     "output_type": "display_data"
    },
    {
     "name": "stdout",
     "output_type": "stream",
     "text": [
      "MAE:  21.927722772277225\n",
      "MSE:  546.5909900990099\n",
      "RMSE:  23.379285491627197\n",
      "R squared:  -7.311153001452126\n"
     ]
    },
    {
     "data": {
      "text/html": [
       "Waiting for W&B process to finish... <strong style=\"color:green\">(success).</strong>"
      ],
      "text/plain": [
       "<IPython.core.display.HTML object>"
      ]
     },
     "metadata": {},
     "output_type": "display_data"
    },
    {
     "data": {
      "text/html": [
       "<style>\n",
       "    table.wandb td:nth-child(1) { padding: 0 10px; text-align: left ; width: auto;} td:nth-child(2) {text-align: left ; width: 100%}\n",
       "    .wandb-row { display: flex; flex-direction: row; flex-wrap: wrap; justify-content: flex-start; width: 100% }\n",
       "    .wandb-col { display: flex; flex-direction: column; flex-basis: 100%; flex: 1; padding: 10px; }\n",
       "    </style>\n",
       "<div class=\"wandb-row\"><div class=\"wandb-col\"><h3>Run history:</h3><br/><table class=\"wandb\"><tr><td>MSE</td><td>▁</td></tr><tr><td>R squared</td><td>▁</td></tr><tr><td>RMSE</td><td>▁</td></tr></table><br/></div><div class=\"wandb-col\"><h3>Run summary:</h3><br/><table class=\"wandb\"><tr><td>MSE</td><td>546.59099</td></tr><tr><td>R squared</td><td>-7.31115</td></tr><tr><td>RMSE</td><td>23.37929</td></tr><tr><td>activation</td><td>relu</td></tr><tr><td>optimizer</td><td>MiniBatch</td></tr></table><br/></div></div>"
      ],
      "text/plain": [
       "<IPython.core.display.HTML object>"
      ]
     },
     "metadata": {},
     "output_type": "display_data"
    },
    {
     "data": {
      "text/html": [
       " View run <strong style=\"color:#cdcd00\">electric-sweep-9</strong> at: <a href='https://wandb.ai/mourya/MLP%20Regression%20for%20all%20combinations/runs/o6t7ctsh' target=\"_blank\">https://wandb.ai/mourya/MLP%20Regression%20for%20all%20combinations/runs/o6t7ctsh</a><br/>Synced 5 W&B file(s), 0 media file(s), 0 artifact file(s) and 0 other file(s)"
      ],
      "text/plain": [
       "<IPython.core.display.HTML object>"
      ]
     },
     "metadata": {},
     "output_type": "display_data"
    },
    {
     "data": {
      "text/html": [
       "Find logs at: <code>./wandb/run-20231012_223748-o6t7ctsh/logs</code>"
      ],
      "text/plain": [
       "<IPython.core.display.HTML object>"
      ]
     },
     "metadata": {},
     "output_type": "display_data"
    },
    {
     "name": "stderr",
     "output_type": "stream",
     "text": [
      "\u001b[34m\u001b[1mwandb\u001b[0m: Sweep Agent: Waiting for job.\n",
      "\u001b[34m\u001b[1mwandb\u001b[0m: Sweep Agent: Exiting.\n"
     ]
    },
    {
     "name": "stdout",
     "output_type": "stream",
     "text": [
      "Error in callback <function _WandbInit._pause_backend at 0x7f9be6171900> (for post_run_cell):\n"
     ]
    },
    {
     "ename": "BrokenPipeError",
     "evalue": "[Errno 32] Broken pipe",
     "output_type": "error",
     "traceback": [
      "\u001b[0;31m---------------------------------------------------------------------------\u001b[0m",
      "\u001b[0;31mBrokenPipeError\u001b[0m                           Traceback (most recent call last)",
      "File \u001b[0;32m~/.local/lib/python3.10/site-packages/backcall/backcall.py:104\u001b[0m, in \u001b[0;36mcallback_prototype.<locals>.adapt.<locals>.adapted\u001b[0;34m(*args, **kwargs)\u001b[0m\n\u001b[1;32m    102\u001b[0m                 kwargs\u001b[38;5;241m.\u001b[39mpop(name)\n\u001b[1;32m    103\u001b[0m \u001b[38;5;66;03m#            print(args, kwargs, unmatched_pos, cut_positional, unmatched_kw)\u001b[39;00m\n\u001b[0;32m--> 104\u001b[0m             \u001b[38;5;28;01mreturn\u001b[39;00m \u001b[43mcallback\u001b[49m\u001b[43m(\u001b[49m\u001b[38;5;241;43m*\u001b[39;49m\u001b[43margs\u001b[49m\u001b[43m,\u001b[49m\u001b[43m \u001b[49m\u001b[38;5;241;43m*\u001b[39;49m\u001b[38;5;241;43m*\u001b[39;49m\u001b[43mkwargs\u001b[49m\u001b[43m)\u001b[49m\n",
      "File \u001b[0;32m~/.local/lib/python3.10/site-packages/wandb/sdk/wandb_init.py:439\u001b[0m, in \u001b[0;36m_WandbInit._pause_backend\u001b[0;34m(self)\u001b[0m\n\u001b[1;32m    437\u001b[0m \u001b[38;5;28;01mif\u001b[39;00m \u001b[38;5;28mself\u001b[39m\u001b[38;5;241m.\u001b[39mbackend\u001b[38;5;241m.\u001b[39minterface \u001b[38;5;129;01mis\u001b[39;00m \u001b[38;5;129;01mnot\u001b[39;00m \u001b[38;5;28;01mNone\u001b[39;00m:\n\u001b[1;32m    438\u001b[0m     logger\u001b[38;5;241m.\u001b[39minfo(\u001b[38;5;124m\"\u001b[39m\u001b[38;5;124mpausing backend\u001b[39m\u001b[38;5;124m\"\u001b[39m)  \u001b[38;5;66;03m# type: ignore\u001b[39;00m\n\u001b[0;32m--> 439\u001b[0m     \u001b[38;5;28;43mself\u001b[39;49m\u001b[38;5;241;43m.\u001b[39;49m\u001b[43mbackend\u001b[49m\u001b[38;5;241;43m.\u001b[39;49m\u001b[43minterface\u001b[49m\u001b[38;5;241;43m.\u001b[39;49m\u001b[43mpublish_pause\u001b[49m\u001b[43m(\u001b[49m\u001b[43m)\u001b[49m\n",
      "File \u001b[0;32m~/.local/lib/python3.10/site-packages/wandb/sdk/interface/interface.py:626\u001b[0m, in \u001b[0;36mInterfaceBase.publish_pause\u001b[0;34m(self)\u001b[0m\n\u001b[1;32m    624\u001b[0m \u001b[38;5;28;01mdef\u001b[39;00m \u001b[38;5;21mpublish_pause\u001b[39m(\u001b[38;5;28mself\u001b[39m) \u001b[38;5;241m-\u001b[39m\u001b[38;5;241m>\u001b[39m \u001b[38;5;28;01mNone\u001b[39;00m:\n\u001b[1;32m    625\u001b[0m     pause \u001b[38;5;241m=\u001b[39m pb\u001b[38;5;241m.\u001b[39mPauseRequest()\n\u001b[0;32m--> 626\u001b[0m     \u001b[38;5;28;43mself\u001b[39;49m\u001b[38;5;241;43m.\u001b[39;49m\u001b[43m_publish_pause\u001b[49m\u001b[43m(\u001b[49m\u001b[43mpause\u001b[49m\u001b[43m)\u001b[49m\n",
      "File \u001b[0;32m~/.local/lib/python3.10/site-packages/wandb/sdk/interface/interface_shared.py:343\u001b[0m, in \u001b[0;36mInterfaceShared._publish_pause\u001b[0;34m(self, pause)\u001b[0m\n\u001b[1;32m    341\u001b[0m \u001b[38;5;28;01mdef\u001b[39;00m \u001b[38;5;21m_publish_pause\u001b[39m(\u001b[38;5;28mself\u001b[39m, pause: pb\u001b[38;5;241m.\u001b[39mPauseRequest) \u001b[38;5;241m-\u001b[39m\u001b[38;5;241m>\u001b[39m \u001b[38;5;28;01mNone\u001b[39;00m:\n\u001b[1;32m    342\u001b[0m     rec \u001b[38;5;241m=\u001b[39m \u001b[38;5;28mself\u001b[39m\u001b[38;5;241m.\u001b[39m_make_request(pause\u001b[38;5;241m=\u001b[39mpause)\n\u001b[0;32m--> 343\u001b[0m     \u001b[38;5;28;43mself\u001b[39;49m\u001b[38;5;241;43m.\u001b[39;49m\u001b[43m_publish\u001b[49m\u001b[43m(\u001b[49m\u001b[43mrec\u001b[49m\u001b[43m)\u001b[49m\n",
      "File \u001b[0;32m~/.local/lib/python3.10/site-packages/wandb/sdk/interface/interface_sock.py:51\u001b[0m, in \u001b[0;36mInterfaceSock._publish\u001b[0;34m(self, record, local)\u001b[0m\n\u001b[1;32m     49\u001b[0m \u001b[38;5;28;01mdef\u001b[39;00m \u001b[38;5;21m_publish\u001b[39m(\u001b[38;5;28mself\u001b[39m, record: \u001b[38;5;124m\"\u001b[39m\u001b[38;5;124mpb.Record\u001b[39m\u001b[38;5;124m\"\u001b[39m, local: Optional[\u001b[38;5;28mbool\u001b[39m] \u001b[38;5;241m=\u001b[39m \u001b[38;5;28;01mNone\u001b[39;00m) \u001b[38;5;241m-\u001b[39m\u001b[38;5;241m>\u001b[39m \u001b[38;5;28;01mNone\u001b[39;00m:\n\u001b[1;32m     50\u001b[0m     \u001b[38;5;28mself\u001b[39m\u001b[38;5;241m.\u001b[39m_assign(record)\n\u001b[0;32m---> 51\u001b[0m     \u001b[38;5;28;43mself\u001b[39;49m\u001b[38;5;241;43m.\u001b[39;49m\u001b[43m_sock_client\u001b[49m\u001b[38;5;241;43m.\u001b[39;49m\u001b[43msend_record_publish\u001b[49m\u001b[43m(\u001b[49m\u001b[43mrecord\u001b[49m\u001b[43m)\u001b[49m\n",
      "File \u001b[0;32m~/.local/lib/python3.10/site-packages/wandb/sdk/lib/sock_client.py:221\u001b[0m, in \u001b[0;36mSockClient.send_record_publish\u001b[0;34m(self, record)\u001b[0m\n\u001b[1;32m    219\u001b[0m server_req \u001b[38;5;241m=\u001b[39m spb\u001b[38;5;241m.\u001b[39mServerRequest()\n\u001b[1;32m    220\u001b[0m server_req\u001b[38;5;241m.\u001b[39mrecord_publish\u001b[38;5;241m.\u001b[39mCopyFrom(record)\n\u001b[0;32m--> 221\u001b[0m \u001b[38;5;28;43mself\u001b[39;49m\u001b[38;5;241;43m.\u001b[39;49m\u001b[43msend_server_request\u001b[49m\u001b[43m(\u001b[49m\u001b[43mserver_req\u001b[49m\u001b[43m)\u001b[49m\n",
      "File \u001b[0;32m~/.local/lib/python3.10/site-packages/wandb/sdk/lib/sock_client.py:155\u001b[0m, in \u001b[0;36mSockClient.send_server_request\u001b[0;34m(self, msg)\u001b[0m\n\u001b[1;32m    154\u001b[0m \u001b[38;5;28;01mdef\u001b[39;00m \u001b[38;5;21msend_server_request\u001b[39m(\u001b[38;5;28mself\u001b[39m, msg: Any) \u001b[38;5;241m-\u001b[39m\u001b[38;5;241m>\u001b[39m \u001b[38;5;28;01mNone\u001b[39;00m:\n\u001b[0;32m--> 155\u001b[0m     \u001b[38;5;28;43mself\u001b[39;49m\u001b[38;5;241;43m.\u001b[39;49m\u001b[43m_send_message\u001b[49m\u001b[43m(\u001b[49m\u001b[43mmsg\u001b[49m\u001b[43m)\u001b[49m\n",
      "File \u001b[0;32m~/.local/lib/python3.10/site-packages/wandb/sdk/lib/sock_client.py:152\u001b[0m, in \u001b[0;36mSockClient._send_message\u001b[0;34m(self, msg)\u001b[0m\n\u001b[1;32m    150\u001b[0m header \u001b[38;5;241m=\u001b[39m struct\u001b[38;5;241m.\u001b[39mpack(\u001b[38;5;124m\"\u001b[39m\u001b[38;5;124m<BI\u001b[39m\u001b[38;5;124m\"\u001b[39m, \u001b[38;5;28mord\u001b[39m(\u001b[38;5;124m\"\u001b[39m\u001b[38;5;124mW\u001b[39m\u001b[38;5;124m\"\u001b[39m), raw_size)\n\u001b[1;32m    151\u001b[0m \u001b[38;5;28;01mwith\u001b[39;00m \u001b[38;5;28mself\u001b[39m\u001b[38;5;241m.\u001b[39m_lock:\n\u001b[0;32m--> 152\u001b[0m     \u001b[38;5;28;43mself\u001b[39;49m\u001b[38;5;241;43m.\u001b[39;49m\u001b[43m_sendall_with_error_handle\u001b[49m\u001b[43m(\u001b[49m\u001b[43mheader\u001b[49m\u001b[43m \u001b[49m\u001b[38;5;241;43m+\u001b[39;49m\u001b[43m \u001b[49m\u001b[43mdata\u001b[49m\u001b[43m)\u001b[49m\n",
      "File \u001b[0;32m~/.local/lib/python3.10/site-packages/wandb/sdk/lib/sock_client.py:130\u001b[0m, in \u001b[0;36mSockClient._sendall_with_error_handle\u001b[0;34m(self, data)\u001b[0m\n\u001b[1;32m    128\u001b[0m start_time \u001b[38;5;241m=\u001b[39m time\u001b[38;5;241m.\u001b[39mmonotonic()\n\u001b[1;32m    129\u001b[0m \u001b[38;5;28;01mtry\u001b[39;00m:\n\u001b[0;32m--> 130\u001b[0m     sent \u001b[38;5;241m=\u001b[39m \u001b[38;5;28;43mself\u001b[39;49m\u001b[38;5;241;43m.\u001b[39;49m\u001b[43m_sock\u001b[49m\u001b[38;5;241;43m.\u001b[39;49m\u001b[43msend\u001b[49m\u001b[43m(\u001b[49m\u001b[43mdata\u001b[49m\u001b[43m)\u001b[49m\n\u001b[1;32m    131\u001b[0m     \u001b[38;5;66;03m# sent equal to 0 indicates a closed socket\u001b[39;00m\n\u001b[1;32m    132\u001b[0m     \u001b[38;5;28;01mif\u001b[39;00m sent \u001b[38;5;241m==\u001b[39m \u001b[38;5;241m0\u001b[39m:\n",
      "\u001b[0;31mBrokenPipeError\u001b[0m: [Errno 32] Broken pipe"
     ]
    }
   ],
   "source": [
    "\n",
    "# Define the sweep configuration\n",
    "sweep_config = {\n",
    "    \"name\": \"example_sweep\",\n",
    "    \"method\": \"grid\",  # Other options: \"grid\", \"bayes\"\n",
    "    \"metric\": {\"goal\": \"minimize\", \"name\": \"MSE\"},\n",
    "    \"parameters\": {\n",
    "        \"activation\": {\"values\": [\"sigmoid\", \"tanh\", \"relu\"]},\n",
    "        \"optimizer\": {\"values\": [\"SGD\", \"Batch\", \"MiniBatch\"]},\n",
    "    },\n",
    "    \"early_terminate\": {\n",
    "        \"type\": \"hyperband\",\n",
    "        \"s\": 2,\n",
    "        \"eta\": 3,\n",
    "        \"max_iter\": 27,\n",
    "    },\n",
    "}\n",
    "\n",
    "# Initialize the sweep\n",
    "sweep_id = wandb.sweep(sweep_config, project=\"MLP Regression for all combinations\")\n",
    "\n",
    "# Define your training function\n",
    "def train():\n",
    "    # Access sweep configuration\n",
    "    wandb.init(project=\"MLP Regression for all combinations\")\n",
    "    \n",
    "    config = wandb.config\n",
    "\n",
    "    # Your training code here, using hyperparameters from config\n",
    "    # Example:\n",
    "    activation = config.activation\n",
    "    optimizer = config.optimizer\n",
    "\n",
    "    # Log metrics\n",
    "    np.random.seed(27)\n",
    "    mlp_sgd = Neural_Network(learning_rate=0.001,epochs=5000, inputLayerSize=13, hiddenLayerSize=[13,13,13], outputLayerSize=1)\n",
    "    mlp_sgd.set_activation_function(activation)\n",
    "    mlp_sgd.set_optimizer(optimizer)\n",
    "    loss = mlp_sgd.train(X_train, y_train_array)\n",
    "    y_pred = mlp_sgd.predict(X_val)\n",
    "    y_pred_new = np.array(y_pred).flatten()\n",
    "    mse = ((y_val - y_pred_new) ** 2).mean()\n",
    "    mae = (abs(y_val-y_pred_new)).mean()\n",
    "    print(\"MAE: \", mae)\n",
    "    print(\"MSE: \", mse)\n",
    "    rmse = np.sqrt(mse)\n",
    "    print(\"RMSE: \", rmse)\n",
    "    mean_y_val = y_val.mean()\n",
    "    ssr = ((y_val - y_pred_new) ** 2).sum()\n",
    "    sst = ((y_val - mean_y_val) ** 2).sum()\n",
    "    r2 = 1 - (ssr / sst)\n",
    "    print(\"R squared: \", r2)\n",
    "    wandb.log({\"activation\": activation, \"optimizer\": optimizer, \"MSE\": mse, \"RMSE\": rmse, \"R squared\": r2})\n",
    "\n",
    "# Start the sweep\n",
    "wandb.agent(sweep_id, function=train)\n"
   ]
  },
  {
   "cell_type": "code",
   "execution_count": 10,
   "id": "a76a2a6c-69b0-4707-a5ca-bd5aa318d8a6",
   "metadata": {},
   "outputs": [
    {
     "name": "stdout",
     "output_type": "stream",
     "text": [
      "Error in callback <function _WandbInit._resume_backend at 0x7f9be8b649d0> (for pre_run_cell):\n"
     ]
    },
    {
     "ename": "BrokenPipeError",
     "evalue": "[Errno 32] Broken pipe",
     "output_type": "error",
     "traceback": [
      "\u001b[0;31m---------------------------------------------------------------------------\u001b[0m",
      "\u001b[0;31mBrokenPipeError\u001b[0m                           Traceback (most recent call last)",
      "File \u001b[0;32m~/.local/lib/python3.10/site-packages/backcall/backcall.py:104\u001b[0m, in \u001b[0;36mcallback_prototype.<locals>.adapt.<locals>.adapted\u001b[0;34m(*args, **kwargs)\u001b[0m\n\u001b[1;32m    102\u001b[0m                 kwargs\u001b[38;5;241m.\u001b[39mpop(name)\n\u001b[1;32m    103\u001b[0m \u001b[38;5;66;03m#            print(args, kwargs, unmatched_pos, cut_positional, unmatched_kw)\u001b[39;00m\n\u001b[0;32m--> 104\u001b[0m             \u001b[38;5;28;01mreturn\u001b[39;00m \u001b[43mcallback\u001b[49m\u001b[43m(\u001b[49m\u001b[38;5;241;43m*\u001b[39;49m\u001b[43margs\u001b[49m\u001b[43m,\u001b[49m\u001b[43m \u001b[49m\u001b[38;5;241;43m*\u001b[39;49m\u001b[38;5;241;43m*\u001b[39;49m\u001b[43mkwargs\u001b[49m\u001b[43m)\u001b[49m\n",
      "File \u001b[0;32m~/.local/lib/python3.10/site-packages/wandb/sdk/wandb_init.py:444\u001b[0m, in \u001b[0;36m_WandbInit._resume_backend\u001b[0;34m(self)\u001b[0m\n\u001b[1;32m    442\u001b[0m \u001b[38;5;28;01mif\u001b[39;00m \u001b[38;5;28mself\u001b[39m\u001b[38;5;241m.\u001b[39mbackend \u001b[38;5;129;01mis\u001b[39;00m \u001b[38;5;129;01mnot\u001b[39;00m \u001b[38;5;28;01mNone\u001b[39;00m \u001b[38;5;129;01mand\u001b[39;00m \u001b[38;5;28mself\u001b[39m\u001b[38;5;241m.\u001b[39mbackend\u001b[38;5;241m.\u001b[39minterface \u001b[38;5;129;01mis\u001b[39;00m \u001b[38;5;129;01mnot\u001b[39;00m \u001b[38;5;28;01mNone\u001b[39;00m:\n\u001b[1;32m    443\u001b[0m     logger\u001b[38;5;241m.\u001b[39minfo(\u001b[38;5;124m\"\u001b[39m\u001b[38;5;124mresuming backend\u001b[39m\u001b[38;5;124m\"\u001b[39m)  \u001b[38;5;66;03m# type: ignore\u001b[39;00m\n\u001b[0;32m--> 444\u001b[0m     \u001b[38;5;28;43mself\u001b[39;49m\u001b[38;5;241;43m.\u001b[39;49m\u001b[43mbackend\u001b[49m\u001b[38;5;241;43m.\u001b[39;49m\u001b[43minterface\u001b[49m\u001b[38;5;241;43m.\u001b[39;49m\u001b[43mpublish_resume\u001b[49m\u001b[43m(\u001b[49m\u001b[43m)\u001b[49m\n",
      "File \u001b[0;32m~/.local/lib/python3.10/site-packages/wandb/sdk/interface/interface.py:634\u001b[0m, in \u001b[0;36mInterfaceBase.publish_resume\u001b[0;34m(self)\u001b[0m\n\u001b[1;32m    632\u001b[0m \u001b[38;5;28;01mdef\u001b[39;00m \u001b[38;5;21mpublish_resume\u001b[39m(\u001b[38;5;28mself\u001b[39m) \u001b[38;5;241m-\u001b[39m\u001b[38;5;241m>\u001b[39m \u001b[38;5;28;01mNone\u001b[39;00m:\n\u001b[1;32m    633\u001b[0m     resume \u001b[38;5;241m=\u001b[39m pb\u001b[38;5;241m.\u001b[39mResumeRequest()\n\u001b[0;32m--> 634\u001b[0m     \u001b[38;5;28;43mself\u001b[39;49m\u001b[38;5;241;43m.\u001b[39;49m\u001b[43m_publish_resume\u001b[49m\u001b[43m(\u001b[49m\u001b[43mresume\u001b[49m\u001b[43m)\u001b[49m\n",
      "File \u001b[0;32m~/.local/lib/python3.10/site-packages/wandb/sdk/interface/interface_shared.py:347\u001b[0m, in \u001b[0;36mInterfaceShared._publish_resume\u001b[0;34m(self, resume)\u001b[0m\n\u001b[1;32m    345\u001b[0m \u001b[38;5;28;01mdef\u001b[39;00m \u001b[38;5;21m_publish_resume\u001b[39m(\u001b[38;5;28mself\u001b[39m, resume: pb\u001b[38;5;241m.\u001b[39mResumeRequest) \u001b[38;5;241m-\u001b[39m\u001b[38;5;241m>\u001b[39m \u001b[38;5;28;01mNone\u001b[39;00m:\n\u001b[1;32m    346\u001b[0m     rec \u001b[38;5;241m=\u001b[39m \u001b[38;5;28mself\u001b[39m\u001b[38;5;241m.\u001b[39m_make_request(resume\u001b[38;5;241m=\u001b[39mresume)\n\u001b[0;32m--> 347\u001b[0m     \u001b[38;5;28;43mself\u001b[39;49m\u001b[38;5;241;43m.\u001b[39;49m\u001b[43m_publish\u001b[49m\u001b[43m(\u001b[49m\u001b[43mrec\u001b[49m\u001b[43m)\u001b[49m\n",
      "File \u001b[0;32m~/.local/lib/python3.10/site-packages/wandb/sdk/interface/interface_sock.py:51\u001b[0m, in \u001b[0;36mInterfaceSock._publish\u001b[0;34m(self, record, local)\u001b[0m\n\u001b[1;32m     49\u001b[0m \u001b[38;5;28;01mdef\u001b[39;00m \u001b[38;5;21m_publish\u001b[39m(\u001b[38;5;28mself\u001b[39m, record: \u001b[38;5;124m\"\u001b[39m\u001b[38;5;124mpb.Record\u001b[39m\u001b[38;5;124m\"\u001b[39m, local: Optional[\u001b[38;5;28mbool\u001b[39m] \u001b[38;5;241m=\u001b[39m \u001b[38;5;28;01mNone\u001b[39;00m) \u001b[38;5;241m-\u001b[39m\u001b[38;5;241m>\u001b[39m \u001b[38;5;28;01mNone\u001b[39;00m:\n\u001b[1;32m     50\u001b[0m     \u001b[38;5;28mself\u001b[39m\u001b[38;5;241m.\u001b[39m_assign(record)\n\u001b[0;32m---> 51\u001b[0m     \u001b[38;5;28;43mself\u001b[39;49m\u001b[38;5;241;43m.\u001b[39;49m\u001b[43m_sock_client\u001b[49m\u001b[38;5;241;43m.\u001b[39;49m\u001b[43msend_record_publish\u001b[49m\u001b[43m(\u001b[49m\u001b[43mrecord\u001b[49m\u001b[43m)\u001b[49m\n",
      "File \u001b[0;32m~/.local/lib/python3.10/site-packages/wandb/sdk/lib/sock_client.py:221\u001b[0m, in \u001b[0;36mSockClient.send_record_publish\u001b[0;34m(self, record)\u001b[0m\n\u001b[1;32m    219\u001b[0m server_req \u001b[38;5;241m=\u001b[39m spb\u001b[38;5;241m.\u001b[39mServerRequest()\n\u001b[1;32m    220\u001b[0m server_req\u001b[38;5;241m.\u001b[39mrecord_publish\u001b[38;5;241m.\u001b[39mCopyFrom(record)\n\u001b[0;32m--> 221\u001b[0m \u001b[38;5;28;43mself\u001b[39;49m\u001b[38;5;241;43m.\u001b[39;49m\u001b[43msend_server_request\u001b[49m\u001b[43m(\u001b[49m\u001b[43mserver_req\u001b[49m\u001b[43m)\u001b[49m\n",
      "File \u001b[0;32m~/.local/lib/python3.10/site-packages/wandb/sdk/lib/sock_client.py:155\u001b[0m, in \u001b[0;36mSockClient.send_server_request\u001b[0;34m(self, msg)\u001b[0m\n\u001b[1;32m    154\u001b[0m \u001b[38;5;28;01mdef\u001b[39;00m \u001b[38;5;21msend_server_request\u001b[39m(\u001b[38;5;28mself\u001b[39m, msg: Any) \u001b[38;5;241m-\u001b[39m\u001b[38;5;241m>\u001b[39m \u001b[38;5;28;01mNone\u001b[39;00m:\n\u001b[0;32m--> 155\u001b[0m     \u001b[38;5;28;43mself\u001b[39;49m\u001b[38;5;241;43m.\u001b[39;49m\u001b[43m_send_message\u001b[49m\u001b[43m(\u001b[49m\u001b[43mmsg\u001b[49m\u001b[43m)\u001b[49m\n",
      "File \u001b[0;32m~/.local/lib/python3.10/site-packages/wandb/sdk/lib/sock_client.py:152\u001b[0m, in \u001b[0;36mSockClient._send_message\u001b[0;34m(self, msg)\u001b[0m\n\u001b[1;32m    150\u001b[0m header \u001b[38;5;241m=\u001b[39m struct\u001b[38;5;241m.\u001b[39mpack(\u001b[38;5;124m\"\u001b[39m\u001b[38;5;124m<BI\u001b[39m\u001b[38;5;124m\"\u001b[39m, \u001b[38;5;28mord\u001b[39m(\u001b[38;5;124m\"\u001b[39m\u001b[38;5;124mW\u001b[39m\u001b[38;5;124m\"\u001b[39m), raw_size)\n\u001b[1;32m    151\u001b[0m \u001b[38;5;28;01mwith\u001b[39;00m \u001b[38;5;28mself\u001b[39m\u001b[38;5;241m.\u001b[39m_lock:\n\u001b[0;32m--> 152\u001b[0m     \u001b[38;5;28;43mself\u001b[39;49m\u001b[38;5;241;43m.\u001b[39;49m\u001b[43m_sendall_with_error_handle\u001b[49m\u001b[43m(\u001b[49m\u001b[43mheader\u001b[49m\u001b[43m \u001b[49m\u001b[38;5;241;43m+\u001b[39;49m\u001b[43m \u001b[49m\u001b[43mdata\u001b[49m\u001b[43m)\u001b[49m\n",
      "File \u001b[0;32m~/.local/lib/python3.10/site-packages/wandb/sdk/lib/sock_client.py:130\u001b[0m, in \u001b[0;36mSockClient._sendall_with_error_handle\u001b[0;34m(self, data)\u001b[0m\n\u001b[1;32m    128\u001b[0m start_time \u001b[38;5;241m=\u001b[39m time\u001b[38;5;241m.\u001b[39mmonotonic()\n\u001b[1;32m    129\u001b[0m \u001b[38;5;28;01mtry\u001b[39;00m:\n\u001b[0;32m--> 130\u001b[0m     sent \u001b[38;5;241m=\u001b[39m \u001b[38;5;28;43mself\u001b[39;49m\u001b[38;5;241;43m.\u001b[39;49m\u001b[43m_sock\u001b[49m\u001b[38;5;241;43m.\u001b[39;49m\u001b[43msend\u001b[49m\u001b[43m(\u001b[49m\u001b[43mdata\u001b[49m\u001b[43m)\u001b[49m\n\u001b[1;32m    131\u001b[0m     \u001b[38;5;66;03m# sent equal to 0 indicates a closed socket\u001b[39;00m\n\u001b[1;32m    132\u001b[0m     \u001b[38;5;28;01mif\u001b[39;00m sent \u001b[38;5;241m==\u001b[39m \u001b[38;5;241m0\u001b[39m:\n",
      "\u001b[0;31mBrokenPipeError\u001b[0m: [Errno 32] Broken pipe"
     ]
    },
    {
     "name": "stdout",
     "output_type": "stream",
     "text": [
      "41.848603233637924 ['sigmoid', 'Batch', 0.001, 10, [13]]\n",
      "67.18609656449077 ['sigmoid', 'Batch', 0.001, 10, [13, 13]]\n",
      "67.19447343357258 ['sigmoid', 'Batch', 0.001, 10, [13, 13, 13]]\n",
      "67.1991253051949 ['sigmoid', 'Batch', 0.001, 10, [13, 13, 13, 13]]\n",
      "66.93725227370837 ['sigmoid', 'Batch', 0.001, 10, [13, 13, 13, 13, 13]]\n",
      "32.969165608744916 ['sigmoid', 'Batch', 0.001, 100, [13]]\n",
      "44.25718935061583 ['sigmoid', 'Batch', 0.001, 100, [13, 13]]\n",
      "38.5654301480893 ['sigmoid', 'Batch', 0.001, 100, [13, 13, 13]]\n",
      "34.63811252095314 ['sigmoid', 'Batch', 0.001, 100, [13, 13, 13, 13]]\n",
      "67.13245647119481 ['sigmoid', 'Batch', 0.001, 100, [13, 13, 13, 13, 13]]\n",
      "10.393579690519456 ['sigmoid', 'Batch', 0.001, 1000, [13]]\n",
      "11.995126082714837 ['sigmoid', 'Batch', 0.001, 1000, [13, 13]]\n",
      "9.623851272406647 ['sigmoid', 'Batch', 0.001, 1000, [13, 13, 13]]\n",
      "27.378654114226126 ['sigmoid', 'Batch', 0.001, 1000, [13, 13, 13, 13]]\n",
      "67.19461061046621 ['sigmoid', 'Batch', 0.001, 1000, [13, 13, 13, 13, 13]]\n",
      "18.60105617616258 ['sigmoid', 'Batch', 0.001, 10000, [13]]\n",
      "16.425082944847368 ['sigmoid', 'Batch', 0.001, 10000, [13, 13]]\n",
      "13.854918434677343 ['sigmoid', 'Batch', 0.001, 10000, [13, 13, 13]]\n",
      "16.202979418130287 ['sigmoid', 'Batch', 0.001, 10000, [13, 13, 13, 13]]\n",
      "12.184328170607218 ['sigmoid', 'Batch', 0.001, 10000, [13, 13, 13, 13, 13]]\n",
      "68.6567327814476 ['sigmoid', 'Batch', 0.0001, 10, [13]]\n",
      "87.35025257287802 ['sigmoid', 'Batch', 0.0001, 10, [13, 13]]\n",
      "73.39292186607993 ['sigmoid', 'Batch', 0.0001, 10, [13, 13, 13]]\n",
      "68.09659117103008 ['sigmoid', 'Batch', 0.0001, 10, [13, 13, 13, 13]]\n",
      "82.47087590976643 ['sigmoid', 'Batch', 0.0001, 10, [13, 13, 13, 13, 13]]\n",
      "26.680860117249324 ['sigmoid', 'Batch', 0.0001, 100, [13]]\n",
      "25.991404310216076 ['sigmoid', 'Batch', 0.0001, 100, [13, 13]]\n",
      "32.25495480767329 ['sigmoid', 'Batch', 0.0001, 100, [13, 13, 13]]\n",
      "26.75363221969668 ['sigmoid', 'Batch', 0.0001, 100, [13, 13, 13, 13]]\n",
      "33.25114731063787 ['sigmoid', 'Batch', 0.0001, 100, [13, 13, 13, 13, 13]]\n",
      "13.48442662595684 ['sigmoid', 'Batch', 0.0001, 1000, [13]]\n",
      "10.996673673368623 ['sigmoid', 'Batch', 0.0001, 1000, [13, 13]]\n",
      "12.704990526883217 ['sigmoid', 'Batch', 0.0001, 1000, [13, 13, 13]]\n",
      "12.224380962963576 ['sigmoid', 'Batch', 0.0001, 1000, [13, 13, 13, 13]]\n",
      "14.436839664928579 ['sigmoid', 'Batch', 0.0001, 1000, [13, 13, 13, 13, 13]]\n",
      "11.68731491168494 ['sigmoid', 'Batch', 0.0001, 10000, [13]]\n",
      "14.143199587864785 ['sigmoid', 'Batch', 0.0001, 10000, [13, 13]]\n",
      "17.507736907807843 ['sigmoid', 'Batch', 0.0001, 10000, [13, 13, 13]]\n",
      "10.234166542985216 ['sigmoid', 'Batch', 0.0001, 10000, [13, 13, 13, 13]]\n",
      "14.130792662317935 ['sigmoid', 'Batch', 0.0001, 10000, [13, 13, 13, 13, 13]]\n",
      "Best Hyperparameters:\n",
      "MSE                      9.623851\n",
      "RMSE                     3.102233\n",
      "R Squared                0.853665\n",
      "Activation                sigmoid\n",
      "Optimizer                   Batch\n",
      "Learning Rate               0.001\n",
      "Epochs                       1000\n",
      "Hidden Layer Size    [13, 13, 13]\n",
      "Name: 12, dtype: object\n",
      "\n",
      "Results Table:\n",
      "          MSE      RMSE  R Squared Activation Optimizer  Learning Rate  \\\n",
      "0   41.848603  6.469050   0.363674    sigmoid     Batch         0.0010   \n",
      "1   67.186097  8.196713  -0.021594    sigmoid     Batch         0.0010   \n",
      "2   67.194473  8.197224  -0.021721    sigmoid     Batch         0.0010   \n",
      "3   67.199125  8.197507  -0.021792    sigmoid     Batch         0.0010   \n",
      "4   66.937252  8.181519  -0.017810    sigmoid     Batch         0.0010   \n",
      "5   32.969166  5.741878   0.498690    sigmoid     Batch         0.0010   \n",
      "6   44.257189  6.652608   0.327050    sigmoid     Batch         0.0010   \n",
      "7   38.565430  6.210107   0.413596    sigmoid     Batch         0.0010   \n",
      "8   34.638113  5.885415   0.473312    sigmoid     Batch         0.0010   \n",
      "9   67.132456  8.193440  -0.020778    sigmoid     Batch         0.0010   \n",
      "10  10.393580  3.223908   0.841961    sigmoid     Batch         0.0010   \n",
      "11  11.995126  3.463398   0.817609    sigmoid     Batch         0.0010   \n",
      "12   9.623851  3.102233   0.853665    sigmoid     Batch         0.0010   \n",
      "13  27.378654  5.232462   0.583696    sigmoid     Batch         0.0010   \n",
      "14  67.194611  8.197232  -0.021723    sigmoid     Batch         0.0010   \n",
      "15  18.601056  4.312894   0.717163    sigmoid     Batch         0.0010   \n",
      "16  16.425083  4.052787   0.750249    sigmoid     Batch         0.0010   \n",
      "17  13.854918  3.722220   0.789330    sigmoid     Batch         0.0010   \n",
      "18  16.202979  4.025292   0.753627    sigmoid     Batch         0.0010   \n",
      "19  12.184328  3.490606   0.814732    sigmoid     Batch         0.0010   \n",
      "20  68.656733  8.285936  -0.043955    sigmoid     Batch         0.0001   \n",
      "21  87.350253  9.346136  -0.328198    sigmoid     Batch         0.0001   \n",
      "22  73.392922  8.566967  -0.115971    sigmoid     Batch         0.0001   \n",
      "23  68.096591  8.252066  -0.035438    sigmoid     Batch         0.0001   \n",
      "24  82.470876  9.081348  -0.254005    sigmoid     Batch         0.0001   \n",
      "25  26.680860  5.165352   0.594306    sigmoid     Batch         0.0001   \n",
      "26  25.991404  5.098177   0.604789    sigmoid     Batch         0.0001   \n",
      "27  32.254955  5.679345   0.509549    sigmoid     Batch         0.0001   \n",
      "28  26.753632  5.172391   0.593199    sigmoid     Batch         0.0001   \n",
      "29  33.251147  5.766381   0.494402    sigmoid     Batch         0.0001   \n",
      "30  13.484427  3.672115   0.794963    sigmoid     Batch         0.0001   \n",
      "31  10.996674  3.316123   0.832791    sigmoid     Batch         0.0001   \n",
      "32  12.704991  3.564406   0.806815    sigmoid     Batch         0.0001   \n",
      "33  12.224381  3.496338   0.814123    sigmoid     Batch         0.0001   \n",
      "34  14.436840  3.799584   0.780482    sigmoid     Batch         0.0001   \n",
      "35  11.687315  3.418672   0.822289    sigmoid     Batch         0.0001   \n",
      "36  14.143200  3.760745   0.784947    sigmoid     Batch         0.0001   \n",
      "37  17.507737  4.184225   0.733787    sigmoid     Batch         0.0001   \n",
      "38  10.234167  3.199088   0.844385    sigmoid     Batch         0.0001   \n",
      "39  14.130793  3.759095   0.785135    sigmoid     Batch         0.0001   \n",
      "\n",
      "    Epochs     Hidden Layer Size  \n",
      "0       10                  [13]  \n",
      "1       10              [13, 13]  \n",
      "2       10          [13, 13, 13]  \n",
      "3       10      [13, 13, 13, 13]  \n",
      "4       10  [13, 13, 13, 13, 13]  \n",
      "5      100                  [13]  \n",
      "6      100              [13, 13]  \n",
      "7      100          [13, 13, 13]  \n",
      "8      100      [13, 13, 13, 13]  \n",
      "9      100  [13, 13, 13, 13, 13]  \n",
      "10    1000                  [13]  \n",
      "11    1000              [13, 13]  \n",
      "12    1000          [13, 13, 13]  \n",
      "13    1000      [13, 13, 13, 13]  \n",
      "14    1000  [13, 13, 13, 13, 13]  \n",
      "15   10000                  [13]  \n",
      "16   10000              [13, 13]  \n",
      "17   10000          [13, 13, 13]  \n",
      "18   10000      [13, 13, 13, 13]  \n",
      "19   10000  [13, 13, 13, 13, 13]  \n",
      "20      10                  [13]  \n",
      "21      10              [13, 13]  \n",
      "22      10          [13, 13, 13]  \n",
      "23      10      [13, 13, 13, 13]  \n",
      "24      10  [13, 13, 13, 13, 13]  \n",
      "25     100                  [13]  \n",
      "26     100              [13, 13]  \n",
      "27     100          [13, 13, 13]  \n",
      "28     100      [13, 13, 13, 13]  \n",
      "29     100  [13, 13, 13, 13, 13]  \n",
      "30    1000                  [13]  \n",
      "31    1000              [13, 13]  \n",
      "32    1000          [13, 13, 13]  \n",
      "33    1000      [13, 13, 13, 13]  \n",
      "34    1000  [13, 13, 13, 13, 13]  \n",
      "35   10000                  [13]  \n",
      "36   10000              [13, 13]  \n",
      "37   10000          [13, 13, 13]  \n",
      "38   10000      [13, 13, 13, 13]  \n",
      "39   10000  [13, 13, 13, 13, 13]  \n",
      "Error in callback <function _WandbInit._pause_backend at 0x7f9be6171900> (for post_run_cell):\n"
     ]
    },
    {
     "ename": "BrokenPipeError",
     "evalue": "[Errno 32] Broken pipe",
     "output_type": "error",
     "traceback": [
      "\u001b[0;31m---------------------------------------------------------------------------\u001b[0m",
      "\u001b[0;31mBrokenPipeError\u001b[0m                           Traceback (most recent call last)",
      "File \u001b[0;32m~/.local/lib/python3.10/site-packages/backcall/backcall.py:104\u001b[0m, in \u001b[0;36mcallback_prototype.<locals>.adapt.<locals>.adapted\u001b[0;34m(*args, **kwargs)\u001b[0m\n\u001b[1;32m    102\u001b[0m                 kwargs\u001b[38;5;241m.\u001b[39mpop(name)\n\u001b[1;32m    103\u001b[0m \u001b[38;5;66;03m#            print(args, kwargs, unmatched_pos, cut_positional, unmatched_kw)\u001b[39;00m\n\u001b[0;32m--> 104\u001b[0m             \u001b[38;5;28;01mreturn\u001b[39;00m \u001b[43mcallback\u001b[49m\u001b[43m(\u001b[49m\u001b[38;5;241;43m*\u001b[39;49m\u001b[43margs\u001b[49m\u001b[43m,\u001b[49m\u001b[43m \u001b[49m\u001b[38;5;241;43m*\u001b[39;49m\u001b[38;5;241;43m*\u001b[39;49m\u001b[43mkwargs\u001b[49m\u001b[43m)\u001b[49m\n",
      "File \u001b[0;32m~/.local/lib/python3.10/site-packages/wandb/sdk/wandb_init.py:439\u001b[0m, in \u001b[0;36m_WandbInit._pause_backend\u001b[0;34m(self)\u001b[0m\n\u001b[1;32m    437\u001b[0m \u001b[38;5;28;01mif\u001b[39;00m \u001b[38;5;28mself\u001b[39m\u001b[38;5;241m.\u001b[39mbackend\u001b[38;5;241m.\u001b[39minterface \u001b[38;5;129;01mis\u001b[39;00m \u001b[38;5;129;01mnot\u001b[39;00m \u001b[38;5;28;01mNone\u001b[39;00m:\n\u001b[1;32m    438\u001b[0m     logger\u001b[38;5;241m.\u001b[39minfo(\u001b[38;5;124m\"\u001b[39m\u001b[38;5;124mpausing backend\u001b[39m\u001b[38;5;124m\"\u001b[39m)  \u001b[38;5;66;03m# type: ignore\u001b[39;00m\n\u001b[0;32m--> 439\u001b[0m     \u001b[38;5;28;43mself\u001b[39;49m\u001b[38;5;241;43m.\u001b[39;49m\u001b[43mbackend\u001b[49m\u001b[38;5;241;43m.\u001b[39;49m\u001b[43minterface\u001b[49m\u001b[38;5;241;43m.\u001b[39;49m\u001b[43mpublish_pause\u001b[49m\u001b[43m(\u001b[49m\u001b[43m)\u001b[49m\n",
      "File \u001b[0;32m~/.local/lib/python3.10/site-packages/wandb/sdk/interface/interface.py:626\u001b[0m, in \u001b[0;36mInterfaceBase.publish_pause\u001b[0;34m(self)\u001b[0m\n\u001b[1;32m    624\u001b[0m \u001b[38;5;28;01mdef\u001b[39;00m \u001b[38;5;21mpublish_pause\u001b[39m(\u001b[38;5;28mself\u001b[39m) \u001b[38;5;241m-\u001b[39m\u001b[38;5;241m>\u001b[39m \u001b[38;5;28;01mNone\u001b[39;00m:\n\u001b[1;32m    625\u001b[0m     pause \u001b[38;5;241m=\u001b[39m pb\u001b[38;5;241m.\u001b[39mPauseRequest()\n\u001b[0;32m--> 626\u001b[0m     \u001b[38;5;28;43mself\u001b[39;49m\u001b[38;5;241;43m.\u001b[39;49m\u001b[43m_publish_pause\u001b[49m\u001b[43m(\u001b[49m\u001b[43mpause\u001b[49m\u001b[43m)\u001b[49m\n",
      "File \u001b[0;32m~/.local/lib/python3.10/site-packages/wandb/sdk/interface/interface_shared.py:343\u001b[0m, in \u001b[0;36mInterfaceShared._publish_pause\u001b[0;34m(self, pause)\u001b[0m\n\u001b[1;32m    341\u001b[0m \u001b[38;5;28;01mdef\u001b[39;00m \u001b[38;5;21m_publish_pause\u001b[39m(\u001b[38;5;28mself\u001b[39m, pause: pb\u001b[38;5;241m.\u001b[39mPauseRequest) \u001b[38;5;241m-\u001b[39m\u001b[38;5;241m>\u001b[39m \u001b[38;5;28;01mNone\u001b[39;00m:\n\u001b[1;32m    342\u001b[0m     rec \u001b[38;5;241m=\u001b[39m \u001b[38;5;28mself\u001b[39m\u001b[38;5;241m.\u001b[39m_make_request(pause\u001b[38;5;241m=\u001b[39mpause)\n\u001b[0;32m--> 343\u001b[0m     \u001b[38;5;28;43mself\u001b[39;49m\u001b[38;5;241;43m.\u001b[39;49m\u001b[43m_publish\u001b[49m\u001b[43m(\u001b[49m\u001b[43mrec\u001b[49m\u001b[43m)\u001b[49m\n",
      "File \u001b[0;32m~/.local/lib/python3.10/site-packages/wandb/sdk/interface/interface_sock.py:51\u001b[0m, in \u001b[0;36mInterfaceSock._publish\u001b[0;34m(self, record, local)\u001b[0m\n\u001b[1;32m     49\u001b[0m \u001b[38;5;28;01mdef\u001b[39;00m \u001b[38;5;21m_publish\u001b[39m(\u001b[38;5;28mself\u001b[39m, record: \u001b[38;5;124m\"\u001b[39m\u001b[38;5;124mpb.Record\u001b[39m\u001b[38;5;124m\"\u001b[39m, local: Optional[\u001b[38;5;28mbool\u001b[39m] \u001b[38;5;241m=\u001b[39m \u001b[38;5;28;01mNone\u001b[39;00m) \u001b[38;5;241m-\u001b[39m\u001b[38;5;241m>\u001b[39m \u001b[38;5;28;01mNone\u001b[39;00m:\n\u001b[1;32m     50\u001b[0m     \u001b[38;5;28mself\u001b[39m\u001b[38;5;241m.\u001b[39m_assign(record)\n\u001b[0;32m---> 51\u001b[0m     \u001b[38;5;28;43mself\u001b[39;49m\u001b[38;5;241;43m.\u001b[39;49m\u001b[43m_sock_client\u001b[49m\u001b[38;5;241;43m.\u001b[39;49m\u001b[43msend_record_publish\u001b[49m\u001b[43m(\u001b[49m\u001b[43mrecord\u001b[49m\u001b[43m)\u001b[49m\n",
      "File \u001b[0;32m~/.local/lib/python3.10/site-packages/wandb/sdk/lib/sock_client.py:221\u001b[0m, in \u001b[0;36mSockClient.send_record_publish\u001b[0;34m(self, record)\u001b[0m\n\u001b[1;32m    219\u001b[0m server_req \u001b[38;5;241m=\u001b[39m spb\u001b[38;5;241m.\u001b[39mServerRequest()\n\u001b[1;32m    220\u001b[0m server_req\u001b[38;5;241m.\u001b[39mrecord_publish\u001b[38;5;241m.\u001b[39mCopyFrom(record)\n\u001b[0;32m--> 221\u001b[0m \u001b[38;5;28;43mself\u001b[39;49m\u001b[38;5;241;43m.\u001b[39;49m\u001b[43msend_server_request\u001b[49m\u001b[43m(\u001b[49m\u001b[43mserver_req\u001b[49m\u001b[43m)\u001b[49m\n",
      "File \u001b[0;32m~/.local/lib/python3.10/site-packages/wandb/sdk/lib/sock_client.py:155\u001b[0m, in \u001b[0;36mSockClient.send_server_request\u001b[0;34m(self, msg)\u001b[0m\n\u001b[1;32m    154\u001b[0m \u001b[38;5;28;01mdef\u001b[39;00m \u001b[38;5;21msend_server_request\u001b[39m(\u001b[38;5;28mself\u001b[39m, msg: Any) \u001b[38;5;241m-\u001b[39m\u001b[38;5;241m>\u001b[39m \u001b[38;5;28;01mNone\u001b[39;00m:\n\u001b[0;32m--> 155\u001b[0m     \u001b[38;5;28;43mself\u001b[39;49m\u001b[38;5;241;43m.\u001b[39;49m\u001b[43m_send_message\u001b[49m\u001b[43m(\u001b[49m\u001b[43mmsg\u001b[49m\u001b[43m)\u001b[49m\n",
      "File \u001b[0;32m~/.local/lib/python3.10/site-packages/wandb/sdk/lib/sock_client.py:152\u001b[0m, in \u001b[0;36mSockClient._send_message\u001b[0;34m(self, msg)\u001b[0m\n\u001b[1;32m    150\u001b[0m header \u001b[38;5;241m=\u001b[39m struct\u001b[38;5;241m.\u001b[39mpack(\u001b[38;5;124m\"\u001b[39m\u001b[38;5;124m<BI\u001b[39m\u001b[38;5;124m\"\u001b[39m, \u001b[38;5;28mord\u001b[39m(\u001b[38;5;124m\"\u001b[39m\u001b[38;5;124mW\u001b[39m\u001b[38;5;124m\"\u001b[39m), raw_size)\n\u001b[1;32m    151\u001b[0m \u001b[38;5;28;01mwith\u001b[39;00m \u001b[38;5;28mself\u001b[39m\u001b[38;5;241m.\u001b[39m_lock:\n\u001b[0;32m--> 152\u001b[0m     \u001b[38;5;28;43mself\u001b[39;49m\u001b[38;5;241;43m.\u001b[39;49m\u001b[43m_sendall_with_error_handle\u001b[49m\u001b[43m(\u001b[49m\u001b[43mheader\u001b[49m\u001b[43m \u001b[49m\u001b[38;5;241;43m+\u001b[39;49m\u001b[43m \u001b[49m\u001b[43mdata\u001b[49m\u001b[43m)\u001b[49m\n",
      "File \u001b[0;32m~/.local/lib/python3.10/site-packages/wandb/sdk/lib/sock_client.py:130\u001b[0m, in \u001b[0;36mSockClient._sendall_with_error_handle\u001b[0;34m(self, data)\u001b[0m\n\u001b[1;32m    128\u001b[0m start_time \u001b[38;5;241m=\u001b[39m time\u001b[38;5;241m.\u001b[39mmonotonic()\n\u001b[1;32m    129\u001b[0m \u001b[38;5;28;01mtry\u001b[39;00m:\n\u001b[0;32m--> 130\u001b[0m     sent \u001b[38;5;241m=\u001b[39m \u001b[38;5;28;43mself\u001b[39;49m\u001b[38;5;241;43m.\u001b[39;49m\u001b[43m_sock\u001b[49m\u001b[38;5;241;43m.\u001b[39;49m\u001b[43msend\u001b[49m\u001b[43m(\u001b[49m\u001b[43mdata\u001b[49m\u001b[43m)\u001b[49m\n\u001b[1;32m    131\u001b[0m     \u001b[38;5;66;03m# sent equal to 0 indicates a closed socket\u001b[39;00m\n\u001b[1;32m    132\u001b[0m     \u001b[38;5;28;01mif\u001b[39;00m sent \u001b[38;5;241m==\u001b[39m \u001b[38;5;241m0\u001b[39m:\n",
      "\u001b[0;31mBrokenPipeError\u001b[0m: [Errno 32] Broken pipe"
     ]
    }
   ],
   "source": [
    "# activation = [\"sigmoid\", \"tanh\", \"relu\"]\n",
    "# optimizer = [\"SGD\", \"Batch\", \"MiniBatch\"]\n",
    "activation = [\"sigmoid\"]\n",
    "optimizer = [\"Batch\"]\n",
    "learning_rates = [0.001,0.0001]\n",
    "epochs = [10,100,1000,10000]\n",
    "hiddenlayersize = [[13], [13,13], [13,13,13], [13,13,13,13], [13,13,13,13,13]]\n",
    "np.random.seed(42)\n",
    "results = []\n",
    "hyperparameters = []\n",
    "for i in activation:\n",
    "    for j in optimizer:\n",
    "        for k in learning_rates:\n",
    "            for l in epochs:\n",
    "                for m in hiddenlayersize:\n",
    "                    model = Neural_Network(learning_rate=k, epochs=l,inputLayerSize=13, hiddenLayerSize=m, outputLayerSize=1)\n",
    "                    model.set_activation_function(i)\n",
    "                    model.set_optimizer(j)\n",
    "                    model.train(X_train, y_train_array)\n",
    "                    y_pred = model.predict(X_val)\n",
    "                    y_pred_new = np.array(y_pred).flatten()\n",
    "                    mse = ((y_val - y_pred_new) ** 2).mean()\n",
    "                    mae = (abs(y_val-y_pred_new)).mean()\n",
    "                    rmse = np.sqrt(mse)\n",
    "                    mean_y_val = y_val.mean()\n",
    "                    ssr = ((y_val - y_pred_new) ** 2).sum()\n",
    "                    sst = ((y_val - mean_y_val) ** 2).sum()\n",
    "                    r2 = 1 - (ssr / sst)\n",
    "                    print(mse, [i,j,k,l,m])\n",
    "                    results.append([mse,rmse,r2])\n",
    "                    hyperparameters.append([i, j, k, l, m])\n",
    "result_df = pd.DataFrame(results, columns=['MSE', 'RMSE', 'R Squared'])\n",
    "result_df['Activation'] = [param[0] for param in hyperparameters]\n",
    "result_df['Optimizer'] = [param[1] for param in hyperparameters]\n",
    "result_df['Learning Rate'] = [param[2] for param in hyperparameters]\n",
    "result_df['Epochs'] = [param[3] for param in hyperparameters]\n",
    "result_df['Hidden Layer Size'] = [param[4] for param in hyperparameters]\n",
    "\n",
    "# Find the hyperparameter combination with the highest accuracy\n",
    "best_hyperparameters = result_df.loc[result_df['MSE'].idxmin()]\n",
    "\n",
    "# Print the best hyperparameter combination and its corresponding metrics\n",
    "print(\"Best Hyperparameters:\")\n",
    "print(best_hyperparameters)\n",
    "\n",
    "# Print the results table\n",
    "print(\"\\nResults Table:\")\n",
    "print(result_df)            \n",
    "                    \n"
   ]
  },
  {
   "cell_type": "code",
   "execution_count": 11,
   "id": "f6be053a-637d-4462-b60a-caf8f5256607",
   "metadata": {},
   "outputs": [
    {
     "name": "stdout",
     "output_type": "stream",
     "text": [
      "Error in callback <function _WandbInit._resume_backend at 0x7f9be8b649d0> (for pre_run_cell):\n"
     ]
    },
    {
     "ename": "BrokenPipeError",
     "evalue": "[Errno 32] Broken pipe",
     "output_type": "error",
     "traceback": [
      "\u001b[0;31m---------------------------------------------------------------------------\u001b[0m",
      "\u001b[0;31mBrokenPipeError\u001b[0m                           Traceback (most recent call last)",
      "File \u001b[0;32m~/.local/lib/python3.10/site-packages/backcall/backcall.py:104\u001b[0m, in \u001b[0;36mcallback_prototype.<locals>.adapt.<locals>.adapted\u001b[0;34m(*args, **kwargs)\u001b[0m\n\u001b[1;32m    102\u001b[0m                 kwargs\u001b[38;5;241m.\u001b[39mpop(name)\n\u001b[1;32m    103\u001b[0m \u001b[38;5;66;03m#            print(args, kwargs, unmatched_pos, cut_positional, unmatched_kw)\u001b[39;00m\n\u001b[0;32m--> 104\u001b[0m             \u001b[38;5;28;01mreturn\u001b[39;00m \u001b[43mcallback\u001b[49m\u001b[43m(\u001b[49m\u001b[38;5;241;43m*\u001b[39;49m\u001b[43margs\u001b[49m\u001b[43m,\u001b[49m\u001b[43m \u001b[49m\u001b[38;5;241;43m*\u001b[39;49m\u001b[38;5;241;43m*\u001b[39;49m\u001b[43mkwargs\u001b[49m\u001b[43m)\u001b[49m\n",
      "File \u001b[0;32m~/.local/lib/python3.10/site-packages/wandb/sdk/wandb_init.py:444\u001b[0m, in \u001b[0;36m_WandbInit._resume_backend\u001b[0;34m(self)\u001b[0m\n\u001b[1;32m    442\u001b[0m \u001b[38;5;28;01mif\u001b[39;00m \u001b[38;5;28mself\u001b[39m\u001b[38;5;241m.\u001b[39mbackend \u001b[38;5;129;01mis\u001b[39;00m \u001b[38;5;129;01mnot\u001b[39;00m \u001b[38;5;28;01mNone\u001b[39;00m \u001b[38;5;129;01mand\u001b[39;00m \u001b[38;5;28mself\u001b[39m\u001b[38;5;241m.\u001b[39mbackend\u001b[38;5;241m.\u001b[39minterface \u001b[38;5;129;01mis\u001b[39;00m \u001b[38;5;129;01mnot\u001b[39;00m \u001b[38;5;28;01mNone\u001b[39;00m:\n\u001b[1;32m    443\u001b[0m     logger\u001b[38;5;241m.\u001b[39minfo(\u001b[38;5;124m\"\u001b[39m\u001b[38;5;124mresuming backend\u001b[39m\u001b[38;5;124m\"\u001b[39m)  \u001b[38;5;66;03m# type: ignore\u001b[39;00m\n\u001b[0;32m--> 444\u001b[0m     \u001b[38;5;28;43mself\u001b[39;49m\u001b[38;5;241;43m.\u001b[39;49m\u001b[43mbackend\u001b[49m\u001b[38;5;241;43m.\u001b[39;49m\u001b[43minterface\u001b[49m\u001b[38;5;241;43m.\u001b[39;49m\u001b[43mpublish_resume\u001b[49m\u001b[43m(\u001b[49m\u001b[43m)\u001b[49m\n",
      "File \u001b[0;32m~/.local/lib/python3.10/site-packages/wandb/sdk/interface/interface.py:634\u001b[0m, in \u001b[0;36mInterfaceBase.publish_resume\u001b[0;34m(self)\u001b[0m\n\u001b[1;32m    632\u001b[0m \u001b[38;5;28;01mdef\u001b[39;00m \u001b[38;5;21mpublish_resume\u001b[39m(\u001b[38;5;28mself\u001b[39m) \u001b[38;5;241m-\u001b[39m\u001b[38;5;241m>\u001b[39m \u001b[38;5;28;01mNone\u001b[39;00m:\n\u001b[1;32m    633\u001b[0m     resume \u001b[38;5;241m=\u001b[39m pb\u001b[38;5;241m.\u001b[39mResumeRequest()\n\u001b[0;32m--> 634\u001b[0m     \u001b[38;5;28;43mself\u001b[39;49m\u001b[38;5;241;43m.\u001b[39;49m\u001b[43m_publish_resume\u001b[49m\u001b[43m(\u001b[49m\u001b[43mresume\u001b[49m\u001b[43m)\u001b[49m\n",
      "File \u001b[0;32m~/.local/lib/python3.10/site-packages/wandb/sdk/interface/interface_shared.py:347\u001b[0m, in \u001b[0;36mInterfaceShared._publish_resume\u001b[0;34m(self, resume)\u001b[0m\n\u001b[1;32m    345\u001b[0m \u001b[38;5;28;01mdef\u001b[39;00m \u001b[38;5;21m_publish_resume\u001b[39m(\u001b[38;5;28mself\u001b[39m, resume: pb\u001b[38;5;241m.\u001b[39mResumeRequest) \u001b[38;5;241m-\u001b[39m\u001b[38;5;241m>\u001b[39m \u001b[38;5;28;01mNone\u001b[39;00m:\n\u001b[1;32m    346\u001b[0m     rec \u001b[38;5;241m=\u001b[39m \u001b[38;5;28mself\u001b[39m\u001b[38;5;241m.\u001b[39m_make_request(resume\u001b[38;5;241m=\u001b[39mresume)\n\u001b[0;32m--> 347\u001b[0m     \u001b[38;5;28;43mself\u001b[39;49m\u001b[38;5;241;43m.\u001b[39;49m\u001b[43m_publish\u001b[49m\u001b[43m(\u001b[49m\u001b[43mrec\u001b[49m\u001b[43m)\u001b[49m\n",
      "File \u001b[0;32m~/.local/lib/python3.10/site-packages/wandb/sdk/interface/interface_sock.py:51\u001b[0m, in \u001b[0;36mInterfaceSock._publish\u001b[0;34m(self, record, local)\u001b[0m\n\u001b[1;32m     49\u001b[0m \u001b[38;5;28;01mdef\u001b[39;00m \u001b[38;5;21m_publish\u001b[39m(\u001b[38;5;28mself\u001b[39m, record: \u001b[38;5;124m\"\u001b[39m\u001b[38;5;124mpb.Record\u001b[39m\u001b[38;5;124m\"\u001b[39m, local: Optional[\u001b[38;5;28mbool\u001b[39m] \u001b[38;5;241m=\u001b[39m \u001b[38;5;28;01mNone\u001b[39;00m) \u001b[38;5;241m-\u001b[39m\u001b[38;5;241m>\u001b[39m \u001b[38;5;28;01mNone\u001b[39;00m:\n\u001b[1;32m     50\u001b[0m     \u001b[38;5;28mself\u001b[39m\u001b[38;5;241m.\u001b[39m_assign(record)\n\u001b[0;32m---> 51\u001b[0m     \u001b[38;5;28;43mself\u001b[39;49m\u001b[38;5;241;43m.\u001b[39;49m\u001b[43m_sock_client\u001b[49m\u001b[38;5;241;43m.\u001b[39;49m\u001b[43msend_record_publish\u001b[49m\u001b[43m(\u001b[49m\u001b[43mrecord\u001b[49m\u001b[43m)\u001b[49m\n",
      "File \u001b[0;32m~/.local/lib/python3.10/site-packages/wandb/sdk/lib/sock_client.py:221\u001b[0m, in \u001b[0;36mSockClient.send_record_publish\u001b[0;34m(self, record)\u001b[0m\n\u001b[1;32m    219\u001b[0m server_req \u001b[38;5;241m=\u001b[39m spb\u001b[38;5;241m.\u001b[39mServerRequest()\n\u001b[1;32m    220\u001b[0m server_req\u001b[38;5;241m.\u001b[39mrecord_publish\u001b[38;5;241m.\u001b[39mCopyFrom(record)\n\u001b[0;32m--> 221\u001b[0m \u001b[38;5;28;43mself\u001b[39;49m\u001b[38;5;241;43m.\u001b[39;49m\u001b[43msend_server_request\u001b[49m\u001b[43m(\u001b[49m\u001b[43mserver_req\u001b[49m\u001b[43m)\u001b[49m\n",
      "File \u001b[0;32m~/.local/lib/python3.10/site-packages/wandb/sdk/lib/sock_client.py:155\u001b[0m, in \u001b[0;36mSockClient.send_server_request\u001b[0;34m(self, msg)\u001b[0m\n\u001b[1;32m    154\u001b[0m \u001b[38;5;28;01mdef\u001b[39;00m \u001b[38;5;21msend_server_request\u001b[39m(\u001b[38;5;28mself\u001b[39m, msg: Any) \u001b[38;5;241m-\u001b[39m\u001b[38;5;241m>\u001b[39m \u001b[38;5;28;01mNone\u001b[39;00m:\n\u001b[0;32m--> 155\u001b[0m     \u001b[38;5;28;43mself\u001b[39;49m\u001b[38;5;241;43m.\u001b[39;49m\u001b[43m_send_message\u001b[49m\u001b[43m(\u001b[49m\u001b[43mmsg\u001b[49m\u001b[43m)\u001b[49m\n",
      "File \u001b[0;32m~/.local/lib/python3.10/site-packages/wandb/sdk/lib/sock_client.py:152\u001b[0m, in \u001b[0;36mSockClient._send_message\u001b[0;34m(self, msg)\u001b[0m\n\u001b[1;32m    150\u001b[0m header \u001b[38;5;241m=\u001b[39m struct\u001b[38;5;241m.\u001b[39mpack(\u001b[38;5;124m\"\u001b[39m\u001b[38;5;124m<BI\u001b[39m\u001b[38;5;124m\"\u001b[39m, \u001b[38;5;28mord\u001b[39m(\u001b[38;5;124m\"\u001b[39m\u001b[38;5;124mW\u001b[39m\u001b[38;5;124m\"\u001b[39m), raw_size)\n\u001b[1;32m    151\u001b[0m \u001b[38;5;28;01mwith\u001b[39;00m \u001b[38;5;28mself\u001b[39m\u001b[38;5;241m.\u001b[39m_lock:\n\u001b[0;32m--> 152\u001b[0m     \u001b[38;5;28;43mself\u001b[39;49m\u001b[38;5;241;43m.\u001b[39;49m\u001b[43m_sendall_with_error_handle\u001b[49m\u001b[43m(\u001b[49m\u001b[43mheader\u001b[49m\u001b[43m \u001b[49m\u001b[38;5;241;43m+\u001b[39;49m\u001b[43m \u001b[49m\u001b[43mdata\u001b[49m\u001b[43m)\u001b[49m\n",
      "File \u001b[0;32m~/.local/lib/python3.10/site-packages/wandb/sdk/lib/sock_client.py:130\u001b[0m, in \u001b[0;36mSockClient._sendall_with_error_handle\u001b[0;34m(self, data)\u001b[0m\n\u001b[1;32m    128\u001b[0m start_time \u001b[38;5;241m=\u001b[39m time\u001b[38;5;241m.\u001b[39mmonotonic()\n\u001b[1;32m    129\u001b[0m \u001b[38;5;28;01mtry\u001b[39;00m:\n\u001b[0;32m--> 130\u001b[0m     sent \u001b[38;5;241m=\u001b[39m \u001b[38;5;28;43mself\u001b[39;49m\u001b[38;5;241;43m.\u001b[39;49m\u001b[43m_sock\u001b[49m\u001b[38;5;241;43m.\u001b[39;49m\u001b[43msend\u001b[49m\u001b[43m(\u001b[49m\u001b[43mdata\u001b[49m\u001b[43m)\u001b[49m\n\u001b[1;32m    131\u001b[0m     \u001b[38;5;66;03m# sent equal to 0 indicates a closed socket\u001b[39;00m\n\u001b[1;32m    132\u001b[0m     \u001b[38;5;28;01mif\u001b[39;00m sent \u001b[38;5;241m==\u001b[39m \u001b[38;5;241m0\u001b[39m:\n",
      "\u001b[0;31mBrokenPipeError\u001b[0m: [Errno 32] Broken pipe"
     ]
    },
    {
     "name": "stdout",
     "output_type": "stream",
     "text": [
      "(303, 13)\n",
      "MAE:  3.056649993593861\n",
      "MSE:  23.92162941541448\n",
      "RMSE:  4.890974280796668\n",
      "R squared:  0.7214194150250477\n",
      "Error in callback <function _WandbInit._pause_backend at 0x7f9be6171900> (for post_run_cell):\n"
     ]
    },
    {
     "ename": "BrokenPipeError",
     "evalue": "[Errno 32] Broken pipe",
     "output_type": "error",
     "traceback": [
      "\u001b[0;31m---------------------------------------------------------------------------\u001b[0m",
      "\u001b[0;31mBrokenPipeError\u001b[0m                           Traceback (most recent call last)",
      "File \u001b[0;32m~/.local/lib/python3.10/site-packages/backcall/backcall.py:104\u001b[0m, in \u001b[0;36mcallback_prototype.<locals>.adapt.<locals>.adapted\u001b[0;34m(*args, **kwargs)\u001b[0m\n\u001b[1;32m    102\u001b[0m                 kwargs\u001b[38;5;241m.\u001b[39mpop(name)\n\u001b[1;32m    103\u001b[0m \u001b[38;5;66;03m#            print(args, kwargs, unmatched_pos, cut_positional, unmatched_kw)\u001b[39;00m\n\u001b[0;32m--> 104\u001b[0m             \u001b[38;5;28;01mreturn\u001b[39;00m \u001b[43mcallback\u001b[49m\u001b[43m(\u001b[49m\u001b[38;5;241;43m*\u001b[39;49m\u001b[43margs\u001b[49m\u001b[43m,\u001b[49m\u001b[43m \u001b[49m\u001b[38;5;241;43m*\u001b[39;49m\u001b[38;5;241;43m*\u001b[39;49m\u001b[43mkwargs\u001b[49m\u001b[43m)\u001b[49m\n",
      "File \u001b[0;32m~/.local/lib/python3.10/site-packages/wandb/sdk/wandb_init.py:439\u001b[0m, in \u001b[0;36m_WandbInit._pause_backend\u001b[0;34m(self)\u001b[0m\n\u001b[1;32m    437\u001b[0m \u001b[38;5;28;01mif\u001b[39;00m \u001b[38;5;28mself\u001b[39m\u001b[38;5;241m.\u001b[39mbackend\u001b[38;5;241m.\u001b[39minterface \u001b[38;5;129;01mis\u001b[39;00m \u001b[38;5;129;01mnot\u001b[39;00m \u001b[38;5;28;01mNone\u001b[39;00m:\n\u001b[1;32m    438\u001b[0m     logger\u001b[38;5;241m.\u001b[39minfo(\u001b[38;5;124m\"\u001b[39m\u001b[38;5;124mpausing backend\u001b[39m\u001b[38;5;124m\"\u001b[39m)  \u001b[38;5;66;03m# type: ignore\u001b[39;00m\n\u001b[0;32m--> 439\u001b[0m     \u001b[38;5;28;43mself\u001b[39;49m\u001b[38;5;241;43m.\u001b[39;49m\u001b[43mbackend\u001b[49m\u001b[38;5;241;43m.\u001b[39;49m\u001b[43minterface\u001b[49m\u001b[38;5;241;43m.\u001b[39;49m\u001b[43mpublish_pause\u001b[49m\u001b[43m(\u001b[49m\u001b[43m)\u001b[49m\n",
      "File \u001b[0;32m~/.local/lib/python3.10/site-packages/wandb/sdk/interface/interface.py:626\u001b[0m, in \u001b[0;36mInterfaceBase.publish_pause\u001b[0;34m(self)\u001b[0m\n\u001b[1;32m    624\u001b[0m \u001b[38;5;28;01mdef\u001b[39;00m \u001b[38;5;21mpublish_pause\u001b[39m(\u001b[38;5;28mself\u001b[39m) \u001b[38;5;241m-\u001b[39m\u001b[38;5;241m>\u001b[39m \u001b[38;5;28;01mNone\u001b[39;00m:\n\u001b[1;32m    625\u001b[0m     pause \u001b[38;5;241m=\u001b[39m pb\u001b[38;5;241m.\u001b[39mPauseRequest()\n\u001b[0;32m--> 626\u001b[0m     \u001b[38;5;28;43mself\u001b[39;49m\u001b[38;5;241;43m.\u001b[39;49m\u001b[43m_publish_pause\u001b[49m\u001b[43m(\u001b[49m\u001b[43mpause\u001b[49m\u001b[43m)\u001b[49m\n",
      "File \u001b[0;32m~/.local/lib/python3.10/site-packages/wandb/sdk/interface/interface_shared.py:343\u001b[0m, in \u001b[0;36mInterfaceShared._publish_pause\u001b[0;34m(self, pause)\u001b[0m\n\u001b[1;32m    341\u001b[0m \u001b[38;5;28;01mdef\u001b[39;00m \u001b[38;5;21m_publish_pause\u001b[39m(\u001b[38;5;28mself\u001b[39m, pause: pb\u001b[38;5;241m.\u001b[39mPauseRequest) \u001b[38;5;241m-\u001b[39m\u001b[38;5;241m>\u001b[39m \u001b[38;5;28;01mNone\u001b[39;00m:\n\u001b[1;32m    342\u001b[0m     rec \u001b[38;5;241m=\u001b[39m \u001b[38;5;28mself\u001b[39m\u001b[38;5;241m.\u001b[39m_make_request(pause\u001b[38;5;241m=\u001b[39mpause)\n\u001b[0;32m--> 343\u001b[0m     \u001b[38;5;28;43mself\u001b[39;49m\u001b[38;5;241;43m.\u001b[39;49m\u001b[43m_publish\u001b[49m\u001b[43m(\u001b[49m\u001b[43mrec\u001b[49m\u001b[43m)\u001b[49m\n",
      "File \u001b[0;32m~/.local/lib/python3.10/site-packages/wandb/sdk/interface/interface_sock.py:51\u001b[0m, in \u001b[0;36mInterfaceSock._publish\u001b[0;34m(self, record, local)\u001b[0m\n\u001b[1;32m     49\u001b[0m \u001b[38;5;28;01mdef\u001b[39;00m \u001b[38;5;21m_publish\u001b[39m(\u001b[38;5;28mself\u001b[39m, record: \u001b[38;5;124m\"\u001b[39m\u001b[38;5;124mpb.Record\u001b[39m\u001b[38;5;124m\"\u001b[39m, local: Optional[\u001b[38;5;28mbool\u001b[39m] \u001b[38;5;241m=\u001b[39m \u001b[38;5;28;01mNone\u001b[39;00m) \u001b[38;5;241m-\u001b[39m\u001b[38;5;241m>\u001b[39m \u001b[38;5;28;01mNone\u001b[39;00m:\n\u001b[1;32m     50\u001b[0m     \u001b[38;5;28mself\u001b[39m\u001b[38;5;241m.\u001b[39m_assign(record)\n\u001b[0;32m---> 51\u001b[0m     \u001b[38;5;28;43mself\u001b[39;49m\u001b[38;5;241;43m.\u001b[39;49m\u001b[43m_sock_client\u001b[49m\u001b[38;5;241;43m.\u001b[39;49m\u001b[43msend_record_publish\u001b[49m\u001b[43m(\u001b[49m\u001b[43mrecord\u001b[49m\u001b[43m)\u001b[49m\n",
      "File \u001b[0;32m~/.local/lib/python3.10/site-packages/wandb/sdk/lib/sock_client.py:221\u001b[0m, in \u001b[0;36mSockClient.send_record_publish\u001b[0;34m(self, record)\u001b[0m\n\u001b[1;32m    219\u001b[0m server_req \u001b[38;5;241m=\u001b[39m spb\u001b[38;5;241m.\u001b[39mServerRequest()\n\u001b[1;32m    220\u001b[0m server_req\u001b[38;5;241m.\u001b[39mrecord_publish\u001b[38;5;241m.\u001b[39mCopyFrom(record)\n\u001b[0;32m--> 221\u001b[0m \u001b[38;5;28;43mself\u001b[39;49m\u001b[38;5;241;43m.\u001b[39;49m\u001b[43msend_server_request\u001b[49m\u001b[43m(\u001b[49m\u001b[43mserver_req\u001b[49m\u001b[43m)\u001b[49m\n",
      "File \u001b[0;32m~/.local/lib/python3.10/site-packages/wandb/sdk/lib/sock_client.py:155\u001b[0m, in \u001b[0;36mSockClient.send_server_request\u001b[0;34m(self, msg)\u001b[0m\n\u001b[1;32m    154\u001b[0m \u001b[38;5;28;01mdef\u001b[39;00m \u001b[38;5;21msend_server_request\u001b[39m(\u001b[38;5;28mself\u001b[39m, msg: Any) \u001b[38;5;241m-\u001b[39m\u001b[38;5;241m>\u001b[39m \u001b[38;5;28;01mNone\u001b[39;00m:\n\u001b[0;32m--> 155\u001b[0m     \u001b[38;5;28;43mself\u001b[39;49m\u001b[38;5;241;43m.\u001b[39;49m\u001b[43m_send_message\u001b[49m\u001b[43m(\u001b[49m\u001b[43mmsg\u001b[49m\u001b[43m)\u001b[49m\n",
      "File \u001b[0;32m~/.local/lib/python3.10/site-packages/wandb/sdk/lib/sock_client.py:152\u001b[0m, in \u001b[0;36mSockClient._send_message\u001b[0;34m(self, msg)\u001b[0m\n\u001b[1;32m    150\u001b[0m header \u001b[38;5;241m=\u001b[39m struct\u001b[38;5;241m.\u001b[39mpack(\u001b[38;5;124m\"\u001b[39m\u001b[38;5;124m<BI\u001b[39m\u001b[38;5;124m\"\u001b[39m, \u001b[38;5;28mord\u001b[39m(\u001b[38;5;124m\"\u001b[39m\u001b[38;5;124mW\u001b[39m\u001b[38;5;124m\"\u001b[39m), raw_size)\n\u001b[1;32m    151\u001b[0m \u001b[38;5;28;01mwith\u001b[39;00m \u001b[38;5;28mself\u001b[39m\u001b[38;5;241m.\u001b[39m_lock:\n\u001b[0;32m--> 152\u001b[0m     \u001b[38;5;28;43mself\u001b[39;49m\u001b[38;5;241;43m.\u001b[39;49m\u001b[43m_sendall_with_error_handle\u001b[49m\u001b[43m(\u001b[49m\u001b[43mheader\u001b[49m\u001b[43m \u001b[49m\u001b[38;5;241;43m+\u001b[39;49m\u001b[43m \u001b[49m\u001b[43mdata\u001b[49m\u001b[43m)\u001b[49m\n",
      "File \u001b[0;32m~/.local/lib/python3.10/site-packages/wandb/sdk/lib/sock_client.py:130\u001b[0m, in \u001b[0;36mSockClient._sendall_with_error_handle\u001b[0;34m(self, data)\u001b[0m\n\u001b[1;32m    128\u001b[0m start_time \u001b[38;5;241m=\u001b[39m time\u001b[38;5;241m.\u001b[39mmonotonic()\n\u001b[1;32m    129\u001b[0m \u001b[38;5;28;01mtry\u001b[39;00m:\n\u001b[0;32m--> 130\u001b[0m     sent \u001b[38;5;241m=\u001b[39m \u001b[38;5;28;43mself\u001b[39;49m\u001b[38;5;241;43m.\u001b[39;49m\u001b[43m_sock\u001b[49m\u001b[38;5;241;43m.\u001b[39;49m\u001b[43msend\u001b[49m\u001b[43m(\u001b[49m\u001b[43mdata\u001b[49m\u001b[43m)\u001b[49m\n\u001b[1;32m    131\u001b[0m     \u001b[38;5;66;03m# sent equal to 0 indicates a closed socket\u001b[39;00m\n\u001b[1;32m    132\u001b[0m     \u001b[38;5;28;01mif\u001b[39;00m sent \u001b[38;5;241m==\u001b[39m \u001b[38;5;241m0\u001b[39m:\n",
      "\u001b[0;31mBrokenPipeError\u001b[0m: [Errno 32] Broken pipe"
     ]
    }
   ],
   "source": [
    "np.random.seed(42)\n",
    "model = Neural_Network(learning_rate=0.001,epochs=5000, inputLayerSize=13, hiddenLayerSize=[13,13,13], outputLayerSize=1)\n",
    "model.max_iterations = 1000\n",
    "y_train_array = np.array([[x] for x in y_train])\n",
    "# print(y_train_array)\n",
    "model.set_activation_function('sigmoid')\n",
    "model.set_optimizer('Batch')\n",
    "print(X_train.shape)\n",
    "model.train(X_train, y_train_array)\n",
    "y_pred = model.predict(X_test)\n",
    "y_pred_new = np.array(y_pred).flatten()\n",
    "mse = ((y_test - y_pred_new) ** 2).mean()\n",
    "mae = (abs(y_test-y_pred_new)).mean()\n",
    "print(\"MAE: \", mae)\n",
    "print(\"MSE: \", mse)\n",
    "rmse = np.sqrt(mse)\n",
    "print(\"RMSE: \", rmse)\n",
    "mean_y_test = y_test.mean()\n",
    "ssr = ((y_test - y_pred_new) ** 2).sum()\n",
    "sst = ((y_test - mean_y_test) ** 2).sum()\n",
    "r2 = 1 - (ssr / sst)\n",
    "print(\"R squared: \", r2)\n",
    "# print(y_val)\n",
    "# print(y_pred)"
   ]
  },
  {
   "cell_type": "code",
   "execution_count": null,
   "id": "6e95cfee-9ea5-4eb6-8280-6838c63f3124",
   "metadata": {},
   "outputs": [],
   "source": []
  }
 ],
 "metadata": {
  "kernelspec": {
   "display_name": "Python 3 (ipykernel)",
   "language": "python",
   "name": "python3"
  },
  "language_info": {
   "codemirror_mode": {
    "name": "ipython",
    "version": 3
   },
   "file_extension": ".py",
   "mimetype": "text/x-python",
   "name": "python",
   "nbconvert_exporter": "python",
   "pygments_lexer": "ipython3",
   "version": "3.10.3"
  }
 },
 "nbformat": 4,
 "nbformat_minor": 5
}
