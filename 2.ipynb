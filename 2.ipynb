{
 "cells": [
  {
   "cell_type": "code",
   "execution_count": 1,
   "id": "331f6e6e-5962-448d-b783-d026e3cd3496",
   "metadata": {},
   "outputs": [],
   "source": [
    "import numpy as np\n",
    "import pandas as pd\n",
    "from copy import copy\n",
    "from sklearn.model_selection import train_test_split\n",
    "from sklearn.preprocessing import StandardScaler, MinMaxScaler\n",
    "from sklearn.preprocessing import OneHotEncoder, MultiLabelBinarizer\n",
    "from sklearn.impute import SimpleImputer \n",
    "from sklearn.metrics import accuracy_score, f1_score, precision_score, recall_score, hamming_loss\n",
    "import matplotlib.pyplot as plt\n",
    "from sklearn.metrics import classification_report\n",
    "import wandb"
   ]
  },
  {
   "cell_type": "markdown",
   "id": "38d9fea8",
   "metadata": {},
   "source": [
    "# 2.1"
   ]
  },
  {
   "cell_type": "code",
   "execution_count": 2,
   "id": "47ffa3e3",
   "metadata": {},
   "outputs": [],
   "source": [
    "data = pd.read_csv('WineQT.csv', header=0)"
   ]
  },
  {
   "cell_type": "code",
   "execution_count": 3,
   "id": "6c1c6bfa",
   "metadata": {},
   "outputs": [],
   "source": [
    "train_data, temp_data = train_test_split(data, test_size=0.4,random_state = 42)\n",
    "validation_data, test_data = train_test_split(temp_data, test_size=0.5, random_state = 42)"
   ]
  },
  {
   "cell_type": "code",
   "execution_count": 5,
   "id": "45b6df35",
   "metadata": {},
   "outputs": [
    {
     "name": "stdout",
     "output_type": "stream",
     "text": [
      "[[-1.67058247  1.20622441 -0.91067852 ... -0.59135112  1.0674252\n",
      "   1.64361099]\n",
      " [-0.548498    0.69262724 -1.37982978 ... -1.11462937 -0.42042679\n",
      "  -1.73858966]\n",
      " [-0.0169843   1.14915806 -0.28514351 ... -0.82391923 -0.88538054\n",
      "  -0.31652802]\n",
      " ...\n",
      " [-0.48944092 -1.01936335  0.3403915  ... -0.358783    1.34639745\n",
      "   1.62012349]\n",
      " [-0.19415553  0.23609641  0.23613566 ...  0.16449526 -0.88538054\n",
      "   0.84290061]\n",
      " [-0.43038384 -0.04923535  0.70528692 ... -0.12621489  1.2534067\n",
      "   1.60944735]]\n",
      "[[0 0 0 1 0 0]\n",
      " [0 0 0 0 1 0]\n",
      " [0 0 1 0 0 0]\n",
      " ...\n",
      " [0 0 0 1 0 0]\n",
      " [0 0 0 1 0 0]\n",
      " [0 0 0 1 0 0]]\n"
     ]
    }
   ],
   "source": [
    "scaler = StandardScaler()\n",
    "minmax_scaler = MinMaxScaler()\n",
    "\n",
    "imputer = SimpleImputer(strategy='mean')  \n",
    "\n",
    "train_data_scaled = scaler.fit_transform(imputer.fit_transform(train_data.drop(columns=['quality'])))\n",
    "train_labels = train_data['quality']\n",
    "\n",
    "validation_data_scaled = scaler.transform(imputer.transform(validation_data.drop(columns=['quality'])))\n",
    "test_data_scaled = scaler.transform(imputer.transform(test_data.drop(columns=['quality'])))\n",
    "\n",
    "train_data_scaled_normalized = minmax_scaler.fit_transform(train_data_scaled)\n",
    "validation_data_scaled_normalized = minmax_scaler.transform(validation_data_scaled)\n",
    "test_data_scaled_normalized = minmax_scaler.transform(test_data_scaled)\n",
    "\n",
    "# print(train_labels)\n",
    "# print(train_data_scaled_normalized)\n",
    "# print(test_data_scaled_normalized.shape)\n",
    "# print(validation_data_scaled_normalized.shape)\n",
    "X_train = train_data_scaled\n",
    "y_train = train_labels\n",
    "X_val = validation_data_scaled\n",
    "y_val = validation_data['quality']\n",
    "X_test = test_data_scaled\n",
    "y_test = validation_data['quality']\n",
    "y_train = np.array(y_train)\n",
    "# y_val = np.array(y_val)\n",
    "y_val = pd.get_dummies(y_val).astype(int)\n",
    "y_val = np.array(y_val)\n",
    "y_train = pd.get_dummies(y_train).astype(int)\n",
    "y_train = np.array(y_train)\n",
    "y_test = pd.get_dummies(y_test).astype(int)\n",
    "y_test = np.array(y_test)\n",
    "print(X_train)\n",
    "print(y_train)\n"
   ]
  },
  {
   "cell_type": "markdown",
   "id": "b2fdb8f9",
   "metadata": {},
   "source": [
    "# 2.2 & 2.3"
   ]
  },
  {
   "cell_type": "code",
   "execution_count": 5,
   "id": "e94c71f8-3542-4201-acd5-995191e44c62",
   "metadata": {},
   "outputs": [],
   "source": [
    "class Neural_Network(object):\n",
    "    def __init__(self, learning_rate=0.01,epochs = 5000, inputLayerSize: int = 2, hiddenLayerSize = [3,3,3] , outputLayerSize: int = 1):\n",
    "        # Define Hyperparameters\n",
    "        self.inputLayerSize = inputLayerSize\n",
    "        self.outputLayerSize = outputLayerSize\n",
    "        self.hiddenLayerSize = hiddenLayerSize\n",
    "        self.activation = self.relu\n",
    "        self.activationPrime = self.reluPrime\n",
    "        self.learning_rate = learning_rate\n",
    "        # Weights (parameters)\n",
    "        self.num_layers = len(hiddenLayerSize)+1\n",
    "        self.weights = []\n",
    "        self.weights.append(np.random.randn(self.inputLayerSize, self.hiddenLayerSize[0]))\n",
    "        for i in range(1,self.num_layers-1):\n",
    "            self.weights.append(np.random.randn(self.hiddenLayerSize[i-1], self.hiddenLayerSize[i]))\n",
    "        self.weights.append(np.random.randn(self.hiddenLayerSize[-1], self.outputLayerSize))\n",
    "        self.optimizer = 'SGD'\n",
    "        self.max_iterations = epochs\n",
    "\n",
    "    def forward(self, X):\n",
    "        self.z = [None] * (len(self.weights))\n",
    "        self.a = [None] * (len(self.weights)-1)\n",
    "        \n",
    "        self.z[0] = np.dot(X, self.weights[0])\n",
    "        for i in range(0,len(self.a)):\n",
    "            self.a[i] = self.activation(self.z[i])\n",
    "            self.z[i+1] = np.dot(self.a[i],self.weights[i+1])\n",
    "        yHat = self.softmax(self.z[-1])\n",
    "        return yHat\n",
    "\n",
    "    def relu(self, z):\n",
    "        return np.maximum(0, z)  # ReLU activation\n",
    "\n",
    "    def tanh(self, z):\n",
    "        return np.tanh(z)  # Tanh activation\n",
    "\n",
    "    def sigmoid(self, z):\n",
    "        return 1 / (1 + np.exp(-z))\n",
    "\n",
    "    def sigmoidPrime(self, z):\n",
    "        return np.exp(-z) / ((1 + np.exp(-z))**2)\n",
    "\n",
    "    def softmax(self, z):\n",
    "        exp_z = np.exp(z - np.max(z))  # Subtracting max(z) for numerical stability\n",
    "        return exp_z / exp_z.sum(axis=1, keepdims=True)\n",
    "\n",
    "    def costFunction(self, X, y):\n",
    "        self.yHat = self.forward(X)\n",
    "        J = -np.sum(y * np.log(self.yHat)) / len(X)\n",
    "        return J\n",
    "\n",
    "    def costFunctionPrime(self, X, y):\n",
    "        self.yHat = self.forward(X)\n",
    "        deltas = [None] * (len(self.weights))\n",
    "        deltas[-1] = self.yHat - y\n",
    "        dJdWs = [None] * (len(self.weights))\n",
    "        for i in range(len(deltas)-2,-1,-1):\n",
    "            dJdWs[i+1] = np.dot(self.a[i].T, deltas[i+1])\n",
    "            deltas[i] = np.dot(deltas[i+1],self.weights[i+1].T)*self.activationPrime(self.z[i])\n",
    "        dJdWs[0] = np.dot(X.T, deltas[0])\n",
    "        \n",
    "        # delta3 = self.yHat - y\n",
    "        # dJdW2 = np.dot(self.a2.T, delta3)\n",
    "\n",
    "        # delta2 = np.dot(delta3, self.W2.T) * self.activationPrime(self.z2)  # Use ReLU derivative\n",
    "        # dJdW1 = np.dot(X.T, delta2)\n",
    "\n",
    "        return dJdWs\n",
    "\n",
    "    def reluPrime(self, z):\n",
    "        return np.where(z > 0, 1, 0)  # Derivative of ReLU\n",
    "\n",
    "    def tanhPrime(self, z):\n",
    "        return 1 - np.tanh(z)**2  # Derivative of Tanh\n",
    "\n",
    "    def backward(self, X, y, learning_rate):\n",
    "        dJdWs = self.costFunctionPrime(X, y)\n",
    "        for i in range(len(self.weights)):\n",
    "            self.weights[i] -= learning_rate * dJdWs[i]\n",
    "        # self.W1 -= learning_rate * dJdW1\n",
    "        # self.W2 -= learning_rate * dJdW2\n",
    "    def train(self, X, y, batch_size = 32, learning_rate=0.1, max_iterations=10000,wand = 0):\n",
    "        if(self.optimizer == 'SGD'):\n",
    "            return self.train_sgd(X=X, y=y,wand=wand)\n",
    "        elif(self.optimizer == 'Batch'):\n",
    "            return self.train_batch(X=X, y=y,wand=wand)\n",
    "        elif(self.optimizer == 'MiniBatch'):\n",
    "            return self.train_mini_batch(X=X, y=y,wand=wand)\n",
    "    def train_sgd(self, X, y, learning_rate=0.1, max_iterations=10000, wand = 0):\n",
    "        if(wand == 1):\n",
    "            wandb.init(project=\"Reporting loss on MLP Classifier for WineQT Dataset\")\n",
    "        for i in range(self.max_iterations):\n",
    "            idx = np.random.randint(len(X))\n",
    "            self.backward(X[idx:idx+1], y[idx:idx+1], self.learning_rate)\n",
    "            if i % 1 == 0:\n",
    "                loss = self.costFunction(X, y)\n",
    "                # print(\"Iteration %d: loss = %f\" % (i, loss))\n",
    "                if(wand == 1):\n",
    "                    wandb.log({\"Loss\": loss, \"Epoch\": i})\n",
    "        loss = self.costFunction(X, y)\n",
    "        return loss\n",
    "        print(\"Training completed.\")\n",
    "    def train_batch(self, X, y, learning_rate=0.0001, max_iterations=10000, wand = 0):\n",
    "        if(wand == 1):\n",
    "            wandb.init(project=\"Reporting loss on MLP Classifier for WineQT Dataset\")\n",
    "        for i in range(self.max_iterations):\n",
    "            self.backward(X, y, self.learning_rate)\n",
    "            if i % 1 == 0:\n",
    "                loss = self.costFunction(X, y)\n",
    "                # print(\"Iteration %d: loss = %f\" % (i, loss))\n",
    "                if(wand == 1):\n",
    "                    wandb.log({\"Loss\": loss, \"Epoch\": i})\n",
    "        loss = self.costFunction(X, y)\n",
    "        return loss\n",
    "        print(\"Training completed.\")\n",
    "    def train_mini_batch(self, X, y, batch_size=32, learning_rate=0.01, max_iterations=5000, wand = 0):\n",
    "        if(wand == 1):\n",
    "            wandb.init(project=\"Reporting loss on MLP Classifier for WineQT Dataset\")\n",
    "        for i in range(self.max_iterations):\n",
    "            indices = np.arange(len(X))\n",
    "            np.random.shuffle(indices)\n",
    "            for j in range(0, len(X), batch_size):\n",
    "                batch_indices = indices[j:j+batch_size]\n",
    "                self.backward(X[batch_indices], y[batch_indices], self.learning_rate)\n",
    "            if i % 1 == 0:\n",
    "                loss = self.costFunction(X, y)\n",
    "                # print(\"Iteration %d: loss = %f\" % (i, loss))\n",
    "                if(wand == 1):\n",
    "                    wandb.log({\"Loss\": loss, \"Epoch\": i})\n",
    "        loss = self.costFunction(X, y)\n",
    "        return loss\n",
    "        print(\"Training completed.\")\n",
    "\n",
    "    def predict(self, X):\n",
    "        yHat = self.forward(X)\n",
    "        # return yHat\n",
    "        binary_predictions = np.zeros_like(yHat)\n",
    "        binary_predictions[np.arange(len(yHat)), yHat.argmax(axis=1)] = 1\n",
    "        return binary_predictions\n",
    "        # return np.argmax(yHat, axis=1)\n",
    "    def set_learning_rate(self, learning_rate):\n",
    "        self.learning_rate = learning_rate\n",
    "\n",
    "    def set_activation_function(self, activation_function):\n",
    "        if(activation_function == 'sigmoid'):\n",
    "            self.activation = self.sigmoid\n",
    "            self.activationPrime = self.sigmoidPrime\n",
    "        if(activation_function == 'relu'):\n",
    "            self.activation = self.relu\n",
    "            self.activationPrime = self.reluPrime\n",
    "        if(activation_function == 'tanh'):\n",
    "            self.activation = self.tanh\n",
    "            self.activationPrime = self.tanhPrime\n",
    "\n",
    "    def set_optimizer(self, optimizer):\n",
    "        self.optimizer = optimizer\n",
    "\n",
    "    def set_hidden_layers(self, hidden_layer_sizes):\n",
    "        self.hiddenLayerSize = hidden_layer_sizes\n",
    "        self.num_layers = len(self.hiddenLayerSize)+1\n",
    "        self.weights = []\n",
    "        self.weights.append(np.random.randn(self.inputLayerSize, self.hiddenLayerSize[0]))\n",
    "        for i in range(1,self.num_layers-1):\n",
    "            self.weights.append(np.random.randn(self.hiddenLayerSize[i-1], self.hiddenLayerSize[i]))\n",
    "        self.weights.append(np.random.randn(self.hiddenLayerSize[-1], self.outputLayerSize))\n",
    "        # self.W1 = np.random.randn(self.inputLayerSize, self.hiddenLayerSize)\n",
    "        # self.W2 = np.random.randn(self.hiddenLayerSize, self.outputLayerSize)\n",
    "        # self.weights, self.biases = self.initialize_weights()\n",
    "    def set_epochs(self, epcohs):\n",
    "        self.max_iterations = epochs\n",
    "        print(self.max_iterations)\n"
   ]
  },
  {
   "cell_type": "code",
   "execution_count": 6,
   "id": "071f24fc-1819-4357-b530-39da7c2195f2",
   "metadata": {},
   "outputs": [
    {
     "name": "stderr",
     "output_type": "stream",
     "text": [
      "Failed to detect the name of this notebook, you can set it manually with the WANDB_NOTEBOOK_NAME environment variable to enable code saving.\n",
      "\u001b[34m\u001b[1mwandb\u001b[0m: Currently logged in as: \u001b[33mlsamourya07\u001b[0m (\u001b[33mmourya\u001b[0m). Use \u001b[1m`wandb login --relogin`\u001b[0m to force relogin\n"
     ]
    },
    {
     "data": {
      "text/plain": [
       "True"
      ]
     },
     "execution_count": 6,
     "metadata": {},
     "output_type": "execute_result"
    }
   ],
   "source": [
    "wandb.login()"
   ]
  },
  {
   "cell_type": "code",
   "execution_count": 7,
   "id": "0eaf3905-370c-4164-a887-9e025257fa9f",
   "metadata": {},
   "outputs": [
    {
     "data": {
      "text/html": [
       "Tracking run with wandb version 0.15.12"
      ],
      "text/plain": [
       "<IPython.core.display.HTML object>"
      ]
     },
     "metadata": {},
     "output_type": "display_data"
    },
    {
     "data": {
      "text/html": [
       "Run data is saved locally in <code>/home/ubuntulsa/Sem5/SMAI/Assignment 3/wandb/run-20231022_174204-h6vyp9uf</code>"
      ],
      "text/plain": [
       "<IPython.core.display.HTML object>"
      ]
     },
     "metadata": {},
     "output_type": "display_data"
    },
    {
     "data": {
      "text/html": [
       "Syncing run <strong><a href='https://wandb.ai/mourya/Reporting%20loss%20on%20MLP%20Classifier%20for%20WineQT%20Dataset/runs/h6vyp9uf' target=\"_blank\">rose-durian-1</a></strong> to <a href='https://wandb.ai/mourya/Reporting%20loss%20on%20MLP%20Classifier%20for%20WineQT%20Dataset' target=\"_blank\">Weights & Biases</a> (<a href='https://wandb.me/run' target=\"_blank\">docs</a>)<br/>"
      ],
      "text/plain": [
       "<IPython.core.display.HTML object>"
      ]
     },
     "metadata": {},
     "output_type": "display_data"
    },
    {
     "data": {
      "text/html": [
       " View project at <a href='https://wandb.ai/mourya/Reporting%20loss%20on%20MLP%20Classifier%20for%20WineQT%20Dataset' target=\"_blank\">https://wandb.ai/mourya/Reporting%20loss%20on%20MLP%20Classifier%20for%20WineQT%20Dataset</a>"
      ],
      "text/plain": [
       "<IPython.core.display.HTML object>"
      ]
     },
     "metadata": {},
     "output_type": "display_data"
    },
    {
     "data": {
      "text/html": [
       " View run at <a href='https://wandb.ai/mourya/Reporting%20loss%20on%20MLP%20Classifier%20for%20WineQT%20Dataset/runs/h6vyp9uf' target=\"_blank\">https://wandb.ai/mourya/Reporting%20loss%20on%20MLP%20Classifier%20for%20WineQT%20Dataset/runs/h6vyp9uf</a>"
      ],
      "text/plain": [
       "<IPython.core.display.HTML object>"
      ]
     },
     "metadata": {},
     "output_type": "display_data"
    },
    {
     "data": {
      "text/html": [
       "Finishing last run (ID:h6vyp9uf) before initializing another..."
      ],
      "text/plain": [
       "<IPython.core.display.HTML object>"
      ]
     },
     "metadata": {},
     "output_type": "display_data"
    },
    {
     "data": {
      "text/html": [
       "Waiting for W&B process to finish... <strong style=\"color:green\">(success).</strong>"
      ],
      "text/plain": [
       "<IPython.core.display.HTML object>"
      ]
     },
     "metadata": {},
     "output_type": "display_data"
    },
    {
     "name": "stderr",
     "output_type": "stream",
     "text": [
      "wandb: WARNING Source type is set to 'repo' but some required information is missing from the environment. A job will not be created from this run. See https://docs.wandb.ai/guides/launch/create-job\n"
     ]
    },
    {
     "data": {
      "application/vnd.jupyter.widget-view+json": {
       "model_id": "eff1fe9d95a349f6be9509f80be34358",
       "version_major": 2,
       "version_minor": 0
      },
      "text/plain": [
       "VBox(children=(Label(value='0.002 MB of 0.002 MB uploaded (0.000 MB deduped)\\r'), FloatProgress(value=1.0, max…"
      ]
     },
     "metadata": {},
     "output_type": "display_data"
    },
    {
     "data": {
      "text/html": [
       "<style>\n",
       "    table.wandb td:nth-child(1) { padding: 0 10px; text-align: left ; width: auto;} td:nth-child(2) {text-align: left ; width: 100%}\n",
       "    .wandb-row { display: flex; flex-direction: row; flex-wrap: wrap; justify-content: flex-start; width: 100% }\n",
       "    .wandb-col { display: flex; flex-direction: column; flex-basis: 100%; flex: 1; padding: 10px; }\n",
       "    </style>\n",
       "<div class=\"wandb-row\"><div class=\"wandb-col\"><h3>Run history:</h3><br/><table class=\"wandb\"><tr><td>Epoch</td><td>▁▁▁▁▂▂▂▂▂▃▃▃▃▃▃▄▄▄▄▄▅▅▅▅▅▅▆▆▆▆▆▇▇▇▇▇▇███</td></tr><tr><td>Loss</td><td>█▅▃▂▂▂▂▂▂▂▂▂▁▂▁▂▁▁▁▁▁▁▁▁▁▁▁▁▁▁▁▁▁▁▁▁▁▁▁▁</td></tr></table><br/></div><div class=\"wandb-col\"><h3>Run summary:</h3><br/><table class=\"wandb\"><tr><td>Epoch</td><td>4999</td></tr><tr><td>Loss</td><td>0.93207</td></tr></table><br/></div></div>"
      ],
      "text/plain": [
       "<IPython.core.display.HTML object>"
      ]
     },
     "metadata": {},
     "output_type": "display_data"
    },
    {
     "data": {
      "text/html": [
       " View run <strong style=\"color:#cdcd00\">rose-durian-1</strong> at: <a href='https://wandb.ai/mourya/Reporting%20loss%20on%20MLP%20Classifier%20for%20WineQT%20Dataset/runs/h6vyp9uf' target=\"_blank\">https://wandb.ai/mourya/Reporting%20loss%20on%20MLP%20Classifier%20for%20WineQT%20Dataset/runs/h6vyp9uf</a><br/>Synced 4 W&B file(s), 0 media file(s), 0 artifact file(s) and 0 other file(s)"
      ],
      "text/plain": [
       "<IPython.core.display.HTML object>"
      ]
     },
     "metadata": {},
     "output_type": "display_data"
    },
    {
     "data": {
      "text/html": [
       "Find logs at: <code>./wandb/run-20231022_174204-h6vyp9uf/logs</code>"
      ],
      "text/plain": [
       "<IPython.core.display.HTML object>"
      ]
     },
     "metadata": {},
     "output_type": "display_data"
    },
    {
     "data": {
      "text/html": [
       "Successfully finished last run (ID:h6vyp9uf). Initializing new run:<br/>"
      ],
      "text/plain": [
       "<IPython.core.display.HTML object>"
      ]
     },
     "metadata": {},
     "output_type": "display_data"
    },
    {
     "data": {
      "application/vnd.jupyter.widget-view+json": {
       "model_id": "be390ddd70ad4e4793fa07c01342328e",
       "version_major": 2,
       "version_minor": 0
      },
      "text/plain": [
       "VBox(children=(Label(value='Waiting for wandb.init()...\\r'), FloatProgress(value=0.011113667622238508, max=1.0…"
      ]
     },
     "metadata": {},
     "output_type": "display_data"
    },
    {
     "data": {
      "text/html": [
       "Tracking run with wandb version 0.15.12"
      ],
      "text/plain": [
       "<IPython.core.display.HTML object>"
      ]
     },
     "metadata": {},
     "output_type": "display_data"
    },
    {
     "data": {
      "text/html": [
       "Run data is saved locally in <code>/home/ubuntulsa/Sem5/SMAI/Assignment 3/wandb/run-20231022_174206-gu2c09qi</code>"
      ],
      "text/plain": [
       "<IPython.core.display.HTML object>"
      ]
     },
     "metadata": {},
     "output_type": "display_data"
    },
    {
     "data": {
      "text/html": [
       "Syncing run <strong><a href='https://wandb.ai/mourya/Reporting%20Accuracy%20for%20MLP%20Classifier%20for%20WineQT%20Dataset/runs/gu2c09qi' target=\"_blank\">iconic-paper-1</a></strong> to <a href='https://wandb.ai/mourya/Reporting%20Accuracy%20for%20MLP%20Classifier%20for%20WineQT%20Dataset' target=\"_blank\">Weights & Biases</a> (<a href='https://wandb.me/run' target=\"_blank\">docs</a>)<br/>"
      ],
      "text/plain": [
       "<IPython.core.display.HTML object>"
      ]
     },
     "metadata": {},
     "output_type": "display_data"
    },
    {
     "data": {
      "text/html": [
       " View project at <a href='https://wandb.ai/mourya/Reporting%20Accuracy%20for%20MLP%20Classifier%20for%20WineQT%20Dataset' target=\"_blank\">https://wandb.ai/mourya/Reporting%20Accuracy%20for%20MLP%20Classifier%20for%20WineQT%20Dataset</a>"
      ],
      "text/plain": [
       "<IPython.core.display.HTML object>"
      ]
     },
     "metadata": {},
     "output_type": "display_data"
    },
    {
     "data": {
      "text/html": [
       " View run at <a href='https://wandb.ai/mourya/Reporting%20Accuracy%20for%20MLP%20Classifier%20for%20WineQT%20Dataset/runs/gu2c09qi' target=\"_blank\">https://wandb.ai/mourya/Reporting%20Accuracy%20for%20MLP%20Classifier%20for%20WineQT%20Dataset/runs/gu2c09qi</a>"
      ],
      "text/plain": [
       "<IPython.core.display.HTML object>"
      ]
     },
     "metadata": {},
     "output_type": "display_data"
    },
    {
     "name": "stdout",
     "output_type": "stream",
     "text": [
      "Loss: 0.9320701134595549\n",
      "Accuracy: 0.62882096069869\n",
      "F1 Score: 0.28086370197375893\n",
      "Precision: 0.31639826991828396\n",
      "Recall: 0.28161110665152955\n",
      "Loss: 0.9320701134595549\n",
      "Accuracy: 0.6116788321167883\n",
      "F1 Score: 0.2959359197423386\n",
      "Precision: 0.3792398709252854\n",
      "Recall: 0.2880217153732829\n",
      "0.62882096069869\n",
      "0.6116788321167883\n"
     ]
    },
    {
     "name": "stderr",
     "output_type": "stream",
     "text": [
      "/home/ubuntulsa/.local/lib/python3.10/site-packages/sklearn/metrics/_classification.py:1469: UndefinedMetricWarning: Precision is ill-defined and being set to 0.0 in labels with no predicted samples. Use `zero_division` parameter to control this behavior.\n",
      "  _warn_prf(average, modifier, msg_start, len(result))\n",
      "/home/ubuntulsa/.local/lib/python3.10/site-packages/sklearn/metrics/_classification.py:1469: UndefinedMetricWarning: Precision is ill-defined and being set to 0.0 in labels with no predicted samples. Use `zero_division` parameter to control this behavior.\n",
      "  _warn_prf(average, modifier, msg_start, len(result))\n"
     ]
    }
   ],
   "source": [
    "np.random.seed(27)\n",
    "mlp_sgd = Neural_Network(learning_rate=0.01,epochs=5000, inputLayerSize=12, hiddenLayerSize=[18], outputLayerSize=6)\n",
    "mlp_sgd.set_activation_function('sigmoid')\n",
    "mlp_sgd.set_optimizer('SGD')\n",
    "loss = mlp_sgd.train(X_train, y_train,wand=1)\n",
    "wandb.init(project=\"Reporting Accuracy for MLP Classifier for WineQT Dataset\")\n",
    "y_pred = mlp_sgd.predict(X_val)\n",
    "acc = accuracy_score(y_val, y_pred)\n",
    "f1 = f1_score(y_val, y_pred, average='macro') \n",
    "precision = precision_score(y_val, y_pred, average='macro')\n",
    "recall = recall_score(y_val, y_pred, average='macro')\n",
    "print(\"Loss:\", loss)\n",
    "print(\"Accuracy:\", acc)\n",
    "print(\"F1 Score:\", f1)\n",
    "print(\"Precision:\", precision)\n",
    "print(\"Recall:\", recall)\n",
    "y_train_pred = mlp_sgd.predict(X_train)\n",
    "train_accuracy = accuracy_score(y_train, y_train_pred)\n",
    "train_f1 = f1_score(y_train, y_train_pred, average='macro')  \n",
    "train_precision = precision_score(y_train, y_train_pred, average='macro')\n",
    "train_recall = recall_score(y_train, y_train_pred, average='macro')\n",
    "print(\"Loss:\", loss)\n",
    "print(\"Accuracy:\", train_accuracy)\n",
    "print(\"F1 Score:\", train_f1)\n",
    "print(\"Precision:\", train_precision)\n",
    "print(\"Recall:\", train_recall)\n",
    "print(acc)\n",
    "print(train_accuracy)\n",
    "wandb.log({\"Loss\": loss, \"Accuracy\": acc})\n",
    "wandb.log({\"Loss\": loss, \"Accuracy\": train_accuracy})"
   ]
  },
  {
   "cell_type": "code",
   "execution_count": 8,
   "id": "425a1914-cbe4-4e09-b180-602030fc44aa",
   "metadata": {},
   "outputs": [
    {
     "name": "stderr",
     "output_type": "stream",
     "text": [
      "\u001b[34m\u001b[1mwandb\u001b[0m: \u001b[33mWARNING\u001b[0m Calling wandb.login() after wandb.init() has no effect.\n"
     ]
    },
    {
     "name": "stdout",
     "output_type": "stream",
     "text": [
      "Create sweep with ID: 4x470ihy\n",
      "Sweep URL: https://wandb.ai/mourya/MLP%20Classification%20on%20different%20activation%20functions%20and%20optimizers%20for%20WineQT%20Dataset/sweeps/4x470ihy\n",
      "<IPython.core.display.HTML object>\n"
     ]
    },
    {
     "name": "stderr",
     "output_type": "stream",
     "text": [
      "wandb: WARNING Source type is set to 'repo' but some required information is missing from the environment. A job will not be created from this run. See https://docs.wandb.ai/guides/launch/create-job\n"
     ]
    },
    {
     "name": "stdout",
     "output_type": "stream",
     "text": [
      "<IPython.core.display.HTML object>\n",
      "<IPython.core.display.HTML object>\n",
      "<IPython.core.display.HTML object>\n"
     ]
    },
    {
     "name": "stderr",
     "output_type": "stream",
     "text": [
      "\u001b[34m\u001b[1mwandb\u001b[0m: Agent Starting Run: nu34h0cd with config:\n",
      "\u001b[34m\u001b[1mwandb\u001b[0m: \tactivation: sigmoid\n",
      "\u001b[34m\u001b[1mwandb\u001b[0m: \toptimizer: SGD\n",
      "\u001b[34m\u001b[1mwandb\u001b[0m: \u001b[33mWARNING\u001b[0m Ignored wandb.init() arg project when running a sweep.\n"
     ]
    },
    {
     "data": {
      "text/html": [
       "Tracking run with wandb version 0.15.12"
      ],
      "text/plain": [
       "<IPython.core.display.HTML object>"
      ]
     },
     "metadata": {},
     "output_type": "display_data"
    },
    {
     "data": {
      "text/html": [
       "Run data is saved locally in <code>/home/ubuntulsa/Sem5/SMAI/Assignment 3/wandb/run-20231022_175737-nu34h0cd</code>"
      ],
      "text/plain": [
       "<IPython.core.display.HTML object>"
      ]
     },
     "metadata": {},
     "output_type": "display_data"
    },
    {
     "data": {
      "text/html": [
       "Syncing run <strong><a href='https://wandb.ai/mourya/MLP%20Classification%20on%20different%20activation%20functions%20and%20optimizers%20for%20WineQT%20Dataset/runs/nu34h0cd' target=\"_blank\">sparkling-sweep-1</a></strong> to <a href='https://wandb.ai/mourya/MLP%20Classification%20on%20different%20activation%20functions%20and%20optimizers%20for%20WineQT%20Dataset' target=\"_blank\">Weights & Biases</a> (<a href='https://wandb.me/run' target=\"_blank\">docs</a>)<br/>Sweep page: <a href='https://wandb.ai/mourya/MLP%20Classification%20on%20different%20activation%20functions%20and%20optimizers%20for%20WineQT%20Dataset/sweeps/4x470ihy' target=\"_blank\">https://wandb.ai/mourya/MLP%20Classification%20on%20different%20activation%20functions%20and%20optimizers%20for%20WineQT%20Dataset/sweeps/4x470ihy</a>"
      ],
      "text/plain": [
       "<IPython.core.display.HTML object>"
      ]
     },
     "metadata": {},
     "output_type": "display_data"
    },
    {
     "data": {
      "text/html": [
       " View project at <a href='https://wandb.ai/mourya/MLP%20Classification%20on%20different%20activation%20functions%20and%20optimizers%20for%20WineQT%20Dataset' target=\"_blank\">https://wandb.ai/mourya/MLP%20Classification%20on%20different%20activation%20functions%20and%20optimizers%20for%20WineQT%20Dataset</a>"
      ],
      "text/plain": [
       "<IPython.core.display.HTML object>"
      ]
     },
     "metadata": {},
     "output_type": "display_data"
    },
    {
     "data": {
      "text/html": [
       " View sweep at <a href='https://wandb.ai/mourya/MLP%20Classification%20on%20different%20activation%20functions%20and%20optimizers%20for%20WineQT%20Dataset/sweeps/4x470ihy' target=\"_blank\">https://wandb.ai/mourya/MLP%20Classification%20on%20different%20activation%20functions%20and%20optimizers%20for%20WineQT%20Dataset/sweeps/4x470ihy</a>"
      ],
      "text/plain": [
       "<IPython.core.display.HTML object>"
      ]
     },
     "metadata": {},
     "output_type": "display_data"
    },
    {
     "data": {
      "text/html": [
       " View run at <a href='https://wandb.ai/mourya/MLP%20Classification%20on%20different%20activation%20functions%20and%20optimizers%20for%20WineQT%20Dataset/runs/nu34h0cd' target=\"_blank\">https://wandb.ai/mourya/MLP%20Classification%20on%20different%20activation%20functions%20and%20optimizers%20for%20WineQT%20Dataset/runs/nu34h0cd</a>"
      ],
      "text/plain": [
       "<IPython.core.display.HTML object>"
      ]
     },
     "metadata": {},
     "output_type": "display_data"
    },
    {
     "name": "stderr",
     "output_type": "stream",
     "text": [
      "/home/ubuntulsa/.local/lib/python3.10/site-packages/sklearn/metrics/_classification.py:1469: UndefinedMetricWarning: Precision is ill-defined and being set to 0.0 in labels with no predicted samples. Use `zero_division` parameter to control this behavior.\n",
      "  _warn_prf(average, modifier, msg_start, len(result))\n"
     ]
    },
    {
     "data": {
      "text/html": [
       "Waiting for W&B process to finish... <strong style=\"color:green\">(success).</strong>"
      ],
      "text/plain": [
       "<IPython.core.display.HTML object>"
      ]
     },
     "metadata": {},
     "output_type": "display_data"
    },
    {
     "data": {
      "application/vnd.jupyter.widget-view+json": {
       "model_id": "bc7d739b00354c69bc7f6ac164fdf7b5",
       "version_major": 2,
       "version_minor": 0
      },
      "text/plain": [
       "VBox(children=(Label(value='0.002 MB of 0.002 MB uploaded (0.000 MB deduped)\\r'), FloatProgress(value=1.0, max…"
      ]
     },
     "metadata": {},
     "output_type": "display_data"
    },
    {
     "data": {
      "text/html": [
       "<style>\n",
       "    table.wandb td:nth-child(1) { padding: 0 10px; text-align: left ; width: auto;} td:nth-child(2) {text-align: left ; width: 100%}\n",
       "    .wandb-row { display: flex; flex-direction: row; flex-wrap: wrap; justify-content: flex-start; width: 100% }\n",
       "    .wandb-col { display: flex; flex-direction: column; flex-basis: 100%; flex: 1; padding: 10px; }\n",
       "    </style>\n",
       "<div class=\"wandb-row\"><div class=\"wandb-col\"><h3>Run history:</h3><br/><table class=\"wandb\"><tr><td>accuracy</td><td>▁</td></tr></table><br/></div><div class=\"wandb-col\"><h3>Run summary:</h3><br/><table class=\"wandb\"><tr><td>accuracy</td><td>0.62882</td></tr><tr><td>activation</td><td>sigmoid</td></tr><tr><td>optimizer</td><td>SGD</td></tr></table><br/></div></div>"
      ],
      "text/plain": [
       "<IPython.core.display.HTML object>"
      ]
     },
     "metadata": {},
     "output_type": "display_data"
    },
    {
     "data": {
      "text/html": [
       " View run <strong style=\"color:#cdcd00\">sparkling-sweep-1</strong> at: <a href='https://wandb.ai/mourya/MLP%20Classification%20on%20different%20activation%20functions%20and%20optimizers%20for%20WineQT%20Dataset/runs/nu34h0cd' target=\"_blank\">https://wandb.ai/mourya/MLP%20Classification%20on%20different%20activation%20functions%20and%20optimizers%20for%20WineQT%20Dataset/runs/nu34h0cd</a><br/>Synced 5 W&B file(s), 0 media file(s), 0 artifact file(s) and 0 other file(s)"
      ],
      "text/plain": [
       "<IPython.core.display.HTML object>"
      ]
     },
     "metadata": {},
     "output_type": "display_data"
    },
    {
     "data": {
      "text/html": [
       "Find logs at: <code>./wandb/run-20231022_175737-nu34h0cd/logs</code>"
      ],
      "text/plain": [
       "<IPython.core.display.HTML object>"
      ]
     },
     "metadata": {},
     "output_type": "display_data"
    },
    {
     "name": "stderr",
     "output_type": "stream",
     "text": [
      "\u001b[34m\u001b[1mwandb\u001b[0m: Agent Starting Run: fk24l4wi with config:\n",
      "\u001b[34m\u001b[1mwandb\u001b[0m: \tactivation: sigmoid\n",
      "\u001b[34m\u001b[1mwandb\u001b[0m: \toptimizer: Batch\n",
      "\u001b[34m\u001b[1mwandb\u001b[0m: \u001b[33mWARNING\u001b[0m Ignored wandb.init() arg project when running a sweep.\n"
     ]
    },
    {
     "data": {
      "text/html": [
       "Tracking run with wandb version 0.15.12"
      ],
      "text/plain": [
       "<IPython.core.display.HTML object>"
      ]
     },
     "metadata": {},
     "output_type": "display_data"
    },
    {
     "data": {
      "text/html": [
       "Run data is saved locally in <code>/home/ubuntulsa/Sem5/SMAI/Assignment 3/wandb/run-20231022_175749-fk24l4wi</code>"
      ],
      "text/plain": [
       "<IPython.core.display.HTML object>"
      ]
     },
     "metadata": {},
     "output_type": "display_data"
    },
    {
     "data": {
      "text/html": [
       "Syncing run <strong><a href='https://wandb.ai/mourya/MLP%20Classification%20on%20different%20activation%20functions%20and%20optimizers%20for%20WineQT%20Dataset/runs/fk24l4wi' target=\"_blank\">winter-sweep-2</a></strong> to <a href='https://wandb.ai/mourya/MLP%20Classification%20on%20different%20activation%20functions%20and%20optimizers%20for%20WineQT%20Dataset' target=\"_blank\">Weights & Biases</a> (<a href='https://wandb.me/run' target=\"_blank\">docs</a>)<br/>Sweep page: <a href='https://wandb.ai/mourya/MLP%20Classification%20on%20different%20activation%20functions%20and%20optimizers%20for%20WineQT%20Dataset/sweeps/4x470ihy' target=\"_blank\">https://wandb.ai/mourya/MLP%20Classification%20on%20different%20activation%20functions%20and%20optimizers%20for%20WineQT%20Dataset/sweeps/4x470ihy</a>"
      ],
      "text/plain": [
       "<IPython.core.display.HTML object>"
      ]
     },
     "metadata": {},
     "output_type": "display_data"
    },
    {
     "data": {
      "text/html": [
       " View project at <a href='https://wandb.ai/mourya/MLP%20Classification%20on%20different%20activation%20functions%20and%20optimizers%20for%20WineQT%20Dataset' target=\"_blank\">https://wandb.ai/mourya/MLP%20Classification%20on%20different%20activation%20functions%20and%20optimizers%20for%20WineQT%20Dataset</a>"
      ],
      "text/plain": [
       "<IPython.core.display.HTML object>"
      ]
     },
     "metadata": {},
     "output_type": "display_data"
    },
    {
     "data": {
      "text/html": [
       " View sweep at <a href='https://wandb.ai/mourya/MLP%20Classification%20on%20different%20activation%20functions%20and%20optimizers%20for%20WineQT%20Dataset/sweeps/4x470ihy' target=\"_blank\">https://wandb.ai/mourya/MLP%20Classification%20on%20different%20activation%20functions%20and%20optimizers%20for%20WineQT%20Dataset/sweeps/4x470ihy</a>"
      ],
      "text/plain": [
       "<IPython.core.display.HTML object>"
      ]
     },
     "metadata": {},
     "output_type": "display_data"
    },
    {
     "data": {
      "text/html": [
       " View run at <a href='https://wandb.ai/mourya/MLP%20Classification%20on%20different%20activation%20functions%20and%20optimizers%20for%20WineQT%20Dataset/runs/fk24l4wi' target=\"_blank\">https://wandb.ai/mourya/MLP%20Classification%20on%20different%20activation%20functions%20and%20optimizers%20for%20WineQT%20Dataset/runs/fk24l4wi</a>"
      ],
      "text/plain": [
       "<IPython.core.display.HTML object>"
      ]
     },
     "metadata": {},
     "output_type": "display_data"
    },
    {
     "data": {
      "text/html": [
       "Waiting for W&B process to finish... <strong style=\"color:green\">(success).</strong>"
      ],
      "text/plain": [
       "<IPython.core.display.HTML object>"
      ]
     },
     "metadata": {},
     "output_type": "display_data"
    },
    {
     "data": {
      "application/vnd.jupyter.widget-view+json": {
       "model_id": "277c4621803a46d5983c3c42431fe3f5",
       "version_major": 2,
       "version_minor": 0
      },
      "text/plain": [
       "VBox(children=(Label(value='0.006 MB of 0.006 MB uploaded (0.000 MB deduped)\\r'), FloatProgress(value=0.896696…"
      ]
     },
     "metadata": {},
     "output_type": "display_data"
    },
    {
     "data": {
      "text/html": [
       "<style>\n",
       "    table.wandb td:nth-child(1) { padding: 0 10px; text-align: left ; width: auto;} td:nth-child(2) {text-align: left ; width: 100%}\n",
       "    .wandb-row { display: flex; flex-direction: row; flex-wrap: wrap; justify-content: flex-start; width: 100% }\n",
       "    .wandb-col { display: flex; flex-direction: column; flex-basis: 100%; flex: 1; padding: 10px; }\n",
       "    </style>\n",
       "<div class=\"wandb-row\"><div class=\"wandb-col\"><h3>Run history:</h3><br/><table class=\"wandb\"><tr><td>accuracy</td><td>▁</td></tr></table><br/></div><div class=\"wandb-col\"><h3>Run summary:</h3><br/><table class=\"wandb\"><tr><td>accuracy</td><td>0.53275</td></tr><tr><td>activation</td><td>sigmoid</td></tr><tr><td>optimizer</td><td>Batch</td></tr></table><br/></div></div>"
      ],
      "text/plain": [
       "<IPython.core.display.HTML object>"
      ]
     },
     "metadata": {},
     "output_type": "display_data"
    },
    {
     "data": {
      "text/html": [
       " View run <strong style=\"color:#cdcd00\">winter-sweep-2</strong> at: <a href='https://wandb.ai/mourya/MLP%20Classification%20on%20different%20activation%20functions%20and%20optimizers%20for%20WineQT%20Dataset/runs/fk24l4wi' target=\"_blank\">https://wandb.ai/mourya/MLP%20Classification%20on%20different%20activation%20functions%20and%20optimizers%20for%20WineQT%20Dataset/runs/fk24l4wi</a><br/>Synced 4 W&B file(s), 0 media file(s), 0 artifact file(s) and 0 other file(s)"
      ],
      "text/plain": [
       "<IPython.core.display.HTML object>"
      ]
     },
     "metadata": {},
     "output_type": "display_data"
    },
    {
     "data": {
      "text/html": [
       "Find logs at: <code>./wandb/run-20231022_175749-fk24l4wi/logs</code>"
      ],
      "text/plain": [
       "<IPython.core.display.HTML object>"
      ]
     },
     "metadata": {},
     "output_type": "display_data"
    },
    {
     "name": "stderr",
     "output_type": "stream",
     "text": [
      "\u001b[34m\u001b[1mwandb\u001b[0m: Agent Starting Run: ja0bq06o with config:\n",
      "\u001b[34m\u001b[1mwandb\u001b[0m: \tactivation: sigmoid\n",
      "\u001b[34m\u001b[1mwandb\u001b[0m: \toptimizer: MiniBatch\n",
      "\u001b[34m\u001b[1mwandb\u001b[0m: \u001b[33mWARNING\u001b[0m Ignored wandb.init() arg project when running a sweep.\n"
     ]
    },
    {
     "data": {
      "text/html": [
       "Tracking run with wandb version 0.15.12"
      ],
      "text/plain": [
       "<IPython.core.display.HTML object>"
      ]
     },
     "metadata": {},
     "output_type": "display_data"
    },
    {
     "data": {
      "text/html": [
       "Run data is saved locally in <code>/home/ubuntulsa/Sem5/SMAI/Assignment 3/wandb/run-20231022_175800-ja0bq06o</code>"
      ],
      "text/plain": [
       "<IPython.core.display.HTML object>"
      ]
     },
     "metadata": {},
     "output_type": "display_data"
    },
    {
     "data": {
      "text/html": [
       "Syncing run <strong><a href='https://wandb.ai/mourya/MLP%20Classification%20on%20different%20activation%20functions%20and%20optimizers%20for%20WineQT%20Dataset/runs/ja0bq06o' target=\"_blank\">toasty-sweep-3</a></strong> to <a href='https://wandb.ai/mourya/MLP%20Classification%20on%20different%20activation%20functions%20and%20optimizers%20for%20WineQT%20Dataset' target=\"_blank\">Weights & Biases</a> (<a href='https://wandb.me/run' target=\"_blank\">docs</a>)<br/>Sweep page: <a href='https://wandb.ai/mourya/MLP%20Classification%20on%20different%20activation%20functions%20and%20optimizers%20for%20WineQT%20Dataset/sweeps/4x470ihy' target=\"_blank\">https://wandb.ai/mourya/MLP%20Classification%20on%20different%20activation%20functions%20and%20optimizers%20for%20WineQT%20Dataset/sweeps/4x470ihy</a>"
      ],
      "text/plain": [
       "<IPython.core.display.HTML object>"
      ]
     },
     "metadata": {},
     "output_type": "display_data"
    },
    {
     "data": {
      "text/html": [
       " View project at <a href='https://wandb.ai/mourya/MLP%20Classification%20on%20different%20activation%20functions%20and%20optimizers%20for%20WineQT%20Dataset' target=\"_blank\">https://wandb.ai/mourya/MLP%20Classification%20on%20different%20activation%20functions%20and%20optimizers%20for%20WineQT%20Dataset</a>"
      ],
      "text/plain": [
       "<IPython.core.display.HTML object>"
      ]
     },
     "metadata": {},
     "output_type": "display_data"
    },
    {
     "data": {
      "text/html": [
       " View sweep at <a href='https://wandb.ai/mourya/MLP%20Classification%20on%20different%20activation%20functions%20and%20optimizers%20for%20WineQT%20Dataset/sweeps/4x470ihy' target=\"_blank\">https://wandb.ai/mourya/MLP%20Classification%20on%20different%20activation%20functions%20and%20optimizers%20for%20WineQT%20Dataset/sweeps/4x470ihy</a>"
      ],
      "text/plain": [
       "<IPython.core.display.HTML object>"
      ]
     },
     "metadata": {},
     "output_type": "display_data"
    },
    {
     "data": {
      "text/html": [
       " View run at <a href='https://wandb.ai/mourya/MLP%20Classification%20on%20different%20activation%20functions%20and%20optimizers%20for%20WineQT%20Dataset/runs/ja0bq06o' target=\"_blank\">https://wandb.ai/mourya/MLP%20Classification%20on%20different%20activation%20functions%20and%20optimizers%20for%20WineQT%20Dataset/runs/ja0bq06o</a>"
      ],
      "text/plain": [
       "<IPython.core.display.HTML object>"
      ]
     },
     "metadata": {},
     "output_type": "display_data"
    },
    {
     "data": {
      "text/html": [
       "Waiting for W&B process to finish... <strong style=\"color:green\">(success).</strong>"
      ],
      "text/plain": [
       "<IPython.core.display.HTML object>"
      ]
     },
     "metadata": {},
     "output_type": "display_data"
    },
    {
     "data": {
      "application/vnd.jupyter.widget-view+json": {
       "model_id": "9f75d80449f34ba09247c6bbc388a42f",
       "version_major": 2,
       "version_minor": 0
      },
      "text/plain": [
       "VBox(children=(Label(value='0.002 MB of 0.006 MB uploaded (0.000 MB deduped)\\r'), FloatProgress(value=0.362416…"
      ]
     },
     "metadata": {},
     "output_type": "display_data"
    },
    {
     "data": {
      "text/html": [
       "<style>\n",
       "    table.wandb td:nth-child(1) { padding: 0 10px; text-align: left ; width: auto;} td:nth-child(2) {text-align: left ; width: 100%}\n",
       "    .wandb-row { display: flex; flex-direction: row; flex-wrap: wrap; justify-content: flex-start; width: 100% }\n",
       "    .wandb-col { display: flex; flex-direction: column; flex-basis: 100%; flex: 1; padding: 10px; }\n",
       "    </style>\n",
       "<div class=\"wandb-row\"><div class=\"wandb-col\"><h3>Run history:</h3><br/><table class=\"wandb\"><tr><td>accuracy</td><td>▁</td></tr></table><br/></div><div class=\"wandb-col\"><h3>Run summary:</h3><br/><table class=\"wandb\"><tr><td>accuracy</td><td>0.55459</td></tr><tr><td>activation</td><td>sigmoid</td></tr><tr><td>optimizer</td><td>MiniBatch</td></tr></table><br/></div></div>"
      ],
      "text/plain": [
       "<IPython.core.display.HTML object>"
      ]
     },
     "metadata": {},
     "output_type": "display_data"
    },
    {
     "data": {
      "text/html": [
       " View run <strong style=\"color:#cdcd00\">toasty-sweep-3</strong> at: <a href='https://wandb.ai/mourya/MLP%20Classification%20on%20different%20activation%20functions%20and%20optimizers%20for%20WineQT%20Dataset/runs/ja0bq06o' target=\"_blank\">https://wandb.ai/mourya/MLP%20Classification%20on%20different%20activation%20functions%20and%20optimizers%20for%20WineQT%20Dataset/runs/ja0bq06o</a><br/>Synced 4 W&B file(s), 0 media file(s), 0 artifact file(s) and 0 other file(s)"
      ],
      "text/plain": [
       "<IPython.core.display.HTML object>"
      ]
     },
     "metadata": {},
     "output_type": "display_data"
    },
    {
     "data": {
      "text/html": [
       "Find logs at: <code>./wandb/run-20231022_175800-ja0bq06o/logs</code>"
      ],
      "text/plain": [
       "<IPython.core.display.HTML object>"
      ]
     },
     "metadata": {},
     "output_type": "display_data"
    },
    {
     "name": "stderr",
     "output_type": "stream",
     "text": [
      "\u001b[34m\u001b[1mwandb\u001b[0m: Agent Starting Run: 6u3k0p7g with config:\n",
      "\u001b[34m\u001b[1mwandb\u001b[0m: \tactivation: tanh\n",
      "\u001b[34m\u001b[1mwandb\u001b[0m: \toptimizer: SGD\n",
      "\u001b[34m\u001b[1mwandb\u001b[0m: \u001b[33mWARNING\u001b[0m Ignored wandb.init() arg project when running a sweep.\n"
     ]
    },
    {
     "data": {
      "text/html": [
       "Tracking run with wandb version 0.15.12"
      ],
      "text/plain": [
       "<IPython.core.display.HTML object>"
      ]
     },
     "metadata": {},
     "output_type": "display_data"
    },
    {
     "data": {
      "text/html": [
       "Run data is saved locally in <code>/home/ubuntulsa/Sem5/SMAI/Assignment 3/wandb/run-20231022_175816-6u3k0p7g</code>"
      ],
      "text/plain": [
       "<IPython.core.display.HTML object>"
      ]
     },
     "metadata": {},
     "output_type": "display_data"
    },
    {
     "data": {
      "text/html": [
       "Syncing run <strong><a href='https://wandb.ai/mourya/MLP%20Classification%20on%20different%20activation%20functions%20and%20optimizers%20for%20WineQT%20Dataset/runs/6u3k0p7g' target=\"_blank\">good-sweep-4</a></strong> to <a href='https://wandb.ai/mourya/MLP%20Classification%20on%20different%20activation%20functions%20and%20optimizers%20for%20WineQT%20Dataset' target=\"_blank\">Weights & Biases</a> (<a href='https://wandb.me/run' target=\"_blank\">docs</a>)<br/>Sweep page: <a href='https://wandb.ai/mourya/MLP%20Classification%20on%20different%20activation%20functions%20and%20optimizers%20for%20WineQT%20Dataset/sweeps/4x470ihy' target=\"_blank\">https://wandb.ai/mourya/MLP%20Classification%20on%20different%20activation%20functions%20and%20optimizers%20for%20WineQT%20Dataset/sweeps/4x470ihy</a>"
      ],
      "text/plain": [
       "<IPython.core.display.HTML object>"
      ]
     },
     "metadata": {},
     "output_type": "display_data"
    },
    {
     "data": {
      "text/html": [
       " View project at <a href='https://wandb.ai/mourya/MLP%20Classification%20on%20different%20activation%20functions%20and%20optimizers%20for%20WineQT%20Dataset' target=\"_blank\">https://wandb.ai/mourya/MLP%20Classification%20on%20different%20activation%20functions%20and%20optimizers%20for%20WineQT%20Dataset</a>"
      ],
      "text/plain": [
       "<IPython.core.display.HTML object>"
      ]
     },
     "metadata": {},
     "output_type": "display_data"
    },
    {
     "data": {
      "text/html": [
       " View sweep at <a href='https://wandb.ai/mourya/MLP%20Classification%20on%20different%20activation%20functions%20and%20optimizers%20for%20WineQT%20Dataset/sweeps/4x470ihy' target=\"_blank\">https://wandb.ai/mourya/MLP%20Classification%20on%20different%20activation%20functions%20and%20optimizers%20for%20WineQT%20Dataset/sweeps/4x470ihy</a>"
      ],
      "text/plain": [
       "<IPython.core.display.HTML object>"
      ]
     },
     "metadata": {},
     "output_type": "display_data"
    },
    {
     "data": {
      "text/html": [
       " View run at <a href='https://wandb.ai/mourya/MLP%20Classification%20on%20different%20activation%20functions%20and%20optimizers%20for%20WineQT%20Dataset/runs/6u3k0p7g' target=\"_blank\">https://wandb.ai/mourya/MLP%20Classification%20on%20different%20activation%20functions%20and%20optimizers%20for%20WineQT%20Dataset/runs/6u3k0p7g</a>"
      ],
      "text/plain": [
       "<IPython.core.display.HTML object>"
      ]
     },
     "metadata": {},
     "output_type": "display_data"
    },
    {
     "data": {
      "text/html": [
       "Waiting for W&B process to finish... <strong style=\"color:green\">(success).</strong>"
      ],
      "text/plain": [
       "<IPython.core.display.HTML object>"
      ]
     },
     "metadata": {},
     "output_type": "display_data"
    },
    {
     "data": {
      "application/vnd.jupyter.widget-view+json": {
       "model_id": "cd8e601f74134ae8b7fe9ee41f3fb246",
       "version_major": 2,
       "version_minor": 0
      },
      "text/plain": [
       "VBox(children=(Label(value='0.002 MB of 0.006 MB uploaded (0.000 MB deduped)\\r'), FloatProgress(value=0.286782…"
      ]
     },
     "metadata": {},
     "output_type": "display_data"
    },
    {
     "data": {
      "text/html": [
       "<style>\n",
       "    table.wandb td:nth-child(1) { padding: 0 10px; text-align: left ; width: auto;} td:nth-child(2) {text-align: left ; width: 100%}\n",
       "    .wandb-row { display: flex; flex-direction: row; flex-wrap: wrap; justify-content: flex-start; width: 100% }\n",
       "    .wandb-col { display: flex; flex-direction: column; flex-basis: 100%; flex: 1; padding: 10px; }\n",
       "    </style>\n",
       "<div class=\"wandb-row\"><div class=\"wandb-col\"><h3>Run history:</h3><br/><table class=\"wandb\"><tr><td>accuracy</td><td>▁</td></tr></table><br/></div><div class=\"wandb-col\"><h3>Run summary:</h3><br/><table class=\"wandb\"><tr><td>accuracy</td><td>0.55895</td></tr><tr><td>activation</td><td>tanh</td></tr><tr><td>optimizer</td><td>SGD</td></tr></table><br/></div></div>"
      ],
      "text/plain": [
       "<IPython.core.display.HTML object>"
      ]
     },
     "metadata": {},
     "output_type": "display_data"
    },
    {
     "data": {
      "text/html": [
       " View run <strong style=\"color:#cdcd00\">good-sweep-4</strong> at: <a href='https://wandb.ai/mourya/MLP%20Classification%20on%20different%20activation%20functions%20and%20optimizers%20for%20WineQT%20Dataset/runs/6u3k0p7g' target=\"_blank\">https://wandb.ai/mourya/MLP%20Classification%20on%20different%20activation%20functions%20and%20optimizers%20for%20WineQT%20Dataset/runs/6u3k0p7g</a><br/>Synced 4 W&B file(s), 0 media file(s), 0 artifact file(s) and 0 other file(s)"
      ],
      "text/plain": [
       "<IPython.core.display.HTML object>"
      ]
     },
     "metadata": {},
     "output_type": "display_data"
    },
    {
     "data": {
      "text/html": [
       "Find logs at: <code>./wandb/run-20231022_175816-6u3k0p7g/logs</code>"
      ],
      "text/plain": [
       "<IPython.core.display.HTML object>"
      ]
     },
     "metadata": {},
     "output_type": "display_data"
    },
    {
     "name": "stderr",
     "output_type": "stream",
     "text": [
      "\u001b[34m\u001b[1mwandb\u001b[0m: Agent Starting Run: ea8sudmm with config:\n",
      "\u001b[34m\u001b[1mwandb\u001b[0m: \tactivation: tanh\n",
      "\u001b[34m\u001b[1mwandb\u001b[0m: \toptimizer: Batch\n",
      "\u001b[34m\u001b[1mwandb\u001b[0m: \u001b[33mWARNING\u001b[0m Ignored wandb.init() arg project when running a sweep.\n"
     ]
    },
    {
     "data": {
      "text/html": [
       "Tracking run with wandb version 0.15.12"
      ],
      "text/plain": [
       "<IPython.core.display.HTML object>"
      ]
     },
     "metadata": {},
     "output_type": "display_data"
    },
    {
     "data": {
      "text/html": [
       "Run data is saved locally in <code>/home/ubuntulsa/Sem5/SMAI/Assignment 3/wandb/run-20231022_175827-ea8sudmm</code>"
      ],
      "text/plain": [
       "<IPython.core.display.HTML object>"
      ]
     },
     "metadata": {},
     "output_type": "display_data"
    },
    {
     "data": {
      "text/html": [
       "Syncing run <strong><a href='https://wandb.ai/mourya/MLP%20Classification%20on%20different%20activation%20functions%20and%20optimizers%20for%20WineQT%20Dataset/runs/ea8sudmm' target=\"_blank\">crimson-sweep-5</a></strong> to <a href='https://wandb.ai/mourya/MLP%20Classification%20on%20different%20activation%20functions%20and%20optimizers%20for%20WineQT%20Dataset' target=\"_blank\">Weights & Biases</a> (<a href='https://wandb.me/run' target=\"_blank\">docs</a>)<br/>Sweep page: <a href='https://wandb.ai/mourya/MLP%20Classification%20on%20different%20activation%20functions%20and%20optimizers%20for%20WineQT%20Dataset/sweeps/4x470ihy' target=\"_blank\">https://wandb.ai/mourya/MLP%20Classification%20on%20different%20activation%20functions%20and%20optimizers%20for%20WineQT%20Dataset/sweeps/4x470ihy</a>"
      ],
      "text/plain": [
       "<IPython.core.display.HTML object>"
      ]
     },
     "metadata": {},
     "output_type": "display_data"
    },
    {
     "data": {
      "text/html": [
       " View project at <a href='https://wandb.ai/mourya/MLP%20Classification%20on%20different%20activation%20functions%20and%20optimizers%20for%20WineQT%20Dataset' target=\"_blank\">https://wandb.ai/mourya/MLP%20Classification%20on%20different%20activation%20functions%20and%20optimizers%20for%20WineQT%20Dataset</a>"
      ],
      "text/plain": [
       "<IPython.core.display.HTML object>"
      ]
     },
     "metadata": {},
     "output_type": "display_data"
    },
    {
     "data": {
      "text/html": [
       " View sweep at <a href='https://wandb.ai/mourya/MLP%20Classification%20on%20different%20activation%20functions%20and%20optimizers%20for%20WineQT%20Dataset/sweeps/4x470ihy' target=\"_blank\">https://wandb.ai/mourya/MLP%20Classification%20on%20different%20activation%20functions%20and%20optimizers%20for%20WineQT%20Dataset/sweeps/4x470ihy</a>"
      ],
      "text/plain": [
       "<IPython.core.display.HTML object>"
      ]
     },
     "metadata": {},
     "output_type": "display_data"
    },
    {
     "data": {
      "text/html": [
       " View run at <a href='https://wandb.ai/mourya/MLP%20Classification%20on%20different%20activation%20functions%20and%20optimizers%20for%20WineQT%20Dataset/runs/ea8sudmm' target=\"_blank\">https://wandb.ai/mourya/MLP%20Classification%20on%20different%20activation%20functions%20and%20optimizers%20for%20WineQT%20Dataset/runs/ea8sudmm</a>"
      ],
      "text/plain": [
       "<IPython.core.display.HTML object>"
      ]
     },
     "metadata": {},
     "output_type": "display_data"
    },
    {
     "data": {
      "text/html": [
       "Waiting for W&B process to finish... <strong style=\"color:green\">(success).</strong>"
      ],
      "text/plain": [
       "<IPython.core.display.HTML object>"
      ]
     },
     "metadata": {},
     "output_type": "display_data"
    },
    {
     "data": {
      "application/vnd.jupyter.widget-view+json": {
       "model_id": "802b1ef7888a44adb5e4004213cc0b8f",
       "version_major": 2,
       "version_minor": 0
      },
      "text/plain": [
       "VBox(children=(Label(value='0.002 MB of 0.006 MB uploaded (0.000 MB deduped)\\r'), FloatProgress(value=0.285307…"
      ]
     },
     "metadata": {},
     "output_type": "display_data"
    },
    {
     "data": {
      "text/html": [
       "<style>\n",
       "    table.wandb td:nth-child(1) { padding: 0 10px; text-align: left ; width: auto;} td:nth-child(2) {text-align: left ; width: 100%}\n",
       "    .wandb-row { display: flex; flex-direction: row; flex-wrap: wrap; justify-content: flex-start; width: 100% }\n",
       "    .wandb-col { display: flex; flex-direction: column; flex-basis: 100%; flex: 1; padding: 10px; }\n",
       "    </style>\n",
       "<div class=\"wandb-row\"><div class=\"wandb-col\"><h3>Run history:</h3><br/><table class=\"wandb\"><tr><td>accuracy</td><td>▁</td></tr></table><br/></div><div class=\"wandb-col\"><h3>Run summary:</h3><br/><table class=\"wandb\"><tr><td>accuracy</td><td>0.51965</td></tr><tr><td>activation</td><td>tanh</td></tr><tr><td>optimizer</td><td>Batch</td></tr></table><br/></div></div>"
      ],
      "text/plain": [
       "<IPython.core.display.HTML object>"
      ]
     },
     "metadata": {},
     "output_type": "display_data"
    },
    {
     "data": {
      "text/html": [
       " View run <strong style=\"color:#cdcd00\">crimson-sweep-5</strong> at: <a href='https://wandb.ai/mourya/MLP%20Classification%20on%20different%20activation%20functions%20and%20optimizers%20for%20WineQT%20Dataset/runs/ea8sudmm' target=\"_blank\">https://wandb.ai/mourya/MLP%20Classification%20on%20different%20activation%20functions%20and%20optimizers%20for%20WineQT%20Dataset/runs/ea8sudmm</a><br/>Synced 4 W&B file(s), 0 media file(s), 0 artifact file(s) and 0 other file(s)"
      ],
      "text/plain": [
       "<IPython.core.display.HTML object>"
      ]
     },
     "metadata": {},
     "output_type": "display_data"
    },
    {
     "data": {
      "text/html": [
       "Find logs at: <code>./wandb/run-20231022_175827-ea8sudmm/logs</code>"
      ],
      "text/plain": [
       "<IPython.core.display.HTML object>"
      ]
     },
     "metadata": {},
     "output_type": "display_data"
    },
    {
     "name": "stderr",
     "output_type": "stream",
     "text": [
      "\u001b[34m\u001b[1mwandb\u001b[0m: Agent Starting Run: x73hn1tb with config:\n",
      "\u001b[34m\u001b[1mwandb\u001b[0m: \tactivation: tanh\n",
      "\u001b[34m\u001b[1mwandb\u001b[0m: \toptimizer: MiniBatch\n",
      "\u001b[34m\u001b[1mwandb\u001b[0m: \u001b[33mWARNING\u001b[0m Ignored wandb.init() arg project when running a sweep.\n"
     ]
    },
    {
     "data": {
      "application/vnd.jupyter.widget-view+json": {
       "model_id": "3d97988dca4a4c3b95533a918555bef0",
       "version_major": 2,
       "version_minor": 0
      },
      "text/plain": [
       "VBox(children=(Label(value='Waiting for wandb.init()...\\r'), FloatProgress(value=0.011112454911118322, max=1.0…"
      ]
     },
     "metadata": {},
     "output_type": "display_data"
    },
    {
     "data": {
      "text/html": [
       "Tracking run with wandb version 0.15.12"
      ],
      "text/plain": [
       "<IPython.core.display.HTML object>"
      ]
     },
     "metadata": {},
     "output_type": "display_data"
    },
    {
     "data": {
      "text/html": [
       "Run data is saved locally in <code>/home/ubuntulsa/Sem5/SMAI/Assignment 3/wandb/run-20231022_175838-x73hn1tb</code>"
      ],
      "text/plain": [
       "<IPython.core.display.HTML object>"
      ]
     },
     "metadata": {},
     "output_type": "display_data"
    },
    {
     "data": {
      "text/html": [
       "Syncing run <strong><a href='https://wandb.ai/mourya/MLP%20Classification%20on%20different%20activation%20functions%20and%20optimizers%20for%20WineQT%20Dataset/runs/x73hn1tb' target=\"_blank\">stellar-sweep-6</a></strong> to <a href='https://wandb.ai/mourya/MLP%20Classification%20on%20different%20activation%20functions%20and%20optimizers%20for%20WineQT%20Dataset' target=\"_blank\">Weights & Biases</a> (<a href='https://wandb.me/run' target=\"_blank\">docs</a>)<br/>Sweep page: <a href='https://wandb.ai/mourya/MLP%20Classification%20on%20different%20activation%20functions%20and%20optimizers%20for%20WineQT%20Dataset/sweeps/4x470ihy' target=\"_blank\">https://wandb.ai/mourya/MLP%20Classification%20on%20different%20activation%20functions%20and%20optimizers%20for%20WineQT%20Dataset/sweeps/4x470ihy</a>"
      ],
      "text/plain": [
       "<IPython.core.display.HTML object>"
      ]
     },
     "metadata": {},
     "output_type": "display_data"
    },
    {
     "data": {
      "text/html": [
       " View project at <a href='https://wandb.ai/mourya/MLP%20Classification%20on%20different%20activation%20functions%20and%20optimizers%20for%20WineQT%20Dataset' target=\"_blank\">https://wandb.ai/mourya/MLP%20Classification%20on%20different%20activation%20functions%20and%20optimizers%20for%20WineQT%20Dataset</a>"
      ],
      "text/plain": [
       "<IPython.core.display.HTML object>"
      ]
     },
     "metadata": {},
     "output_type": "display_data"
    },
    {
     "data": {
      "text/html": [
       " View sweep at <a href='https://wandb.ai/mourya/MLP%20Classification%20on%20different%20activation%20functions%20and%20optimizers%20for%20WineQT%20Dataset/sweeps/4x470ihy' target=\"_blank\">https://wandb.ai/mourya/MLP%20Classification%20on%20different%20activation%20functions%20and%20optimizers%20for%20WineQT%20Dataset/sweeps/4x470ihy</a>"
      ],
      "text/plain": [
       "<IPython.core.display.HTML object>"
      ]
     },
     "metadata": {},
     "output_type": "display_data"
    },
    {
     "data": {
      "text/html": [
       " View run at <a href='https://wandb.ai/mourya/MLP%20Classification%20on%20different%20activation%20functions%20and%20optimizers%20for%20WineQT%20Dataset/runs/x73hn1tb' target=\"_blank\">https://wandb.ai/mourya/MLP%20Classification%20on%20different%20activation%20functions%20and%20optimizers%20for%20WineQT%20Dataset/runs/x73hn1tb</a>"
      ],
      "text/plain": [
       "<IPython.core.display.HTML object>"
      ]
     },
     "metadata": {},
     "output_type": "display_data"
    },
    {
     "data": {
      "text/html": [
       "Waiting for W&B process to finish... <strong style=\"color:green\">(success).</strong>"
      ],
      "text/plain": [
       "<IPython.core.display.HTML object>"
      ]
     },
     "metadata": {},
     "output_type": "display_data"
    },
    {
     "data": {
      "application/vnd.jupyter.widget-view+json": {
       "model_id": "9cfcb52b60694d8488499f0bce23a784",
       "version_major": 2,
       "version_minor": 0
      },
      "text/plain": [
       "VBox(children=(Label(value='0.002 MB of 0.002 MB uploaded (0.000 MB deduped)\\r'), FloatProgress(value=1.0, max…"
      ]
     },
     "metadata": {},
     "output_type": "display_data"
    },
    {
     "data": {
      "text/html": [
       "<style>\n",
       "    table.wandb td:nth-child(1) { padding: 0 10px; text-align: left ; width: auto;} td:nth-child(2) {text-align: left ; width: 100%}\n",
       "    .wandb-row { display: flex; flex-direction: row; flex-wrap: wrap; justify-content: flex-start; width: 100% }\n",
       "    .wandb-col { display: flex; flex-direction: column; flex-basis: 100%; flex: 1; padding: 10px; }\n",
       "    </style>\n",
       "<div class=\"wandb-row\"><div class=\"wandb-col\"><h3>Run history:</h3><br/><table class=\"wandb\"><tr><td>accuracy</td><td>▁</td></tr></table><br/></div><div class=\"wandb-col\"><h3>Run summary:</h3><br/><table class=\"wandb\"><tr><td>accuracy</td><td>0.51528</td></tr><tr><td>activation</td><td>tanh</td></tr><tr><td>optimizer</td><td>MiniBatch</td></tr></table><br/></div></div>"
      ],
      "text/plain": [
       "<IPython.core.display.HTML object>"
      ]
     },
     "metadata": {},
     "output_type": "display_data"
    },
    {
     "data": {
      "text/html": [
       " View run <strong style=\"color:#cdcd00\">stellar-sweep-6</strong> at: <a href='https://wandb.ai/mourya/MLP%20Classification%20on%20different%20activation%20functions%20and%20optimizers%20for%20WineQT%20Dataset/runs/x73hn1tb' target=\"_blank\">https://wandb.ai/mourya/MLP%20Classification%20on%20different%20activation%20functions%20and%20optimizers%20for%20WineQT%20Dataset/runs/x73hn1tb</a><br/>Synced 4 W&B file(s), 0 media file(s), 0 artifact file(s) and 0 other file(s)"
      ],
      "text/plain": [
       "<IPython.core.display.HTML object>"
      ]
     },
     "metadata": {},
     "output_type": "display_data"
    },
    {
     "data": {
      "text/html": [
       "Find logs at: <code>./wandb/run-20231022_175838-x73hn1tb/logs</code>"
      ],
      "text/plain": [
       "<IPython.core.display.HTML object>"
      ]
     },
     "metadata": {},
     "output_type": "display_data"
    },
    {
     "name": "stderr",
     "output_type": "stream",
     "text": [
      "\u001b[34m\u001b[1mwandb\u001b[0m: Agent Starting Run: jux1czz8 with config:\n",
      "\u001b[34m\u001b[1mwandb\u001b[0m: \tactivation: relu\n",
      "\u001b[34m\u001b[1mwandb\u001b[0m: \toptimizer: SGD\n",
      "\u001b[34m\u001b[1mwandb\u001b[0m: \u001b[33mWARNING\u001b[0m Ignored wandb.init() arg project when running a sweep.\n"
     ]
    },
    {
     "data": {
      "application/vnd.jupyter.widget-view+json": {
       "model_id": "45247a78e99d44dfa3d3ea17c68d58ec",
       "version_major": 2,
       "version_minor": 0
      },
      "text/plain": [
       "VBox(children=(Label(value='Waiting for wandb.init()...\\r'), FloatProgress(value=0.01111240250001073, max=1.0)…"
      ]
     },
     "metadata": {},
     "output_type": "display_data"
    },
    {
     "data": {
      "text/html": [
       "Tracking run with wandb version 0.15.12"
      ],
      "text/plain": [
       "<IPython.core.display.HTML object>"
      ]
     },
     "metadata": {},
     "output_type": "display_data"
    },
    {
     "data": {
      "text/html": [
       "Run data is saved locally in <code>/home/ubuntulsa/Sem5/SMAI/Assignment 3/wandb/run-20231022_175854-jux1czz8</code>"
      ],
      "text/plain": [
       "<IPython.core.display.HTML object>"
      ]
     },
     "metadata": {},
     "output_type": "display_data"
    },
    {
     "data": {
      "text/html": [
       "Syncing run <strong><a href='https://wandb.ai/mourya/MLP%20Classification%20on%20different%20activation%20functions%20and%20optimizers%20for%20WineQT%20Dataset/runs/jux1czz8' target=\"_blank\">olive-sweep-7</a></strong> to <a href='https://wandb.ai/mourya/MLP%20Classification%20on%20different%20activation%20functions%20and%20optimizers%20for%20WineQT%20Dataset' target=\"_blank\">Weights & Biases</a> (<a href='https://wandb.me/run' target=\"_blank\">docs</a>)<br/>Sweep page: <a href='https://wandb.ai/mourya/MLP%20Classification%20on%20different%20activation%20functions%20and%20optimizers%20for%20WineQT%20Dataset/sweeps/4x470ihy' target=\"_blank\">https://wandb.ai/mourya/MLP%20Classification%20on%20different%20activation%20functions%20and%20optimizers%20for%20WineQT%20Dataset/sweeps/4x470ihy</a>"
      ],
      "text/plain": [
       "<IPython.core.display.HTML object>"
      ]
     },
     "metadata": {},
     "output_type": "display_data"
    },
    {
     "data": {
      "text/html": [
       " View project at <a href='https://wandb.ai/mourya/MLP%20Classification%20on%20different%20activation%20functions%20and%20optimizers%20for%20WineQT%20Dataset' target=\"_blank\">https://wandb.ai/mourya/MLP%20Classification%20on%20different%20activation%20functions%20and%20optimizers%20for%20WineQT%20Dataset</a>"
      ],
      "text/plain": [
       "<IPython.core.display.HTML object>"
      ]
     },
     "metadata": {},
     "output_type": "display_data"
    },
    {
     "data": {
      "text/html": [
       " View sweep at <a href='https://wandb.ai/mourya/MLP%20Classification%20on%20different%20activation%20functions%20and%20optimizers%20for%20WineQT%20Dataset/sweeps/4x470ihy' target=\"_blank\">https://wandb.ai/mourya/MLP%20Classification%20on%20different%20activation%20functions%20and%20optimizers%20for%20WineQT%20Dataset/sweeps/4x470ihy</a>"
      ],
      "text/plain": [
       "<IPython.core.display.HTML object>"
      ]
     },
     "metadata": {},
     "output_type": "display_data"
    },
    {
     "data": {
      "text/html": [
       " View run at <a href='https://wandb.ai/mourya/MLP%20Classification%20on%20different%20activation%20functions%20and%20optimizers%20for%20WineQT%20Dataset/runs/jux1czz8' target=\"_blank\">https://wandb.ai/mourya/MLP%20Classification%20on%20different%20activation%20functions%20and%20optimizers%20for%20WineQT%20Dataset/runs/jux1czz8</a>"
      ],
      "text/plain": [
       "<IPython.core.display.HTML object>"
      ]
     },
     "metadata": {},
     "output_type": "display_data"
    },
    {
     "name": "stderr",
     "output_type": "stream",
     "text": [
      "/home/ubuntulsa/.local/lib/python3.10/site-packages/sklearn/metrics/_classification.py:1469: UndefinedMetricWarning: Precision is ill-defined and being set to 0.0 in labels with no predicted samples. Use `zero_division` parameter to control this behavior.\n",
      "  _warn_prf(average, modifier, msg_start, len(result))\n"
     ]
    },
    {
     "data": {
      "text/html": [
       "Waiting for W&B process to finish... <strong style=\"color:green\">(success).</strong>"
      ],
      "text/plain": [
       "<IPython.core.display.HTML object>"
      ]
     },
     "metadata": {},
     "output_type": "display_data"
    },
    {
     "data": {
      "text/html": [
       "<style>\n",
       "    table.wandb td:nth-child(1) { padding: 0 10px; text-align: left ; width: auto;} td:nth-child(2) {text-align: left ; width: 100%}\n",
       "    .wandb-row { display: flex; flex-direction: row; flex-wrap: wrap; justify-content: flex-start; width: 100% }\n",
       "    .wandb-col { display: flex; flex-direction: column; flex-basis: 100%; flex: 1; padding: 10px; }\n",
       "    </style>\n",
       "<div class=\"wandb-row\"><div class=\"wandb-col\"><h3>Run history:</h3><br/><table class=\"wandb\"><tr><td>accuracy</td><td>▁</td></tr></table><br/></div><div class=\"wandb-col\"><h3>Run summary:</h3><br/><table class=\"wandb\"><tr><td>accuracy</td><td>0.56769</td></tr><tr><td>activation</td><td>relu</td></tr><tr><td>optimizer</td><td>SGD</td></tr></table><br/></div></div>"
      ],
      "text/plain": [
       "<IPython.core.display.HTML object>"
      ]
     },
     "metadata": {},
     "output_type": "display_data"
    },
    {
     "data": {
      "text/html": [
       " View run <strong style=\"color:#cdcd00\">olive-sweep-7</strong> at: <a href='https://wandb.ai/mourya/MLP%20Classification%20on%20different%20activation%20functions%20and%20optimizers%20for%20WineQT%20Dataset/runs/jux1czz8' target=\"_blank\">https://wandb.ai/mourya/MLP%20Classification%20on%20different%20activation%20functions%20and%20optimizers%20for%20WineQT%20Dataset/runs/jux1czz8</a><br/>Synced 5 W&B file(s), 0 media file(s), 0 artifact file(s) and 0 other file(s)"
      ],
      "text/plain": [
       "<IPython.core.display.HTML object>"
      ]
     },
     "metadata": {},
     "output_type": "display_data"
    },
    {
     "data": {
      "text/html": [
       "Find logs at: <code>./wandb/run-20231022_175854-jux1czz8/logs</code>"
      ],
      "text/plain": [
       "<IPython.core.display.HTML object>"
      ]
     },
     "metadata": {},
     "output_type": "display_data"
    },
    {
     "name": "stderr",
     "output_type": "stream",
     "text": [
      "\u001b[34m\u001b[1mwandb\u001b[0m: Agent Starting Run: m94etqux with config:\n",
      "\u001b[34m\u001b[1mwandb\u001b[0m: \tactivation: relu\n",
      "\u001b[34m\u001b[1mwandb\u001b[0m: \toptimizer: Batch\n",
      "\u001b[34m\u001b[1mwandb\u001b[0m: \u001b[33mWARNING\u001b[0m Ignored wandb.init() arg project when running a sweep.\n"
     ]
    },
    {
     "data": {
      "text/html": [
       "Tracking run with wandb version 0.15.12"
      ],
      "text/plain": [
       "<IPython.core.display.HTML object>"
      ]
     },
     "metadata": {},
     "output_type": "display_data"
    },
    {
     "data": {
      "text/html": [
       "Run data is saved locally in <code>/home/ubuntulsa/Sem5/SMAI/Assignment 3/wandb/run-20231022_175905-m94etqux</code>"
      ],
      "text/plain": [
       "<IPython.core.display.HTML object>"
      ]
     },
     "metadata": {},
     "output_type": "display_data"
    },
    {
     "data": {
      "text/html": [
       "Syncing run <strong><a href='https://wandb.ai/mourya/MLP%20Classification%20on%20different%20activation%20functions%20and%20optimizers%20for%20WineQT%20Dataset/runs/m94etqux' target=\"_blank\">mild-sweep-8</a></strong> to <a href='https://wandb.ai/mourya/MLP%20Classification%20on%20different%20activation%20functions%20and%20optimizers%20for%20WineQT%20Dataset' target=\"_blank\">Weights & Biases</a> (<a href='https://wandb.me/run' target=\"_blank\">docs</a>)<br/>Sweep page: <a href='https://wandb.ai/mourya/MLP%20Classification%20on%20different%20activation%20functions%20and%20optimizers%20for%20WineQT%20Dataset/sweeps/4x470ihy' target=\"_blank\">https://wandb.ai/mourya/MLP%20Classification%20on%20different%20activation%20functions%20and%20optimizers%20for%20WineQT%20Dataset/sweeps/4x470ihy</a>"
      ],
      "text/plain": [
       "<IPython.core.display.HTML object>"
      ]
     },
     "metadata": {},
     "output_type": "display_data"
    },
    {
     "data": {
      "text/html": [
       " View project at <a href='https://wandb.ai/mourya/MLP%20Classification%20on%20different%20activation%20functions%20and%20optimizers%20for%20WineQT%20Dataset' target=\"_blank\">https://wandb.ai/mourya/MLP%20Classification%20on%20different%20activation%20functions%20and%20optimizers%20for%20WineQT%20Dataset</a>"
      ],
      "text/plain": [
       "<IPython.core.display.HTML object>"
      ]
     },
     "metadata": {},
     "output_type": "display_data"
    },
    {
     "data": {
      "text/html": [
       " View sweep at <a href='https://wandb.ai/mourya/MLP%20Classification%20on%20different%20activation%20functions%20and%20optimizers%20for%20WineQT%20Dataset/sweeps/4x470ihy' target=\"_blank\">https://wandb.ai/mourya/MLP%20Classification%20on%20different%20activation%20functions%20and%20optimizers%20for%20WineQT%20Dataset/sweeps/4x470ihy</a>"
      ],
      "text/plain": [
       "<IPython.core.display.HTML object>"
      ]
     },
     "metadata": {},
     "output_type": "display_data"
    },
    {
     "data": {
      "text/html": [
       " View run at <a href='https://wandb.ai/mourya/MLP%20Classification%20on%20different%20activation%20functions%20and%20optimizers%20for%20WineQT%20Dataset/runs/m94etqux' target=\"_blank\">https://wandb.ai/mourya/MLP%20Classification%20on%20different%20activation%20functions%20and%20optimizers%20for%20WineQT%20Dataset/runs/m94etqux</a>"
      ],
      "text/plain": [
       "<IPython.core.display.HTML object>"
      ]
     },
     "metadata": {},
     "output_type": "display_data"
    },
    {
     "name": "stderr",
     "output_type": "stream",
     "text": [
      "/tmp/ipykernel_26887/1516164169.py:49: RuntimeWarning: divide by zero encountered in log\n",
      "  J = -np.sum(y * np.log(self.yHat)) / len(X)\n",
      "/tmp/ipykernel_26887/1516164169.py:49: RuntimeWarning: invalid value encountered in multiply\n",
      "  J = -np.sum(y * np.log(self.yHat)) / len(X)\n",
      "/tmp/ipykernel_26887/1516164169.py:45: RuntimeWarning: invalid value encountered in divide\n",
      "  return exp_z / exp_z.sum(axis=1, keepdims=True)\n",
      "/home/ubuntulsa/.local/lib/python3.10/site-packages/sklearn/metrics/_classification.py:1469: UndefinedMetricWarning: Precision is ill-defined and being set to 0.0 in labels with no predicted samples. Use `zero_division` parameter to control this behavior.\n",
      "  _warn_prf(average, modifier, msg_start, len(result))\n"
     ]
    },
    {
     "data": {
      "text/html": [
       "Waiting for W&B process to finish... <strong style=\"color:green\">(success).</strong>"
      ],
      "text/plain": [
       "<IPython.core.display.HTML object>"
      ]
     },
     "metadata": {},
     "output_type": "display_data"
    },
    {
     "data": {
      "application/vnd.jupyter.widget-view+json": {
       "model_id": "88a27ea8aa30430d83d6b4cf94924ad8",
       "version_major": 2,
       "version_minor": 0
      },
      "text/plain": [
       "VBox(children=(Label(value='0.002 MB of 0.002 MB uploaded (0.000 MB deduped)\\r'), FloatProgress(value=1.0, max…"
      ]
     },
     "metadata": {},
     "output_type": "display_data"
    },
    {
     "data": {
      "text/html": [
       "<style>\n",
       "    table.wandb td:nth-child(1) { padding: 0 10px; text-align: left ; width: auto;} td:nth-child(2) {text-align: left ; width: 100%}\n",
       "    .wandb-row { display: flex; flex-direction: row; flex-wrap: wrap; justify-content: flex-start; width: 100% }\n",
       "    .wandb-col { display: flex; flex-direction: column; flex-basis: 100%; flex: 1; padding: 10px; }\n",
       "    </style>\n",
       "<div class=\"wandb-row\"><div class=\"wandb-col\"><h3>Run history:</h3><br/><table class=\"wandb\"><tr><td>accuracy</td><td>▁</td></tr></table><br/></div><div class=\"wandb-col\"><h3>Run summary:</h3><br/><table class=\"wandb\"><tr><td>accuracy</td><td>0.0131</td></tr><tr><td>activation</td><td>relu</td></tr><tr><td>optimizer</td><td>Batch</td></tr></table><br/></div></div>"
      ],
      "text/plain": [
       "<IPython.core.display.HTML object>"
      ]
     },
     "metadata": {},
     "output_type": "display_data"
    },
    {
     "data": {
      "text/html": [
       " View run <strong style=\"color:#cdcd00\">mild-sweep-8</strong> at: <a href='https://wandb.ai/mourya/MLP%20Classification%20on%20different%20activation%20functions%20and%20optimizers%20for%20WineQT%20Dataset/runs/m94etqux' target=\"_blank\">https://wandb.ai/mourya/MLP%20Classification%20on%20different%20activation%20functions%20and%20optimizers%20for%20WineQT%20Dataset/runs/m94etqux</a><br/>Synced 5 W&B file(s), 0 media file(s), 0 artifact file(s) and 0 other file(s)"
      ],
      "text/plain": [
       "<IPython.core.display.HTML object>"
      ]
     },
     "metadata": {},
     "output_type": "display_data"
    },
    {
     "data": {
      "text/html": [
       "Find logs at: <code>./wandb/run-20231022_175905-m94etqux/logs</code>"
      ],
      "text/plain": [
       "<IPython.core.display.HTML object>"
      ]
     },
     "metadata": {},
     "output_type": "display_data"
    },
    {
     "name": "stderr",
     "output_type": "stream",
     "text": [
      "\u001b[34m\u001b[1mwandb\u001b[0m: Agent Starting Run: zh2t09l3 with config:\n",
      "\u001b[34m\u001b[1mwandb\u001b[0m: \tactivation: relu\n",
      "\u001b[34m\u001b[1mwandb\u001b[0m: \toptimizer: MiniBatch\n",
      "\u001b[34m\u001b[1mwandb\u001b[0m: \u001b[33mWARNING\u001b[0m Ignored wandb.init() arg project when running a sweep.\n"
     ]
    },
    {
     "data": {
      "text/html": [
       "Tracking run with wandb version 0.15.12"
      ],
      "text/plain": [
       "<IPython.core.display.HTML object>"
      ]
     },
     "metadata": {},
     "output_type": "display_data"
    },
    {
     "data": {
      "text/html": [
       "Run data is saved locally in <code>/home/ubuntulsa/Sem5/SMAI/Assignment 3/wandb/run-20231022_175916-zh2t09l3</code>"
      ],
      "text/plain": [
       "<IPython.core.display.HTML object>"
      ]
     },
     "metadata": {},
     "output_type": "display_data"
    },
    {
     "data": {
      "text/html": [
       "Syncing run <strong><a href='https://wandb.ai/mourya/MLP%20Classification%20on%20different%20activation%20functions%20and%20optimizers%20for%20WineQT%20Dataset/runs/zh2t09l3' target=\"_blank\">snowy-sweep-9</a></strong> to <a href='https://wandb.ai/mourya/MLP%20Classification%20on%20different%20activation%20functions%20and%20optimizers%20for%20WineQT%20Dataset' target=\"_blank\">Weights & Biases</a> (<a href='https://wandb.me/run' target=\"_blank\">docs</a>)<br/>Sweep page: <a href='https://wandb.ai/mourya/MLP%20Classification%20on%20different%20activation%20functions%20and%20optimizers%20for%20WineQT%20Dataset/sweeps/4x470ihy' target=\"_blank\">https://wandb.ai/mourya/MLP%20Classification%20on%20different%20activation%20functions%20and%20optimizers%20for%20WineQT%20Dataset/sweeps/4x470ihy</a>"
      ],
      "text/plain": [
       "<IPython.core.display.HTML object>"
      ]
     },
     "metadata": {},
     "output_type": "display_data"
    },
    {
     "data": {
      "text/html": [
       " View project at <a href='https://wandb.ai/mourya/MLP%20Classification%20on%20different%20activation%20functions%20and%20optimizers%20for%20WineQT%20Dataset' target=\"_blank\">https://wandb.ai/mourya/MLP%20Classification%20on%20different%20activation%20functions%20and%20optimizers%20for%20WineQT%20Dataset</a>"
      ],
      "text/plain": [
       "<IPython.core.display.HTML object>"
      ]
     },
     "metadata": {},
     "output_type": "display_data"
    },
    {
     "data": {
      "text/html": [
       " View sweep at <a href='https://wandb.ai/mourya/MLP%20Classification%20on%20different%20activation%20functions%20and%20optimizers%20for%20WineQT%20Dataset/sweeps/4x470ihy' target=\"_blank\">https://wandb.ai/mourya/MLP%20Classification%20on%20different%20activation%20functions%20and%20optimizers%20for%20WineQT%20Dataset/sweeps/4x470ihy</a>"
      ],
      "text/plain": [
       "<IPython.core.display.HTML object>"
      ]
     },
     "metadata": {},
     "output_type": "display_data"
    },
    {
     "data": {
      "text/html": [
       " View run at <a href='https://wandb.ai/mourya/MLP%20Classification%20on%20different%20activation%20functions%20and%20optimizers%20for%20WineQT%20Dataset/runs/zh2t09l3' target=\"_blank\">https://wandb.ai/mourya/MLP%20Classification%20on%20different%20activation%20functions%20and%20optimizers%20for%20WineQT%20Dataset/runs/zh2t09l3</a>"
      ],
      "text/plain": [
       "<IPython.core.display.HTML object>"
      ]
     },
     "metadata": {},
     "output_type": "display_data"
    },
    {
     "name": "stderr",
     "output_type": "stream",
     "text": [
      "/home/ubuntulsa/.local/lib/python3.10/site-packages/sklearn/metrics/_classification.py:1469: UndefinedMetricWarning: Precision is ill-defined and being set to 0.0 in labels with no predicted samples. Use `zero_division` parameter to control this behavior.\n",
      "  _warn_prf(average, modifier, msg_start, len(result))\n"
     ]
    },
    {
     "data": {
      "text/html": [
       "Waiting for W&B process to finish... <strong style=\"color:green\">(success).</strong>"
      ],
      "text/plain": [
       "<IPython.core.display.HTML object>"
      ]
     },
     "metadata": {},
     "output_type": "display_data"
    },
    {
     "data": {
      "application/vnd.jupyter.widget-view+json": {
       "model_id": "153283c9b8f340d08a044d7393bcaf2d",
       "version_major": 2,
       "version_minor": 0
      },
      "text/plain": [
       "VBox(children=(Label(value='0.002 MB of 0.002 MB uploaded (0.000 MB deduped)\\r'), FloatProgress(value=1.0, max…"
      ]
     },
     "metadata": {},
     "output_type": "display_data"
    },
    {
     "data": {
      "text/html": [
       "<style>\n",
       "    table.wandb td:nth-child(1) { padding: 0 10px; text-align: left ; width: auto;} td:nth-child(2) {text-align: left ; width: 100%}\n",
       "    .wandb-row { display: flex; flex-direction: row; flex-wrap: wrap; justify-content: flex-start; width: 100% }\n",
       "    .wandb-col { display: flex; flex-direction: column; flex-basis: 100%; flex: 1; padding: 10px; }\n",
       "    </style>\n",
       "<div class=\"wandb-row\"><div class=\"wandb-col\"><h3>Run history:</h3><br/><table class=\"wandb\"><tr><td>accuracy</td><td>▁</td></tr></table><br/></div><div class=\"wandb-col\"><h3>Run summary:</h3><br/><table class=\"wandb\"><tr><td>accuracy</td><td>0.59389</td></tr><tr><td>activation</td><td>relu</td></tr><tr><td>optimizer</td><td>MiniBatch</td></tr></table><br/></div></div>"
      ],
      "text/plain": [
       "<IPython.core.display.HTML object>"
      ]
     },
     "metadata": {},
     "output_type": "display_data"
    },
    {
     "data": {
      "text/html": [
       " View run <strong style=\"color:#cdcd00\">snowy-sweep-9</strong> at: <a href='https://wandb.ai/mourya/MLP%20Classification%20on%20different%20activation%20functions%20and%20optimizers%20for%20WineQT%20Dataset/runs/zh2t09l3' target=\"_blank\">https://wandb.ai/mourya/MLP%20Classification%20on%20different%20activation%20functions%20and%20optimizers%20for%20WineQT%20Dataset/runs/zh2t09l3</a><br/>Synced 5 W&B file(s), 0 media file(s), 0 artifact file(s) and 0 other file(s)"
      ],
      "text/plain": [
       "<IPython.core.display.HTML object>"
      ]
     },
     "metadata": {},
     "output_type": "display_data"
    },
    {
     "data": {
      "text/html": [
       "Find logs at: <code>./wandb/run-20231022_175916-zh2t09l3/logs</code>"
      ],
      "text/plain": [
       "<IPython.core.display.HTML object>"
      ]
     },
     "metadata": {},
     "output_type": "display_data"
    },
    {
     "name": "stderr",
     "output_type": "stream",
     "text": [
      "\u001b[34m\u001b[1mwandb\u001b[0m: Sweep Agent: Waiting for job.\n",
      "\u001b[34m\u001b[1mwandb\u001b[0m: Sweep Agent: Exiting.\n"
     ]
    }
   ],
   "source": [
    "\n",
    "# Define the sweep configuration\n",
    "sweep_config = {\n",
    "    \"name\": \"example_sweep\",\n",
    "    \"method\": \"grid\",  # Other options: \"grid\", \"bayes\"\n",
    "    \"metric\": {\"goal\": \"maximize\", \"name\": \"accuracy\"},\n",
    "    \"parameters\": {\n",
    "        \"activation\": {\"values\": [\"sigmoid\", \"tanh\", \"relu\"]},\n",
    "        \"optimizer\": {\"values\": [\"SGD\", \"Batch\", \"MiniBatch\"]},\n",
    "    },\n",
    "    \"early_terminate\": {\n",
    "        \"type\": \"hyperband\",\n",
    "        \"s\": 2,\n",
    "        \"eta\": 3,\n",
    "        \"max_iter\": 9,\n",
    "    },\n",
    "}\n",
    "\n",
    "# Initialize the sweep\n",
    "sweep_id = wandb.sweep(sweep_config, project=\"MLP Classification on different activation functions and optimizers for WineQT Dataset\")\n",
    "\n",
    "# Define your training function\n",
    "def train():\n",
    "    # Access sweep configuration\n",
    "    wandb.init(project=\"MLP Classification on different activation functions and optimizers for WineQT Dataset\")\n",
    "    \n",
    "    config = wandb.config\n",
    "\n",
    "    # Your training code here, using hyperparameters from config\n",
    "    # Example:\n",
    "    activation = config.activation\n",
    "    optimizer = config.optimizer\n",
    "\n",
    "    # Log metrics\n",
    "    np.random.seed(27)\n",
    "    mlp_sgd = Neural_Network(learning_rate=0.01,epochs=5000, inputLayerSize=12, hiddenLayerSize=[18], outputLayerSize=6)\n",
    "    mlp_sgd.set_activation_function(activation)\n",
    "    mlp_sgd.set_optimizer(optimizer)\n",
    "    loss = mlp_sgd.train(X_train, y_train)\n",
    "    y_pred = mlp_sgd.predict(X_val)\n",
    "    acc = accuracy_score(y_val, y_pred)\n",
    "    f1 = f1_score(y_val, y_pred, average='macro') \n",
    "    precision = precision_score(y_val, y_pred, average='macro')\n",
    "    recall = recall_score(y_val, y_pred, average='macro')\n",
    "    wandb.log({\"activation\": activation, \"optimizer\": optimizer, \"accuracy\": acc})\n",
    "\n",
    "# Start the sweep\n",
    "wandb.agent(sweep_id, function=train)\n"
   ]
  },
  {
   "cell_type": "code",
   "execution_count": 9,
   "id": "d474af06-852b-4393-b5b1-8ef68f8e36ef",
   "metadata": {},
   "outputs": [
    {
     "name": "stdout",
     "output_type": "stream",
     "text": [
      "Create sweep with ID: iuygacr0\n",
      "Sweep URL: https://wandb.ai/mourya/MLP%20Hyperparameter%20tuning%20on%20WineQT%20Dataset/sweeps/iuygacr0\n"
     ]
    },
    {
     "name": "stderr",
     "output_type": "stream",
     "text": [
      "\u001b[34m\u001b[1mwandb\u001b[0m: Agent Starting Run: 113d6870 with config:\n",
      "\u001b[34m\u001b[1mwandb\u001b[0m: \tepochs: 100\n",
      "\u001b[34m\u001b[1mwandb\u001b[0m: \thiddenlayersize: [14]\n",
      "\u001b[34m\u001b[1mwandb\u001b[0m: \tlearning_rate: 0.01\n",
      "Failed to detect the name of this notebook, you can set it manually with the WANDB_NOTEBOOK_NAME environment variable to enable code saving.\n",
      "\u001b[34m\u001b[1mwandb\u001b[0m: \u001b[33mWARNING\u001b[0m Ignored wandb.init() arg project when running a sweep.\n"
     ]
    },
    {
     "data": {
      "text/html": [
       "Tracking run with wandb version 0.15.12"
      ],
      "text/plain": [
       "<IPython.core.display.HTML object>"
      ]
     },
     "metadata": {},
     "output_type": "display_data"
    },
    {
     "data": {
      "text/html": [
       "Run data is saved locally in <code>/home/ubuntulsa/Sem5/SMAI/Assignment 3/wandb/run-20231022_182850-113d6870</code>"
      ],
      "text/plain": [
       "<IPython.core.display.HTML object>"
      ]
     },
     "metadata": {},
     "output_type": "display_data"
    },
    {
     "data": {
      "text/html": [
       "Syncing run <strong><a href='https://wandb.ai/mourya/MLP%20Hyperparameter%20tuning%20on%20WineQT%20Dataset/runs/113d6870' target=\"_blank\">vocal-sweep-1</a></strong> to <a href='https://wandb.ai/mourya/MLP%20Hyperparameter%20tuning%20on%20WineQT%20Dataset' target=\"_blank\">Weights & Biases</a> (<a href='https://wandb.me/run' target=\"_blank\">docs</a>)<br/>Sweep page: <a href='https://wandb.ai/mourya/MLP%20Hyperparameter%20tuning%20on%20WineQT%20Dataset/sweeps/iuygacr0' target=\"_blank\">https://wandb.ai/mourya/MLP%20Hyperparameter%20tuning%20on%20WineQT%20Dataset/sweeps/iuygacr0</a>"
      ],
      "text/plain": [
       "<IPython.core.display.HTML object>"
      ]
     },
     "metadata": {},
     "output_type": "display_data"
    },
    {
     "data": {
      "text/html": [
       " View project at <a href='https://wandb.ai/mourya/MLP%20Hyperparameter%20tuning%20on%20WineQT%20Dataset' target=\"_blank\">https://wandb.ai/mourya/MLP%20Hyperparameter%20tuning%20on%20WineQT%20Dataset</a>"
      ],
      "text/plain": [
       "<IPython.core.display.HTML object>"
      ]
     },
     "metadata": {},
     "output_type": "display_data"
    },
    {
     "data": {
      "text/html": [
       " View sweep at <a href='https://wandb.ai/mourya/MLP%20Hyperparameter%20tuning%20on%20WineQT%20Dataset/sweeps/iuygacr0' target=\"_blank\">https://wandb.ai/mourya/MLP%20Hyperparameter%20tuning%20on%20WineQT%20Dataset/sweeps/iuygacr0</a>"
      ],
      "text/plain": [
       "<IPython.core.display.HTML object>"
      ]
     },
     "metadata": {},
     "output_type": "display_data"
    },
    {
     "data": {
      "text/html": [
       " View run at <a href='https://wandb.ai/mourya/MLP%20Hyperparameter%20tuning%20on%20WineQT%20Dataset/runs/113d6870' target=\"_blank\">https://wandb.ai/mourya/MLP%20Hyperparameter%20tuning%20on%20WineQT%20Dataset/runs/113d6870</a>"
      ],
      "text/plain": [
       "<IPython.core.display.HTML object>"
      ]
     },
     "metadata": {},
     "output_type": "display_data"
    },
    {
     "name": "stderr",
     "output_type": "stream",
     "text": [
      "/home/ubuntulsa/.local/lib/python3.10/site-packages/sklearn/metrics/_classification.py:1469: UndefinedMetricWarning: Precision is ill-defined and being set to 0.0 in labels with no predicted samples. Use `zero_division` parameter to control this behavior.\n",
      "  _warn_prf(average, modifier, msg_start, len(result))\n"
     ]
    },
    {
     "data": {
      "text/html": [
       "Waiting for W&B process to finish... <strong style=\"color:green\">(success).</strong>"
      ],
      "text/plain": [
       "<IPython.core.display.HTML object>"
      ]
     },
     "metadata": {},
     "output_type": "display_data"
    },
    {
     "data": {
      "text/html": [
       "<style>\n",
       "    table.wandb td:nth-child(1) { padding: 0 10px; text-align: left ; width: auto;} td:nth-child(2) {text-align: left ; width: 100%}\n",
       "    .wandb-row { display: flex; flex-direction: row; flex-wrap: wrap; justify-content: flex-start; width: 100% }\n",
       "    .wandb-col { display: flex; flex-direction: column; flex-basis: 100%; flex: 1; padding: 10px; }\n",
       "    </style>\n",
       "<div class=\"wandb-row\"><div class=\"wandb-col\"><h3>Run history:</h3><br/><table class=\"wandb\"><tr><td>Accuracy</td><td>▁</td></tr><tr><td>F1 Score</td><td>▁</td></tr><tr><td>Precision</td><td>▁</td></tr><tr><td>Recall</td><td>▁</td></tr></table><br/></div><div class=\"wandb-col\"><h3>Run summary:</h3><br/><table class=\"wandb\"><tr><td>Accuracy</td><td>0.21397</td></tr><tr><td>F1 Score</td><td>0.11154</td></tr><tr><td>Precision</td><td>0.15268</td></tr><tr><td>Recall</td><td>0.11839</td></tr></table><br/></div></div>"
      ],
      "text/plain": [
       "<IPython.core.display.HTML object>"
      ]
     },
     "metadata": {},
     "output_type": "display_data"
    },
    {
     "data": {
      "text/html": [
       " View run <strong style=\"color:#cdcd00\">vocal-sweep-1</strong> at: <a href='https://wandb.ai/mourya/MLP%20Hyperparameter%20tuning%20on%20WineQT%20Dataset/runs/113d6870' target=\"_blank\">https://wandb.ai/mourya/MLP%20Hyperparameter%20tuning%20on%20WineQT%20Dataset/runs/113d6870</a><br/>Synced 5 W&B file(s), 0 media file(s), 0 artifact file(s) and 0 other file(s)"
      ],
      "text/plain": [
       "<IPython.core.display.HTML object>"
      ]
     },
     "metadata": {},
     "output_type": "display_data"
    },
    {
     "data": {
      "text/html": [
       "Find logs at: <code>./wandb/run-20231022_182850-113d6870/logs</code>"
      ],
      "text/plain": [
       "<IPython.core.display.HTML object>"
      ]
     },
     "metadata": {},
     "output_type": "display_data"
    },
    {
     "name": "stderr",
     "output_type": "stream",
     "text": [
      "\u001b[34m\u001b[1mwandb\u001b[0m: Agent Starting Run: 9s69hlu5 with config:\n",
      "\u001b[34m\u001b[1mwandb\u001b[0m: \tepochs: 100\n",
      "\u001b[34m\u001b[1mwandb\u001b[0m: \thiddenlayersize: [14]\n",
      "\u001b[34m\u001b[1mwandb\u001b[0m: \tlearning_rate: 0.001\n",
      "Failed to detect the name of this notebook, you can set it manually with the WANDB_NOTEBOOK_NAME environment variable to enable code saving.\n",
      "\u001b[34m\u001b[1mwandb\u001b[0m: \u001b[33mWARNING\u001b[0m Ignored wandb.init() arg project when running a sweep.\n"
     ]
    },
    {
     "data": {
      "text/html": [
       "Tracking run with wandb version 0.15.12"
      ],
      "text/plain": [
       "<IPython.core.display.HTML object>"
      ]
     },
     "metadata": {},
     "output_type": "display_data"
    },
    {
     "data": {
      "text/html": [
       "Run data is saved locally in <code>/home/ubuntulsa/Sem5/SMAI/Assignment 3/wandb/run-20231022_182901-9s69hlu5</code>"
      ],
      "text/plain": [
       "<IPython.core.display.HTML object>"
      ]
     },
     "metadata": {},
     "output_type": "display_data"
    },
    {
     "data": {
      "text/html": [
       "Syncing run <strong><a href='https://wandb.ai/mourya/MLP%20Hyperparameter%20tuning%20on%20WineQT%20Dataset/runs/9s69hlu5' target=\"_blank\">usual-sweep-2</a></strong> to <a href='https://wandb.ai/mourya/MLP%20Hyperparameter%20tuning%20on%20WineQT%20Dataset' target=\"_blank\">Weights & Biases</a> (<a href='https://wandb.me/run' target=\"_blank\">docs</a>)<br/>Sweep page: <a href='https://wandb.ai/mourya/MLP%20Hyperparameter%20tuning%20on%20WineQT%20Dataset/sweeps/iuygacr0' target=\"_blank\">https://wandb.ai/mourya/MLP%20Hyperparameter%20tuning%20on%20WineQT%20Dataset/sweeps/iuygacr0</a>"
      ],
      "text/plain": [
       "<IPython.core.display.HTML object>"
      ]
     },
     "metadata": {},
     "output_type": "display_data"
    },
    {
     "data": {
      "text/html": [
       " View project at <a href='https://wandb.ai/mourya/MLP%20Hyperparameter%20tuning%20on%20WineQT%20Dataset' target=\"_blank\">https://wandb.ai/mourya/MLP%20Hyperparameter%20tuning%20on%20WineQT%20Dataset</a>"
      ],
      "text/plain": [
       "<IPython.core.display.HTML object>"
      ]
     },
     "metadata": {},
     "output_type": "display_data"
    },
    {
     "data": {
      "text/html": [
       " View sweep at <a href='https://wandb.ai/mourya/MLP%20Hyperparameter%20tuning%20on%20WineQT%20Dataset/sweeps/iuygacr0' target=\"_blank\">https://wandb.ai/mourya/MLP%20Hyperparameter%20tuning%20on%20WineQT%20Dataset/sweeps/iuygacr0</a>"
      ],
      "text/plain": [
       "<IPython.core.display.HTML object>"
      ]
     },
     "metadata": {},
     "output_type": "display_data"
    },
    {
     "data": {
      "text/html": [
       " View run at <a href='https://wandb.ai/mourya/MLP%20Hyperparameter%20tuning%20on%20WineQT%20Dataset/runs/9s69hlu5' target=\"_blank\">https://wandb.ai/mourya/MLP%20Hyperparameter%20tuning%20on%20WineQT%20Dataset/runs/9s69hlu5</a>"
      ],
      "text/plain": [
       "<IPython.core.display.HTML object>"
      ]
     },
     "metadata": {},
     "output_type": "display_data"
    },
    {
     "name": "stderr",
     "output_type": "stream",
     "text": [
      "/home/ubuntulsa/.local/lib/python3.10/site-packages/sklearn/metrics/_classification.py:1469: UndefinedMetricWarning: Precision is ill-defined and being set to 0.0 in labels with no predicted samples. Use `zero_division` parameter to control this behavior.\n",
      "  _warn_prf(average, modifier, msg_start, len(result))\n"
     ]
    },
    {
     "data": {
      "text/html": [
       "Waiting for W&B process to finish... <strong style=\"color:green\">(success).</strong>"
      ],
      "text/plain": [
       "<IPython.core.display.HTML object>"
      ]
     },
     "metadata": {},
     "output_type": "display_data"
    },
    {
     "data": {
      "text/html": [
       "<style>\n",
       "    table.wandb td:nth-child(1) { padding: 0 10px; text-align: left ; width: auto;} td:nth-child(2) {text-align: left ; width: 100%}\n",
       "    .wandb-row { display: flex; flex-direction: row; flex-wrap: wrap; justify-content: flex-start; width: 100% }\n",
       "    .wandb-col { display: flex; flex-direction: column; flex-basis: 100%; flex: 1; padding: 10px; }\n",
       "    </style>\n",
       "<div class=\"wandb-row\"><div class=\"wandb-col\"><h3>Run history:</h3><br/><table class=\"wandb\"><tr><td>Accuracy</td><td>▁</td></tr><tr><td>F1 Score</td><td>▁</td></tr><tr><td>Precision</td><td>▁</td></tr><tr><td>Recall</td><td>▁</td></tr></table><br/></div><div class=\"wandb-col\"><h3>Run summary:</h3><br/><table class=\"wandb\"><tr><td>Accuracy</td><td>0.06987</td></tr><tr><td>F1 Score</td><td>0.03326</td></tr><tr><td>Precision</td><td>0.0357</td></tr><tr><td>Recall</td><td>0.1362</td></tr></table><br/></div></div>"
      ],
      "text/plain": [
       "<IPython.core.display.HTML object>"
      ]
     },
     "metadata": {},
     "output_type": "display_data"
    },
    {
     "data": {
      "text/html": [
       " View run <strong style=\"color:#cdcd00\">usual-sweep-2</strong> at: <a href='https://wandb.ai/mourya/MLP%20Hyperparameter%20tuning%20on%20WineQT%20Dataset/runs/9s69hlu5' target=\"_blank\">https://wandb.ai/mourya/MLP%20Hyperparameter%20tuning%20on%20WineQT%20Dataset/runs/9s69hlu5</a><br/>Synced 5 W&B file(s), 0 media file(s), 0 artifact file(s) and 0 other file(s)"
      ],
      "text/plain": [
       "<IPython.core.display.HTML object>"
      ]
     },
     "metadata": {},
     "output_type": "display_data"
    },
    {
     "data": {
      "text/html": [
       "Find logs at: <code>./wandb/run-20231022_182901-9s69hlu5/logs</code>"
      ],
      "text/plain": [
       "<IPython.core.display.HTML object>"
      ]
     },
     "metadata": {},
     "output_type": "display_data"
    },
    {
     "name": "stderr",
     "output_type": "stream",
     "text": [
      "\u001b[34m\u001b[1mwandb\u001b[0m: Agent Starting Run: 0129znsh with config:\n",
      "\u001b[34m\u001b[1mwandb\u001b[0m: \tepochs: 100\n",
      "\u001b[34m\u001b[1mwandb\u001b[0m: \thiddenlayersize: [18]\n",
      "\u001b[34m\u001b[1mwandb\u001b[0m: \tlearning_rate: 0.01\n",
      "Failed to detect the name of this notebook, you can set it manually with the WANDB_NOTEBOOK_NAME environment variable to enable code saving.\n",
      "\u001b[34m\u001b[1mwandb\u001b[0m: \u001b[33mWARNING\u001b[0m Ignored wandb.init() arg project when running a sweep.\n"
     ]
    },
    {
     "data": {
      "text/html": [
       "Tracking run with wandb version 0.15.12"
      ],
      "text/plain": [
       "<IPython.core.display.HTML object>"
      ]
     },
     "metadata": {},
     "output_type": "display_data"
    },
    {
     "data": {
      "text/html": [
       "Run data is saved locally in <code>/home/ubuntulsa/Sem5/SMAI/Assignment 3/wandb/run-20231022_182912-0129znsh</code>"
      ],
      "text/plain": [
       "<IPython.core.display.HTML object>"
      ]
     },
     "metadata": {},
     "output_type": "display_data"
    },
    {
     "data": {
      "text/html": [
       "Syncing run <strong><a href='https://wandb.ai/mourya/MLP%20Hyperparameter%20tuning%20on%20WineQT%20Dataset/runs/0129znsh' target=\"_blank\">sweepy-sweep-3</a></strong> to <a href='https://wandb.ai/mourya/MLP%20Hyperparameter%20tuning%20on%20WineQT%20Dataset' target=\"_blank\">Weights & Biases</a> (<a href='https://wandb.me/run' target=\"_blank\">docs</a>)<br/>Sweep page: <a href='https://wandb.ai/mourya/MLP%20Hyperparameter%20tuning%20on%20WineQT%20Dataset/sweeps/iuygacr0' target=\"_blank\">https://wandb.ai/mourya/MLP%20Hyperparameter%20tuning%20on%20WineQT%20Dataset/sweeps/iuygacr0</a>"
      ],
      "text/plain": [
       "<IPython.core.display.HTML object>"
      ]
     },
     "metadata": {},
     "output_type": "display_data"
    },
    {
     "data": {
      "text/html": [
       " View project at <a href='https://wandb.ai/mourya/MLP%20Hyperparameter%20tuning%20on%20WineQT%20Dataset' target=\"_blank\">https://wandb.ai/mourya/MLP%20Hyperparameter%20tuning%20on%20WineQT%20Dataset</a>"
      ],
      "text/plain": [
       "<IPython.core.display.HTML object>"
      ]
     },
     "metadata": {},
     "output_type": "display_data"
    },
    {
     "data": {
      "text/html": [
       " View sweep at <a href='https://wandb.ai/mourya/MLP%20Hyperparameter%20tuning%20on%20WineQT%20Dataset/sweeps/iuygacr0' target=\"_blank\">https://wandb.ai/mourya/MLP%20Hyperparameter%20tuning%20on%20WineQT%20Dataset/sweeps/iuygacr0</a>"
      ],
      "text/plain": [
       "<IPython.core.display.HTML object>"
      ]
     },
     "metadata": {},
     "output_type": "display_data"
    },
    {
     "data": {
      "text/html": [
       " View run at <a href='https://wandb.ai/mourya/MLP%20Hyperparameter%20tuning%20on%20WineQT%20Dataset/runs/0129znsh' target=\"_blank\">https://wandb.ai/mourya/MLP%20Hyperparameter%20tuning%20on%20WineQT%20Dataset/runs/0129znsh</a>"
      ],
      "text/plain": [
       "<IPython.core.display.HTML object>"
      ]
     },
     "metadata": {},
     "output_type": "display_data"
    },
    {
     "name": "stderr",
     "output_type": "stream",
     "text": [
      "/home/ubuntulsa/.local/lib/python3.10/site-packages/sklearn/metrics/_classification.py:1469: UndefinedMetricWarning: Precision is ill-defined and being set to 0.0 in labels with no predicted samples. Use `zero_division` parameter to control this behavior.\n",
      "  _warn_prf(average, modifier, msg_start, len(result))\n"
     ]
    },
    {
     "data": {
      "text/html": [
       "Waiting for W&B process to finish... <strong style=\"color:green\">(success).</strong>"
      ],
      "text/plain": [
       "<IPython.core.display.HTML object>"
      ]
     },
     "metadata": {},
     "output_type": "display_data"
    },
    {
     "data": {
      "text/html": [
       "<style>\n",
       "    table.wandb td:nth-child(1) { padding: 0 10px; text-align: left ; width: auto;} td:nth-child(2) {text-align: left ; width: 100%}\n",
       "    .wandb-row { display: flex; flex-direction: row; flex-wrap: wrap; justify-content: flex-start; width: 100% }\n",
       "    .wandb-col { display: flex; flex-direction: column; flex-basis: 100%; flex: 1; padding: 10px; }\n",
       "    </style>\n",
       "<div class=\"wandb-row\"><div class=\"wandb-col\"><h3>Run history:</h3><br/><table class=\"wandb\"><tr><td>Accuracy</td><td>▁</td></tr><tr><td>F1 Score</td><td>▁</td></tr><tr><td>Precision</td><td>▁</td></tr><tr><td>Recall</td><td>▁</td></tr></table><br/></div><div class=\"wandb-col\"><h3>Run summary:</h3><br/><table class=\"wandb\"><tr><td>Accuracy</td><td>0.21397</td></tr><tr><td>F1 Score</td><td>0.10502</td></tr><tr><td>Precision</td><td>0.11876</td></tr><tr><td>Recall</td><td>0.11721</td></tr></table><br/></div></div>"
      ],
      "text/plain": [
       "<IPython.core.display.HTML object>"
      ]
     },
     "metadata": {},
     "output_type": "display_data"
    },
    {
     "data": {
      "text/html": [
       " View run <strong style=\"color:#cdcd00\">sweepy-sweep-3</strong> at: <a href='https://wandb.ai/mourya/MLP%20Hyperparameter%20tuning%20on%20WineQT%20Dataset/runs/0129znsh' target=\"_blank\">https://wandb.ai/mourya/MLP%20Hyperparameter%20tuning%20on%20WineQT%20Dataset/runs/0129znsh</a><br/>Synced 5 W&B file(s), 0 media file(s), 0 artifact file(s) and 0 other file(s)"
      ],
      "text/plain": [
       "<IPython.core.display.HTML object>"
      ]
     },
     "metadata": {},
     "output_type": "display_data"
    },
    {
     "data": {
      "text/html": [
       "Find logs at: <code>./wandb/run-20231022_182912-0129znsh/logs</code>"
      ],
      "text/plain": [
       "<IPython.core.display.HTML object>"
      ]
     },
     "metadata": {},
     "output_type": "display_data"
    },
    {
     "name": "stderr",
     "output_type": "stream",
     "text": [
      "\u001b[34m\u001b[1mwandb\u001b[0m: Agent Starting Run: 6oxnp4zf with config:\n",
      "\u001b[34m\u001b[1mwandb\u001b[0m: \tepochs: 100\n",
      "\u001b[34m\u001b[1mwandb\u001b[0m: \thiddenlayersize: [18]\n",
      "\u001b[34m\u001b[1mwandb\u001b[0m: \tlearning_rate: 0.001\n",
      "Failed to detect the name of this notebook, you can set it manually with the WANDB_NOTEBOOK_NAME environment variable to enable code saving.\n",
      "\u001b[34m\u001b[1mwandb\u001b[0m: \u001b[33mWARNING\u001b[0m Ignored wandb.init() arg project when running a sweep.\n"
     ]
    },
    {
     "data": {
      "text/html": [
       "Tracking run with wandb version 0.15.12"
      ],
      "text/plain": [
       "<IPython.core.display.HTML object>"
      ]
     },
     "metadata": {},
     "output_type": "display_data"
    },
    {
     "data": {
      "text/html": [
       "Run data is saved locally in <code>/home/ubuntulsa/Sem5/SMAI/Assignment 3/wandb/run-20231022_182923-6oxnp4zf</code>"
      ],
      "text/plain": [
       "<IPython.core.display.HTML object>"
      ]
     },
     "metadata": {},
     "output_type": "display_data"
    },
    {
     "data": {
      "text/html": [
       "Syncing run <strong><a href='https://wandb.ai/mourya/MLP%20Hyperparameter%20tuning%20on%20WineQT%20Dataset/runs/6oxnp4zf' target=\"_blank\">ethereal-sweep-4</a></strong> to <a href='https://wandb.ai/mourya/MLP%20Hyperparameter%20tuning%20on%20WineQT%20Dataset' target=\"_blank\">Weights & Biases</a> (<a href='https://wandb.me/run' target=\"_blank\">docs</a>)<br/>Sweep page: <a href='https://wandb.ai/mourya/MLP%20Hyperparameter%20tuning%20on%20WineQT%20Dataset/sweeps/iuygacr0' target=\"_blank\">https://wandb.ai/mourya/MLP%20Hyperparameter%20tuning%20on%20WineQT%20Dataset/sweeps/iuygacr0</a>"
      ],
      "text/plain": [
       "<IPython.core.display.HTML object>"
      ]
     },
     "metadata": {},
     "output_type": "display_data"
    },
    {
     "data": {
      "text/html": [
       " View project at <a href='https://wandb.ai/mourya/MLP%20Hyperparameter%20tuning%20on%20WineQT%20Dataset' target=\"_blank\">https://wandb.ai/mourya/MLP%20Hyperparameter%20tuning%20on%20WineQT%20Dataset</a>"
      ],
      "text/plain": [
       "<IPython.core.display.HTML object>"
      ]
     },
     "metadata": {},
     "output_type": "display_data"
    },
    {
     "data": {
      "text/html": [
       " View sweep at <a href='https://wandb.ai/mourya/MLP%20Hyperparameter%20tuning%20on%20WineQT%20Dataset/sweeps/iuygacr0' target=\"_blank\">https://wandb.ai/mourya/MLP%20Hyperparameter%20tuning%20on%20WineQT%20Dataset/sweeps/iuygacr0</a>"
      ],
      "text/plain": [
       "<IPython.core.display.HTML object>"
      ]
     },
     "metadata": {},
     "output_type": "display_data"
    },
    {
     "data": {
      "text/html": [
       " View run at <a href='https://wandb.ai/mourya/MLP%20Hyperparameter%20tuning%20on%20WineQT%20Dataset/runs/6oxnp4zf' target=\"_blank\">https://wandb.ai/mourya/MLP%20Hyperparameter%20tuning%20on%20WineQT%20Dataset/runs/6oxnp4zf</a>"
      ],
      "text/plain": [
       "<IPython.core.display.HTML object>"
      ]
     },
     "metadata": {},
     "output_type": "display_data"
    },
    {
     "name": "stderr",
     "output_type": "stream",
     "text": [
      "/home/ubuntulsa/.local/lib/python3.10/site-packages/sklearn/metrics/_classification.py:1469: UndefinedMetricWarning: Precision is ill-defined and being set to 0.0 in labels with no predicted samples. Use `zero_division` parameter to control this behavior.\n",
      "  _warn_prf(average, modifier, msg_start, len(result))\n"
     ]
    },
    {
     "data": {
      "text/html": [
       "Waiting for W&B process to finish... <strong style=\"color:green\">(success).</strong>"
      ],
      "text/plain": [
       "<IPython.core.display.HTML object>"
      ]
     },
     "metadata": {},
     "output_type": "display_data"
    },
    {
     "data": {
      "text/html": [
       "<style>\n",
       "    table.wandb td:nth-child(1) { padding: 0 10px; text-align: left ; width: auto;} td:nth-child(2) {text-align: left ; width: 100%}\n",
       "    .wandb-row { display: flex; flex-direction: row; flex-wrap: wrap; justify-content: flex-start; width: 100% }\n",
       "    .wandb-col { display: flex; flex-direction: column; flex-basis: 100%; flex: 1; padding: 10px; }\n",
       "    </style>\n",
       "<div class=\"wandb-row\"><div class=\"wandb-col\"><h3>Run history:</h3><br/><table class=\"wandb\"><tr><td>Accuracy</td><td>▁</td></tr><tr><td>F1 Score</td><td>▁</td></tr><tr><td>Precision</td><td>▁</td></tr><tr><td>Recall</td><td>▁</td></tr></table><br/></div><div class=\"wandb-col\"><h3>Run summary:</h3><br/><table class=\"wandb\"><tr><td>Accuracy</td><td>0.38428</td></tr><tr><td>F1 Score</td><td>0.10166</td></tr><tr><td>Precision</td><td>0.08674</td></tr><tr><td>Recall</td><td>0.16166</td></tr></table><br/></div></div>"
      ],
      "text/plain": [
       "<IPython.core.display.HTML object>"
      ]
     },
     "metadata": {},
     "output_type": "display_data"
    },
    {
     "data": {
      "text/html": [
       " View run <strong style=\"color:#cdcd00\">ethereal-sweep-4</strong> at: <a href='https://wandb.ai/mourya/MLP%20Hyperparameter%20tuning%20on%20WineQT%20Dataset/runs/6oxnp4zf' target=\"_blank\">https://wandb.ai/mourya/MLP%20Hyperparameter%20tuning%20on%20WineQT%20Dataset/runs/6oxnp4zf</a><br/>Synced 5 W&B file(s), 0 media file(s), 0 artifact file(s) and 0 other file(s)"
      ],
      "text/plain": [
       "<IPython.core.display.HTML object>"
      ]
     },
     "metadata": {},
     "output_type": "display_data"
    },
    {
     "data": {
      "text/html": [
       "Find logs at: <code>./wandb/run-20231022_182923-6oxnp4zf/logs</code>"
      ],
      "text/plain": [
       "<IPython.core.display.HTML object>"
      ]
     },
     "metadata": {},
     "output_type": "display_data"
    },
    {
     "name": "stderr",
     "output_type": "stream",
     "text": [
      "\u001b[34m\u001b[1mwandb\u001b[0m: Sweep Agent: Waiting for job.\n",
      "\u001b[34m\u001b[1mwandb\u001b[0m: Job received.\n",
      "\u001b[34m\u001b[1mwandb\u001b[0m: Agent Starting Run: y54v2vpb with config:\n",
      "\u001b[34m\u001b[1mwandb\u001b[0m: \tepochs: 100\n",
      "\u001b[34m\u001b[1mwandb\u001b[0m: \thiddenlayersize: [18, 18]\n",
      "\u001b[34m\u001b[1mwandb\u001b[0m: \tlearning_rate: 0.01\n",
      "Failed to detect the name of this notebook, you can set it manually with the WANDB_NOTEBOOK_NAME environment variable to enable code saving.\n",
      "\u001b[34m\u001b[1mwandb\u001b[0m: \u001b[33mWARNING\u001b[0m Ignored wandb.init() arg project when running a sweep.\n"
     ]
    },
    {
     "data": {
      "application/vnd.jupyter.widget-view+json": {
       "model_id": "7765fe6874634ff58d7eb272fb89ea12",
       "version_major": 2,
       "version_minor": 0
      },
      "text/plain": [
       "VBox(children=(Label(value='Waiting for wandb.init()...\\r'), FloatProgress(value=0.011112505555542562, max=1.0…"
      ]
     },
     "metadata": {},
     "output_type": "display_data"
    },
    {
     "data": {
      "text/html": [
       "Tracking run with wandb version 0.15.12"
      ],
      "text/plain": [
       "<IPython.core.display.HTML object>"
      ]
     },
     "metadata": {},
     "output_type": "display_data"
    },
    {
     "data": {
      "text/html": [
       "Run data is saved locally in <code>/home/ubuntulsa/Sem5/SMAI/Assignment 3/wandb/run-20231022_182944-y54v2vpb</code>"
      ],
      "text/plain": [
       "<IPython.core.display.HTML object>"
      ]
     },
     "metadata": {},
     "output_type": "display_data"
    },
    {
     "data": {
      "text/html": [
       "Syncing run <strong><a href='https://wandb.ai/mourya/MLP%20Hyperparameter%20tuning%20on%20WineQT%20Dataset/runs/y54v2vpb' target=\"_blank\">logical-sweep-5</a></strong> to <a href='https://wandb.ai/mourya/MLP%20Hyperparameter%20tuning%20on%20WineQT%20Dataset' target=\"_blank\">Weights & Biases</a> (<a href='https://wandb.me/run' target=\"_blank\">docs</a>)<br/>Sweep page: <a href='https://wandb.ai/mourya/MLP%20Hyperparameter%20tuning%20on%20WineQT%20Dataset/sweeps/iuygacr0' target=\"_blank\">https://wandb.ai/mourya/MLP%20Hyperparameter%20tuning%20on%20WineQT%20Dataset/sweeps/iuygacr0</a>"
      ],
      "text/plain": [
       "<IPython.core.display.HTML object>"
      ]
     },
     "metadata": {},
     "output_type": "display_data"
    },
    {
     "data": {
      "text/html": [
       " View project at <a href='https://wandb.ai/mourya/MLP%20Hyperparameter%20tuning%20on%20WineQT%20Dataset' target=\"_blank\">https://wandb.ai/mourya/MLP%20Hyperparameter%20tuning%20on%20WineQT%20Dataset</a>"
      ],
      "text/plain": [
       "<IPython.core.display.HTML object>"
      ]
     },
     "metadata": {},
     "output_type": "display_data"
    },
    {
     "data": {
      "text/html": [
       " View sweep at <a href='https://wandb.ai/mourya/MLP%20Hyperparameter%20tuning%20on%20WineQT%20Dataset/sweeps/iuygacr0' target=\"_blank\">https://wandb.ai/mourya/MLP%20Hyperparameter%20tuning%20on%20WineQT%20Dataset/sweeps/iuygacr0</a>"
      ],
      "text/plain": [
       "<IPython.core.display.HTML object>"
      ]
     },
     "metadata": {},
     "output_type": "display_data"
    },
    {
     "data": {
      "text/html": [
       " View run at <a href='https://wandb.ai/mourya/MLP%20Hyperparameter%20tuning%20on%20WineQT%20Dataset/runs/y54v2vpb' target=\"_blank\">https://wandb.ai/mourya/MLP%20Hyperparameter%20tuning%20on%20WineQT%20Dataset/runs/y54v2vpb</a>"
      ],
      "text/plain": [
       "<IPython.core.display.HTML object>"
      ]
     },
     "metadata": {},
     "output_type": "display_data"
    },
    {
     "data": {
      "text/html": [
       "Waiting for W&B process to finish... <strong style=\"color:green\">(success).</strong>"
      ],
      "text/plain": [
       "<IPython.core.display.HTML object>"
      ]
     },
     "metadata": {},
     "output_type": "display_data"
    },
    {
     "data": {
      "application/vnd.jupyter.widget-view+json": {
       "model_id": "63c4d5022d9e4d2fa6360a9f05357575",
       "version_major": 2,
       "version_minor": 0
      },
      "text/plain": [
       "VBox(children=(Label(value='0.002 MB of 0.002 MB uploaded (0.000 MB deduped)\\r'), FloatProgress(value=0.775666…"
      ]
     },
     "metadata": {},
     "output_type": "display_data"
    },
    {
     "data": {
      "text/html": [
       "<style>\n",
       "    table.wandb td:nth-child(1) { padding: 0 10px; text-align: left ; width: auto;} td:nth-child(2) {text-align: left ; width: 100%}\n",
       "    .wandb-row { display: flex; flex-direction: row; flex-wrap: wrap; justify-content: flex-start; width: 100% }\n",
       "    .wandb-col { display: flex; flex-direction: column; flex-basis: 100%; flex: 1; padding: 10px; }\n",
       "    </style>\n",
       "<div class=\"wandb-row\"><div class=\"wandb-col\"><h3>Run history:</h3><br/><table class=\"wandb\"><tr><td>Accuracy</td><td>▁</td></tr><tr><td>F1 Score</td><td>▁</td></tr><tr><td>Precision</td><td>▁</td></tr><tr><td>Recall</td><td>▁</td></tr></table><br/></div><div class=\"wandb-col\"><h3>Run summary:</h3><br/><table class=\"wandb\"><tr><td>Accuracy</td><td>0.07424</td></tr><tr><td>F1 Score</td><td>0.05419</td></tr><tr><td>Precision</td><td>0.11894</td></tr><tr><td>Recall</td><td>0.129</td></tr></table><br/></div></div>"
      ],
      "text/plain": [
       "<IPython.core.display.HTML object>"
      ]
     },
     "metadata": {},
     "output_type": "display_data"
    },
    {
     "data": {
      "text/html": [
       " View run <strong style=\"color:#cdcd00\">logical-sweep-5</strong> at: <a href='https://wandb.ai/mourya/MLP%20Hyperparameter%20tuning%20on%20WineQT%20Dataset/runs/y54v2vpb' target=\"_blank\">https://wandb.ai/mourya/MLP%20Hyperparameter%20tuning%20on%20WineQT%20Dataset/runs/y54v2vpb</a><br/>Synced 4 W&B file(s), 0 media file(s), 0 artifact file(s) and 0 other file(s)"
      ],
      "text/plain": [
       "<IPython.core.display.HTML object>"
      ]
     },
     "metadata": {},
     "output_type": "display_data"
    },
    {
     "data": {
      "text/html": [
       "Find logs at: <code>./wandb/run-20231022_182944-y54v2vpb/logs</code>"
      ],
      "text/plain": [
       "<IPython.core.display.HTML object>"
      ]
     },
     "metadata": {},
     "output_type": "display_data"
    },
    {
     "name": "stderr",
     "output_type": "stream",
     "text": [
      "\u001b[34m\u001b[1mwandb\u001b[0m: Agent Starting Run: cdfgkx2w with config:\n",
      "\u001b[34m\u001b[1mwandb\u001b[0m: \tepochs: 100\n",
      "\u001b[34m\u001b[1mwandb\u001b[0m: \thiddenlayersize: [18, 18]\n",
      "\u001b[34m\u001b[1mwandb\u001b[0m: \tlearning_rate: 0.001\n",
      "Failed to detect the name of this notebook, you can set it manually with the WANDB_NOTEBOOK_NAME environment variable to enable code saving.\n",
      "\u001b[34m\u001b[1mwandb\u001b[0m: \u001b[33mWARNING\u001b[0m Ignored wandb.init() arg project when running a sweep.\n"
     ]
    },
    {
     "data": {
      "application/vnd.jupyter.widget-view+json": {
       "model_id": "0ef4210434074b0eb035debd79d8c55a",
       "version_major": 2,
       "version_minor": 0
      },
      "text/plain": [
       "VBox(children=(Label(value='Waiting for wandb.init()...\\r'), FloatProgress(value=0.011112713666665917, max=1.0…"
      ]
     },
     "metadata": {},
     "output_type": "display_data"
    },
    {
     "data": {
      "text/html": [
       "Tracking run with wandb version 0.15.12"
      ],
      "text/plain": [
       "<IPython.core.display.HTML object>"
      ]
     },
     "metadata": {},
     "output_type": "display_data"
    },
    {
     "data": {
      "text/html": [
       "Run data is saved locally in <code>/home/ubuntulsa/Sem5/SMAI/Assignment 3/wandb/run-20231022_182955-cdfgkx2w</code>"
      ],
      "text/plain": [
       "<IPython.core.display.HTML object>"
      ]
     },
     "metadata": {},
     "output_type": "display_data"
    },
    {
     "data": {
      "text/html": [
       "Syncing run <strong><a href='https://wandb.ai/mourya/MLP%20Hyperparameter%20tuning%20on%20WineQT%20Dataset/runs/cdfgkx2w' target=\"_blank\">brisk-sweep-6</a></strong> to <a href='https://wandb.ai/mourya/MLP%20Hyperparameter%20tuning%20on%20WineQT%20Dataset' target=\"_blank\">Weights & Biases</a> (<a href='https://wandb.me/run' target=\"_blank\">docs</a>)<br/>Sweep page: <a href='https://wandb.ai/mourya/MLP%20Hyperparameter%20tuning%20on%20WineQT%20Dataset/sweeps/iuygacr0' target=\"_blank\">https://wandb.ai/mourya/MLP%20Hyperparameter%20tuning%20on%20WineQT%20Dataset/sweeps/iuygacr0</a>"
      ],
      "text/plain": [
       "<IPython.core.display.HTML object>"
      ]
     },
     "metadata": {},
     "output_type": "display_data"
    },
    {
     "data": {
      "text/html": [
       " View project at <a href='https://wandb.ai/mourya/MLP%20Hyperparameter%20tuning%20on%20WineQT%20Dataset' target=\"_blank\">https://wandb.ai/mourya/MLP%20Hyperparameter%20tuning%20on%20WineQT%20Dataset</a>"
      ],
      "text/plain": [
       "<IPython.core.display.HTML object>"
      ]
     },
     "metadata": {},
     "output_type": "display_data"
    },
    {
     "data": {
      "text/html": [
       " View sweep at <a href='https://wandb.ai/mourya/MLP%20Hyperparameter%20tuning%20on%20WineQT%20Dataset/sweeps/iuygacr0' target=\"_blank\">https://wandb.ai/mourya/MLP%20Hyperparameter%20tuning%20on%20WineQT%20Dataset/sweeps/iuygacr0</a>"
      ],
      "text/plain": [
       "<IPython.core.display.HTML object>"
      ]
     },
     "metadata": {},
     "output_type": "display_data"
    },
    {
     "data": {
      "text/html": [
       " View run at <a href='https://wandb.ai/mourya/MLP%20Hyperparameter%20tuning%20on%20WineQT%20Dataset/runs/cdfgkx2w' target=\"_blank\">https://wandb.ai/mourya/MLP%20Hyperparameter%20tuning%20on%20WineQT%20Dataset/runs/cdfgkx2w</a>"
      ],
      "text/plain": [
       "<IPython.core.display.HTML object>"
      ]
     },
     "metadata": {},
     "output_type": "display_data"
    },
    {
     "name": "stderr",
     "output_type": "stream",
     "text": [
      "/home/ubuntulsa/.local/lib/python3.10/site-packages/sklearn/metrics/_classification.py:1469: UndefinedMetricWarning: Precision is ill-defined and being set to 0.0 in labels with no predicted samples. Use `zero_division` parameter to control this behavior.\n",
      "  _warn_prf(average, modifier, msg_start, len(result))\n"
     ]
    },
    {
     "data": {
      "text/html": [
       "Waiting for W&B process to finish... <strong style=\"color:green\">(success).</strong>"
      ],
      "text/plain": [
       "<IPython.core.display.HTML object>"
      ]
     },
     "metadata": {},
     "output_type": "display_data"
    },
    {
     "data": {
      "text/html": [
       "<style>\n",
       "    table.wandb td:nth-child(1) { padding: 0 10px; text-align: left ; width: auto;} td:nth-child(2) {text-align: left ; width: 100%}\n",
       "    .wandb-row { display: flex; flex-direction: row; flex-wrap: wrap; justify-content: flex-start; width: 100% }\n",
       "    .wandb-col { display: flex; flex-direction: column; flex-basis: 100%; flex: 1; padding: 10px; }\n",
       "    </style>\n",
       "<div class=\"wandb-row\"><div class=\"wandb-col\"><h3>Run history:</h3><br/><table class=\"wandb\"><tr><td>Accuracy</td><td>▁</td></tr><tr><td>F1 Score</td><td>▁</td></tr><tr><td>Precision</td><td>▁</td></tr><tr><td>Recall</td><td>▁</td></tr></table><br/></div><div class=\"wandb-col\"><h3>Run summary:</h3><br/><table class=\"wandb\"><tr><td>Accuracy</td><td>0.40611</td></tr><tr><td>F1 Score</td><td>0.09627</td></tr><tr><td>Precision</td><td>0.06769</td></tr><tr><td>Recall</td><td>0.16667</td></tr></table><br/></div></div>"
      ],
      "text/plain": [
       "<IPython.core.display.HTML object>"
      ]
     },
     "metadata": {},
     "output_type": "display_data"
    },
    {
     "data": {
      "text/html": [
       " View run <strong style=\"color:#cdcd00\">brisk-sweep-6</strong> at: <a href='https://wandb.ai/mourya/MLP%20Hyperparameter%20tuning%20on%20WineQT%20Dataset/runs/cdfgkx2w' target=\"_blank\">https://wandb.ai/mourya/MLP%20Hyperparameter%20tuning%20on%20WineQT%20Dataset/runs/cdfgkx2w</a><br/>Synced 5 W&B file(s), 0 media file(s), 0 artifact file(s) and 0 other file(s)"
      ],
      "text/plain": [
       "<IPython.core.display.HTML object>"
      ]
     },
     "metadata": {},
     "output_type": "display_data"
    },
    {
     "data": {
      "text/html": [
       "Find logs at: <code>./wandb/run-20231022_182955-cdfgkx2w/logs</code>"
      ],
      "text/plain": [
       "<IPython.core.display.HTML object>"
      ]
     },
     "metadata": {},
     "output_type": "display_data"
    },
    {
     "name": "stderr",
     "output_type": "stream",
     "text": [
      "\u001b[34m\u001b[1mwandb\u001b[0m: Agent Starting Run: m2nnu8tb with config:\n",
      "\u001b[34m\u001b[1mwandb\u001b[0m: \tepochs: 50\n",
      "\u001b[34m\u001b[1mwandb\u001b[0m: \thiddenlayersize: [14]\n",
      "\u001b[34m\u001b[1mwandb\u001b[0m: \tlearning_rate: 0.01\n",
      "Failed to detect the name of this notebook, you can set it manually with the WANDB_NOTEBOOK_NAME environment variable to enable code saving.\n",
      "\u001b[34m\u001b[1mwandb\u001b[0m: \u001b[33mWARNING\u001b[0m Ignored wandb.init() arg project when running a sweep.\n"
     ]
    },
    {
     "data": {
      "text/html": [
       "Tracking run with wandb version 0.15.12"
      ],
      "text/plain": [
       "<IPython.core.display.HTML object>"
      ]
     },
     "metadata": {},
     "output_type": "display_data"
    },
    {
     "data": {
      "text/html": [
       "Run data is saved locally in <code>/home/ubuntulsa/Sem5/SMAI/Assignment 3/wandb/run-20231022_183007-m2nnu8tb</code>"
      ],
      "text/plain": [
       "<IPython.core.display.HTML object>"
      ]
     },
     "metadata": {},
     "output_type": "display_data"
    },
    {
     "data": {
      "text/html": [
       "Syncing run <strong><a href='https://wandb.ai/mourya/MLP%20Hyperparameter%20tuning%20on%20WineQT%20Dataset/runs/m2nnu8tb' target=\"_blank\">sweepy-sweep-7</a></strong> to <a href='https://wandb.ai/mourya/MLP%20Hyperparameter%20tuning%20on%20WineQT%20Dataset' target=\"_blank\">Weights & Biases</a> (<a href='https://wandb.me/run' target=\"_blank\">docs</a>)<br/>Sweep page: <a href='https://wandb.ai/mourya/MLP%20Hyperparameter%20tuning%20on%20WineQT%20Dataset/sweeps/iuygacr0' target=\"_blank\">https://wandb.ai/mourya/MLP%20Hyperparameter%20tuning%20on%20WineQT%20Dataset/sweeps/iuygacr0</a>"
      ],
      "text/plain": [
       "<IPython.core.display.HTML object>"
      ]
     },
     "metadata": {},
     "output_type": "display_data"
    },
    {
     "data": {
      "text/html": [
       " View project at <a href='https://wandb.ai/mourya/MLP%20Hyperparameter%20tuning%20on%20WineQT%20Dataset' target=\"_blank\">https://wandb.ai/mourya/MLP%20Hyperparameter%20tuning%20on%20WineQT%20Dataset</a>"
      ],
      "text/plain": [
       "<IPython.core.display.HTML object>"
      ]
     },
     "metadata": {},
     "output_type": "display_data"
    },
    {
     "data": {
      "text/html": [
       " View sweep at <a href='https://wandb.ai/mourya/MLP%20Hyperparameter%20tuning%20on%20WineQT%20Dataset/sweeps/iuygacr0' target=\"_blank\">https://wandb.ai/mourya/MLP%20Hyperparameter%20tuning%20on%20WineQT%20Dataset/sweeps/iuygacr0</a>"
      ],
      "text/plain": [
       "<IPython.core.display.HTML object>"
      ]
     },
     "metadata": {},
     "output_type": "display_data"
    },
    {
     "data": {
      "text/html": [
       " View run at <a href='https://wandb.ai/mourya/MLP%20Hyperparameter%20tuning%20on%20WineQT%20Dataset/runs/m2nnu8tb' target=\"_blank\">https://wandb.ai/mourya/MLP%20Hyperparameter%20tuning%20on%20WineQT%20Dataset/runs/m2nnu8tb</a>"
      ],
      "text/plain": [
       "<IPython.core.display.HTML object>"
      ]
     },
     "metadata": {},
     "output_type": "display_data"
    },
    {
     "name": "stderr",
     "output_type": "stream",
     "text": [
      "/home/ubuntulsa/.local/lib/python3.10/site-packages/sklearn/metrics/_classification.py:1469: UndefinedMetricWarning: Precision is ill-defined and being set to 0.0 in labels with no predicted samples. Use `zero_division` parameter to control this behavior.\n",
      "  _warn_prf(average, modifier, msg_start, len(result))\n"
     ]
    },
    {
     "data": {
      "text/html": [
       "Waiting for W&B process to finish... <strong style=\"color:green\">(success).</strong>"
      ],
      "text/plain": [
       "<IPython.core.display.HTML object>"
      ]
     },
     "metadata": {},
     "output_type": "display_data"
    },
    {
     "data": {
      "text/html": [
       "<style>\n",
       "    table.wandb td:nth-child(1) { padding: 0 10px; text-align: left ; width: auto;} td:nth-child(2) {text-align: left ; width: 100%}\n",
       "    .wandb-row { display: flex; flex-direction: row; flex-wrap: wrap; justify-content: flex-start; width: 100% }\n",
       "    .wandb-col { display: flex; flex-direction: column; flex-basis: 100%; flex: 1; padding: 10px; }\n",
       "    </style>\n",
       "<div class=\"wandb-row\"><div class=\"wandb-col\"><h3>Run history:</h3><br/><table class=\"wandb\"><tr><td>Accuracy</td><td>▁</td></tr><tr><td>F1 Score</td><td>▁</td></tr><tr><td>Precision</td><td>▁</td></tr><tr><td>Recall</td><td>▁</td></tr></table><br/></div><div class=\"wandb-col\"><h3>Run summary:</h3><br/><table class=\"wandb\"><tr><td>Accuracy</td><td>0.27948</td></tr><tr><td>F1 Score</td><td>0.15545</td></tr><tr><td>Precision</td><td>0.12087</td></tr><tr><td>Recall</td><td>0.29746</td></tr></table><br/></div></div>"
      ],
      "text/plain": [
       "<IPython.core.display.HTML object>"
      ]
     },
     "metadata": {},
     "output_type": "display_data"
    },
    {
     "data": {
      "text/html": [
       " View run <strong style=\"color:#cdcd00\">sweepy-sweep-7</strong> at: <a href='https://wandb.ai/mourya/MLP%20Hyperparameter%20tuning%20on%20WineQT%20Dataset/runs/m2nnu8tb' target=\"_blank\">https://wandb.ai/mourya/MLP%20Hyperparameter%20tuning%20on%20WineQT%20Dataset/runs/m2nnu8tb</a><br/>Synced 5 W&B file(s), 0 media file(s), 0 artifact file(s) and 0 other file(s)"
      ],
      "text/plain": [
       "<IPython.core.display.HTML object>"
      ]
     },
     "metadata": {},
     "output_type": "display_data"
    },
    {
     "data": {
      "text/html": [
       "Find logs at: <code>./wandb/run-20231022_183007-m2nnu8tb/logs</code>"
      ],
      "text/plain": [
       "<IPython.core.display.HTML object>"
      ]
     },
     "metadata": {},
     "output_type": "display_data"
    },
    {
     "name": "stderr",
     "output_type": "stream",
     "text": [
      "\u001b[34m\u001b[1mwandb\u001b[0m: Agent Starting Run: c3d00yrl with config:\n",
      "\u001b[34m\u001b[1mwandb\u001b[0m: \tepochs: 50\n",
      "\u001b[34m\u001b[1mwandb\u001b[0m: \thiddenlayersize: [14]\n",
      "\u001b[34m\u001b[1mwandb\u001b[0m: \tlearning_rate: 0.001\n",
      "Failed to detect the name of this notebook, you can set it manually with the WANDB_NOTEBOOK_NAME environment variable to enable code saving.\n",
      "\u001b[34m\u001b[1mwandb\u001b[0m: \u001b[33mWARNING\u001b[0m Ignored wandb.init() arg project when running a sweep.\n"
     ]
    },
    {
     "data": {
      "text/html": [
       "Tracking run with wandb version 0.15.12"
      ],
      "text/plain": [
       "<IPython.core.display.HTML object>"
      ]
     },
     "metadata": {},
     "output_type": "display_data"
    },
    {
     "data": {
      "text/html": [
       "Run data is saved locally in <code>/home/ubuntulsa/Sem5/SMAI/Assignment 3/wandb/run-20231022_183017-c3d00yrl</code>"
      ],
      "text/plain": [
       "<IPython.core.display.HTML object>"
      ]
     },
     "metadata": {},
     "output_type": "display_data"
    },
    {
     "data": {
      "text/html": [
       "Syncing run <strong><a href='https://wandb.ai/mourya/MLP%20Hyperparameter%20tuning%20on%20WineQT%20Dataset/runs/c3d00yrl' target=\"_blank\">trim-sweep-8</a></strong> to <a href='https://wandb.ai/mourya/MLP%20Hyperparameter%20tuning%20on%20WineQT%20Dataset' target=\"_blank\">Weights & Biases</a> (<a href='https://wandb.me/run' target=\"_blank\">docs</a>)<br/>Sweep page: <a href='https://wandb.ai/mourya/MLP%20Hyperparameter%20tuning%20on%20WineQT%20Dataset/sweeps/iuygacr0' target=\"_blank\">https://wandb.ai/mourya/MLP%20Hyperparameter%20tuning%20on%20WineQT%20Dataset/sweeps/iuygacr0</a>"
      ],
      "text/plain": [
       "<IPython.core.display.HTML object>"
      ]
     },
     "metadata": {},
     "output_type": "display_data"
    },
    {
     "data": {
      "text/html": [
       " View project at <a href='https://wandb.ai/mourya/MLP%20Hyperparameter%20tuning%20on%20WineQT%20Dataset' target=\"_blank\">https://wandb.ai/mourya/MLP%20Hyperparameter%20tuning%20on%20WineQT%20Dataset</a>"
      ],
      "text/plain": [
       "<IPython.core.display.HTML object>"
      ]
     },
     "metadata": {},
     "output_type": "display_data"
    },
    {
     "data": {
      "text/html": [
       " View sweep at <a href='https://wandb.ai/mourya/MLP%20Hyperparameter%20tuning%20on%20WineQT%20Dataset/sweeps/iuygacr0' target=\"_blank\">https://wandb.ai/mourya/MLP%20Hyperparameter%20tuning%20on%20WineQT%20Dataset/sweeps/iuygacr0</a>"
      ],
      "text/plain": [
       "<IPython.core.display.HTML object>"
      ]
     },
     "metadata": {},
     "output_type": "display_data"
    },
    {
     "data": {
      "text/html": [
       " View run at <a href='https://wandb.ai/mourya/MLP%20Hyperparameter%20tuning%20on%20WineQT%20Dataset/runs/c3d00yrl' target=\"_blank\">https://wandb.ai/mourya/MLP%20Hyperparameter%20tuning%20on%20WineQT%20Dataset/runs/c3d00yrl</a>"
      ],
      "text/plain": [
       "<IPython.core.display.HTML object>"
      ]
     },
     "metadata": {},
     "output_type": "display_data"
    },
    {
     "name": "stderr",
     "output_type": "stream",
     "text": [
      "/home/ubuntulsa/.local/lib/python3.10/site-packages/sklearn/metrics/_classification.py:1469: UndefinedMetricWarning: Precision is ill-defined and being set to 0.0 in labels with no predicted samples. Use `zero_division` parameter to control this behavior.\n",
      "  _warn_prf(average, modifier, msg_start, len(result))\n"
     ]
    },
    {
     "data": {
      "text/html": [
       "Waiting for W&B process to finish... <strong style=\"color:green\">(success).</strong>"
      ],
      "text/plain": [
       "<IPython.core.display.HTML object>"
      ]
     },
     "metadata": {},
     "output_type": "display_data"
    },
    {
     "data": {
      "text/html": [
       "<style>\n",
       "    table.wandb td:nth-child(1) { padding: 0 10px; text-align: left ; width: auto;} td:nth-child(2) {text-align: left ; width: 100%}\n",
       "    .wandb-row { display: flex; flex-direction: row; flex-wrap: wrap; justify-content: flex-start; width: 100% }\n",
       "    .wandb-col { display: flex; flex-direction: column; flex-basis: 100%; flex: 1; padding: 10px; }\n",
       "    </style>\n",
       "<div class=\"wandb-row\"><div class=\"wandb-col\"><h3>Run history:</h3><br/><table class=\"wandb\"><tr><td>Accuracy</td><td>▁</td></tr><tr><td>F1 Score</td><td>▁</td></tr><tr><td>Precision</td><td>▁</td></tr><tr><td>Recall</td><td>▁</td></tr></table><br/></div><div class=\"wandb-col\"><h3>Run summary:</h3><br/><table class=\"wandb\"><tr><td>Accuracy</td><td>0.04803</td></tr><tr><td>F1 Score</td><td>0.03188</td></tr><tr><td>Precision</td><td>0.27934</td></tr><tr><td>Recall</td><td>0.18272</td></tr></table><br/></div></div>"
      ],
      "text/plain": [
       "<IPython.core.display.HTML object>"
      ]
     },
     "metadata": {},
     "output_type": "display_data"
    },
    {
     "data": {
      "text/html": [
       " View run <strong style=\"color:#cdcd00\">trim-sweep-8</strong> at: <a href='https://wandb.ai/mourya/MLP%20Hyperparameter%20tuning%20on%20WineQT%20Dataset/runs/c3d00yrl' target=\"_blank\">https://wandb.ai/mourya/MLP%20Hyperparameter%20tuning%20on%20WineQT%20Dataset/runs/c3d00yrl</a><br/>Synced 5 W&B file(s), 0 media file(s), 0 artifact file(s) and 0 other file(s)"
      ],
      "text/plain": [
       "<IPython.core.display.HTML object>"
      ]
     },
     "metadata": {},
     "output_type": "display_data"
    },
    {
     "data": {
      "text/html": [
       "Find logs at: <code>./wandb/run-20231022_183017-c3d00yrl/logs</code>"
      ],
      "text/plain": [
       "<IPython.core.display.HTML object>"
      ]
     },
     "metadata": {},
     "output_type": "display_data"
    },
    {
     "name": "stderr",
     "output_type": "stream",
     "text": [
      "\u001b[34m\u001b[1mwandb\u001b[0m: Agent Starting Run: jjem0k9n with config:\n",
      "\u001b[34m\u001b[1mwandb\u001b[0m: \tepochs: 50\n",
      "\u001b[34m\u001b[1mwandb\u001b[0m: \thiddenlayersize: [18]\n",
      "\u001b[34m\u001b[1mwandb\u001b[0m: \tlearning_rate: 0.01\n",
      "Failed to detect the name of this notebook, you can set it manually with the WANDB_NOTEBOOK_NAME environment variable to enable code saving.\n",
      "\u001b[34m\u001b[1mwandb\u001b[0m: \u001b[33mWARNING\u001b[0m Ignored wandb.init() arg project when running a sweep.\n"
     ]
    },
    {
     "data": {
      "text/html": [
       "Tracking run with wandb version 0.15.12"
      ],
      "text/plain": [
       "<IPython.core.display.HTML object>"
      ]
     },
     "metadata": {},
     "output_type": "display_data"
    },
    {
     "data": {
      "text/html": [
       "Run data is saved locally in <code>/home/ubuntulsa/Sem5/SMAI/Assignment 3/wandb/run-20231022_183028-jjem0k9n</code>"
      ],
      "text/plain": [
       "<IPython.core.display.HTML object>"
      ]
     },
     "metadata": {},
     "output_type": "display_data"
    },
    {
     "data": {
      "text/html": [
       "Syncing run <strong><a href='https://wandb.ai/mourya/MLP%20Hyperparameter%20tuning%20on%20WineQT%20Dataset/runs/jjem0k9n' target=\"_blank\">rose-sweep-9</a></strong> to <a href='https://wandb.ai/mourya/MLP%20Hyperparameter%20tuning%20on%20WineQT%20Dataset' target=\"_blank\">Weights & Biases</a> (<a href='https://wandb.me/run' target=\"_blank\">docs</a>)<br/>Sweep page: <a href='https://wandb.ai/mourya/MLP%20Hyperparameter%20tuning%20on%20WineQT%20Dataset/sweeps/iuygacr0' target=\"_blank\">https://wandb.ai/mourya/MLP%20Hyperparameter%20tuning%20on%20WineQT%20Dataset/sweeps/iuygacr0</a>"
      ],
      "text/plain": [
       "<IPython.core.display.HTML object>"
      ]
     },
     "metadata": {},
     "output_type": "display_data"
    },
    {
     "data": {
      "text/html": [
       " View project at <a href='https://wandb.ai/mourya/MLP%20Hyperparameter%20tuning%20on%20WineQT%20Dataset' target=\"_blank\">https://wandb.ai/mourya/MLP%20Hyperparameter%20tuning%20on%20WineQT%20Dataset</a>"
      ],
      "text/plain": [
       "<IPython.core.display.HTML object>"
      ]
     },
     "metadata": {},
     "output_type": "display_data"
    },
    {
     "data": {
      "text/html": [
       " View sweep at <a href='https://wandb.ai/mourya/MLP%20Hyperparameter%20tuning%20on%20WineQT%20Dataset/sweeps/iuygacr0' target=\"_blank\">https://wandb.ai/mourya/MLP%20Hyperparameter%20tuning%20on%20WineQT%20Dataset/sweeps/iuygacr0</a>"
      ],
      "text/plain": [
       "<IPython.core.display.HTML object>"
      ]
     },
     "metadata": {},
     "output_type": "display_data"
    },
    {
     "data": {
      "text/html": [
       " View run at <a href='https://wandb.ai/mourya/MLP%20Hyperparameter%20tuning%20on%20WineQT%20Dataset/runs/jjem0k9n' target=\"_blank\">https://wandb.ai/mourya/MLP%20Hyperparameter%20tuning%20on%20WineQT%20Dataset/runs/jjem0k9n</a>"
      ],
      "text/plain": [
       "<IPython.core.display.HTML object>"
      ]
     },
     "metadata": {},
     "output_type": "display_data"
    },
    {
     "name": "stderr",
     "output_type": "stream",
     "text": [
      "/home/ubuntulsa/.local/lib/python3.10/site-packages/sklearn/metrics/_classification.py:1469: UndefinedMetricWarning: Precision is ill-defined and being set to 0.0 in labels with no predicted samples. Use `zero_division` parameter to control this behavior.\n",
      "  _warn_prf(average, modifier, msg_start, len(result))\n"
     ]
    },
    {
     "data": {
      "text/html": [
       "Waiting for W&B process to finish... <strong style=\"color:green\">(success).</strong>"
      ],
      "text/plain": [
       "<IPython.core.display.HTML object>"
      ]
     },
     "metadata": {},
     "output_type": "display_data"
    },
    {
     "data": {
      "text/html": [
       "<style>\n",
       "    table.wandb td:nth-child(1) { padding: 0 10px; text-align: left ; width: auto;} td:nth-child(2) {text-align: left ; width: 100%}\n",
       "    .wandb-row { display: flex; flex-direction: row; flex-wrap: wrap; justify-content: flex-start; width: 100% }\n",
       "    .wandb-col { display: flex; flex-direction: column; flex-basis: 100%; flex: 1; padding: 10px; }\n",
       "    </style>\n",
       "<div class=\"wandb-row\"><div class=\"wandb-col\"><h3>Run history:</h3><br/><table class=\"wandb\"><tr><td>Accuracy</td><td>▁</td></tr><tr><td>F1 Score</td><td>▁</td></tr><tr><td>Precision</td><td>▁</td></tr><tr><td>Recall</td><td>▁</td></tr></table><br/></div><div class=\"wandb-col\"><h3>Run summary:</h3><br/><table class=\"wandb\"><tr><td>Accuracy</td><td>0.18777</td></tr><tr><td>F1 Score</td><td>0.07377</td></tr><tr><td>Precision</td><td>0.07972</td></tr><tr><td>Recall</td><td>0.07396</td></tr></table><br/></div></div>"
      ],
      "text/plain": [
       "<IPython.core.display.HTML object>"
      ]
     },
     "metadata": {},
     "output_type": "display_data"
    },
    {
     "data": {
      "text/html": [
       " View run <strong style=\"color:#cdcd00\">rose-sweep-9</strong> at: <a href='https://wandb.ai/mourya/MLP%20Hyperparameter%20tuning%20on%20WineQT%20Dataset/runs/jjem0k9n' target=\"_blank\">https://wandb.ai/mourya/MLP%20Hyperparameter%20tuning%20on%20WineQT%20Dataset/runs/jjem0k9n</a><br/>Synced 5 W&B file(s), 0 media file(s), 0 artifact file(s) and 0 other file(s)"
      ],
      "text/plain": [
       "<IPython.core.display.HTML object>"
      ]
     },
     "metadata": {},
     "output_type": "display_data"
    },
    {
     "data": {
      "text/html": [
       "Find logs at: <code>./wandb/run-20231022_183028-jjem0k9n/logs</code>"
      ],
      "text/plain": [
       "<IPython.core.display.HTML object>"
      ]
     },
     "metadata": {},
     "output_type": "display_data"
    },
    {
     "name": "stderr",
     "output_type": "stream",
     "text": [
      "\u001b[34m\u001b[1mwandb\u001b[0m: Agent Starting Run: zjfdxrtb with config:\n",
      "\u001b[34m\u001b[1mwandb\u001b[0m: \tepochs: 50\n",
      "\u001b[34m\u001b[1mwandb\u001b[0m: \thiddenlayersize: [18]\n",
      "\u001b[34m\u001b[1mwandb\u001b[0m: \tlearning_rate: 0.001\n",
      "Failed to detect the name of this notebook, you can set it manually with the WANDB_NOTEBOOK_NAME environment variable to enable code saving.\n",
      "\u001b[34m\u001b[1mwandb\u001b[0m: \u001b[33mWARNING\u001b[0m Ignored wandb.init() arg project when running a sweep.\n"
     ]
    },
    {
     "data": {
      "text/html": [
       "Tracking run with wandb version 0.15.12"
      ],
      "text/plain": [
       "<IPython.core.display.HTML object>"
      ]
     },
     "metadata": {},
     "output_type": "display_data"
    },
    {
     "data": {
      "text/html": [
       "Run data is saved locally in <code>/home/ubuntulsa/Sem5/SMAI/Assignment 3/wandb/run-20231022_183039-zjfdxrtb</code>"
      ],
      "text/plain": [
       "<IPython.core.display.HTML object>"
      ]
     },
     "metadata": {},
     "output_type": "display_data"
    },
    {
     "data": {
      "text/html": [
       "Syncing run <strong><a href='https://wandb.ai/mourya/MLP%20Hyperparameter%20tuning%20on%20WineQT%20Dataset/runs/zjfdxrtb' target=\"_blank\">unique-sweep-10</a></strong> to <a href='https://wandb.ai/mourya/MLP%20Hyperparameter%20tuning%20on%20WineQT%20Dataset' target=\"_blank\">Weights & Biases</a> (<a href='https://wandb.me/run' target=\"_blank\">docs</a>)<br/>Sweep page: <a href='https://wandb.ai/mourya/MLP%20Hyperparameter%20tuning%20on%20WineQT%20Dataset/sweeps/iuygacr0' target=\"_blank\">https://wandb.ai/mourya/MLP%20Hyperparameter%20tuning%20on%20WineQT%20Dataset/sweeps/iuygacr0</a>"
      ],
      "text/plain": [
       "<IPython.core.display.HTML object>"
      ]
     },
     "metadata": {},
     "output_type": "display_data"
    },
    {
     "data": {
      "text/html": [
       " View project at <a href='https://wandb.ai/mourya/MLP%20Hyperparameter%20tuning%20on%20WineQT%20Dataset' target=\"_blank\">https://wandb.ai/mourya/MLP%20Hyperparameter%20tuning%20on%20WineQT%20Dataset</a>"
      ],
      "text/plain": [
       "<IPython.core.display.HTML object>"
      ]
     },
     "metadata": {},
     "output_type": "display_data"
    },
    {
     "data": {
      "text/html": [
       " View sweep at <a href='https://wandb.ai/mourya/MLP%20Hyperparameter%20tuning%20on%20WineQT%20Dataset/sweeps/iuygacr0' target=\"_blank\">https://wandb.ai/mourya/MLP%20Hyperparameter%20tuning%20on%20WineQT%20Dataset/sweeps/iuygacr0</a>"
      ],
      "text/plain": [
       "<IPython.core.display.HTML object>"
      ]
     },
     "metadata": {},
     "output_type": "display_data"
    },
    {
     "data": {
      "text/html": [
       " View run at <a href='https://wandb.ai/mourya/MLP%20Hyperparameter%20tuning%20on%20WineQT%20Dataset/runs/zjfdxrtb' target=\"_blank\">https://wandb.ai/mourya/MLP%20Hyperparameter%20tuning%20on%20WineQT%20Dataset/runs/zjfdxrtb</a>"
      ],
      "text/plain": [
       "<IPython.core.display.HTML object>"
      ]
     },
     "metadata": {},
     "output_type": "display_data"
    },
    {
     "name": "stderr",
     "output_type": "stream",
     "text": [
      "/home/ubuntulsa/.local/lib/python3.10/site-packages/sklearn/metrics/_classification.py:1469: UndefinedMetricWarning: Precision is ill-defined and being set to 0.0 in labels with no predicted samples. Use `zero_division` parameter to control this behavior.\n",
      "  _warn_prf(average, modifier, msg_start, len(result))\n"
     ]
    },
    {
     "data": {
      "text/html": [
       "Waiting for W&B process to finish... <strong style=\"color:green\">(success).</strong>"
      ],
      "text/plain": [
       "<IPython.core.display.HTML object>"
      ]
     },
     "metadata": {},
     "output_type": "display_data"
    },
    {
     "data": {
      "text/html": [
       "<style>\n",
       "    table.wandb td:nth-child(1) { padding: 0 10px; text-align: left ; width: auto;} td:nth-child(2) {text-align: left ; width: 100%}\n",
       "    .wandb-row { display: flex; flex-direction: row; flex-wrap: wrap; justify-content: flex-start; width: 100% }\n",
       "    .wandb-col { display: flex; flex-direction: column; flex-basis: 100%; flex: 1; padding: 10px; }\n",
       "    </style>\n",
       "<div class=\"wandb-row\"><div class=\"wandb-col\"><h3>Run history:</h3><br/><table class=\"wandb\"><tr><td>Accuracy</td><td>▁</td></tr><tr><td>F1 Score</td><td>▁</td></tr><tr><td>Precision</td><td>▁</td></tr><tr><td>Recall</td><td>▁</td></tr></table><br/></div><div class=\"wandb-col\"><h3>Run summary:</h3><br/><table class=\"wandb\"><tr><td>Accuracy</td><td>0.0786</td></tr><tr><td>F1 Score</td><td>0.04295</td></tr><tr><td>Precision</td><td>0.18475</td></tr><tr><td>Recall</td><td>0.08748</td></tr></table><br/></div></div>"
      ],
      "text/plain": [
       "<IPython.core.display.HTML object>"
      ]
     },
     "metadata": {},
     "output_type": "display_data"
    },
    {
     "data": {
      "text/html": [
       " View run <strong style=\"color:#cdcd00\">unique-sweep-10</strong> at: <a href='https://wandb.ai/mourya/MLP%20Hyperparameter%20tuning%20on%20WineQT%20Dataset/runs/zjfdxrtb' target=\"_blank\">https://wandb.ai/mourya/MLP%20Hyperparameter%20tuning%20on%20WineQT%20Dataset/runs/zjfdxrtb</a><br/>Synced 5 W&B file(s), 0 media file(s), 0 artifact file(s) and 0 other file(s)"
      ],
      "text/plain": [
       "<IPython.core.display.HTML object>"
      ]
     },
     "metadata": {},
     "output_type": "display_data"
    },
    {
     "data": {
      "text/html": [
       "Find logs at: <code>./wandb/run-20231022_183039-zjfdxrtb/logs</code>"
      ],
      "text/plain": [
       "<IPython.core.display.HTML object>"
      ]
     },
     "metadata": {},
     "output_type": "display_data"
    },
    {
     "name": "stderr",
     "output_type": "stream",
     "text": [
      "\u001b[34m\u001b[1mwandb\u001b[0m: Agent Starting Run: vrabl4gj with config:\n",
      "\u001b[34m\u001b[1mwandb\u001b[0m: \tepochs: 50\n",
      "\u001b[34m\u001b[1mwandb\u001b[0m: \thiddenlayersize: [18, 18]\n",
      "\u001b[34m\u001b[1mwandb\u001b[0m: \tlearning_rate: 0.01\n",
      "Failed to detect the name of this notebook, you can set it manually with the WANDB_NOTEBOOK_NAME environment variable to enable code saving.\n",
      "\u001b[34m\u001b[1mwandb\u001b[0m: \u001b[33mWARNING\u001b[0m Ignored wandb.init() arg project when running a sweep.\n"
     ]
    },
    {
     "data": {
      "text/html": [
       "Tracking run with wandb version 0.15.12"
      ],
      "text/plain": [
       "<IPython.core.display.HTML object>"
      ]
     },
     "metadata": {},
     "output_type": "display_data"
    },
    {
     "data": {
      "text/html": [
       "Run data is saved locally in <code>/home/ubuntulsa/Sem5/SMAI/Assignment 3/wandb/run-20231022_183050-vrabl4gj</code>"
      ],
      "text/plain": [
       "<IPython.core.display.HTML object>"
      ]
     },
     "metadata": {},
     "output_type": "display_data"
    },
    {
     "data": {
      "text/html": [
       "Syncing run <strong><a href='https://wandb.ai/mourya/MLP%20Hyperparameter%20tuning%20on%20WineQT%20Dataset/runs/vrabl4gj' target=\"_blank\">astral-sweep-11</a></strong> to <a href='https://wandb.ai/mourya/MLP%20Hyperparameter%20tuning%20on%20WineQT%20Dataset' target=\"_blank\">Weights & Biases</a> (<a href='https://wandb.me/run' target=\"_blank\">docs</a>)<br/>Sweep page: <a href='https://wandb.ai/mourya/MLP%20Hyperparameter%20tuning%20on%20WineQT%20Dataset/sweeps/iuygacr0' target=\"_blank\">https://wandb.ai/mourya/MLP%20Hyperparameter%20tuning%20on%20WineQT%20Dataset/sweeps/iuygacr0</a>"
      ],
      "text/plain": [
       "<IPython.core.display.HTML object>"
      ]
     },
     "metadata": {},
     "output_type": "display_data"
    },
    {
     "data": {
      "text/html": [
       " View project at <a href='https://wandb.ai/mourya/MLP%20Hyperparameter%20tuning%20on%20WineQT%20Dataset' target=\"_blank\">https://wandb.ai/mourya/MLP%20Hyperparameter%20tuning%20on%20WineQT%20Dataset</a>"
      ],
      "text/plain": [
       "<IPython.core.display.HTML object>"
      ]
     },
     "metadata": {},
     "output_type": "display_data"
    },
    {
     "data": {
      "text/html": [
       " View sweep at <a href='https://wandb.ai/mourya/MLP%20Hyperparameter%20tuning%20on%20WineQT%20Dataset/sweeps/iuygacr0' target=\"_blank\">https://wandb.ai/mourya/MLP%20Hyperparameter%20tuning%20on%20WineQT%20Dataset/sweeps/iuygacr0</a>"
      ],
      "text/plain": [
       "<IPython.core.display.HTML object>"
      ]
     },
     "metadata": {},
     "output_type": "display_data"
    },
    {
     "data": {
      "text/html": [
       " View run at <a href='https://wandb.ai/mourya/MLP%20Hyperparameter%20tuning%20on%20WineQT%20Dataset/runs/vrabl4gj' target=\"_blank\">https://wandb.ai/mourya/MLP%20Hyperparameter%20tuning%20on%20WineQT%20Dataset/runs/vrabl4gj</a>"
      ],
      "text/plain": [
       "<IPython.core.display.HTML object>"
      ]
     },
     "metadata": {},
     "output_type": "display_data"
    },
    {
     "name": "stderr",
     "output_type": "stream",
     "text": [
      "/home/ubuntulsa/.local/lib/python3.10/site-packages/sklearn/metrics/_classification.py:1469: UndefinedMetricWarning: Precision is ill-defined and being set to 0.0 in labels with no predicted samples. Use `zero_division` parameter to control this behavior.\n",
      "  _warn_prf(average, modifier, msg_start, len(result))\n"
     ]
    },
    {
     "data": {
      "text/html": [
       "Waiting for W&B process to finish... <strong style=\"color:green\">(success).</strong>"
      ],
      "text/plain": [
       "<IPython.core.display.HTML object>"
      ]
     },
     "metadata": {},
     "output_type": "display_data"
    },
    {
     "data": {
      "text/html": [
       "<style>\n",
       "    table.wandb td:nth-child(1) { padding: 0 10px; text-align: left ; width: auto;} td:nth-child(2) {text-align: left ; width: 100%}\n",
       "    .wandb-row { display: flex; flex-direction: row; flex-wrap: wrap; justify-content: flex-start; width: 100% }\n",
       "    .wandb-col { display: flex; flex-direction: column; flex-basis: 100%; flex: 1; padding: 10px; }\n",
       "    </style>\n",
       "<div class=\"wandb-row\"><div class=\"wandb-col\"><h3>Run history:</h3><br/><table class=\"wandb\"><tr><td>Accuracy</td><td>▁</td></tr><tr><td>F1 Score</td><td>▁</td></tr><tr><td>Precision</td><td>▁</td></tr><tr><td>Recall</td><td>▁</td></tr></table><br/></div><div class=\"wandb-col\"><h3>Run summary:</h3><br/><table class=\"wandb\"><tr><td>Accuracy</td><td>0.08297</td></tr><tr><td>F1 Score</td><td>0.06243</td></tr><tr><td>Precision</td><td>0.08637</td></tr><tr><td>Recall</td><td>0.23042</td></tr></table><br/></div></div>"
      ],
      "text/plain": [
       "<IPython.core.display.HTML object>"
      ]
     },
     "metadata": {},
     "output_type": "display_data"
    },
    {
     "data": {
      "text/html": [
       " View run <strong style=\"color:#cdcd00\">astral-sweep-11</strong> at: <a href='https://wandb.ai/mourya/MLP%20Hyperparameter%20tuning%20on%20WineQT%20Dataset/runs/vrabl4gj' target=\"_blank\">https://wandb.ai/mourya/MLP%20Hyperparameter%20tuning%20on%20WineQT%20Dataset/runs/vrabl4gj</a><br/>Synced 5 W&B file(s), 0 media file(s), 0 artifact file(s) and 0 other file(s)"
      ],
      "text/plain": [
       "<IPython.core.display.HTML object>"
      ]
     },
     "metadata": {},
     "output_type": "display_data"
    },
    {
     "data": {
      "text/html": [
       "Find logs at: <code>./wandb/run-20231022_183050-vrabl4gj/logs</code>"
      ],
      "text/plain": [
       "<IPython.core.display.HTML object>"
      ]
     },
     "metadata": {},
     "output_type": "display_data"
    },
    {
     "name": "stderr",
     "output_type": "stream",
     "text": [
      "\u001b[34m\u001b[1mwandb\u001b[0m: Agent Starting Run: jqst1rao with config:\n",
      "\u001b[34m\u001b[1mwandb\u001b[0m: \tepochs: 50\n",
      "\u001b[34m\u001b[1mwandb\u001b[0m: \thiddenlayersize: [18, 18]\n",
      "\u001b[34m\u001b[1mwandb\u001b[0m: \tlearning_rate: 0.001\n",
      "Failed to detect the name of this notebook, you can set it manually with the WANDB_NOTEBOOK_NAME environment variable to enable code saving.\n",
      "\u001b[34m\u001b[1mwandb\u001b[0m: \u001b[33mWARNING\u001b[0m Ignored wandb.init() arg project when running a sweep.\n"
     ]
    },
    {
     "data": {
      "text/html": [
       "Tracking run with wandb version 0.15.12"
      ],
      "text/plain": [
       "<IPython.core.display.HTML object>"
      ]
     },
     "metadata": {},
     "output_type": "display_data"
    },
    {
     "data": {
      "text/html": [
       "Run data is saved locally in <code>/home/ubuntulsa/Sem5/SMAI/Assignment 3/wandb/run-20231022_183101-jqst1rao</code>"
      ],
      "text/plain": [
       "<IPython.core.display.HTML object>"
      ]
     },
     "metadata": {},
     "output_type": "display_data"
    },
    {
     "data": {
      "text/html": [
       "Syncing run <strong><a href='https://wandb.ai/mourya/MLP%20Hyperparameter%20tuning%20on%20WineQT%20Dataset/runs/jqst1rao' target=\"_blank\">celestial-sweep-12</a></strong> to <a href='https://wandb.ai/mourya/MLP%20Hyperparameter%20tuning%20on%20WineQT%20Dataset' target=\"_blank\">Weights & Biases</a> (<a href='https://wandb.me/run' target=\"_blank\">docs</a>)<br/>Sweep page: <a href='https://wandb.ai/mourya/MLP%20Hyperparameter%20tuning%20on%20WineQT%20Dataset/sweeps/iuygacr0' target=\"_blank\">https://wandb.ai/mourya/MLP%20Hyperparameter%20tuning%20on%20WineQT%20Dataset/sweeps/iuygacr0</a>"
      ],
      "text/plain": [
       "<IPython.core.display.HTML object>"
      ]
     },
     "metadata": {},
     "output_type": "display_data"
    },
    {
     "data": {
      "text/html": [
       " View project at <a href='https://wandb.ai/mourya/MLP%20Hyperparameter%20tuning%20on%20WineQT%20Dataset' target=\"_blank\">https://wandb.ai/mourya/MLP%20Hyperparameter%20tuning%20on%20WineQT%20Dataset</a>"
      ],
      "text/plain": [
       "<IPython.core.display.HTML object>"
      ]
     },
     "metadata": {},
     "output_type": "display_data"
    },
    {
     "data": {
      "text/html": [
       " View sweep at <a href='https://wandb.ai/mourya/MLP%20Hyperparameter%20tuning%20on%20WineQT%20Dataset/sweeps/iuygacr0' target=\"_blank\">https://wandb.ai/mourya/MLP%20Hyperparameter%20tuning%20on%20WineQT%20Dataset/sweeps/iuygacr0</a>"
      ],
      "text/plain": [
       "<IPython.core.display.HTML object>"
      ]
     },
     "metadata": {},
     "output_type": "display_data"
    },
    {
     "data": {
      "text/html": [
       " View run at <a href='https://wandb.ai/mourya/MLP%20Hyperparameter%20tuning%20on%20WineQT%20Dataset/runs/jqst1rao' target=\"_blank\">https://wandb.ai/mourya/MLP%20Hyperparameter%20tuning%20on%20WineQT%20Dataset/runs/jqst1rao</a>"
      ],
      "text/plain": [
       "<IPython.core.display.HTML object>"
      ]
     },
     "metadata": {},
     "output_type": "display_data"
    },
    {
     "name": "stderr",
     "output_type": "stream",
     "text": [
      "/home/ubuntulsa/.local/lib/python3.10/site-packages/sklearn/metrics/_classification.py:1469: UndefinedMetricWarning: Precision is ill-defined and being set to 0.0 in labels with no predicted samples. Use `zero_division` parameter to control this behavior.\n",
      "  _warn_prf(average, modifier, msg_start, len(result))\n"
     ]
    },
    {
     "data": {
      "text/html": [
       "Waiting for W&B process to finish... <strong style=\"color:green\">(success).</strong>"
      ],
      "text/plain": [
       "<IPython.core.display.HTML object>"
      ]
     },
     "metadata": {},
     "output_type": "display_data"
    },
    {
     "data": {
      "text/html": [
       "<style>\n",
       "    table.wandb td:nth-child(1) { padding: 0 10px; text-align: left ; width: auto;} td:nth-child(2) {text-align: left ; width: 100%}\n",
       "    .wandb-row { display: flex; flex-direction: row; flex-wrap: wrap; justify-content: flex-start; width: 100% }\n",
       "    .wandb-col { display: flex; flex-direction: column; flex-basis: 100%; flex: 1; padding: 10px; }\n",
       "    </style>\n",
       "<div class=\"wandb-row\"><div class=\"wandb-col\"><h3>Run history:</h3><br/><table class=\"wandb\"><tr><td>Accuracy</td><td>▁</td></tr><tr><td>F1 Score</td><td>▁</td></tr><tr><td>Precision</td><td>▁</td></tr><tr><td>Recall</td><td>▁</td></tr></table><br/></div><div class=\"wandb-col\"><h3>Run summary:</h3><br/><table class=\"wandb\"><tr><td>Accuracy</td><td>0.02183</td></tr><tr><td>F1 Score</td><td>0.01589</td></tr><tr><td>Precision</td><td>0.00845</td></tr><tr><td>Recall</td><td>0.18889</td></tr></table><br/></div></div>"
      ],
      "text/plain": [
       "<IPython.core.display.HTML object>"
      ]
     },
     "metadata": {},
     "output_type": "display_data"
    },
    {
     "data": {
      "text/html": [
       " View run <strong style=\"color:#cdcd00\">celestial-sweep-12</strong> at: <a href='https://wandb.ai/mourya/MLP%20Hyperparameter%20tuning%20on%20WineQT%20Dataset/runs/jqst1rao' target=\"_blank\">https://wandb.ai/mourya/MLP%20Hyperparameter%20tuning%20on%20WineQT%20Dataset/runs/jqst1rao</a><br/>Synced 5 W&B file(s), 0 media file(s), 0 artifact file(s) and 0 other file(s)"
      ],
      "text/plain": [
       "<IPython.core.display.HTML object>"
      ]
     },
     "metadata": {},
     "output_type": "display_data"
    },
    {
     "data": {
      "text/html": [
       "Find logs at: <code>./wandb/run-20231022_183101-jqst1rao/logs</code>"
      ],
      "text/plain": [
       "<IPython.core.display.HTML object>"
      ]
     },
     "metadata": {},
     "output_type": "display_data"
    },
    {
     "name": "stderr",
     "output_type": "stream",
     "text": [
      "\u001b[34m\u001b[1mwandb\u001b[0m: Sweep Agent: Waiting for job.\n",
      "\u001b[34m\u001b[1mwandb\u001b[0m: Sweep Agent: Exiting.\n"
     ]
    },
    {
     "name": "stdout",
     "output_type": "stream",
     "text": [
      "{'Learning_rate': 0.01, 'Epochs': 100, 'Hiddenlayers': [14], 'Accuracy': 0.21397379912663755, 'F1 Score': 0.11154235292166326, 'Precision': 0.15268148553589167, 'Recall': 0.11839411742970107}\n",
      "{'Learning_rate': 0.001, 'Epochs': 100, 'Hiddenlayers': [14], 'Accuracy': 0.06986899563318777, 'F1 Score': 0.03325948648034537, 'Precision': 0.035697399527186764, 'Recall': 0.13620071684587812}\n",
      "{'Learning_rate': 0.01, 'Epochs': 100, 'Hiddenlayers': [18], 'Accuracy': 0.21397379912663755, 'F1 Score': 0.10502198507978855, 'Precision': 0.11876300227693416, 'Recall': 0.11721169123896095}\n",
      "{'Learning_rate': 0.001, 'Epochs': 100, 'Hiddenlayers': [18], 'Accuracy': 0.38427947598253276, 'F1 Score': 0.10166076619750741, 'Precision': 0.08674242424242425, 'Recall': 0.16166110493140526}\n",
      "{'Learning_rate': 0.01, 'Epochs': 100, 'Hiddenlayers': [18, 18], 'Accuracy': 0.07423580786026202, 'F1 Score': 0.05419075667157508, 'Precision': 0.11894021117322089, 'Recall': 0.12899568949590165}\n",
      "{'Learning_rate': 0.001, 'Epochs': 100, 'Hiddenlayers': [18, 18], 'Accuracy': 0.40611353711790393, 'F1 Score': 0.09627329192546584, 'Precision': 0.06768558951965066, 'Recall': 0.16666666666666666}\n",
      "{'Learning_rate': 0.01, 'Epochs': 50, 'Hiddenlayers': [14], 'Accuracy': 0.2794759825327511, 'F1 Score': 0.15544702211368877, 'Precision': 0.12087419403208877, 'Recall': 0.2974601408972933}\n",
      "{'Learning_rate': 0.001, 'Epochs': 50, 'Hiddenlayers': [14], 'Accuracy': 0.048034934497816595, 'F1 Score': 0.03188460569412951, 'Precision': 0.27933541017653163, 'Recall': 0.18272179728780993}\n",
      "{'Learning_rate': 0.01, 'Epochs': 50, 'Hiddenlayers': [18], 'Accuracy': 0.18777292576419213, 'F1 Score': 0.07376517468260589, 'Precision': 0.07972359735973597, 'Recall': 0.07395706314894875}\n",
      "{'Learning_rate': 0.001, 'Epochs': 50, 'Hiddenlayers': [18], 'Accuracy': 0.07860262008733625, 'F1 Score': 0.042952801332732514, 'Precision': 0.18475452196382428, 'Recall': 0.08748042562246201}\n",
      "{'Learning_rate': 0.01, 'Epochs': 50, 'Hiddenlayers': [18, 18], 'Accuracy': 0.08296943231441048, 'F1 Score': 0.062432741458165186, 'Precision': 0.08637438211906297, 'Recall': 0.23041829600663585}\n",
      "{'Learning_rate': 0.001, 'Epochs': 50, 'Hiddenlayers': [18, 18], 'Accuracy': 0.021834061135371178, 'F1 Score': 0.01589275843007186, 'Precision': 0.008451865594722737, 'Recall': 0.18888888888888888}\n",
      "Best Hyperparameters:  None\n",
      "\n",
      "Table:\n",
      "\n",
      "    Learning_rate  Epochs Hiddenlayers  Accuracy  F1 Score  Precision  \\\n",
      "0           0.010     100         [14]  0.213974  0.111542   0.152681   \n",
      "1           0.001     100         [14]  0.069869  0.033259   0.035697   \n",
      "2           0.010     100         [18]  0.213974  0.105022   0.118763   \n",
      "3           0.001     100         [18]  0.384279  0.101661   0.086742   \n",
      "4           0.010     100     [18, 18]  0.074236  0.054191   0.118940   \n",
      "5           0.001     100     [18, 18]  0.406114  0.096273   0.067686   \n",
      "6           0.010      50         [14]  0.279476  0.155447   0.120874   \n",
      "7           0.001      50         [14]  0.048035  0.031885   0.279335   \n",
      "8           0.010      50         [18]  0.187773  0.073765   0.079724   \n",
      "9           0.001      50         [18]  0.078603  0.042953   0.184755   \n",
      "10          0.010      50     [18, 18]  0.082969  0.062433   0.086374   \n",
      "11          0.001      50     [18, 18]  0.021834  0.015893   0.008452   \n",
      "\n",
      "      Recall  \n",
      "0   0.118394  \n",
      "1   0.136201  \n",
      "2   0.117212  \n",
      "3   0.161661  \n",
      "4   0.128996  \n",
      "5   0.166667  \n",
      "6   0.297460  \n",
      "7   0.182722  \n",
      "8   0.073957  \n",
      "9   0.087480  \n",
      "10  0.230418  \n",
      "11  0.188889  \n"
     ]
    }
   ],
   "source": [
    "# Initialize a wandb sweep.\n",
    "sweep_config = {\n",
    "    'method': 'grid',\n",
    "    \"metric\": {\"goal\": \"maximize\", \"name\": \"Accuracy\"},\n",
    "    'name': 'grid_search_example',\n",
    "    'parameters': {\n",
    "        'learning_rate': {\n",
    "            'values': [0.01, 0.001]\n",
    "        },\n",
    "        'epochs': {\n",
    "            'values': [100, 50]\n",
    "        },\n",
    "        'hiddenlayersize': {\n",
    "            'values': [\n",
    "                [14],\n",
    "                [18],\n",
    "                [18, 18]\n",
    "            ]\n",
    "        }\n",
    "    }\n",
    "}\n",
    "\n",
    "# Initialize your sweep.\n",
    "sweep_id = wandb.sweep(sweep_config, project=\"MLP Hyperparameter tuning on WineQT Dataset\")\n",
    "# best_acc = 0\n",
    "# best_hyperparameters = None\n",
    "results = []\n",
    "# This function will be called for each combination of hyperparameters.\n",
    "def train_neural_network():\n",
    "    wandb.init(project=\"MLP Hyperparameter tuning on WineQT Dataset\")\n",
    "    # Inside this function, you should set your model and train it using the current hyperparameters.\n",
    "    # Replace this part with your model training logic.\n",
    "    mlp_sgd = Neural_Network(learning_rate=wandb.config.learning_rate, epochs=wandb.config.epochs, inputLayerSize=12, hiddenLayerSize=wandb.config.hiddenlayersize, outputLayerSize=6)\n",
    "    mlp_sgd.set_activation_function(\"sigmoid\")\n",
    "    mlp_sgd.set_optimizer(\"SGD\")\n",
    "    loss = mlp_sgd.train(X_train, y_train)\n",
    "    y_pred = mlp_sgd.predict(X_val)\n",
    "    acc = accuracy_score(y_val, y_pred)\n",
    "    f1 = f1_score(y_val, y_pred, average='macro') \n",
    "    precision = precision_score(y_val, y_pred, average='macro')\n",
    "    recall = recall_score(y_val, y_pred, average='macro')\n",
    "    results.append({\n",
    "        \"Learning_rate\": wandb.config.learning_rate,\n",
    "        \"Epochs\": wandb.config.epochs,\n",
    "        \"Hiddenlayers\": wandb.config.hiddenlayersize,\n",
    "        \"Accuracy\": acc,\n",
    "        \"F1 Score\": f1,\n",
    "        \"Precision\": precision,\n",
    "        \"Recall\": recall\n",
    "    })\n",
    "    # nonlocal best_acc, best_hyperparameters\n",
    "    # if(acc > best_acc):\n",
    "    #     best_acc = acc\n",
    "    #     best_hyperparameters = {\n",
    "    #         \"Learning_rate\": wandb.config.learning_rate,\n",
    "    #         \"Epochs\": wandb.config.epochs,\n",
    "    #         \"Hiddenlayers\": wandb.config.hiddenlayersize,\n",
    "    #     }\n",
    "    wandb.log({\"Accuracy\": acc, \"F1 Score\": f1, \"Precision\": precision, \"Recall\": recall})\n",
    "\n",
    "# Run the sweep.\n",
    "wandb.agent(sweep_id, function=train_neural_network)\n",
    "for i in range(len(results)):\n",
    "    print(results[i])\n",
    "print(\"Best Hyperparameters: \", best_hyperparameters)\n",
    "df = pd.DataFrame(results)\n",
    "print(\"\\nTable:\\n\")\n",
    "print(df)\n",
    "# You can access the results using the wandb API after the sweep is complete.\n"
   ]
  },
  {
   "cell_type": "code",
   "execution_count": 13,
   "id": "5d3ff9a3",
   "metadata": {},
   "outputs": [
    {
     "name": "stdout",
     "output_type": "stream",
     "text": [
      "\n",
      "Table:\n",
      "\n",
      "    Learning_rate  Epochs Hiddenlayers  Accuracy  F1 Score  Precision  \\\n",
      "0           0.010     100         [14]  0.213974  0.111542   0.152681   \n",
      "1           0.001     100         [14]  0.069869  0.033259   0.035697   \n",
      "2           0.010     100         [18]  0.213974  0.105022   0.118763   \n",
      "3           0.001     100         [18]  0.384279  0.101661   0.086742   \n",
      "4           0.010     100     [18, 18]  0.074236  0.054191   0.118940   \n",
      "5           0.001     100     [18, 18]  0.406114  0.096273   0.067686   \n",
      "6           0.010      50         [14]  0.279476  0.155447   0.120874   \n",
      "7           0.001      50         [14]  0.048035  0.031885   0.279335   \n",
      "8           0.010      50         [18]  0.187773  0.073765   0.079724   \n",
      "9           0.001      50         [18]  0.078603  0.042953   0.184755   \n",
      "10          0.010      50     [18, 18]  0.082969  0.062433   0.086374   \n",
      "11          0.001      50     [18, 18]  0.021834  0.015893   0.008452   \n",
      "12          0.010     100         [14]  0.227074  0.115251   0.148910   \n",
      "13          0.010     100         [18]  0.113537  0.056389   0.104273   \n",
      "14          0.010     100     [18, 18]  0.362445  0.122680   0.110965   \n",
      "15          0.010      50         [14]  0.218341  0.123265   0.266196   \n",
      "16          0.010      50         [18]  0.065502  0.032433   0.038961   \n",
      "17          0.010      50     [18, 18]  0.240175  0.136306   0.267502   \n",
      "18          0.001     100         [14]  0.296943  0.092517   0.076577   \n",
      "19          0.001     100         [18]  0.209607  0.108014   0.163777   \n",
      "20          0.001     100     [18, 18]  0.288210  0.103440   0.185818   \n",
      "21          0.001      50         [14]  0.379913  0.103623   0.113807   \n",
      "22          0.001      50         [18]  0.231441  0.101306   0.084148   \n",
      "23          0.001      50     [18, 18]  0.170306  0.082024   0.076339   \n",
      "24          0.010     100         [14]  0.353712  0.168777   0.196013   \n",
      "25          0.010     100         [18]  0.165939  0.086506   0.211544   \n",
      "26          0.010     100     [18, 18]  0.205240  0.112495   0.105394   \n",
      "27          0.010      50         [14]  0.196507  0.098625   0.091162   \n",
      "28          0.010      50         [18]  0.279476  0.148138   0.205761   \n",
      "29          0.010      50     [18, 18]  0.384279  0.130164   0.111621   \n",
      "30          0.001     100         [14]  0.240175  0.135330   0.213006   \n",
      "31          0.001     100         [18]  0.126638  0.037760   0.021292   \n",
      "32          0.001     100     [18, 18]  0.056769  0.053501   0.152417   \n",
      "33          0.001      50         [14]  0.148472  0.108509   0.228927   \n",
      "34          0.001      50         [18]  0.310044  0.126989   0.124651   \n",
      "35          0.001      50     [18, 18]  0.139738  0.066975   0.037751   \n",
      "36          0.010     100         [14]  0.165939  0.105821   0.112363   \n",
      "37          0.010     100         [18]  0.257642  0.135088   0.142622   \n",
      "38          0.010     100     [18, 18]  0.423581  0.183578   0.163761   \n",
      "39          0.010      50         [14]  0.235808  0.094169   0.101718   \n",
      "40          0.010      50         [18]  0.262009  0.141480   0.175204   \n",
      "41          0.010      50     [18, 18]  0.301310  0.112901   0.091746   \n",
      "42          0.001     100         [14]  0.222707  0.103532   0.174589   \n",
      "43          0.001     100         [18]  0.257642  0.152823   0.212485   \n",
      "44          0.001     100     [18, 18]  0.152838  0.071230   0.118963   \n",
      "45          0.001      50         [14]  0.017467  0.009588   0.057128   \n",
      "46          0.001      50         [18]  0.275109  0.128688   0.151663   \n",
      "47          0.001      50     [18, 18]  0.410480  0.097612   0.069940   \n",
      "48          0.010     100         [14]  0.122271  0.062465   0.072222   \n",
      "49          0.010     100         [18]  0.445415  0.182072   0.203019   \n",
      "50          0.010     100     [18, 18]  0.475983  0.197819   0.196686   \n",
      "51          0.010      50         [14]  0.266376  0.119921   0.152033   \n",
      "52          0.010      50         [18]  0.135371  0.096235   0.121340   \n",
      "53          0.010      50     [18, 18]  0.026201  0.018966   0.208333   \n",
      "54          0.001     100         [14]  0.043668  0.038647   0.026959   \n",
      "55          0.001     100         [18]  0.061135  0.043921   0.132931   \n",
      "56          0.001     100     [18, 18]  0.340611  0.098810   0.129345   \n",
      "57          0.001      50         [14]  0.056769  0.064737   0.090959   \n",
      "58          0.001      50         [18]  0.008734  0.002924   0.001475   \n",
      "59          0.001      50     [18, 18]  0.174672  0.069806   0.064890   \n",
      "\n",
      "      Recall  \n",
      "0   0.118394  \n",
      "1   0.136201  \n",
      "2   0.117212  \n",
      "3   0.161661  \n",
      "4   0.128996  \n",
      "5   0.166667  \n",
      "6   0.297460  \n",
      "7   0.182722  \n",
      "8   0.073957  \n",
      "9   0.087480  \n",
      "10  0.230418  \n",
      "11  0.188889  \n",
      "12  0.185301  \n",
      "13  0.207978  \n",
      "14  0.164566  \n",
      "15  0.225764  \n",
      "16  0.120619  \n",
      "17  0.211433  \n",
      "18  0.116838  \n",
      "19  0.097148  \n",
      "20  0.153628  \n",
      "21  0.155618  \n",
      "22  0.172476  \n",
      "23  0.260137  \n",
      "24  0.205362  \n",
      "25  0.077674  \n",
      "26  0.194797  \n",
      "27  0.108330  \n",
      "28  0.148714  \n",
      "29  0.193202  \n",
      "30  0.133644  \n",
      "31  0.166667  \n",
      "32  0.234885  \n",
      "33  0.231024  \n",
      "34  0.182501  \n",
      "35  0.333333  \n",
      "36  0.233741  \n",
      "37  0.157051  \n",
      "38  0.251903  \n",
      "39  0.132270  \n",
      "40  0.203889  \n",
      "41  0.151341  \n",
      "42  0.144496  \n",
      "43  0.224092  \n",
      "44  0.223442  \n",
      "45  0.170103  \n",
      "46  0.163785  \n",
      "47  0.161512  \n",
      "48  0.100486  \n",
      "49  0.177992  \n",
      "50  0.203732  \n",
      "51  0.106363  \n",
      "52  0.188399  \n",
      "53  0.010605  \n",
      "54  0.140230  \n",
      "55  0.072081  \n",
      "56  0.139563  \n",
      "57  0.066803  \n",
      "58  0.166667  \n",
      "59  0.131959  \n",
      "Best Hyperparameters:  {'Learning_rate': 0.01, 'Epochs': 100, 'Hiddenlayers': [18, 18]}\n",
      "Best Accuracy:  0.4759825327510917\n"
     ]
    },
    {
     "name": "stderr",
     "output_type": "stream",
     "text": [
      "/home/ubuntulsa/.local/lib/python3.10/site-packages/sklearn/metrics/_classification.py:1469: UndefinedMetricWarning: Precision is ill-defined and being set to 0.0 in labels with no predicted samples. Use `zero_division` parameter to control this behavior.\n",
      "  _warn_prf(average, modifier, msg_start, len(result))\n",
      "/home/ubuntulsa/.local/lib/python3.10/site-packages/sklearn/metrics/_classification.py:1469: UndefinedMetricWarning: Precision is ill-defined and being set to 0.0 in labels with no predicted samples. Use `zero_division` parameter to control this behavior.\n",
      "  _warn_prf(average, modifier, msg_start, len(result))\n",
      "/home/ubuntulsa/.local/lib/python3.10/site-packages/sklearn/metrics/_classification.py:1469: UndefinedMetricWarning: Precision is ill-defined and being set to 0.0 in labels with no predicted samples. Use `zero_division` parameter to control this behavior.\n",
      "  _warn_prf(average, modifier, msg_start, len(result))\n",
      "/home/ubuntulsa/.local/lib/python3.10/site-packages/sklearn/metrics/_classification.py:1469: UndefinedMetricWarning: Precision is ill-defined and being set to 0.0 in labels with no predicted samples. Use `zero_division` parameter to control this behavior.\n",
      "  _warn_prf(average, modifier, msg_start, len(result))\n",
      "/home/ubuntulsa/.local/lib/python3.10/site-packages/sklearn/metrics/_classification.py:1469: UndefinedMetricWarning: Precision is ill-defined and being set to 0.0 in labels with no predicted samples. Use `zero_division` parameter to control this behavior.\n",
      "  _warn_prf(average, modifier, msg_start, len(result))\n",
      "/home/ubuntulsa/.local/lib/python3.10/site-packages/sklearn/metrics/_classification.py:1469: UndefinedMetricWarning: Precision is ill-defined and being set to 0.0 in labels with no predicted samples. Use `zero_division` parameter to control this behavior.\n",
      "  _warn_prf(average, modifier, msg_start, len(result))\n",
      "/home/ubuntulsa/.local/lib/python3.10/site-packages/sklearn/metrics/_classification.py:1469: UndefinedMetricWarning: Precision is ill-defined and being set to 0.0 in labels with no predicted samples. Use `zero_division` parameter to control this behavior.\n",
      "  _warn_prf(average, modifier, msg_start, len(result))\n",
      "/home/ubuntulsa/.local/lib/python3.10/site-packages/sklearn/metrics/_classification.py:1469: UndefinedMetricWarning: Precision is ill-defined and being set to 0.0 in labels with no predicted samples. Use `zero_division` parameter to control this behavior.\n",
      "  _warn_prf(average, modifier, msg_start, len(result))\n",
      "/home/ubuntulsa/.local/lib/python3.10/site-packages/sklearn/metrics/_classification.py:1469: UndefinedMetricWarning: Precision is ill-defined and being set to 0.0 in labels with no predicted samples. Use `zero_division` parameter to control this behavior.\n",
      "  _warn_prf(average, modifier, msg_start, len(result))\n"
     ]
    }
   ],
   "source": [
    "learning_rates = [0.01, 0.001]\n",
    "epochs = [100, 50]\n",
    "hiddenlayersizes = [\n",
    "    [14],\n",
    "    [18],\n",
    "    [18, 18]\n",
    "]\n",
    "best_acc = 0.0\n",
    "best_hyperparameters = None\n",
    "for i in learning_rates:\n",
    "    for j in epochs:\n",
    "        for k in hiddenlayersizes:\n",
    "            mlp_sgd = Neural_Network(learning_rate=i, epochs=j, inputLayerSize=12, hiddenLayerSize=k, outputLayerSize=6)\n",
    "            mlp_sgd.set_activation_function(\"sigmoid\")\n",
    "            mlp_sgd.set_optimizer(\"SGD\")\n",
    "            loss = mlp_sgd.train(X_train, y_train)\n",
    "            y_pred = mlp_sgd.predict(X_val)\n",
    "            acc = accuracy_score(y_val, y_pred)\n",
    "            f1 = f1_score(y_val, y_pred, average='macro') \n",
    "            precision = precision_score(y_val, y_pred, average='macro')\n",
    "            recall = recall_score(y_val, y_pred, average='macro')\n",
    "            results.append({\n",
    "                \"Learning_rate\": i,\n",
    "                \"Epochs\": j,\n",
    "                \"Hiddenlayers\": k,\n",
    "                \"Accuracy\": acc,\n",
    "                \"F1 Score\": f1,\n",
    "                \"Precision\": precision,\n",
    "                \"Recall\": recall\n",
    "            })\n",
    "            if(acc > best_acc):\n",
    "                best_acc = acc\n",
    "                best_hyperparameters = {\n",
    "                    \"Learning_rate\": i,\n",
    "                    \"Epochs\": j,\n",
    "                    \"Hiddenlayers\": k,\n",
    "                }\n",
    "            # print(\"Learning Rate: \", i, \"Epochs: \", j, \"Hidden Layer Sizes: \", k, \"Accuracy: \", acc)\n",
    "            # print(\"F1 Score: \", f1, \"Precision: \", precision, \"Recall: \", recall)\n",
    "            # print(\"Loss: \", loss)\n",
    "            # print(\"\\n\")\n",
    "df = pd.DataFrame(results)\n",
    "print(\"\\nTable:\\n\")\n",
    "print(df)\n",
    "print(\"Best Hyperparameters: \", best_hyperparameters)\n",
    "print(\"Best Accuracy: \", best_acc)"
   ]
  },
  {
   "cell_type": "code",
   "execution_count": 19,
   "id": "33ff124d-0c70-44fc-9d9c-b499f4cdf396",
   "metadata": {},
   "outputs": [
    {
     "name": "stdout",
     "output_type": "stream",
     "text": [
      "0.35807860262008734 1.4511747617428121\n"
     ]
    },
    {
     "name": "stderr",
     "output_type": "stream",
     "text": [
      "/home/ubuntulsa/.local/lib/python3.10/site-packages/sklearn/metrics/_classification.py:1469: UndefinedMetricWarning: Precision is ill-defined and being set to 0.0 in labels with no predicted samples. Use `zero_division` parameter to control this behavior.\n",
      "  _warn_prf(average, modifier, msg_start, len(result))\n"
     ]
    }
   ],
   "source": [
    "np.random.seed(41)\n",
    "mlp_sgd = Neural_Network(learning_rate=0.01,epochs=5000, inputLayerSize=12, hiddenLayerSize=[18], outputLayerSize=6)\n",
    "mlp_sgd.set_activation_function('sigmoid')\n",
    "mlp_sgd.set_optimizer('SGD')\n",
    "mlp_sgd.set_learning_rate(0.01)\n",
    "# print(l)\n",
    "mlp_sgd.max_iterations = 500;\n",
    "mlp_sgd.set_hidden_layers([18])\n",
    "loss = mlp_sgd.train(X_train, y_train)\n",
    "y_pred = mlp_sgd.predict(X_test)\n",
    "acc = accuracy_score(y_test, y_pred)\n",
    "f1 = f1_score(y_test, y_pred, average='macro') \n",
    "precision = precision_score(y_test, y_pred, average='macro')\n",
    "recall = recall_score(y_test, y_pred, average='macro')\n",
    "print(acc, loss)"
   ]
  },
  {
   "cell_type": "markdown",
   "id": "b55ee27a",
   "metadata": {},
   "source": [
    "# 2.4"
   ]
  },
  {
   "cell_type": "markdown",
   "id": "a0147aec-ef38-4dc9-8a3b-ed4167445660",
   "metadata": {},
   "source": [
    "###### "
   ]
  },
  {
   "cell_type": "code",
   "execution_count": 6,
   "id": "e83df2b2-6dc2-4d6b-aba0-9728c0a32926",
   "metadata": {},
   "outputs": [],
   "source": [
    "class MultilabelMLP(object):\n",
    "    def __init__(self, learning_rate=0.01,epochs = 5000, inputLayerSize: int = 2, hiddenLayerSize = [3,3,3] , outputLayerSize: int = 1):\n",
    "        self.inputLayerSize = inputLayerSize\n",
    "        self.outputLayerSize = outputLayerSize\n",
    "        self.hiddenLayerSize = hiddenLayerSize\n",
    "        self.activation = self.relu\n",
    "        self.activationPrime = self.reluPrime\n",
    "        self.learning_rate = learning_rate\n",
    "        # Weights (parameters)\n",
    "        self.num_layers = len(hiddenLayerSize)+1\n",
    "        self.weights = []\n",
    "        self.weights.append(np.random.randn(self.inputLayerSize, self.hiddenLayerSize[0]))\n",
    "        for i in range(1,self.num_layers-1):\n",
    "            self.weights.append(np.random.randn(self.hiddenLayerSize[i-1], self.hiddenLayerSize[i]))\n",
    "        self.weights.append(np.random.randn(self.hiddenLayerSize[-1], self.outputLayerSize))\n",
    "        self.optimizer = 'SGD'\n",
    "        self.max_iterations = epochs\n",
    "\n",
    "    def forward(self, X):\n",
    "        self.z = [None] * (len(self.weights))\n",
    "        self.a = [None] * (len(self.weights)-1)\n",
    "        \n",
    "        self.z[0] = np.dot(X, self.weights[0])\n",
    "        for i in range(0,len(self.a)):\n",
    "            self.a[i] = self.activation(self.z[i])\n",
    "            self.z[i+1] = np.dot(self.a[i],self.weights[i+1])\n",
    "        yHat = self.softmax(self.z[-1])\n",
    "        return yHat\n",
    "\n",
    "    def relu(self, z):\n",
    "        return np.maximum(0, z)  # ReLU activation\n",
    "\n",
    "    def tanh(self, z):\n",
    "        return np.tanh(z)  # Tanh activation\n",
    "\n",
    "    def sigmoid(self, z):\n",
    "        return 1 / (1 + np.exp(-z))\n",
    "\n",
    "    def sigmoidPrime(self, z):\n",
    "        return np.exp(-z) / ((1 + np.exp(-z))**2)\n",
    "\n",
    "    def softmax(self, z):\n",
    "        exp_z = np.exp(z - np.max(z))  # Subtracting max(z) for numerical stability\n",
    "        return exp_z / exp_z.sum(axis=1, keepdims=True)\n",
    "\n",
    "    def costFunction(self, X, y):\n",
    "        self.yHat = self.forward(X)\n",
    "        J = -np.sum(y * np.log(self.yHat)) / len(X)\n",
    "        return J\n",
    "\n",
    "    def costFunctionPrime(self, X, y):\n",
    "        self.yHat = self.forward(X)\n",
    "        deltas = [None] * (len(self.weights))\n",
    "        deltas[-1] = self.yHat - y\n",
    "        dJdWs = [None] * (len(self.weights))\n",
    "        for i in range(len(deltas)-2,-1,-1):\n",
    "            dJdWs[i+1] = np.dot(self.a[i].T, deltas[i+1])\n",
    "            deltas[i] = np.dot(deltas[i+1],self.weights[i+1].T)*self.activationPrime(self.z[i])\n",
    "        dJdWs[0] = np.dot(X.T, deltas[0])\n",
    "        \n",
    "        # delta3 = self.yHat - y\n",
    "        # dJdW2 = np.dot(self.a2.T, delta3)\n",
    "\n",
    "        # delta2 = np.dot(delta3, self.W2.T) * self.activationPrime(self.z2)  # Use ReLU derivative\n",
    "        # dJdW1 = np.dot(X.T, delta2)\n",
    "\n",
    "        return dJdWs\n",
    "\n",
    "    def reluPrime(self, z):\n",
    "        return np.where(z > 0, 1, 0)  # Derivative of ReLU\n",
    "\n",
    "    def tanhPrime(self, z):\n",
    "        return 1 - np.tanh(z)**2  # Derivative of Tanh\n",
    "\n",
    "    def backward(self, X, y, learning_rate):\n",
    "        dJdWs = self.costFunctionPrime(X, y)\n",
    "        for i in range(len(self.weights)):\n",
    "            self.weights[i] -= learning_rate * dJdWs[i]\n",
    "        # self.W1 -= learning_rate * dJdW1\n",
    "        # self.W2 -= learning_rate * dJdW2\n",
    "    def train(self, X, y, batch_size = 32, learning_rate=0.1, max_iterations=10000):\n",
    "        if(self.optimizer == 'SGD'):\n",
    "            return self.train_sgd(X=X, y=y)\n",
    "        elif(self.optimizer == 'Batch'):\n",
    "            return self.train_batch(X=X, y=y)\n",
    "        elif(self.optimizer == 'MiniBatch'):\n",
    "            return self.train_mini_batch(X=X, y=y)\n",
    "    def train_sgd(self, X, y, learning_rate=0.1, max_iterations=1000, wand = 0):\n",
    "        if(wand == 1):\n",
    "            wandb.init(project=\"Reporting loss on MLP Classifier for advertisement Dataset\")\n",
    "        for i in range(self.max_iterations):\n",
    "            idx = np.random.randint(len(X))\n",
    "            self.backward(X[idx:idx+1], y[idx:idx+1], learning_rate)\n",
    "            if i % 1 == 0:\n",
    "                loss = self.costFunction(X, y)\n",
    "                wandb.log({\"Loss\": loss, \"Epoch\": i+1})\n",
    "                # print(\"Iteration %d: loss = %f\" % (i, loss))\n",
    "        loss = self.costFunction(X, y)\n",
    "        return loss\n",
    "        print(\"Training completed.\")\n",
    "    def train_batch(self, X, y, learning_rate=0.0001, max_iterations=1000, wand = 0):\n",
    "        if(wand == 1):\n",
    "            wandb.init(project=\"Reporting loss on MLP Classifier for advertisement Dataset\")\n",
    "        for i in range(self.max_iterations):\n",
    "            self.backward(X, y, learning_rate)\n",
    "            if i % 1 == 0:\n",
    "                loss = self.costFunction(X, y)\n",
    "                wandb.log({\"Loss\": loss, \"Epoch\": i+1})\n",
    "                # print(\"Iteration %d: loss = %f\" % (i, loss))\n",
    "        loss = self.costFunction(X, y)\n",
    "        return loss\n",
    "        print(\"Training completed.\")\n",
    "    def train_mini_batch(self, X, y, batch_size=32, learning_rate=0.01, max_iterations=1000, wand = 0):\n",
    "        if(wand == 1):\n",
    "            wandb.init(project=\"Reporting loss on MLP Classifier for advertisement Dataset\")\n",
    "        for i in range(self.max_iterations):\n",
    "            indices = np.arange(len(X))\n",
    "            np.random.shuffle(indices)\n",
    "            for j in range(0, len(X), batch_size):\n",
    "                batch_indices = indices[j:j+batch_size]\n",
    "                self.backward(X[batch_indices], y[batch_indices], learning_rate)\n",
    "            if i % 1 == 0:\n",
    "                loss = self.costFunction(X, y)\n",
    "                wandb.log({\"Loss\": loss, \"Epoch\": i+1})\n",
    "                # print(\"Iteration %d: loss = %f\" % (i, loss))\n",
    "        loss = self.costFunction(X, y)\n",
    "        return loss\n",
    "        print(\"Training completed.\")\n",
    "\n",
    "    def predict(self, X, y):\n",
    "        yHat = self.forward(X)\n",
    "        binary_predictions = (yHat > 0.2).astype(int)\n",
    "        return np.array(binary_predictions)\n",
    "        # return np.argmax(yHat, axis=1)\n",
    "    def set_learning_rate(self, learning_rate):\n",
    "        self.learning_rate = learning_rate\n",
    "\n",
    "    def set_activation_function(self, activation_function):\n",
    "        if(activation_function == 'sigmoid'):\n",
    "            self.activation = self.sigmoid\n",
    "            self.activationPrime = self.sigmoidPrime\n",
    "        if(activation_function == 'relu'):\n",
    "            self.activation = self.relu\n",
    "            self.activationPrime = self.reluPrime\n",
    "        if(activation_function == 'tanh'):\n",
    "            self.activation = self.tanh\n",
    "            self.activationPrime = self.tanhPrime\n",
    "\n",
    "    def set_optimizer(self, optimizer):\n",
    "        self.optimizer = optimizer\n",
    "\n",
    "    def set_hidden_layers(self, hidden_layer_sizes):\n",
    "        self.hiddenLayerSize = hidden_layer_sizes\n",
    "        self.num_layers = len(self.hiddenLayerSize)+1\n",
    "        self.weights = []\n",
    "        self.weights.append(np.random.randn(self.inputLayerSize, self.hiddenLayerSize[0]))\n",
    "        for i in range(1,self.num_layers-1):\n",
    "            self.weights.append(np.random.randn(self.hiddenLayerSize[i-1], self.hiddenLayerSize[i]))\n",
    "        self.weights.append(np.random.randn(self.hiddenLayerSize[-1], self.outputLayerSize))\n",
    "        # self.W1 = np.random.randn(self.inputLayerSize, self.hiddenLayerSize)\n",
    "        # self.W2 = np.random.randn(self.hiddenLayerSize, self.outputLayerSize)\n",
    "        # self.weights, self.biases = self.initialize_weights()\n",
    "    def set_epochs(self, epcohs):\n",
    "        self.max_iterations = epochs\n",
    "        print(self.max_iterations)\n"
   ]
  },
  {
   "cell_type": "code",
   "execution_count": 7,
   "id": "75c20b5d-fc0e-40bf-af40-10cd164bdffa",
   "metadata": {},
   "outputs": [
    {
     "name": "stdout",
     "output_type": "stream",
     "text": [
      "[[0.         0.         0.33333333 ... 0.         0.         0.33333333]\n",
      " [0.5        0.         0.         ... 0.5        0.         0.        ]\n",
      " [0.         0.         0.25       ... 0.         0.         0.25      ]\n",
      " ...\n",
      " [0.         0.         0.5        ... 0.         0.         0.5       ]\n",
      " [1.         0.         0.         ... 0.         0.         0.        ]\n",
      " [0.         0.5        0.5        ... 0.         0.         0.        ]]\n",
      "(600, 1010)\n",
      "(600, 8)\n"
     ]
    }
   ],
   "source": [
    "\n",
    "scaler = StandardScaler()\n",
    "minmax_scaler = MinMaxScaler()\n",
    "data = pd.read_csv('advertisement.csv')\n",
    "data.fillna(method='ffill', inplace=True) \n",
    "categorical_cols = ['gender', 'education', 'married', 'city', 'occupation', 'most bought item']\n",
    "data_encoded = pd.get_dummies(data, columns=categorical_cols, drop_first=True)\n",
    "X = data_encoded.drop('labels', axis=1)  \n",
    "y = data_encoded['labels']  \n",
    "X = scaler.fit_transform(X)\n",
    "mlb = MultiLabelBinarizer()\n",
    "y = mlb.fit_transform(y.str.split(' '))\n",
    "# print(y)\n",
    "y_fin = []\n",
    "for i in range(len(y)):\n",
    "    # print(y[i])\n",
    "    # print(np.sum(y[i]))\n",
    "    x = y[i]/np.sum(y[i])\n",
    "    y_fin.append(x)\n",
    "y = y_fin\n",
    "y = np.array(y)\n",
    "print(y)\n",
    "X_train, X_temp, y_train, y_temp = train_test_split(X, y, test_size=0.4, random_state=42)\n",
    "X_val, X_test, y_val, y_test = train_test_split(X, y, test_size=0.5, random_state=42)\n",
    "print(X_train.shape)\n",
    "print(y_train.shape)"
   ]
  },
  {
   "cell_type": "code",
   "execution_count": 8,
   "id": "86f8d02d-0a65-40cf-a80f-9410098eecd5",
   "metadata": {},
   "outputs": [
    {
     "name": "stdout",
     "output_type": "stream",
     "text": [
      "[[0. 0. 1. ... 0. 0. 0.]\n",
      " [0. 0. 0. ... 1. 0. 0.]\n",
      " [0. 0. 0. ... 1. 0. 0.]\n",
      " ...\n",
      " [1. 0. 0. ... 0. 1. 1.]\n",
      " [0. 0. 0. ... 1. 0. 0.]\n",
      " [1. 1. 0. ... 0. 0. 0.]]\n"
     ]
    }
   ],
   "source": [
    "mask = (y_val > 0)\n",
    "y_val[mask] = 1\n",
    "print(y_val)"
   ]
  },
  {
   "cell_type": "code",
   "execution_count": 9,
   "id": "18a7575a-66d1-4950-904b-865b84d97c13",
   "metadata": {},
   "outputs": [
    {
     "name": "stderr",
     "output_type": "stream",
     "text": [
      "Failed to detect the name of this notebook, you can set it manually with the WANDB_NOTEBOOK_NAME environment variable to enable code saving.\n",
      "\u001b[34m\u001b[1mwandb\u001b[0m: Currently logged in as: \u001b[33mlsamourya07\u001b[0m (\u001b[33mmourya\u001b[0m). Use \u001b[1m`wandb login --relogin`\u001b[0m to force relogin\n"
     ]
    },
    {
     "data": {
      "application/vnd.jupyter.widget-view+json": {
       "model_id": "76b97b28870b42a6b8d4f0fbf3d97caa",
       "version_major": 2,
       "version_minor": 0
      },
      "text/plain": [
       "VBox(children=(Label(value='Waiting for wandb.init()...\\r'), FloatProgress(value=0.011113617199993719, max=1.0…"
      ]
     },
     "metadata": {},
     "output_type": "display_data"
    },
    {
     "data": {
      "text/html": [
       "Tracking run with wandb version 0.15.12"
      ],
      "text/plain": [
       "<IPython.core.display.HTML object>"
      ]
     },
     "metadata": {},
     "output_type": "display_data"
    },
    {
     "data": {
      "text/html": [
       "Run data is saved locally in <code>/home/ubuntulsa/Sem5/SMAI/Assignment 3/wandb/run-20231022_200405-q03x2usi</code>"
      ],
      "text/plain": [
       "<IPython.core.display.HTML object>"
      ]
     },
     "metadata": {},
     "output_type": "display_data"
    },
    {
     "data": {
      "text/html": [
       "Syncing run <strong><a href='https://wandb.ai/mourya/Reporting%20loss%20on%20MLP%20Classifier%20for%20advertisement%20Dataset/runs/q03x2usi' target=\"_blank\">rose-plant-1</a></strong> to <a href='https://wandb.ai/mourya/Reporting%20loss%20on%20MLP%20Classifier%20for%20advertisement%20Dataset' target=\"_blank\">Weights & Biases</a> (<a href='https://wandb.me/run' target=\"_blank\">docs</a>)<br/>"
      ],
      "text/plain": [
       "<IPython.core.display.HTML object>"
      ]
     },
     "metadata": {},
     "output_type": "display_data"
    },
    {
     "data": {
      "text/html": [
       " View project at <a href='https://wandb.ai/mourya/Reporting%20loss%20on%20MLP%20Classifier%20for%20advertisement%20Dataset' target=\"_blank\">https://wandb.ai/mourya/Reporting%20loss%20on%20MLP%20Classifier%20for%20advertisement%20Dataset</a>"
      ],
      "text/plain": [
       "<IPython.core.display.HTML object>"
      ]
     },
     "metadata": {},
     "output_type": "display_data"
    },
    {
     "data": {
      "text/html": [
       " View run at <a href='https://wandb.ai/mourya/Reporting%20loss%20on%20MLP%20Classifier%20for%20advertisement%20Dataset/runs/q03x2usi' target=\"_blank\">https://wandb.ai/mourya/Reporting%20loss%20on%20MLP%20Classifier%20for%20advertisement%20Dataset/runs/q03x2usi</a>"
      ],
      "text/plain": [
       "<IPython.core.display.HTML object>"
      ]
     },
     "metadata": {},
     "output_type": "display_data"
    },
    {
     "name": "stdout",
     "output_type": "stream",
     "text": [
      "Loss: 13.914022483562807\n",
      "Accuracy: 0.75075\n",
      "F1 Score 0.4526455953468639\n",
      "Precision 0.9545214404846567\n",
      "Recall 0.33399342062024456\n",
      "997\n",
      "4000\n"
     ]
    },
    {
     "name": "stderr",
     "output_type": "stream",
     "text": [
      "wandb: Network error (ConnectionError), entering retry loop.\n"
     ]
    }
   ],
   "source": [
    "wandb.login()\n",
    "np.random.seed(0)\n",
    "mlp_sgd = MultilabelMLP(inputLayerSize=1010, hiddenLayerSize=[1000], outputLayerSize=8)\n",
    "mlp_sgd.set_activation_function('sigmoid')\n",
    "loss = mlp_sgd.train_sgd(X_train, y_train, wand=1)\n",
    "y_pred = mlp_sgd.predict(X_val, y_train)\n",
    "cnt = 0\n",
    "for i in range(len(y_pred)):\n",
    "    for j in range(len(y_pred[0])):\n",
    "        if((y_pred[i][j] > 0 and y_val[i][j] == 0) or (y_pred[i][j] == 0 and y_val[i][j] > 0)):\n",
    "            cnt += 1\n",
    "print(\"Loss:\", loss)\n",
    "print(\"Accuracy:\", 1-hamming_loss(y_val,y_pred))\n",
    "print(\"F1 Score\", f1_score(y_val,y_pred, average='macro'))\n",
    "print(\"Precision\", precision_score(y_val,y_pred, average='macro'))\n",
    "print(\"Recall\", recall_score(y_val,y_pred, average='macro'))\n",
    "print(cnt)\n",
    "print(len(y_pred)*len(y_pred[0]))"
   ]
  },
  {
   "cell_type": "code",
   "execution_count": null,
   "id": "98066368-da87-4924-b05e-a418bb96d5bc",
   "metadata": {},
   "outputs": [],
   "source": [
    "print(y_train)\n",
    "y_temp = copy(y_train)\n",
    "mask = (y_temp > 0)\n",
    "y_temp[mask] = 1\n",
    "# print(y_train)\n",
    "y_train_pred = mlp_sgd.predict(X_train, y_temp)\n",
    "cnt = 0\n",
    "for i in range(len(y_train_pred)):\n",
    "    for j in range(len(y_train_pred[0])):\n",
    "        if((y_train_pred[i][j] > 0 and y_temp[i][j] == 0) or (y_train_pred[i][j] == 0 and y_temp[i][j] > 0)):\n",
    "            cnt += 1\n",
    "print(\"Loss:\", loss)\n",
    "# print(y_train)\n",
    "# print(y_train_pred)\n",
    "print(\"Accuracy:\", 1-hamming_loss(y_temp,y_train_pred))\n",
    "print(\"F1 Score\", f1_score(y_temp,y_train_pred, average='macro'))\n",
    "print(\"Precision\", precision_score(y_temp,y_train_pred, average='macro'))\n",
    "print(\"Recall\", recall_score(y_temp,y_train_pred, average='macro'))\n",
    "print(cnt)\n",
    "print(len(y_train_pred)*len(y_train_pred[0]))\n",
    "print(y_train)"
   ]
  },
  {
   "cell_type": "code",
   "execution_count": null,
   "id": "dc50ffe0-797a-44af-a4b6-d0ef3315dcf2",
   "metadata": {},
   "outputs": [],
   "source": [
    "activations = [\"sigmoid\", \"tanh\", \"relu\"]\n",
    "optimizer = [\"SGD\",\"Batch\",\"MiniBatch\"]\n",
    "for i in activations:\n",
    "    for j in optimizer:\n",
    "        np.random.seed(27)\n",
    "        mlp_sgd = MultilabelMLP(inputLayerSize=1010, hiddenLayerSize=[1000], outputLayerSize=8)\n",
    "        mlp_sgd.set_activation_function(i)\n",
    "        mlp_sgd.set_optimizer(j)\n",
    "        mlp_sgd.max_iterations = 100\n",
    "        loss = mlp_sgd.train(X_train, y_train)\n",
    "        y_pred = mlp_sgd.predict(X_val, y_train)\n",
    "        print(\"Parameters: \", i, j)\n",
    "        acc = 1-hamming_loss(y_val, y_pred)\n",
    "        f1 = f1_score(y_val, y_pred, average='macro') \n",
    "        precision = precision_score(y_val, y_pred, average='macro')\n",
    "        recall = recall_score(y_val, y_pred, average='macro')\n",
    "        print(\"Accuracy: \", acc, \"F1 Score:\", f1, \"Precision:\", precision, \"Recall:\", recall)\n",
    "        "
   ]
  },
  {
   "cell_type": "code",
   "execution_count": null,
   "id": "d69e2f75-7f61-45b4-bf96-76d0d63c9332",
   "metadata": {},
   "outputs": [],
   "source": [
    "# activation = [\"sigmoid\", \"tanh\", \"relu\"]\n",
    "# optimizer = [\"SGD\", \"Batch\", \"MiniBatch\"]\n",
    "activation = [\"sigmoid\"]\n",
    "optimizer = [\"MiniBatch\"]\n",
    "learning_rates = [0.1,0.01,0.001,0.0001]\n",
    "epochs = [10,50,100]\n",
    "hiddenlayersize = [[100,100], [100], [500], [1000], [1000,1000]]\n",
    "results = []\n",
    "hyperparameters = []\n",
    "for i in activation:\n",
    "    for j in optimizer:\n",
    "        for k in learning_rates:\n",
    "            for l in epochs:\n",
    "                for m in hiddenlayersize:\n",
    "                    mlp_sgd = MultilabelMLP(inputLayerSize=1010, hiddenLayerSize=[100], outputLayerSize=8)\n",
    "                    mlp_sgd.set_activation_function(i)\n",
    "                    mlp_sgd.set_optimizer(j)\n",
    "                    mlp_sgd.set_learning_rate(k)\n",
    "                    # print(l)\n",
    "                    mlp_sgd.max_iterations = l;\n",
    "                    # print(mlp_sgd.max_iterations)\n",
    "                    # mlp_sgd.set_epochs(l)\n",
    "                    # print(mlp_sgd.max_iterations)\n",
    "                    mlp_sgd.set_hidden_layers(m)\n",
    "                    # print(mlp_sgd.max_iterations)\n",
    "                    loss = mlp_sgd.train(X_train, y_train)\n",
    "                    y_pred = mlp_sgd.predict(X_val, y_train)\n",
    "                    acc = 1-hamming_loss(y_val, y_pred)\n",
    "                    f1 = f1_score(y_val, y_pred, average='macro') \n",
    "                    precision = precision_score(y_val, y_pred, average='macro')\n",
    "                    recall = recall_score(y_val, y_pred, average='macro')\n",
    "                    print(acc, [i,j,k,l,m])\n",
    "                    results.append([acc, f1, precision, recall])\n",
    "                    hyperparameters.append([i, j, k, l, m])\n",
    "result_df = pd.DataFrame(results, columns=['Accuracy', 'F1 Score', 'Precision', 'Recall'])\n",
    "result_df['Activation'] = [param[0] for param in hyperparameters]\n",
    "result_df['Optimizer'] = [param[1] for param in hyperparameters]\n",
    "result_df['Learning Rate'] = [param[2] for param in hyperparameters]\n",
    "result_df['Epochs'] = [param[3] for param in hyperparameters]\n",
    "result_df['Hidden Layer Size'] = [param[4] for param in hyperparameters]\n",
    "\n",
    "best_hyperparameters = result_df.loc[result_df['Accuracy'].idxmax()]\n",
    "\n",
    "print(\"Best Hyperparameters:\")\n",
    "print(best_hyperparameters)\n",
    "\n",
    "print(\"\\nResults Table:\")\n",
    "print(result_df)            \n",
    "                    \n"
   ]
  },
  {
   "cell_type": "code",
   "execution_count": null,
   "id": "3e02c6d9-ba51-41dc-9aac-ed62dcd63737",
   "metadata": {},
   "outputs": [],
   "source": [
    "np.random.seed(0)\n",
    "mlp_sgd = MultilabelMLP(inputLayerSize=1010, hiddenLayerSize=[1000], outputLayerSize=8)\n",
    "mlp_sgd.set_activation_function('sigmoid')\n",
    "loss = mlp_sgd.train_sgd(X_train, y_train)\n",
    "y_pred = mlp_sgd.predict(X_test, y_train)\n",
    "mask = (y_test > 0)\n",
    "y_test[mask] = 1\n",
    "print(y_test)\n",
    "cnt = 0\n",
    "for i in range(len(y_pred)):\n",
    "    for j in range(len(y_pred[0])):\n",
    "        if((y_pred[i][j] > 0 and y_test[i][j] == 0) or (y_pred[i][j] == 0 and y_test[i][j] > 0)):\n",
    "            cnt += 1\n",
    "print(\"Loss:\", loss)\n",
    "print(\"Accuracy:\", 1-hamming_loss(y_test,y_pred))\n",
    "print(\"F1 Score\", f1_score(y_test,y_pred, average='macro'))\n",
    "print(\"Precision\", precision_score(y_test,y_pred, average='macro'))\n",
    "print(\"Recall\", recall_score(y_test,y_pred, average='macro'))\n",
    "print(cnt)\n",
    "print(len(y_pred)*len(y_pred[0]))"
   ]
  },
  {
   "cell_type": "markdown",
   "id": "b22d01e4",
   "metadata": {},
   "source": [
    "Logistic regression is a simple and interpretable model suitable for linear problems, while MLP is a more complex model capable of handling nonlinear data relationships. The choice between them depends on the dataset's complexity and the specific task at hand. For linear problems or when simplicity is preferred, logistic regression may suffice, but for complex, nonlinear problems, an MLP can provide better results if properly trained and regularized.\n",
    "For the WineQT dataset, both the models are giving more or less the same accuracy"
   ]
  },
  {
   "cell_type": "code",
   "execution_count": null,
   "id": "69fe59a4-451b-4dec-8ea6-50b661901ad1",
   "metadata": {},
   "outputs": [],
   "source": []
  }
 ],
 "metadata": {
  "kernelspec": {
   "display_name": "Python 3 (ipykernel)",
   "language": "python",
   "name": "python3"
  },
  "language_info": {
   "codemirror_mode": {
    "name": "ipython",
    "version": 3
   },
   "file_extension": ".py",
   "mimetype": "text/x-python",
   "name": "python",
   "nbconvert_exporter": "python",
   "pygments_lexer": "ipython3",
   "version": "3.10.12"
  }
 },
 "nbformat": 4,
 "nbformat_minor": 5
}
